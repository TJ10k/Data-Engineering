{
 "cells": [
  {
   "cell_type": "code",
   "execution_count": null,
   "metadata": {},
   "outputs": [],
   "source": [
    "# The network() function accepts a dictionary \"servers\" as a parameter.\n",
    "def network(servers):\n",
    "\n",
    "    # A string variable is initialized to hold the \"result\".\n",
    "    result = \"\"\n",
    "\n",
    "    # For each \"hostname\" (key) and \"IP address\" (value) in the \"server\" dictionary items...\n",
    "    for hostname, IP_address in servers.items():\n",
    "\n",
    "        # A string identifying the hostname and IP address for each server is added\n",
    "        # to the \"result\" variable. The string .format() function and is used to plug\n",
    "        # the hostname and IP_address variables into the designated {} placeholders\n",
    "        # within the string.\n",
    "        result += \"The IP address of the {} server is {}\".format(hostname, IP_address) + \"\\n\"\n",
    "\n",
    "    # Return the \"result\" variable string.\n",
    "    return result\n",
    "\n",
    "# Call the \"network\" function with the dictionary.\n",
    "print(network({\"Domain Name Server\":\"8.8.8.8\", \"Gateway Server\":\"192.168.1.1\", \"Print Server\":\"192.168.1.33\", \"Mail Server\":\"192.168.1.190\"}))\n"
   ]
  }
 ],
 "metadata": {
  "language_info": {
   "name": "python"
  }
 },
 "nbformat": 4,
 "nbformat_minor": 2
}
