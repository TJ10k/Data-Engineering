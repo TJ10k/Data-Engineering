{
 "cells": [
  {
   "cell_type": "markdown",
   "metadata": {},
   "source": [
    "# Example One: \n",
    "Using  .reverse() and .extend methods"
   ]
  },
  {
   "cell_type": "code",
   "execution_count": 8,
   "metadata": {},
   "outputs": [
    {
     "name": "stdout",
     "output_type": "stream",
     "text": [
      "[1989, 1992, 1998, 2001, 2005, 2014, 2019, 2024]\n"
     ]
    }
   ],
   "source": [
    "def record_profit_years(recent_first, recent_last):\n",
    "    # Reverse the order of the \"recent_first\" list so that it is in chronological order.\n",
    "    recent_first.reverse()\n",
    "    # Extend the \"recent_last\" list by appending the newly reversed \"recent_first\" list\n",
    "    recent_last.extend(recent_first)\n",
    "\n",
    "    # Return the \"recent_last\", which now contains the two lists combined in chronological order\n",
    "    return recent_last\n",
    "\n",
    "# assign the two lists to the two variables\n",
    "recent_first = [2024, 2019, 2014, 2005]\n",
    "recent_last = [1989, 1992, 1998, 2001]\n",
    "# Call the record_profit_years() function and pass the two lists as parameters\n",
    "print(record_profit_years(recent_first, recent_last))"
   ]
  },
  {
   "cell_type": "markdown",
   "metadata": {},
   "source": [
    "`def` `record_profit_years(recent_first, recent_last):` - This line defines a function named record_profit_years that takes two parameters, recent_first and recent_last, which are expected to be lists of years.\n",
    "\n",
    "`recent_first.reverse():` Inside the function, the code reverses the order of the recent_first list using the reverse() method. This step arranges the years in chronological order, from oldest to most recent.\n",
    "\n",
    "`recent_last.extend(recent_first):` The code then extends the recent_last list by appending the reversed recent_first list. This combines both lists, ensuring that the years are in chronological order.\n",
    "\n",
    "`return recent_last:` Finally, the function returns the combined list, which is now in chronological order.\n",
    "\n",
    "`*recent_first = [2022, 2018, 2011, 2006] and recent_last = [1989, 1992, 1997, 2001]:` *These lines assign two lists of years to the recent_first and recent_last variables.\n",
    "\n",
    "`print(record_profit_years(recent_first, recent_last)):` The code calls the record_profit_years function, passing the recent_first and recent_last lists as parameters. It then prints the result, which should be the combined list of years in chronological order."
   ]
  }
 ],
 "metadata": {
  "kernelspec": {
   "display_name": "Python 3",
   "language": "python",
   "name": "python3"
  },
  "language_info": {
   "codemirror_mode": {
    "name": "ipython",
    "version": 3
   },
   "file_extension": ".py",
   "mimetype": "text/x-python",
   "name": "python",
   "nbconvert_exporter": "python",
   "pygments_lexer": "ipython3",
   "version": "3.12.0"
  }
 },
 "nbformat": 4,
 "nbformat_minor": 2
}
