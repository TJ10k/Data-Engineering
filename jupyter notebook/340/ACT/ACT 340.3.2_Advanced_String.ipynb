{
 "cells": [
  {
   "cell_type": "markdown",
   "metadata": {},
   "source": [
    "# Problem 1"
   ]
  },
  {
   "cell_type": "code",
   "execution_count": null,
   "metadata": {},
   "outputs": [
    {
     "name": "stdout",
     "output_type": "stream",
     "text": [
      "Y s\n"
     ]
    }
   ],
   "source": [
    "# Create a new string with the following sentence: “You learn more from failure than from success.\"\n",
    "# Use the 1st, 4th, and last character to create a new string.\n",
    "string = \"You learn more from failure than from success.\"\n",
    "new_string = string[0] + string[3] + string[-1]\n",
    "print(new_string)\n",
    "\n"
   ]
  },
  {
   "cell_type": "markdown",
   "metadata": {},
   "source": [
    "# Problem 2"
   ]
  },
  {
   "cell_type": "code",
   "execution_count": 13,
   "metadata": {},
   "outputs": [
    {
     "name": "stdout",
     "output_type": "stream",
     "text": [
      "You learn more from failure than from success!\n"
     ]
    }
   ],
   "source": [
    "# Use the replace() method to replace the \".\" with an \"!\"\n",
    "string = \"You learn more from failure than from success.\"\n",
    "new_string = string.replace('.', '!')\n",
    "print(new_string)"
   ]
  },
  {
   "cell_type": "markdown",
   "metadata": {},
   "source": [
    "# Problem 3"
   ]
  },
  {
   "cell_type": "code",
   "execution_count": 14,
   "metadata": {},
   "outputs": [
    {
     "name": "stdout",
     "output_type": "stream",
     "text": [
      "“when you change your thoughts, remember to also change your world.”\n"
     ]
    }
   ],
   "source": [
    "# Use the string variable below and create a new variable that has all of the characters from the original string as lowercase charcters\n",
    "string= \"“WHEN YOU Change your thougHts, remember to ALSO change your world.”\"\n",
    "new_string = string.lower()\n",
    "print(new_string)\n",
    "\n",
    "\n",
    "\n"
   ]
  },
  {
   "cell_type": "markdown",
   "metadata": {},
   "source": [
    "# Problem 4"
   ]
  },
  {
   "cell_type": "code",
   "execution_count": 3,
   "metadata": {},
   "outputs": [
    {
     "name": "stdout",
     "output_type": "stream",
     "text": [
      "“WHEN YOU CHANGE YOUR THOUGHTS, REMEMBER TO ALSO CHANGE YOUR WORLD.”\n"
     ]
    }
   ],
   "source": [
    "# Take the new_str variable from above and make all of characters uppercase\n",
    "string= \"“WHEN YOU Change your thougHts, remember to ALSO change your world.”\"\n",
    "new_string = new_string.upper()\n",
    "print(new_string)\n",
    "\n",
    "\n",
    "\n"
   ]
  },
  {
   "cell_type": "markdown",
   "metadata": {},
   "source": [
    "# Problem 5"
   ]
  },
  {
   "cell_type": "code",
   "execution_count": null,
   "metadata": {},
   "outputs": [
    {
     "name": "stdout",
     "output_type": "stream",
     "text": [
      "False\n",
      "False\n"
     ]
    }
   ],
   "source": [
    "# Use the string variable below and the startswith() method to check and see if the string starts with the character \"Z\".\n",
    "# Check if it starts with the character \"t\"\n",
    "new_str= \"There are no traffic jams along the extra mile.\"\n",
    "\n",
    "result = new_str.startswith(\"Z\")\n",
    "print(result)\n",
    "\n",
    "result = new_str.startswith(\"t\")\n",
    "print(result)"
   ]
  },
  {
   "cell_type": "markdown",
   "metadata": {},
   "source": [
    "# Problem 6"
   ]
  },
  {
   "cell_type": "code",
   "execution_count": 2,
   "metadata": {},
   "outputs": [
    {
     "data": {
      "text/plain": [
       "21"
      ]
     },
     "execution_count": 2,
     "metadata": {},
     "output_type": "execute_result"
    }
   ],
   "source": [
    "# Use the same new_str variable and the index() method to identify the index of character \"j\"\n",
    "new_str= \"There are no traffic jams along the extra mile.\"\n",
    "new_str.index('j')"
   ]
  },
  {
   "cell_type": "markdown",
   "metadata": {},
   "source": [
    "# Problem 7"
   ]
  },
  {
   "cell_type": "code",
   "execution_count": 7,
   "metadata": {},
   "outputs": [
    {
     "name": "stdout",
     "output_type": "stream",
     "text": [
      "The letter 't' appears 3 times and the letter 'o' appears 2 times\n"
     ]
    }
   ],
   "source": [
    "# Use the same new_str variable\n",
    "# Use the count() method to find the number of times \"t\" and \"o\" appear in a string\n",
    "# Create a print statement that has both results in one statement. You can use string concatenation, fstring, or any other way you can think of!\n",
    "new_str= \"There are no traffic jams along the extra mile.\"\n",
    "\n",
    "x = new_str.count('t')\n",
    "y = new_str.count('o')\n",
    "\n",
    "print(f\"The letter 't' appears {x} times and the letter 'o' appears {y} times\")\n"
   ]
  },
  {
   "cell_type": "markdown",
   "metadata": {},
   "source": [
    "# Problem 8"
   ]
  },
  {
   "cell_type": "code",
   "execution_count": null,
   "metadata": {},
   "outputs": [
    {
     "name": "stdout",
     "output_type": "stream",
     "text": [
      "13\n"
     ]
    }
   ],
   "source": [
    "# Using the string below, find the length of the given string.\n",
    "greeting = 'Good Morning!'\n",
    "print(len(greeting))"
   ]
  },
  {
   "cell_type": "markdown",
   "metadata": {},
   "source": [
    "# Problem 9"
   ]
  },
  {
   "cell_type": "code",
   "execution_count": 13,
   "metadata": {},
   "outputs": [
    {
     "name": "stdout",
     "output_type": "stream",
     "text": [
      "True\n"
     ]
    }
   ],
   "source": [
    "# Use the string below, and documentation on string methods to find if all the characters in a string are alpha characters.\n",
    "alphabet = \"abcdefghijklmnopqrstuvwxyz\"\n",
    "\n",
    "def all_alpha(s):\n",
    "    return s.isalpha()\n",
    "\n",
    "print(all_alpha(alphabet))\n"
   ]
  },
  {
   "cell_type": "markdown",
   "metadata": {},
   "source": [
    "# Problem 10"
   ]
  },
  {
   "cell_type": "code",
   "execution_count": 26,
   "metadata": {},
   "outputs": [
    {
     "name": "stdout",
     "output_type": "stream",
     "text": [
      "-1\n"
     ]
    },
    {
     "ename": "ValueError",
     "evalue": "substring not found",
     "output_type": "error",
     "traceback": [
      "\u001b[31m---------------------------------------------------------------------------\u001b[39m",
      "\u001b[31mValueError\u001b[39m                                Traceback (most recent call last)",
      "\u001b[36mCell\u001b[39m\u001b[36m \u001b[39m\u001b[32mIn[26]\u001b[39m\u001b[32m, line 10\u001b[39m\n\u001b[32m      8\u001b[39m y = learning.find(\u001b[33m\"\u001b[39m\u001b[33my\u001b[39m\u001b[33m\"\u001b[39m) \u001b[38;5;66;03m# returns the lowest index of the substring if its found. if it is not found it returns -1\u001b[39;00m\n\u001b[32m      9\u001b[39m \u001b[38;5;28mprint\u001b[39m(y)\n\u001b[32m---> \u001b[39m\u001b[32m10\u001b[39m \u001b[43mlearning\u001b[49m\u001b[43m.\u001b[49m\u001b[43mindex\u001b[49m\u001b[43m(\u001b[49m\u001b[33;43m\"\u001b[39;49m\u001b[33;43my\u001b[39;49m\u001b[33;43m\"\u001b[39;49m\u001b[43m)\u001b[49m \u001b[38;5;66;03m# raises a ValueError if the substring is not found\u001b[39;00m\n",
      "\u001b[31mValueError\u001b[39m: substring not found"
     ]
    }
   ],
   "source": [
    "# Use the string below to complete the following:\n",
    "\n",
    "# Use the find() method for the value \"y\"\n",
    "# Use the index() method for the value \"y\"\n",
    "# Create a comment explaining the difference between the two methods\n",
    "\n",
    "learning = 'Learning is fun!'\n",
    "y = learning.find(\"y\") # returns the lowest index of the substring if its found. if it is not found it returns -1\n",
    "print(y)\n",
    "learning.index(\"y\") # raises a ValueError if the substring is not found\n"
   ]
  },
  {
   "cell_type": "markdown",
   "metadata": {},
   "source": [
    "# Problem 11"
   ]
  },
  {
   "cell_type": "code",
   "execution_count": 31,
   "metadata": {},
   "outputs": [
    {
     "name": "stdout",
     "output_type": "stream",
     "text": [
      "Counter({' ': 9, 'w': 5, 'e': 5, 't': 5, 'l': 4, 'i': 3, 'n': 3, 'a': 3, 'r': 3, 'o': 3, 'k': 2, 'h': 2, 'T': 1, 's': 1, ',': 1, 'I': 1, 'd': 1, 'y': 1, 'u': 1})\n"
     ]
    }
   ],
   "source": [
    "from collections import Counter\n",
    "\n",
    "count_string= \"Twinkle twinkle little star, how I wonder what you are\"\n",
    "\n",
    "char_count = Counter(count_string)\n",
    "print(char_count)"
   ]
  }
 ],
 "metadata": {
  "kernelspec": {
   "display_name": "Python 3",
   "language": "python",
   "name": "python3"
  },
  "language_info": {
   "codemirror_mode": {
    "name": "ipython",
    "version": 3
   },
   "file_extension": ".py",
   "mimetype": "text/x-python",
   "name": "python",
   "nbconvert_exporter": "python",
   "pygments_lexer": "ipython3",
   "version": "3.12.0"
  }
 },
 "nbformat": 4,
 "nbformat_minor": 2
}
