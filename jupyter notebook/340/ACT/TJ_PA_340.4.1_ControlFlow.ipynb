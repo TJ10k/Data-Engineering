{
 "cells": [
  {
   "cell_type": "markdown",
   "metadata": {},
   "source": [
    "1. Write a program that declares 1 variable x, and then assigns 7 to it. Write an if statement to print out “Less than 10” if x is less than 10. Change x to equal 15, and notice the result (the console should not display anything)."
   ]
  },
  {
   "cell_type": "code",
   "execution_count": 5,
   "metadata": {},
   "outputs": [],
   "source": [
    "x = 7 \n",
    "if x < 10:\n",
    "    x = 15\n"
   ]
  },
  {
   "cell_type": "markdown",
   "metadata": {},
   "source": [
    "2. Write a program that declares 1 variable x, and then assigns 7 to it. Write an if-else statement that prints out “Less than 10” if x is less than 10, and “Greater than 10” if x is greater than 10. Change x to 15 and notice the result."
   ]
  },
  {
   "cell_type": "code",
   "execution_count": null,
   "metadata": {},
   "outputs": [],
   "source": [
    "x = 7\n",
    "if x < 10:\n",
    "    print(\"Less than 10\")\n",
    "else:\n",
    "    print(\"Greater than 10\")\n"
   ]
  },
  {
   "cell_type": "markdown",
   "metadata": {},
   "source": [
    "3.  Write a program that declares 1 variable x, and then assigns 15 to it. Write an if...elif...else statement that prints out “Less than 10” if x is less than 10; “Between 10 and 20” if x is greater than 10 but less than 20, and “Greater than or equal to 20” if x is greater than or equal to 20. Change x to 50 and notice the result."
   ]
  },
  {
   "cell_type": "code",
   "execution_count": 27,
   "metadata": {},
   "outputs": [
    {
     "name": "stdout",
     "output_type": "stream",
     "text": [
      "Between 10 and 20\n"
     ]
    }
   ],
   "source": [
    "x = 15\n",
    "if x < 10:\n",
    "    print(\"Less than 10\")\n",
    "elif x > 10 and x < 20:\n",
    "    print(\"Between 10 and 20\")\n",
    "else: \n",
    "    print (\"Greater than or equal to 20\")"
   ]
  },
  {
   "cell_type": "markdown",
   "metadata": {},
   "source": [
    "4. Write a program that declares 1 variable x, and then assigns 15 to it. Write an if-else statement that prints “Out of range” if the number is less than 10 or greater than 20 and prints “In range” if the number is between 10 and 20 (including equal to 10 or 20). Change x to 5 and notice the result. \n"
   ]
  },
  {
   "cell_type": "code",
   "execution_count": 38,
   "metadata": {},
   "outputs": [
    {
     "name": "stdout",
     "output_type": "stream",
     "text": [
      "In range\n"
     ]
    }
   ],
   "source": [
    "x = 15\n",
    "if x < 10 or x > 20:\n",
    "    print(\"Out of range\")\n",
    "elif x >= 10 and x <= 20:\n",
    "    print(\"In range\")"
   ]
  },
  {
   "cell_type": "markdown",
   "metadata": {},
   "source": [
    "5. Write a program that uses if...elif...else statements to print out grades A, B, C, D, and F according to the following criteria:\n",
    "\n",
    "A: 90-100\n",
    "\n",
    "B: 80-89\n",
    "\n",
    "C: 70-79\n",
    "\n",
    "D: 60-69\n",
    "\n",
    "F: <60\n",
    "\n",
    "Use the input() function  to accept a number score from the user to determine the letter grade. Print out “Score out of range” if the score is less than 0 or greater than 100.\n"
   ]
  },
  {
   "cell_type": "code",
   "execution_count": 63,
   "metadata": {},
   "outputs": [
    {
     "name": "stdout",
     "output_type": "stream",
     "text": [
      "You have an A! Good Job :)\n"
     ]
    }
   ],
   "source": [
    "grade = int(input(\"Whats your grade?\"))\n",
    "\n",
    "if grade <= 0 or grade >= 100: \n",
    "    print(\"Out of range\")\n",
    "elif grade >= 90: \n",
    "    print(\"You have an A! Good Job :)\")\n",
    "elif grade >= 80:\n",
    "    print(\"You have a B!\")\n",
    "elif grade >= 70:\n",
    "    print(\"You have a C\")\n",
    "elif grade >= 60:\n",
    "    print(\"you have a D\")\n",
    "elif grade < 60:\n",
    "    print(\"Womp Womp you have an F :(\")\n"
   ]
  },
  {
   "cell_type": "markdown",
   "metadata": {},
   "source": [
    "6. Create a program that lets the users input their filing status and income. Display how much tax the user would have to pay according to status and income.\n"
   ]
  },
  {
   "cell_type": "code",
   "execution_count": 79,
   "metadata": {},
   "outputs": [
    {
     "name": "stdout",
     "output_type": "stream",
     "text": [
      "According to your Head of Household filing status, your tax rate is 33.0% and you will pay $99000.00.\n"
     ]
    }
   ],
   "source": [
    "# Variables\n",
    "single = \"Single\"\n",
    "married_joint = 'Married Filing Jointly'\n",
    "married_sep = 'Married Filing Separately'\n",
    "hoh = 'Head of Household'\n",
    "\n",
    "# User Input \n",
    "filing_stat = input(f\"Enter your filing status ({single}, {married_joint}, {married_sep}, {hoh}): \").strip().lower()\n",
    "# \".strip()\" will clear any extra space from the user input and \".lower()\" will recognize the input as lower no matter what essentially meaning its not case sensitive we will do this all the way down\n",
    "income = float(input(\"Enter your income: $\"))\n",
    "\n",
    "# For 'Single' status\n",
    "if filing_stat == single.lower():\n",
    "    if income >= 372951:\n",
    "        tax_rate = 0.35\n",
    "    elif income >= 171551:\n",
    "        tax_rate = 0.33\n",
    "    elif income >= 82251:\n",
    "        tax_rate = 0.28\n",
    "    elif income >= 33951:\n",
    "        tax_rate = 0.25\n",
    "    elif income >= 8351:\n",
    "        tax_rate = 0.15\n",
    "    else:\n",
    "        tax_rate = 0.10\n",
    "    tax_due = income * tax_rate\n",
    "    print(f\"According to your {single} filing status, your tax rate is {tax_rate * 100}% and you will pay ${tax_due:.2f}.\")\n",
    "\n",
    "# For 'Married Filing Jointly' status\n",
    "elif filing_stat == married_joint.lower():\n",
    "    if income >= 372951:\n",
    "        tax_rate = 0.35\n",
    "    elif income >= 208851:\n",
    "        tax_rate = 0.33\n",
    "    elif income >= 137051:\n",
    "        tax_rate = 0.28\n",
    "    elif income >= 67901:\n",
    "        tax_rate = 0.25\n",
    "    elif income >= 16701:\n",
    "        tax_rate = 0.15\n",
    "    else:\n",
    "        tax_rate = 0.10\n",
    "    tax_due = income * tax_rate\n",
    "    print(f\"According to your {married_joint} filing status, your tax rate is {tax_rate * 100}% and you will pay ${tax_due:.2f}.\")\n",
    "\n",
    "# For 'Married Filing Separately' status\n",
    "elif filing_stat == married_sep.lower():\n",
    "    if income >= 186476:\n",
    "        tax_rate = 0.35\n",
    "    elif income >= 104426:\n",
    "        tax_rate = 0.33\n",
    "    elif income >= 68526:\n",
    "        tax_rate = 0.28\n",
    "    elif income >= 33951:\n",
    "        tax_rate = 0.25\n",
    "    elif income >= 8351:\n",
    "        tax_rate = 0.15\n",
    "    else:\n",
    "        tax_rate = 0.10\n",
    "    tax_due = income * tax_rate\n",
    "    print(f\"According to your {married_sep} filing status, your tax rate is {tax_rate * 100}% and you will pay ${tax_due:.2f}.\")\n",
    "\n",
    "# For 'Head of Household' status\n",
    "elif filing_stat == hoh.lower():\n",
    "    if income >= 372951:\n",
    "        tax_rate = 0.35\n",
    "    elif income >= 190201:\n",
    "        tax_rate = 0.33\n",
    "    elif income >= 117451:\n",
    "        tax_rate = 0.28\n",
    "    elif income >= 45501:\n",
    "        tax_rate = 0.25\n",
    "    elif income >= 11951:\n",
    "        tax_rate = 0.15\n",
    "    else:\n",
    "        tax_rate = 0.10\n",
    "    tax_due = income * tax_rate\n",
    "    print(f\"According to your {hoh} filing status, your tax rate is {tax_rate * 100}% and you will pay ${tax_due:.2f}.\")\n",
    "# Error for unknown input\n",
    "else:\n",
    "    print(\"Invalid\")"
   ]
  }
 ],
 "metadata": {
  "kernelspec": {
   "display_name": "Python 3",
   "language": "python",
   "name": "python3"
  },
  "language_info": {
   "codemirror_mode": {
    "name": "ipython",
    "version": 3
   },
   "file_extension": ".py",
   "mimetype": "text/x-python",
   "name": "python",
   "nbconvert_exporter": "python",
   "pygments_lexer": "ipython3",
   "version": "3.12.0"
  }
 },
 "nbformat": 4,
 "nbformat_minor": 2
}
