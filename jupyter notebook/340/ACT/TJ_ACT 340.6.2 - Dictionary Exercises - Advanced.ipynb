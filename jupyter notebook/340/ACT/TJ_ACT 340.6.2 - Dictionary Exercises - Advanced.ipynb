{
 "cells": [
  {
   "cell_type": "markdown",
   "metadata": {},
   "source": [
    "# Problem 1\n"
   ]
  },
  {
   "cell_type": "code",
   "execution_count": null,
   "metadata": {},
   "outputs": [],
   "source": [
    "# Add the following key/value pair to the dictionary below. \"oceans\": [\"Pacific\", \"Atlantic\", \"Indian\", \"Arctic\"]\n",
    "geography = {\"continets\": [\"North America\", \"South America\", \"Africa\", \"Antarctica\", \"Australia\", \"Asia\", \"Europe\"]}\n",
    "geography[\"oceans\"] = [\"Pacific\", \"Atlantic\", \"Indian\", \"Arctic\"]\n",
    "geography"
   ]
  },
  {
   "cell_type": "markdown",
   "metadata": {},
   "source": [
    "# Problem 2"
   ]
  },
  {
   "cell_type": "code",
   "execution_count": null,
   "metadata": {},
   "outputs": [],
   "source": [
    "# Use the Dictionary below\n",
    "# Change the value for the height key to 72 inches\n",
    "patient = {\"name\": \"John Doe\", \"age\": 25, \"height\": 64, \"symptoms\": \"cough\" }\n",
    "patient[\"height\"] = 72\n",
    "patient"
   ]
  },
  {
   "cell_type": "markdown",
   "metadata": {},
   "source": [
    "# Problem 3"
   ]
  },
  {
   "cell_type": "code",
   "execution_count": 13,
   "metadata": {},
   "outputs": [
    {
     "name": "stdout",
     "output_type": "stream",
     "text": [
      "[('name', 'John Doe'), ('age', 25), ('height', 64), ('symptoms', 'cough')]\n"
     ]
    }
   ],
   "source": [
    "# Use the same dictionary as above\n",
    "# Use a Class method to generate a list of tuples that consists of each key:value pair\n",
    "patient = {\"name\": \"John Doe\", \"age\": 25, \"height\": 64, \"symptoms\": \"cough\"}\n",
    "\n",
    "class DictUtil:\n",
    "    @staticmethod\n",
    "    def generate_tuples(dictionary):\n",
    "        return list(dictionary.items())\n",
    "\n",
    "tuples_list = DictUtil.generate_tuples(patient)\n",
    "print(tuples_list)"
   ]
  },
  {
   "cell_type": "markdown",
   "metadata": {},
   "source": [
    "# Problem 4"
   ]
  },
  {
   "cell_type": "code",
   "execution_count": 16,
   "metadata": {},
   "outputs": [
    {
     "name": "stdout",
     "output_type": "stream",
     "text": [
      "The value for 'name' is: John Doe\n"
     ]
    }
   ],
   "source": [
    "# Use the same dictionary as above\n",
    "# Use a Class method to print the value of \"name'\n",
    "\n",
    "patient = {\"name\": \"John Doe\", \"age\": 25, \"height\": 64, \"symptoms\": \"cough\"}\n",
    "\n",
    "class DictHandler:\n",
    "    def __init__(self, data):\n",
    "        self.data = data\n",
    "\n",
    "    def print_value(self, key):\n",
    "        if key in self.data:\n",
    "            print(f\"The value for '{key}' is: {self.data[key]}\")\n",
    "\n",
    "handler = DictHandler(patient)\n",
    "handler.print_value('name')"
   ]
  },
  {
   "cell_type": "markdown",
   "metadata": {},
   "source": [
    "# Problem 5\n"
   ]
  },
  {
   "cell_type": "code",
   "execution_count": null,
   "metadata": {},
   "outputs": [
    {
     "name": "stdout",
     "output_type": "stream",
     "text": [
      "NOT FOUND! The value for 'weight' by default is 150\n"
     ]
    }
   ],
   "source": [
    "# Use the same dictionary as above\n",
    "# Use a Class method to look for the key \"weight\", and supply a default arguement of 150 if the value is not found\n",
    "\n",
    "patient = {\"name\": \"John Doe\", \"age\": 25, \"height\": 64, \"symptoms\": \"cough\"}\n",
    "\n",
    "class DictHandler:\n",
    "    def __init__(self, data):\n",
    "        self.data = data\n",
    "\n",
    "    def print_value(self, key):\n",
    "        if key in self.data:\n",
    "            print(f\"The value for '{key}' is: {self.data[key]}\")\n",
    "        else:\n",
    "            print(f\"NOT FOUND! The value for '{key}' by default is 150\")\n",
    "\n",
    "handler = DictHandler(patient)\n",
    "handler.print_value('weight')"
   ]
  },
  {
   "cell_type": "markdown",
   "metadata": {},
   "source": [
    "# Problem 6"
   ]
  },
  {
   "cell_type": "code",
   "execution_count": null,
   "metadata": {},
   "outputs": [
    {
     "name": "stdout",
     "output_type": "stream",
     "text": [
      "Before Clearning: {'name': 'John Doe', 'age': 25, 'height': 64, 'symptoms': 'cough'}\n",
      "After Clearing: {}\n"
     ]
    }
   ],
   "source": [
    "# Use the same dictionary as above\n",
    "# Use a Class method to remove everything from the dictionary\n",
    "\n",
    "patient = {\"name\": \"John Doe\", \"age\": 25, \"height\": 64, \"symptoms\": \"cough\"}\n",
    "\n",
    "class Patient:\n",
    "    def __init__(self, name, age, height, symptoms):\n",
    "        self.info = patient\n",
    "    \n",
    "    def clear_info(self):\n",
    "        self.info.clear()\n",
    "# Creating an instance of the Patient class\n",
    "patient = Patient(\"John Doe\", 25, 64, \"cough\")\n",
    "print(\"Before Clearning:\", patient.info)\n",
    "# Using the class method to clear the dictionary\n",
    "patient.clear_info()\n",
    "print(\"After Clearing:\", patient.info)\n"
   ]
  },
  {
   "cell_type": "markdown",
   "metadata": {},
   "source": [
    "# Problem 7"
   ]
  },
  {
   "cell_type": "code",
   "execution_count": 34,
   "metadata": {},
   "outputs": [
    {
     "name": "stdout",
     "output_type": "stream",
     "text": [
      "[2700, 51500]\n"
     ]
    }
   ],
   "source": [
    "# Use the dictionary below\n",
    "# Use a for loop to move through the dictionary.\n",
    "# If the value is above 2000, add the value to a new list minus 500\n",
    "# Example: If the value is 2500, 2000 would be added to the new list\n",
    "\n",
    "stock_qty= {\"cookies\": 3200, \"bread\": 500, \"crackers\": 52000, \"chips\": 2000}\n",
    "\n",
    "new_list = []\n",
    "\n",
    "for item, quantity in stock_qty.items():\n",
    "    if quantity > 2000:\n",
    "        new_list.append(quantity - 500)\n",
    "\n",
    "print(new_list)"
   ]
  },
  {
   "cell_type": "markdown",
   "metadata": {},
   "source": [
    "# Problem 8"
   ]
  },
  {
   "cell_type": "code",
   "execution_count": 38,
   "metadata": {},
   "outputs": [
    {
     "name": "stdout",
     "output_type": "stream",
     "text": [
      "{10: 2, 9: 3, 88: 1, 20: 2, 22: 1, 101: 1, 68: 1, 108: 1, 33: 1, 53: 1}\n"
     ]
    }
   ],
   "source": [
    "# Use the list I did below\n",
    "# Loop through the list\n",
    "# Create a dictionary to keep track of how many times a number appears in a list\n",
    "# Print the final dictionary\n",
    "# Things to consider:\n",
    "# How to check if an integer already exists in the new dictionary\n",
    "# What is the first value when the key gets added to the dictionary?\n",
    "# How to increase the value of each key on each iteration of the loop?\n",
    "list= [10, 9, 88, 20, 9, 20, 22, 101, 68, 10, 108, 33, 9, 53]\n",
    "\n",
    "count_dict = {} # Empty list to store the count of each number\n",
    "\n",
    "for number in list:\n",
    "    # If the number is already in the dictionary, increment its count\n",
    "    if number in count_dict:\n",
    "        count_dict[number] += 1\n",
    "    # If the number is not in the dictionary, add it with a count of 1\n",
    "    else:\n",
    "        count_dict[number] = 1\n",
    "\n",
    "# Prints the final dictionary\n",
    "print(count_dict)"
   ]
  }
 ],
 "metadata": {
  "kernelspec": {
   "display_name": "Python 3",
   "language": "python",
   "name": "python3"
  },
  "language_info": {
   "codemirror_mode": {
    "name": "ipython",
    "version": 3
   },
   "file_extension": ".py",
   "mimetype": "text/x-python",
   "name": "python",
   "nbconvert_exporter": "python",
   "pygments_lexer": "ipython3",
   "version": "3.12.0"
  }
 },
 "nbformat": 4,
 "nbformat_minor": 2
}
