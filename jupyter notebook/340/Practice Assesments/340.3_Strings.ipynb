{
 "cells": [
  {
   "cell_type": "markdown",
   "metadata": {},
   "source": [
    "# Word Play Game\n",
    "---"
   ]
  },
  {
   "cell_type": "code",
   "execution_count": null,
   "metadata": {},
   "outputs": [],
   "source": [
    "# User Input for a Word of their choice\n",
    "word = input(\"Enter a word: \")\n",
    "\n",
    "# The word the user chose\n",
    "print(word)\n",
    "\n",
    "# The length of the word the user chose\n",
    "print(len(word))\n",
    "\n",
    "# Uppercase and Lowercase of the word the user chose\n",
    "print(word.upper())\n",
    "print(word.lower())\n",
    "\n",
    "# Search for a letter in the word chosen\n",
    "letter = input(\"Enter a letter: \")\n",
    "print(f'{letter} is in the word {word} {word.count(letter)} times') # prints the of times the letter is in the word\n",
    "\n",
    "# Search for a substring in the word chosen\n",
    "substring = input(\"Enter a substring: \")\n",
    "print(f'substring {substring} is in the word {word} {word.count(substring)} times') # prints the times the substring is in the word\n",
    "\n",
    "# The word chosen will be in reverse\n",
    "word_reverse = word[::-1] \n",
    "print('Reverse:', word_reverse) # prints the word in reverse\n",
    "\n",
    "# The user will enter a starting and ending index and it will be sliced\n",
    "start_index = int(input(\"Enter a starting index:\"))\n",
    "end_index = int(input(\"Enter a ending index:\"))\n",
    "sliced = word[start_index:end_index]\n",
    "print('Sliced:', sliced)\n",
    "\n",
    "# will replace the first occurence of a character with another character chosen by user\n",
    "replace = input('Enter a character to replace: ')\n",
    "replacement = input('What do you want to replace it with: ')\n",
    "replaced_word = word.replace(replace , replacement, 1)\n",
    "print(\"Replaced:\" ,replaced_word,)\n",
    "\n",
    "# a second word will now be added this is called string concatenation\n",
    "word2 = input('Enter a word to add')\n",
    "concatenated = word + word2\n",
    "print(\"Concatenated:\" , concatenated)\n",
    "\n",
    "# will check if the word is palindrome\n",
    "palindrome = word == word_reverse\n",
    "valid_identifier = word.isidentifier()\n",
    "\n",
    "print(\"Is a palindrome:\" , palindrome)\n",
    "print(\"Is a valid identifier:\" , valid_identifier)\n",
    "\n",
    "\n"
   ]
  },
  {
   "cell_type": "markdown",
   "metadata": {},
   "source": [
    "# Leap Year\n",
    "---"
   ]
  },
  {
   "cell_type": "code",
   "execution_count": null,
   "metadata": {},
   "outputs": [],
   "source": [
    "year = int(input(\"Enter a Year: \"))\n",
    "\n",
    "if year % 400 == 0 and year % 100 == 0 and year % 4 == 0:\n",
    "    print(year, \"is a leap year\")\n",
    "else:\n",
    "    print(year, \"is not leap year\")\n"
   ]
  }
 ],
 "metadata": {
  "kernelspec": {
   "display_name": "Python 3",
   "language": "python",
   "name": "python3"
  },
  "language_info": {
   "codemirror_mode": {
    "name": "ipython",
    "version": 3
   },
   "file_extension": ".py",
   "mimetype": "text/x-python",
   "name": "python",
   "nbconvert_exporter": "python",
   "pygments_lexer": "ipython3",
   "version": "3.12.0"
  }
 },
 "nbformat": 4,
 "nbformat_minor": 2
}
