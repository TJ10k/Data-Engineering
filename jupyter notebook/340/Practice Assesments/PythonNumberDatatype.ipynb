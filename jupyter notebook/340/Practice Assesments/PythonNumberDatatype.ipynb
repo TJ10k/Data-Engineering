{
 "cells": [
  {
   "cell_type": "markdown",
   "metadata": {},
   "source": [
    "# PA 340.2.1 - Practice Assignment Python Number - Data Types and Variables\n",
    "---"
   ]
  },
  {
   "cell_type": "markdown",
   "metadata": {
    "vscode": {
     "languageId": "plaintext"
    }
   },
   "source": [
    "1. Write a Python program that declares two integer variables, assigns an integer to each, and adds them together. Assign the sum to a variable."
   ]
  },
  {
   "cell_type": "code",
   "execution_count": 8,
   "metadata": {},
   "outputs": [
    {
     "name": "stdout",
     "output_type": "stream",
     "text": [
      "40\n"
     ]
    }
   ],
   "source": [
    "a = 25\n",
    "b = 15\n",
    "total = a+b\n",
    "\n",
    "print(total)"
   ]
  },
  {
   "cell_type": "markdown",
   "metadata": {},
   "source": [
    "2. Write a Python program that declares two float variables, assigns a number to each, and adds them together. Assign the sum to a variable"
   ]
  },
  {
   "cell_type": "code",
   "execution_count": 9,
   "metadata": {},
   "outputs": [
    {
     "name": "stdout",
     "output_type": "stream",
     "text": [
      "22.6\n"
     ]
    }
   ],
   "source": [
    "a = 10.2\n",
    "b = 12.4\n",
    "total = a+b\n",
    "\n",
    "print(total)"
   ]
  },
  {
   "cell_type": "markdown",
   "metadata": {},
   "source": [
    "3. Write a Python program that declares an integer variable and a float variable, assigns numbers to each, and adds them together. Assign the sum to a variable. What variable type must the sum be?"
   ]
  },
  {
   "cell_type": "code",
   "execution_count": 10,
   "metadata": {},
   "outputs": [
    {
     "name": "stdout",
     "output_type": "stream",
     "text": [
      "16.5\n"
     ]
    }
   ],
   "source": [
    "# Variable must be a float\n",
    "a = 2.5\n",
    "b = 14\n",
    "total = a+b\n",
    "\n",
    "print(total)"
   ]
  },
  {
   "cell_type": "markdown",
   "metadata": {},
   "source": [
    "4. Write a Python program that declares two integer variables, assigns an integer to each, and divides the larger number by the smaller number. Assign the result to a variable"
   ]
  },
  {
   "cell_type": "code",
   "execution_count": 1,
   "metadata": {},
   "outputs": [
    {
     "name": "stdout",
     "output_type": "stream",
     "text": [
      "10.0\n"
     ]
    }
   ],
   "source": [
    "a = 50\n",
    "b = 5\n",
    "total = a/b\n",
    "\n",
    "print(total)"
   ]
  },
  {
   "cell_type": "markdown",
   "metadata": {},
   "source": [
    "5. Write a Python program that declares two float variables, assigns a number to each, and divides the larger by the smaller number. Assign the result to a variable."
   ]
  },
  {
   "cell_type": "code",
   "execution_count": 2,
   "metadata": {},
   "outputs": [
    {
     "name": "stdout",
     "output_type": "stream",
     "text": [
      "17.545454545454543\n"
     ]
    }
   ],
   "source": [
    "a = 38.6\n",
    "b = 2.2\n",
    "total = a/b\n",
    "\n",
    "print(total)"
   ]
  },
  {
   "cell_type": "markdown",
   "metadata": {},
   "source": [
    "6. Write a program where you create three variables that represent products at a cafe. The products could be beverages such as `coffee,` `cappuccino,` `espresso,` `green tea,` etc. Assign prices to each product."
   ]
  },
  {
   "cell_type": "code",
   "execution_count": 10,
   "metadata": {},
   "outputs": [
    {
     "name": "stdout",
     "output_type": "stream",
     "text": [
      "Cafe Menu:\n",
      "Coffee: $ 3.5\n",
      "Iced Tea: $ 2.99\n",
      "Frappucino: $ 4.99\n"
     ]
    }
   ],
   "source": [
    "coffee = 3.50\n",
    "iced_tea = 2.99\n",
    "frappucino = 4.99\n",
    "\n",
    "print(\"Cafe Menu:\")\n",
    "print(\"Coffee: $\", coffee)\n",
    "print(\"Iced Tea: $\", iced_tea)\n",
    "print(\"Frappucino: $\", frappucino)"
   ]
  },
  {
   "cell_type": "markdown",
   "metadata": {},
   "source": [
    "7. Create two more variables called subtotal and totalSale, and complete an “order” for three items of the first product, four items of the second product, and two items of the third product. Add them all together to calculate the subtotal. Create a variable called SALES_TAX and add sales tax to the subtotal to obtain the totalSale amount.\n"
   ]
  },
  {
   "cell_type": "code",
   "execution_count": 28,
   "metadata": {},
   "outputs": [
    {
     "name": "stdout",
     "output_type": "stream",
     "text": [
      "Cafe Receipt:        Amount\n",
      "Coffee: $ 3.5          3\n",
      "Iced Tea: $ 2.99       4\n",
      "Frappucino: $ 4.99     2\n",
      "Subtotal: $ 32.44\n",
      "Sales Tax: $ 2.2708\n",
      "Total Sale: $ 34.7108\n"
     ]
    }
   ],
   "source": [
    "coffee = 3.50\n",
    "iced_tea = 2.99\n",
    "frappucino = 4.99\n",
    "\n",
    "print(\"Cafe Receipt:        Amount\")\n",
    "print(\"Coffee: $\", coffee  , \"         3\") \n",
    "print(\"Iced Tea: $\", iced_tea , \"      4\")\n",
    "print(\"Frappucino: $\", frappucino  , \"    2\")\n",
    "subtotal = (coffee * 3) + (iced_tea * 4) + (frappucino * 2)\n",
    "print(\"Subtotal: $\", subtotal)\n",
    "tax = 0.07\n",
    "salestax = subtotal * tax\n",
    "totalSale = subtotal + salestax\n",
    "print(\"Sales Tax: $\", subtotal * tax)\n",
    "print(\"Total Sale: $\", totalSale)\n"
   ]
  },
  {
   "cell_type": "markdown",
   "metadata": {},
   "source": [
    "8. Write a Python program that calculates the area of a circle based on the radius = 63. To calculate the area of a circle based on the radius, we can use the following formula:"
   ]
  },
  {
   "cell_type": "code",
   "execution_count": 27,
   "metadata": {},
   "outputs": [
    {
     "name": "stdout",
     "output_type": "stream",
     "text": [
      "Area of a Circle:  12462.66\n"
     ]
    }
   ],
   "source": [
    "radius = 63\n",
    "pi = 3.14\n",
    "print(\"Area of a Circle: \", pi * radius**2)"
   ]
  }
 ],
 "metadata": {
  "kernelspec": {
   "display_name": "Python 3",
   "language": "python",
   "name": "python3"
  },
  "language_info": {
   "codemirror_mode": {
    "name": "ipython",
    "version": 3
   },
   "file_extension": ".py",
   "mimetype": "text/x-python",
   "name": "python",
   "nbconvert_exporter": "python",
   "pygments_lexer": "ipython3",
   "version": "3.12.0"
  }
 },
 "nbformat": 4,
 "nbformat_minor": 2
}
