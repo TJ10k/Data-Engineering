{
 "cells": [
  {
   "cell_type": "code",
   "execution_count": 28,
   "metadata": {},
   "outputs": [
    {
     "name": "stdout",
     "output_type": "stream",
     "text": [
      "Happy birthday to Kenna!\n",
      "You are 18 years old!\n",
      "Happy birthday to you!\n",
      "\n",
      "Happy birthday to TJ!\n",
      "You are 20 years old!\n",
      "Happy birthday to you!\n",
      "\n",
      "Happy birthday to Brenda!\n",
      "You are 60 years old!\n",
      "Happy birthday to you!\n",
      "\n"
     ]
    }
   ],
   "source": [
    "# function = A block of reusable code\n",
    "#       place () after the function name to invoke it\n",
    "\n",
    "def happy_birthday(name , age):\n",
    "\tprint(f\"Happy birthday to {name}!\") \n",
    "\tprint(f\"You are {age} years old!\")\n",
    "\tprint(\"Happy birthday to you!\")\n",
    "\tprint()\n",
    "\n",
    "happy_birthday(\"Kenna\", 18)\n",
    "happy_birthday(\"TJ\", 20)\n",
    "happy_birthday(\"Brenda\", 60)"
   ]
  },
  {
   "cell_type": "code",
   "execution_count": 8,
   "metadata": {},
   "outputs": [
    {
     "name": "stdout",
     "output_type": "stream",
     "text": [
      "Hello Tj\n",
      "your bill of $15000.00 is due 01/01\n"
     ]
    }
   ],
   "source": [
    "def display_invoice(username, amount, due_date):\n",
    "    print(f\"Hello {username}\")\n",
    "    print(f\"your bill of ${amount:.2f} is due {due_date}\")\n",
    "\n",
    "display_invoice(\"Tj\", 15000, \"01/01\")\n",
    "\n"
   ]
  },
  {
   "cell_type": "code",
   "execution_count": 20,
   "metadata": {},
   "outputs": [
    {
     "name": "stdout",
     "output_type": "stream",
     "text": [
      "3\n",
      "-1\n",
      "2\n",
      "0.5\n"
     ]
    }
   ],
   "source": [
    "# return = statement used to end a function\n",
    "#          and send a result back to the caller\n",
    "\n",
    "def add(x, y):\n",
    "    z = x + y\n",
    "    return z\n",
    "\n",
    "def subtract(x, y):\n",
    "    z = x - y\n",
    "    return z\n",
    "\n",
    "def multiply(x, y):\n",
    "    z = x * y\n",
    "    return z\n",
    "\n",
    "def divide(x, y):\n",
    "    z = x / y\n",
    "    return z\n",
    "\n",
    "print(add(1, 2))\n",
    "print(subtract(1, 2))\n",
    "print(multiply(1, 2))\n",
    "print(divide(1, 2))"
   ]
  },
  {
   "cell_type": "code",
   "execution_count": null,
   "metadata": {},
   "outputs": [],
   "source": [
    "#!/bin/python3\n",
    "\n",
    "import math\n",
    "import os\n",
    "import random\n",
    "import re\n",
    "import sys\n",
    "\n",
    "\n",
    "#\n",
    "# Complete the 'minimalOperations' function below.\n",
    "#\n",
    "# The function is expected to return an INTEGER_ARRAY.\n",
    "# The function accepts STRING_ARRAY words as parameter.\n",
    "#\n",
    "\n",
    "def miniord in words: # Goes through each word in the input \n",
    "        count = 0 # The count of operations for the current word\n",
    "        i = 0 # starts going through the charcters of the word\n",
    "        while i < len(word) - 1: # loop through to find duplicate characters\n",
    "            if word[i] == word[i + 1]: # check if the current character is the same as the next\n",
    "                count += 1 # the count of operations\n",
    "                i += 1  # This skips the next character so it doesnt overlap\n",
    "            i += 1 # move to the next\n",
    "        op_list.append(count) # adds the count of operations for the current word to the results list\n",
    "    return op_list # return the list of counts for all the words in the input\n",
    "if __name__ == '__main__':\n",
    "    fptr = open(os.environ['OUTPUT_PATH'], 'w')\n",
    "\n",
    "    words_count = int(input().strip())\n",
    "\n",
    "    words = []\n",
    "\n",
    "    for _ in range(words_count):\n",
    "        words_item = input()\n",
    "        words.append(words_item)\n",
    "\n",
    "    result = minimalOperations(words)\n",
    "\n",
    "    fptr.write('\\n'.join(map(str, result)))\n",
    "    fptr.write('\\n')\n",
    "\n",
    "    fptr.close(malOperations(words):\n",
    "    op_list = [] # Empty list to store the count for each word\n",
    "    for w)"
   ]
  },
  {
   "cell_type": "code",
   "execution_count": null,
   "metadata": {},
   "outputs": [],
   "source": [
    "class LetterFilter:\n",
    "\n",
    "    def __init__(self, s):\n",
    "        self.s = s\n",
    "        \n",
    "\n",
    "# Enter your code here. \n",
    "# Complete the classes below.\n",
    "# Reading the inputs and writing the outputs are already done for you.\n",
    "#\n",
    "\n",
    "\n",
    "    def filter_vowels(self):\n",
    "        result = ''\n",
    "        for i in self.s:\n",
    "            if i in 'bcdfghjklmnpqrstvwxyz':\n",
    "                result += i\n",
    "        return result\n",
    "\n",
    "    def filter_consonants(self):\n",
    "        result = ''\n",
    "        for i in self.s:\n",
    "            if i in 'aeiou':\n",
    "                result += i\n",
    "        return result\n",
    "s = input()\n",
    "f = LetterFilter(s)\n",
    "print(f.filter_vowels())\n",
    "print(f.filter_consonants())"
   ]
  },
  {
   "cell_type": "code",
   "execution_count": 40,
   "metadata": {},
   "outputs": [
    {
     "name": "stdout",
     "output_type": "stream",
     "text": [
      "(1, 2, 3)\n",
      "(1, 2, 3, 4, 5)\n"
     ]
    }
   ],
   "source": [
    "x = (1, 2, 3)\n",
    "\n",
    "y = x\n",
    "\n",
    "y += (4, 5)\n",
    "\n",
    " \n",
    "\n",
    "print(x)\n",
    "\n",
    "print(y)"
   ]
  },
  {
   "cell_type": "code",
   "execution_count": 22,
   "metadata": {},
   "outputs": [
    {
     "name": "stdout",
     "output_type": "stream",
     "text": [
      "Spongebob Circlepants\n"
     ]
    }
   ],
   "source": [
    "def create_name(first, last):\n",
    "    first = first.capitalize()\n",
    "    last = last.capitalize()\n",
    "    return first + \" \" + last\n",
    "\n",
    "\n",
    "full_name = create_name(\"spongebob\", \"circlepants\")\n",
    "\n",
    "print(full_name)"
   ]
  }
 ],
 "metadata": {
  "kernelspec": {
   "display_name": "Python 3",
   "language": "python",
   "name": "python3"
  },
  "language_info": {
   "codemirror_mode": {
    "name": "ipython",
    "version": 3
   },
   "file_extension": ".py",
   "mimetype": "text/x-python",
   "name": "python",
   "nbconvert_exporter": "python",
   "pygments_lexer": "ipython3",
   "version": "3.12.0"
  }
 },
 "nbformat": 4,
 "nbformat_minor": 2
}
