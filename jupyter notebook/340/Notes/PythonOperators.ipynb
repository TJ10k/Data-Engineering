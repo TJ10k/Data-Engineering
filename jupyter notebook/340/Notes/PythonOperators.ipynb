{
 "cells": [
  {
   "cell_type": "markdown",
   "metadata": {},
   "source": [
    "# Python Operators"
   ]
  },
  {
   "cell_type": "markdown",
   "metadata": {
    "vscode": {
     "languageId": "plaintext"
    }
   },
   "source": [
    "### Arithmetic Operators\n",
    "---"
   ]
  },
  {
   "cell_type": "code",
   "execution_count": null,
   "metadata": {},
   "outputs": [],
   "source": [
    "# NOTES\n",
    "# + is addition \n",
    "# - is subrtraction\n",
    "# * is multiplication\n",
    "# / is division\n",
    "# // is floor division (The division of operands where the result is the quotient in which the digits after the decimal point are removed)\n",
    "# % is modulo (Divides left-handed operand by right-hand operand)\n",
    "# ** is used for exponents also known as \"power\"\n",
    "\n",
    "# CODE\n",
    "a = 45 # Sets the value of a\n",
    "b = 9 # Sets the value of b\n",
    "\n",
    "print('Addition of two numbers:' ,a+b)\n",
    "print('Subtraction of two numbers:' ,a-b)\n",
    "print('Multiplication of two numbers:' ,a*b)\n",
    "print('Division of two numbers:' ,a/b)\n",
    "print('Reminder of two numbers:' ,a%b)\n",
    "print('Exponent of two numbers:' ,a**b)\n",
    "print('Floor Division of two numbers:' ,a//b)\n",
    "MultipleOperators = 5 + 4 ** 3 / 2 - 1 \n",
    "print('Result of MultipleOperators is:' ,MultipleOperators)"
   ]
  },
  {
   "cell_type": "markdown",
   "metadata": {},
   "source": [
    "### Assignment Operators\n",
    "---"
   ]
  },
  {
   "cell_type": "code",
   "execution_count": null,
   "metadata": {},
   "outputs": [],
   "source": [
    "# NOTES\n",
    "# Assignment operatore are used to assign values to variables and are used for modifying a value, performing soe mathematical operations and assigning values to the variable\n",
    "# = Example x=y which is equivalent to x=y\n",
    "# += Example x+=y which is equivalent to x=x+y\n",
    "# -= Example x-=y which is equivalent to x=x-y\n",
    "# *= Example x*=y which is equivalent to x=x*y\n",
    "# /= Example x/=y which is equivalent to x=x/y\n",
    "# %= Example x%=y which is equivalent to x=x%y\n",
    "# //= Example x//=y which is equivalent to x=x//y\n",
    "# **= Example x**=y which is equivalent to x=x**y\n",
    "\n",
    "# CODE\n",
    "x = 52 # Sets the value of x\n",
    "y = 7 # Sets the value of y\n",
    "\n",
    "print('x=y:', x==y)\n",
    "print('x+=y:', x+y) # Determines if mean x = x + y is true or not\n",
    "print('x-=y:', x-y) # Determines if mean x = x - y is true or not\n",
    "print('x*=y:', x*y) # Determines if mean x = x * y is true or not\n",
    "print('x/=y:', x/y) # Determines if mean x = x / y is true or not\n",
    "print('x%=y:', x%y) # Determines if mean x = x % y is true or not\n",
    "print('x//=y:', x//y) # Determines if mean x = x // y is true or not\n",
    "print('x**=y:', x**y) # Determines if mean x = x ** y is true or not\n",
    "\n",
    "j = 22 # Sets the value of j\n",
    "print(\"j is : \" ,j)\n",
    "j = 12 # Sets the value of j and overwrites the previous value\n",
    "k = j # Sets the value of k to the value of j\n",
    "print(\"j is : \" ,j)\n",
    "print(\"k is : \" ,k)\n",
    "\n",
    "k = j = 18; # (k = (j = 12)) Sets the value of j to 12 and then sets the value of k to the value of j\n",
    "print(\"j is : \" , j)\n",
    "print(\"k is : \" , k)\n"
   ]
  },
  {
   "cell_type": "markdown",
   "metadata": {},
   "source": [
    "### Comparison Operators\n",
    "---"
   ]
  },
  {
   "cell_type": "code",
   "execution_count": null,
   "metadata": {},
   "outputs": [],
   "source": [
    "# NOTES\n",
    "# Comparison operators are used to compare two values and return a boolean value\n",
    "# == is equal to \n",
    "# != is not equal to\n",
    "# > is greater than\n",
    "# < is less than\n",
    "# >= is greater than or equal to\n",
    "# <= is less than or equal to\n",
    "\n",
    "# CODE\n",
    "a = 28\n",
    "b= 5\n",
    "\n",
    "print('Two numbers are equal or not:', a==b)\n",
    "print('Two number are not equal or not:' ,a!=b)\n",
    "print('a is less than or equal to b:' ,a<=b)\n",
    "print ('a is greater than or equal to b:' ,a>=b)\n",
    "print('a is greater than b:' ,a>b)\n",
    "print('a is less than b:' ,a<b)\n",
    "\n"
   ]
  },
  {
   "cell_type": "markdown",
   "metadata": {},
   "source": [
    "### Logical Operators\n",
    "---\n"
   ]
  },
  {
   "cell_type": "code",
   "execution_count": null,
   "metadata": {},
   "outputs": [],
   "source": [
    "# NOTES\n",
    "# Logical operators are used to check whether an expression is true or false, used in decision-making\n",
    "# and, or, not are the logical operators\n",
    "# and is true if both the operands are true (a and b) is False\n",
    "# or is true if either of the operands is true (a or b) is True\n",
    "# not is true if the operand is false not(a and b) is True\n",
    "\n",
    "# CODE\n",
    "a = 10 # Sets the value of a\n",
    "print('Is this statement true?:' ,a > 11 and a < 20) # Determines if the statement is true or not \n",
    "print('Are either of these statements true?:' ,a > 11 or a < 20) \n",
    "print('Is this statement false?:' ,not(a > 7 and a < 15)) \n",
    "print('Each statement is true then return false and vice versa:', not(a > 12 or a < 5)) \n"
   ]
  },
  {
   "cell_type": "markdown",
   "metadata": {},
   "source": [
    "### Identity Operators\n",
    "---"
   ]
  },
  {
   "cell_type": "code",
   "execution_count": null,
   "metadata": {},
   "outputs": [],
   "source": [
    "# NOTES\n",
    "# Identify operators are used to compare the objects, not if they are equal, but if they are actually the same object, with the same memory location\n",
    "# 'is' and 'is not' are the identity operators\n",
    "# 'is' evaluates to true if the variables on either side of the operator point to the same object and false otherwise; x is y, here 'is' results in True if id(x) equals id(y)\n",
    "# 'is not' evaluates to false if the variables on either side of the operator point to the same object and true otherwise; x is not y, here 'is not' results in True if id(x) is not equal to id(y)\n",
    "\n",
    "# CODE\n",
    "a = [\"lambo\", \"bmw\"] # sets the value of a\n",
    "b = [\"lambo\", \"bmw\"] # sets the value of b\n",
    "c = a # sets the value of c to the value of a\n",
    "print(a is c) # Determines if a 'is' c is' true or not\n",
    "print(a is not c) # Determines if a 'is not' c is true or not\n",
    "print(a is b) # Determines if a 'is' b is true or not\n",
    "print(a is not b) # Determines if a 'is not' b is true or not\n",
    "print (a == b)  # Determines if a is equal to b\n",
    "print (a != b)  # Determines if a is not equal to b"
   ]
  },
  {
   "cell_type": "markdown",
   "metadata": {},
   "source": [
    "### Membership Operators\n",
    "---"
   ]
  },
  {
   "cell_type": "code",
   "execution_count": null,
   "metadata": {},
   "outputs": [],
   "source": [
    "# NOTES\n",
    "# Membership operators are used to test whether a value or variable is found in a sequence (string, list, tuple, set, and dictionary)\n",
    "# 'in' and 'not in' are the membership operators\n",
    "# 'in' evaluates to true if it finds a variable in the specified sequence and false otherwise; x in y, here 'in' will result in True if x is a member of sequence y\n",
    "# 'not in' evaluates to true if it does not find a variable in the specified sequence and false otherwise; x not in y, here 'not in' will result in True if x is not a member of sequence y\n",
    "\n",
    "# CODE\n",
    "x = [\"lambo\", \"bmw\"] # sets the value of a\n",
    "print('Is value present?' , \"lambo\" in x) # Determines if the value is present in the list\n",
    "print('Is value not present?' , \"audi\" not in x) # Determines if the value is not present in the list\n",
    "\n",
    "x = \"Python is so fun\"\n",
    "y= {1:'a', 2:'b'}\n",
    "\n",
    "# Check if \"P\" as in the letter not a variable is present in the string\n",
    "print('P' in x) # Determines if the value is present in the string x this would result in a True as \"P\" is present in the word \"Python\"\n",
    "print('python' not in x) # Determines if the value is not present in the string x this would result in a True as \"python\" is not present in the word \"Python\" (remember python is case sensitive)\n",
    "print(1 in y) # Determines if the value is present in the dictionary y this would result in a True as 1 is present in the dictionary\n",
    "print('a' in y) # Determines if the value is present in the dictionary y this would result in a False as \"a\" is not present in the dictionary"
   ]
  },
  {
   "cell_type": "code",
   "execution_count": null,
   "metadata": {},
   "outputs": [
    {
     "name": "stdout",
     "output_type": "stream",
     "text": [
      "Hello World!\n",
      "['Hello', 'World!']\n",
      "HeXXo World!\n",
      "!dlroW olleH\n"
     ]
    }
   ],
   "source": [
    "s = \"Hello World!\"\n",
    "print(s)\n",
    "s_list = (s.split()) # Splits the string into a list\n",
    "print(s_list) # Prints the list\n",
    "s_list[0] = s_list[0].replace ('l', 'X') # Replaces the letter \"l\" with \"X\" in the first word of the list\n",
    "new_s = ' '.join(s_list) # Joins the list back into a string\n",
    "print(new_s) # Prints the new string\n",
    "s2 = \"Hello World!\"[::-1] # Reverses the string\n",
    "print(s2)\n",
    "\n",
    "\n"
   ]
  },
  {
   "cell_type": "code",
   "execution_count": null,
   "metadata": {},
   "outputs": [],
   "source": []
  }
 ],
 "metadata": {
  "kernelspec": {
   "display_name": "Python 3",
   "language": "python",
   "name": "python3"
  },
  "language_info": {
   "codemirror_mode": {
    "name": "ipython",
    "version": 3
   },
   "file_extension": ".py",
   "mimetype": "text/x-python",
   "name": "python",
   "nbconvert_exporter": "python",
   "pygments_lexer": "ipython3",
   "version": "3.12.0"
  }
 },
 "nbformat": 4,
 "nbformat_minor": 2
}
