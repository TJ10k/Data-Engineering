{
 "cells": [
  {
   "cell_type": "markdown",
   "metadata": {},
   "source": [
    "# Problem 1"
   ]
  },
  {
   "cell_type": "code",
   "execution_count": null,
   "metadata": {},
   "outputs": [
    {
     "name": "stdout",
     "output_type": "stream",
     "text": [
      "Y s\n"
     ]
    }
   ],
   "source": [
    "# Create a new string with the following sentence: “You learn more from failure than from success.\"\n",
    "# Use the 1st, 4th, and last character to create a new string.\n",
    "string = \"You learn more from failure than from success.\"\n",
    "new_string = string[0] + string[3] + string[-1]\n",
    "print(new_string)\n",
    "\n"
   ]
  },
  {
   "cell_type": "markdown",
   "metadata": {},
   "source": [
    "# Problem 2"
   ]
  },
  {
   "cell_type": "code",
   "execution_count": 13,
   "metadata": {},
   "outputs": [
    {
     "name": "stdout",
     "output_type": "stream",
     "text": [
      "You learn more from failure than from success!\n"
     ]
    }
   ],
   "source": [
    "# Use the replace() method to replace the \".\" with an \"!\"\n",
    "string = \"You learn more from failure than from success.\"\n",
    "new_string = string.replace('.', '!')\n",
    "print(new_string)"
   ]
  },
  {
   "cell_type": "markdown",
   "metadata": {},
   "source": [
    "# Prolem 3"
   ]
  },
  {
   "cell_type": "code",
   "execution_count": 14,
   "metadata": {},
   "outputs": [
    {
     "name": "stdout",
     "output_type": "stream",
     "text": [
      "“when you change your thoughts, remember to also change your world.”\n"
     ]
    }
   ],
   "source": [
    "# Use the string variable below and create a new variable that has all of the characters from the original string as lowercase charcters\n",
    "string= \"“WHEN YOU Change your thougHts, remember to ALSO change your world.”\"\n",
    "new_string = string.lower()\n",
    "print(new_string)\n",
    "\n",
    "\n",
    "\n"
   ]
  }
 ],
 "metadata": {
  "kernelspec": {
   "display_name": "Python 3",
   "language": "python",
   "name": "python3"
  },
  "language_info": {
   "codemirror_mode": {
    "name": "ipython",
    "version": 3
   },
   "file_extension": ".py",
   "mimetype": "text/x-python",
   "name": "python",
   "nbconvert_exporter": "python",
   "pygments_lexer": "ipython3",
   "version": "3.13.2"
  }
 },
 "nbformat": 4,
 "nbformat_minor": 2
}
