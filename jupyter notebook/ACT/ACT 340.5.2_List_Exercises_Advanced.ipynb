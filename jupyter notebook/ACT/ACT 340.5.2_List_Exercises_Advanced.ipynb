{
 "cells": [
  {
   "cell_type": "markdown",
   "metadata": {},
   "source": [
    "# List Excercises - Advanced"
   ]
  },
  {
   "cell_type": "markdown",
   "metadata": {},
   "source": [
    "### Problem 1\n",
    "Using the list below, use a Class method to add the string \"skirt\" to the end of the list."
   ]
  },
  {
   "cell_type": "code",
   "execution_count": 34,
   "metadata": {},
   "outputs": [
    {
     "name": "stdout",
     "output_type": "stream",
     "text": [
      "['socks', 'pants', 'shirt', 'polo', 'skirt']\n"
     ]
    }
   ],
   "source": [
    "clothing_items = ['socks', 'pants', 'shirt', 'polo']\n",
    "\n",
    "clothing_items.append(\"skirt\")\n",
    "\n",
    "print(clothing_items)"
   ]
  },
  {
   "cell_type": "markdown",
   "metadata": {},
   "source": [
    "### Problem 2\n",
    "Using the same list as above, add a list to the 2nd index that includes the following strings:\n",
    "\n",
    "'suit jacket', 'suit pants', 'tie', 'button down'\n"
   ]
  },
  {
   "cell_type": "code",
   "execution_count": 35,
   "metadata": {},
   "outputs": [
    {
     "name": "stdout",
     "output_type": "stream",
     "text": [
      "['socks', 'pants', ['suit jacket', 'suit pants', 'tie', 'button down'], 'shirt', 'polo', 'skirt']\n"
     ]
    }
   ],
   "source": [
    "clothing_items.insert(2,['suit jacket', 'suit pants', 'tie', 'button down'])\n",
    "print(clothing_items)"
   ]
  }
 ],
 "metadata": {
  "kernelspec": {
   "display_name": "Python 3",
   "language": "python",
   "name": "python3"
  },
  "language_info": {
   "codemirror_mode": {
    "name": "ipython",
    "version": 3
   },
   "file_extension": ".py",
   "mimetype": "text/x-python",
   "name": "python",
   "nbconvert_exporter": "python",
   "pygments_lexer": "ipython3",
   "version": "3.12.0"
  }
 },
 "nbformat": 4,
 "nbformat_minor": 2
}
