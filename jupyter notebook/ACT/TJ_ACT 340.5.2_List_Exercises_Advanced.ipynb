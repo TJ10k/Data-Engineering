{
 "cells": [
  {
   "cell_type": "markdown",
   "metadata": {},
   "source": [
    "# List Excercises - Advanced"
   ]
  },
  {
   "cell_type": "markdown",
   "metadata": {},
   "source": [
    "### Problem 1\n",
    "Using the list below, use a Class method to add the string \"skirt\" to the end of the list."
   ]
  },
  {
   "cell_type": "code",
   "execution_count": null,
   "metadata": {},
   "outputs": [],
   "source": [
    "clothing_items = ['socks', 'pants', 'shirt', 'polo']\n",
    "\n",
    "clothing_items.append(\"skirt\")\n",
    "\n",
    "print(clothing_items)"
   ]
  },
  {
   "cell_type": "markdown",
   "metadata": {},
   "source": [
    "### Problem 2\n",
    "Using the same list as above, add a list to the 2nd index that includes the following strings:\n",
    "\n",
    "'suit jacket', 'suit pants', 'tie', 'button down'\n"
   ]
  },
  {
   "cell_type": "code",
   "execution_count": null,
   "metadata": {},
   "outputs": [],
   "source": [
    "clothing_items.insert(2,['suit jacket', 'suit pants', 'tie', 'button down'])\n",
    "print(clothing_items)"
   ]
  },
  {
   "cell_type": "markdown",
   "metadata": {},
   "source": [
    "### Problem 3 \n",
    "Use the list below and use a Class method to get the total number of times the integer 14 appears in the list"
   ]
  },
  {
   "cell_type": "code",
   "execution_count": null,
   "metadata": {},
   "outputs": [],
   "source": [
    "nums= [2, 150, 14, 36, 78, 81, 14, 1000, 54, 14, 14]\n",
    "print(nums.count(14))"
   ]
  },
  {
   "cell_type": "markdown",
   "metadata": {},
   "source": [
    "### Problem 4\n",
    "Use the same list as above\n",
    "\n",
    "Use a built-in function to find the total of all the numbers in the list"
   ]
  },
  {
   "cell_type": "code",
   "execution_count": null,
   "metadata": {},
   "outputs": [],
   "source": [
    "nums= [2, 150, 14, 36, 78, 81, 14, 1000, 54, 14, 14]\n",
    "print(sum(nums)) # Prints the sum of all the numbers in the list\n",
    "print(len(nums)) # Prints how many numbers are in the list"
   ]
  },
  {
   "cell_type": "markdown",
   "metadata": {},
   "source": [
    "### Problem 5\n",
    "Use the same list as above\n",
    "\n",
    "Slice the list so that it is reversed without using the .reverse() method"
   ]
  },
  {
   "cell_type": "code",
   "execution_count": null,
   "metadata": {},
   "outputs": [],
   "source": [
    "nums= [2, 150, 14, 36, 78, 81, 14, 1000, 54, 14, 14]\n",
    "print(nums[::-1])"
   ]
  },
  {
   "cell_type": "markdown",
   "metadata": {},
   "source": [
    "### Problem 6\n",
    "Use the list below.\n",
    "\n",
    "Slice the list so only the last two elements are included in the slice."
   ]
  },
  {
   "cell_type": "code",
   "execution_count": null,
   "metadata": {},
   "outputs": [],
   "source": [
    "one_to_five= [1, 2, 3, 4, 5]\n",
    "print(one_to_five[3:5])\n",
    "# OR\n",
    "print(one_to_five[-2:])"
   ]
  },
  {
   "cell_type": "markdown",
   "metadata": {},
   "source": [
    "### Problem 7\n",
    "Use the list below\n",
    "\n",
    "Write a for loop so that every item in the list is printed\n"
   ]
  },
  {
   "cell_type": "code",
   "execution_count": null,
   "metadata": {},
   "outputs": [],
   "source": [
    "animals= [\"koala\", \"cat\", \"fox\", \"panda\", \"chipmunk\", \"sloth\"]\n",
    "\n",
    "for animal in animals:\n",
    "    print(animal)\n"
   ]
  },
  {
   "cell_type": "markdown",
   "metadata": {},
   "source": [
    "### Problem 8\n",
    "Use the list below\n",
    "\n",
    "Create a function that accepts a list as an argument\n",
    "\n",
    "Check if the data type at each index is a list\n",
    "\n",
    "If it is a list, check the length of the list. If it is greater than 3, add the second element to a new list.\n",
    "\n",
    "Return the new list"
   ]
  },
  {
   "cell_type": "code",
   "execution_count": null,
   "metadata": {},
   "outputs": [],
   "source": [
    "random_things= ['hello', ['breakfast', 'you', 'pencil', 2], 22, ['burrito', 'taco',],\n",
    "                [22, 'win', 33, [5], 'laptop']]\n",
    "\n",
    "def check_lists(random_things):\n",
    "    new_list = []\n",
    "    for item in random_things:\n",
    "        if isinstance(item, list): # check if each index is a list\n",
    "            if len(item) > 3:\n",
    "                new_list.append(item[1])\n",
    "    return new_list\n",
    "\n",
    "result = check_lists(random_things)\n",
    "print(result)"
   ]
  },
  {
   "cell_type": "markdown",
   "metadata": {},
   "source": [
    "### Problem 9 \n",
    "Use the list below\n",
    "\n",
    "Create a new list\n",
    "\n",
    "Use a for loop and the append() method to append each item with a Dr. prefix to the new list."
   ]
  },
  {
   "cell_type": "code",
   "execution_count": 48,
   "metadata": {},
   "outputs": [
    {
     "name": "stdout",
     "output_type": "stream",
     "text": [
      "['Dr.Dre', 'Dr.Suess', 'Dr.Who', 'Dr.McCoy']\n"
     ]
    }
   ],
   "source": [
    "names = ['Dre', 'Suess', 'Who', 'McCoy']\n",
    "Doctors = []\n",
    "for name in names:\n",
    "    Doctors.append('Dr.' +name)\n",
    "print(Doctors)"
   ]
  },
  {
   "cell_type": "markdown",
   "metadata": {},
   "source": [
    "# Problem 10\n",
    "Use the list below\n",
    "\n",
    "Use a while loop, iterate through the list and if there is an integer 100, print a message that says what index the 100 is at\n",
    "\n",
    "Example: \"There is a 100 at index no: 5\""
   ]
  },
  {
   "cell_type": "code",
   "execution_count": 50,
   "metadata": {},
   "outputs": [
    {
     "name": "stdout",
     "output_type": "stream",
     "text": [
      "There is a 100 at index no: 7\n"
     ]
    }
   ],
   "source": [
    "num2= [10, 99, 85, 76, 43, 2, 77, 100, 13, 12, 42, 99, -1, -100]\n",
    "index = 0\n",
    "while index < len(num2):\n",
    "    if num2[index] == 100:\n",
    "        print(f'There is a 100 at index no: {index}')\n",
    "    index += 1\n",
    "    \n",
    "\n",
    "\n",
    "     "
   ]
  },
  {
   "cell_type": "markdown",
   "metadata": {},
   "source": [
    "###  Problem 11\n",
    "Use the list below\n",
    "\n",
    "Create a new list\n",
    "\n",
    "Use a for loop or a whole loop to iterate through the list and append all the elements in the old list, to the new list UNLESS the element is an empty string\n",
    "\n"
   ]
  },
  {
   "cell_type": "code",
   "execution_count": 81,
   "metadata": {},
   "outputs": [
    {
     "name": "stdout",
     "output_type": "stream",
     "text": [
      "[\"McDonald's\", \"Wendy's\", 'Burger King', 'Taco Bell']\n"
     ]
    }
   ],
   "source": [
    "list1 = [\"McDonald's\", \"Wendy's\", \"\", \"Burger King\", \"\", \"Taco Bell\"]\n",
    "list2 = [\"WingStop\"]\n",
    "new_list = []\n",
    "for i in list1:\n",
    "    if i:\n",
    "        new_list.append(i)\n",
    "print(new_list)\n"
   ]
  }
 ],
 "metadata": {
  "kernelspec": {
   "display_name": "Python 3",
   "language": "python",
   "name": "python3"
  },
  "language_info": {
   "codemirror_mode": {
    "name": "ipython",
    "version": 3
   },
   "file_extension": ".py",
   "mimetype": "text/x-python",
   "name": "python",
   "nbconvert_exporter": "python",
   "pygments_lexer": "ipython3",
   "version": "3.12.0"
  }
 },
 "nbformat": 4,
 "nbformat_minor": 2
}
