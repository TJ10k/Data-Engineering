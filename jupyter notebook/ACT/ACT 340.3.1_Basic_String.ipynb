{
 "cells": [
  {
   "cell_type": "markdown",
   "metadata": {},
   "source": [
    "# Problem 1"
   ]
  },
  {
   "cell_type": "code",
   "execution_count": null,
   "metadata": {},
   "outputs": [
    {
     "name": "stdout",
     "output_type": "stream",
     "text": [
      "Everything is an Object in Python!!!\n",
      "EVERYTHING IS AN OBJECT IN PYTHON!!!\n",
      "everything is an object in python!!!\n",
      "Everything is an object in python!!!\n",
      "Timothy Pluimer\n",
      "Hello, Timothy Pluimer\n",
      " Buzz Lightyear\n",
      "Buzz Lightyear \n",
      "Buzz Lightyear\n"
     ]
    }
   ],
   "source": [
    "# Use the following string to practice the string methods below: \"Everything is an Object in Python!!!\" \n",
    "# Convert the entire string to uppercase word.upper\n",
    "# Convert the entire string to lowercase word.lower\n",
    "# Convert only the first letter to uppercase wprd.capitalize\n",
    "\n",
    "string = \"Everything is an Object in Python!!!\"\n",
    "print(string)\n",
    "print(string.upper())\n",
    "print(string.lower())\n",
    "print(string.capitalize())\n",
    "\n",
    "# Using Variables in Strings\n",
    "# We do this using f-strings \"variable3 = f{variable1} {variable2}\" you would then print this using print(variabe)\n",
    "\n",
    "first_name = 'Timothy'\n",
    "last_name = 'Pluimer'\n",
    "full_name = f\"{first_name} {last_name}\"\n",
    "\n",
    "print(full_name)\n",
    "\n",
    "# We can also use our string methods inside of our f-strings\n",
    "\n",
    "print(f'Hello, {full_name.title()}') #.title() converts the first character of each word to upper case\n",
    "\n",
    "# Stripping Whitespace\n",
    "\n",
    "phrase = ' Buzz Lightyear '\n",
    "\n",
    "print(phrase.rstrip()) # Strips whitespace to the right\n",
    "print(phrase.lstrip()) # Strips whitespace to the left\n",
    "print(phrase.strip()) # Strips all whitespace\n",
    "# A real-world scenario removing whitespace is to clean the values from user input or from data set\n"
   ]
  },
  {
   "cell_type": "markdown",
   "metadata": {},
   "source": [
    "# Problem 2"
   ]
  },
  {
   "cell_type": "code",
   "execution_count": 25,
   "metadata": {},
   "outputs": [
    {
     "name": "stdout",
     "output_type": "stream",
     "text": [
      "Playboi Carti once said, What you don’t know, it won’t hurt.\n",
      "Playboi Carti once said, What you don’t know, it won’t hurt.\n",
      "a\n",
      " \n",
      "r\n",
      "We \n",
      "elv \n",
      "nhy \n",
      "nohtyP evol eW\n"
     ]
    }
   ],
   "source": [
    "# Find a short quote and its author. Assign the quote to a variable and assign the name of the author to another variable.\n",
    "# Use fstring to create a new variable called message the replicates the following format: \"Michael Scott once said, \"I'm not superstitious but I am a little stitious.\"\n",
    "\n",
    "Famous = 'Playboi Carti'\n",
    "Quote = 'What you don’t know, it won’t hurt.'\n",
    "\n",
    "print(f'{Famous} once said, {Quote}')\n",
    "print(\"{} once said, {}\".format(Famous,Quote))\n",
    "\n",
    "# String Indexing and Slicing\n",
    "# Beacause a string is a sequence it can be accessed in the same ways that other sequence based data types are this is called indexing and slicing\n",
    "\n",
    "course = 'Data Engineering'\n",
    "\n",
    "print(course[1])\n",
    "print(course[4])\n",
    "print(course[-4]) # negative integers start from the right at -1 so this outputs \"r\"\n",
    "\n",
    "# Now we use index to slice\n",
    "# Syntax: string[start:end:step]\n",
    "# start: we provide the starting index\n",
    "# end: We provide the end index (this is not included in substring)\n",
    "# step: it is an optional argument that determines the increment between each index for slicing\n",
    "\n",
    "string = 'We love Python'\n",
    "\n",
    "print(string[:3]) # remember index starts on the left at 0 so 3 would be 'l'\n",
    "print(string[1: 8: 2]) # starts at index 1 and ends at index 8 but skips over every 2\n",
    "print(string[-1: -8: -2])\n",
    "print(string[::-1])"
   ]
  },
  {
   "cell_type": "markdown",
   "metadata": {},
   "source": [
    "# Problem 3"
   ]
  },
  {
   "cell_type": "code",
   "execution_count": 42,
   "metadata": {},
   "outputs": [
    {
     "name": "stdout",
     "output_type": "stream",
     "text": [
      "*cisum maI\n",
      "*\n",
      "Immsc\n",
      "10\n",
      "m\n",
      "music\n",
      "ic*\n"
     ]
    }
   ],
   "source": [
    "# Create a string to practice indexing and slicing on.\n",
    "# Include at least on whitespace, Include at least one special charachter, Must have a length of at least 10\n",
    "\n",
    "string = 'Iam music*'\n",
    "\n",
    "# Reverse the entire string\n",
    "print(string[::-1])\n",
    "\n",
    "# Get the last character of the string\n",
    "print(string[9])\n",
    "\n",
    "# Get every other character in the string\n",
    "print(string [::2])\n",
    "\n",
    "# check the length of the string\n",
    "print(len(string))\n",
    "\n",
    "# Get the 4th character in the string\n",
    "print(string[4])\n",
    "\n",
    "# Get the 4th through the 9th character in the string\n",
    "print(string[4:9])\n",
    "\n",
    "# Get the 7th through the last character in the string\n",
    "print(string[7:10])"
   ]
  }
 ],
 "metadata": {
  "kernelspec": {
   "display_name": "Python 3",
   "language": "python",
   "name": "python3"
  },
  "language_info": {
   "codemirror_mode": {
    "name": "ipython",
    "version": 3
   },
   "file_extension": ".py",
   "mimetype": "text/x-python",
   "name": "python",
   "nbconvert_exporter": "python",
   "pygments_lexer": "ipython3",
   "version": "3.12.0"
  }
 },
 "nbformat": 4,
 "nbformat_minor": 2
}
