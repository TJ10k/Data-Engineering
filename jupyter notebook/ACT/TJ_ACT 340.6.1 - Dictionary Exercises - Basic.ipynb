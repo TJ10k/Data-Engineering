{
 "cells": [
  {
   "cell_type": "markdown",
   "metadata": {},
   "source": [
    "# Dictionary Exercises - Basic"
   ]
  },
  {
   "cell_type": "markdown",
   "metadata": {},
   "source": [
    "# Problem 1"
   ]
  },
  {
   "cell_type": "code",
   "execution_count": null,
   "metadata": {},
   "outputs": [
    {
     "data": {
      "text/plain": [
       "'Reese'"
      ]
     },
     "execution_count": 58,
     "metadata": {},
     "output_type": "execute_result"
    }
   ],
   "source": [
    "# Creating a Dictionary there are 2 ways heres the first way\n",
    "objects = { \n",
    "    'Los Angeles': 'California', \n",
    "    'Albany': ['New York', 'Florida', 'Georgia'], # Wanted to do some testing with adding multiple values to a single key\n",
    "    'Honolulu': 'Hawaii', \n",
    "    'Juneau': 'Alaska', \n",
    "    'Austin': 'Texas'\n",
    "}\n",
    "type(objects)\n",
    "objects['Albany'] # A value is retrieved from a dictionary by specifying its corresponding key in square brackets var_name[key_name].\n",
    " # The second way\n",
    "objects2 = dict([\n",
    "    ('Candy', 'Reese'),\n",
    "    ('Movie', 'Scream'),\n",
    "    ('Hobby', 'Skateboard'),\n",
    "    ])\n",
    "objects2['Candy'] \n"
   ]
  },
  {
   "cell_type": "code",
   "execution_count": 64,
   "metadata": {},
   "outputs": [
    {
     "data": {
      "text/plain": [
       "{2: 'Two', 3: 'Three', 4: 'Four', 5: 'Five', 6: 'Six'}"
      ]
     },
     "execution_count": 64,
     "metadata": {},
     "output_type": "execute_result"
    }
   ],
   "source": [
    "numbers= dict([\n",
    "    (1, 'One'),\n",
    "    (2, 'Two'),\n",
    "    (3, 'Three'),\n",
    "    (4, 'Four'),\n",
    "    (5, 'Five')\n",
    "])\n",
    "\n",
    "numbers[1]\n",
    "# Adding an entry to an existing dictionary is simply a matter of assigning a new key and value:\n",
    "numbers[6] = 'Six'\n",
    "numbers\n",
    "\n",
    "# If you want to update an entry, you can just assign a new value to an existing key.\n",
    "numbers[1] = 1\n",
    "numbers\n",
    "\n",
    "# To delete an entry, use the del statement, specifying the key to delete:\n",
    "del numbers[1]\n",
    "numbers"
   ]
  },
  {
   "cell_type": "markdown",
   "metadata": {},
   "source": [
    "# Problem 2\n",
    "Use a dictionary object from Problem 1 to complete the following:\n",
    "\n",
    "retrieve the value for the key 'California'\n",
    "\n",
    "Add the State: Capital pair for Florida to the dictionary\n",
    "\n",
    "Update the capital of California to 'Sacremento'\n",
    "\n",
    "Delete Alaska from the Dictionary"
   ]
  },
  {
   "cell_type": "code",
   "execution_count": null,
   "metadata": {},
   "outputs": [
    {
     "data": {
      "text/plain": [
       "{'California': 'Sacremento',\n",
       " 'New York': 'Albany',\n",
       " 'Hawaii': 'Honolulu',\n",
       " 'Texas': 'Austin',\n",
       " 'Florida': 'Tallahassee'}"
      ]
     },
     "execution_count": 74,
     "metadata": {},
     "output_type": "execute_result"
    }
   ],
   "source": [
    "objects = { \n",
    "    'California': 'Los Angeles', \n",
    "    'New York': 'Albany',\n",
    "    'Hawaii': 'Honolulu', \n",
    "    'Alaska': 'Juneau', \n",
    "    'Texas': 'Austin'\n",
    "}\n",
    "objects['California'] # Retrieves the value for the key 'California'\n",
    "objects['Florida'] = 'Tallahassee' # Adds the state and capital pair to the dictionary\n",
    "objects['California'] = 'Sacremento' # Updates the existing Value\n",
    "del objects['Alaska'] # Deletes the 'Alaska' key from the dictionary\n",
    "objects"
   ]
  },
  {
   "cell_type": "markdown",
   "metadata": {},
   "source": [
    "# Dictionary Methods\n"
   ]
  },
  {
   "cell_type": "code",
   "execution_count": null,
   "metadata": {},
   "outputs": [],
   "source": [
    "# We will use the dictionary below for the examples in this section.\n",
    "grocery_list= {'fruits': ['apples', 'blueberries', 'strawberries'],\n",
    "               'vegetables': ['broccoli', 'cauliflower'], 'meat': 'chicken'}\n",
    "\n",
    "# The .get() method searches the dictionary for 'key' and returns the associated value if it is found. \n",
    "# if 'key' is not found it returns None\n",
    "print(grocery_list.get('fruits'))\n",
    "print(grocery_list.get('dairy'))\n",
    "\n",
    "# The .items() method returns a view object of a list of tuples containing the key-value pairs\n",
    "# The first item in each tuple is the key, and the second item is the key's value.\n",
    "grocery_list.items()\n",
    "# We can wrap this item in a list, to access each tuple using indexes\n",
    "print(list(grocery_list.items())[1][0])\n",
    "print(list(grocery_list.items())[1][1])\n",
    "print(list(grocery_list.items())[1][1][0])\n",
    "\n",
    "# The .keys() method returns a view ovject of all keys in a dictionary\n",
    "# We can turn it into a list object to fully utilize the method\n",
    "print(grocery_list.keys())\n",
    "print(list(grocery_list.keys()))\n",
    "\n",
    "# The .values() method returns a view object. The view object contains the values of the dictionary, as a list.\n",
    "print(grocery_list.values())\n",
    "print(list(grocery_list.values()))\n",
    "\n",
    "# The .pop() method of Python dictionary (dict) is used to remove the element from the dictionary by dict key and return the value related to the removed key\n",
    "# If a key does not exist in the dictionary and the default value is specified then returns the default value else throws a KeyError\n",
    "print(grocery_list.pop('meat'))\n",
    "print(grocery_list)\n",
    "\n",
    "# The .popitem() removes the last key-value pair added to a dictionary and returns it as a tuple\n",
    "print(grocery_list.popitem())\n",
    "print(grocery_list)"
   ]
  },
  {
   "cell_type": "markdown",
   "metadata": {},
   "source": [
    "# Looping through a Dictionary"
   ]
  },
  {
   "cell_type": "code",
   "execution_count": null,
   "metadata": {},
   "outputs": [],
   "source": [
    "fav_vgame= {'Andrea': 'Stardew Valley',\n",
    "            'Bill': 'Super Smash Bros',\n",
    "            'Tom': 'God of War',\n",
    "            'Jose': 'Hogwarts Legacy',\n",
    "            'Mina': 'Pokemon Gold'}\n",
    "\n",
    "for key in fav_vgame: # Without adding any methods to our Dictionary the default is to loop through the keys of our Dictionary\n",
    "    print(key)\n",
    "print('\\n') # Line Break\n",
    "\n",
    "# If we would like to to be more explicit in our code. We can add the .keys method to our Dictionary object to produce the same results\n",
    "for key in fav_vgame.keys(): \n",
    "    print(key.lower()) # Makes each key lowercase\n",
    "print('\\n') # Line Break\n",
    "\n",
    "# If we wanted to loop through our keys in a particular order vs the order our dictionary was created, we can use the built-in sorted() function\n",
    "for key in sorted(fav_vgame):\n",
    "    print(key)\n",
    "\n",
    "# We can loop through just the values of a Dictionary by using the .values() method\n",
    "for values in fav_vgame.values():\n",
    "    print(values)\n",
    "\n",
    "# To loop through both the keys and values in a dictionary we need two iterators and can use the .items() method\n",
    "for key, value in fav_vgame.items():\n",
    "    print(f'\\nKey: {key}')\n",
    "    print(f'\\nValue: {value}')\n"
   ]
  },
  {
   "cell_type": "markdown",
   "metadata": {},
   "source": [
    "# Problem 3"
   ]
  },
  {
   "cell_type": "code",
   "execution_count": null,
   "metadata": {},
   "outputs": [],
   "source": [
    "playlist = {'Playboi Carti': 'Like Weezy',\n",
    "            'Kodak Black': 'Transportin',\n",
    "            'Ian': 'Never Stop',\n",
    "            'Lil Tecca': 'Dark Thoughts',\n",
    "            'PND': 'Dreamin',\n",
    "            'Gunna':'Jump'}\n",
    "for key in playlist.keys(): # Prints all the artists in the playlist\n",
    "    print(key)\n",
    "\n",
    "for songs in playlist.values(): # Prints all the songs in the playlist\n",
    "    print(songs)\n",
    "\n",
    "for artist, song in playlist.items():\n",
    "    print(f\"{song} by {artist} is in the current playlist\") # Prints an F string to display songs an artists\n",
    "\n",
    "del playlist['Gunna'] # Deletes our last key:value pair \n",
    "\n",
    "playlist[\"Taylor Swift\"] = \"Anti-Hero\" # Adds this to our Dictionary\n",
    "\n",
    "playlist['PND'] = 'Dreamin REMIX' # Updates our Value from the key 'PND'\n",
    "\n",
    "def prints_artists_and_songs(playlist):\n",
    "    for artist, songs in playlist.items():\n",
    "        print(f\"Artist: {artist}\")\n",
    "        print(f\"Song: {songs}\")\n",
    "        print()\n",
    "prints_artists_and_songs(playlist)\n"
   ]
  }
 ],
 "metadata": {
  "kernelspec": {
   "display_name": "Python 3",
   "language": "python",
   "name": "python3"
  },
  "language_info": {
   "codemirror_mode": {
    "name": "ipython",
    "version": 3
   },
   "file_extension": ".py",
   "mimetype": "text/x-python",
   "name": "python",
   "nbconvert_exporter": "python",
   "pygments_lexer": "ipython3",
   "version": "3.12.0"
  }
 },
 "nbformat": 4,
 "nbformat_minor": 2
}
