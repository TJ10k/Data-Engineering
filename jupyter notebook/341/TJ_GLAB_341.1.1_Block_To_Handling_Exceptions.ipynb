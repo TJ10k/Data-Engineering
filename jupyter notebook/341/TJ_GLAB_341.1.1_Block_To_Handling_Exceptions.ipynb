{
 "cells": [
  {
   "cell_type": "markdown",
   "id": "9ec2278a",
   "metadata": {},
   "source": [
    "# Introduction\n",
    "Python uses try and except keywords to handle excpetions. Both keywords are followed by indented blocks."
   ]
  },
  {
   "cell_type": "code",
   "execution_count": 1,
   "id": "e12f923b",
   "metadata": {},
   "outputs": [
    {
     "data": {
      "text/plain": [
       "' try:\\n        statements in try block\\n    except:\\n        executed when error in try block '"
      ]
     },
     "execution_count": 1,
     "metadata": {},
     "output_type": "execute_result"
    }
   ],
   "source": [
    "''' try:\n",
    "        statements in try block\n",
    "    except:\n",
    "        executed when error in try block '''"
   ]
  },
  {
   "cell_type": "markdown",
   "id": "1d1f45f2",
   "metadata": {},
   "source": [
    "# Instructions\n",
    " we divide any number by zero, try block will throw ZeroDivisionError, so we should handle that exception in the except block. Now let’s see the example when we do not use try…except block for handling exceptions."
   ]
  },
  {
   "cell_type": "code",
   "execution_count": null,
   "id": "bd249290",
   "metadata": {},
   "outputs": [],
   "source": [
    "a = 10\n",
    "b = 0\n",
    "c = a / b\n",
    "# This line attempts to print the result of the division but since 'c' is not defined due to the ZeroDivisionError it will raise an error\n",
    "print(\"a/b = %d\" % c)\n"
   ]
  },
  {
   "cell_type": "code",
   "execution_count": null,
   "id": "ae49dfc6",
   "metadata": {},
   "outputs": [
    {
     "name": "stdout",
     "output_type": "stream",
     "text": [
      "Can't divide with zero. Provide a Different Number \n",
      "The answer of 2000 divided by 10 is: 200.0\n"
     ]
    }
   ],
   "source": [
    "# We can handle the avove exception using the try..except block\n",
    "try: \n",
    "    a = 10\n",
    "    b = 0\n",
    "    c = a/b\n",
    "    print(\"The answer of a divide by b:\", c) # Will execute this line of code if no error is raised\n",
    "except:\n",
    "    print(\"Can't divide with zero. Provide a Different Number \") # Will prompt the user to provide a different number if an error is raised\n",
    "\n",
    "# This line of code wont raise an error and will execute properly\n",
    "try: \n",
    "    a = 2000\n",
    "    b = 10\n",
    "    c = a/b\n",
    "    print(f\"The answer of {a} divided by {b} is:\", c) # Implementing an f string for versatility\n",
    "except:\n",
    "    print(\"Can't divide with zero. Provide a Different Number \") "
   ]
  },
  {
   "cell_type": "markdown",
   "id": "40b4c53f",
   "metadata": {},
   "source": [
    "# Catching Specific Exceptions\n",
    "In the above examples, the except block was used without specifying any particular exception. This means it would catch any exception that occurred within the try block. While this can be useful for basic error handling, it's generally considered bad practice.\n",
    "### Why Specificity Matters:\n",
    "Catching all exceptions indiscriminately can mask underlying issues and make debugging more difficult. Instead, it's crucial to be specific about the types of exceptions you anticipate and handle them individually.\n",
    "### How to Catch Specific Exceptions:\n",
    "To catch a specific exception, you simply name the exception type after the except keyword. For instance:\n"
   ]
  },
  {
   "cell_type": "code",
   "execution_count": null,
   "id": "fc30072c",
   "metadata": {},
   "outputs": [
    {
     "name": "stdout",
     "output_type": "stream",
     "text": [
      "Entered value is wrong\n"
     ]
    }
   ],
   "source": [
    "''' try: \n",
    "        code that might raise a ValueError\n",
    "    except:\n",
    "        Handle the ValueError specifically '''\n",
    "\n",
    "# In the following example, we will ask the user for the denominator value. If the user enters a number, the program will evaluate and produce the result.\n",
    "# If the user enters a non-numeric value, the try block will throw a ValueError exception\n",
    "# And we can catch that using a first catch block ‘except ValueError’ by printing the message ‘Entered value is wrong’\n",
    "# And suppose the user enters the denominator as zero. In that case, the try block will throw a ZeroDivisionError\n",
    "# We can catch that using a second catch block by printing the message 'Can't divide by zero;\n",
    "\n",
    "try: \n",
    "    a = int(input(\"Enter value of a:\"))\n",
    "    b = int(input(\"Enter value of b:\"))\n",
    "    c = a/b\n",
    "    print(f\"The answer of {a} divided by {b} is: {c}\")\n",
    "except ValueError:\n",
    "    print(\"Entered value is wrong\")\n",
    "except ZeroDivisionError:\n",
    "    print(\"Can't divide by zero\")\n",
    "\n",
    "\n"
   ]
  }
 ],
 "metadata": {
  "kernelspec": {
   "display_name": "Python 3",
   "language": "python",
   "name": "python3"
  },
  "language_info": {
   "codemirror_mode": {
    "name": "ipython",
    "version": 3
   },
   "file_extension": ".py",
   "mimetype": "text/x-python",
   "name": "python",
   "nbconvert_exporter": "python",
   "pygments_lexer": "ipython3",
   "version": "3.12.0"
  }
 },
 "nbformat": 4,
 "nbformat_minor": 5
}
