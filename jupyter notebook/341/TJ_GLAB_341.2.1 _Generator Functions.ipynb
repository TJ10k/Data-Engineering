{
 "cells": [
  {
   "cell_type": "markdown",
   "metadata": {},
   "source": [
    "# Python - Generator Functions"
   ]
  },
  {
   "cell_type": "markdown",
   "metadata": {},
   "source": [
    "Python provides a generator to create your own iterator function. A generator is a special type of function which does not return a single value, instead, \n",
    "\n",
    "it returns an iterator object with a sequence of values. In a generator function, a yield statement is used rather than a return statement. \n",
    "\n",
    "The following is a simple generator function.\n"
   ]
  },
  {
   "cell_type": "code",
   "execution_count": 11,
   "metadata": {},
   "outputs": [],
   "source": [
    "def MyGenerator():\n",
    "    # Print and yield the first item\n",
    "    print('First Item:')\n",
    "    yield 10\n",
    "\n",
    "    # Print and yield the second item\n",
    "    print('Second Item:')\n",
    "    yield 20\n",
    "\n",
    "    # Print and yield the third item\n",
    "    print('Third Item:')\n",
    "    yield 30\n"
   ]
  },
  {
   "cell_type": "markdown",
   "metadata": {},
   "source": [
    "\n",
    "In the above example, the mygenerator() function is a generator function. \n",
    "\n",
    "It uses yield instead of return keyword. So, this will return the value against the yield keyword each time it is called. \n",
    "\n",
    "However, you need to create an iterator for this function, as shown below."
   ]
  },
  {
   "cell_type": "code",
   "execution_count": 15,
   "metadata": {},
   "outputs": [
    {
     "name": "stdout",
     "output_type": "stream",
     "text": [
      "First Item:\n",
      "10\n",
      "Second Item:\n",
      "20\n",
      "Third Item:\n",
      "30\n"
     ]
    }
   ],
   "source": [
    "# Example: next()\n",
    "# Create a generator object from MyGenerator\n",
    "gen = MyGenerator()\n",
    "\n",
    "# Get the first value from the generator and print it\n",
    "val = next(gen) \n",
    "print(val)\n",
    "\n",
    "# Get the second value from the generator and print it\n",
    "val = next(gen)\n",
    "print(val)\n",
    "\n",
    "# Attempt to get the next value handle StopIteration if no more items\n",
    "try:\n",
    "    val = next(gen)\n",
    "    print(val)\n",
    "except StopIteration:\n",
    "    print(\"No more items\")"
   ]
  },
  {
   "cell_type": "markdown",
   "metadata": {},
   "source": [
    "The generator function cannot include the return keyword. If you include it, then it will terminate the function. \n",
    "\n",
    "The difference between yield and return is that yield returns a value and pauses the execution while maintaining the internal states,\n",
    "\n",
    "whereas the return statement returns a value and terminates the execution of the function.\n",
    "\n",
    "The following generator function includes the return keyword."
   ]
  },
  {
   "cell_type": "code",
   "execution_count": 16,
   "metadata": {},
   "outputs": [],
   "source": [
    "# Example: return in Generator Function\n",
    "def mygenerator():\n",
    "    # Print and yield the first item\n",
    "    print('First item')\n",
    "    yield 10\n",
    "\n",
    "    # Return statement terminates the generator function\n",
    "    return\n",
    "\n",
    "    # The following code will not execute due to the return statement above\n",
    "    print('Second item')\n",
    "    yield 20\n",
    "\n",
    "    print('Last item')\n",
    "    yield 30"
   ]
  },
  {
   "cell_type": "code",
   "execution_count": 19,
   "metadata": {},
   "outputs": [
    {
     "name": "stdout",
     "output_type": "stream",
     "text": [
      "First item\n",
      "10\n"
     ]
    },
    {
     "ename": "StopIteration",
     "evalue": "",
     "output_type": "error",
     "traceback": [
      "\u001b[31m---------------------------------------------------------------------------\u001b[39m",
      "\u001b[31mStopIteration\u001b[39m                             Traceback (most recent call last)",
      "\u001b[36mCell\u001b[39m\u001b[36m \u001b[39m\u001b[32mIn[19]\u001b[39m\u001b[32m, line 6\u001b[39m\n\u001b[32m      4\u001b[39m val = \u001b[38;5;28mnext\u001b[39m(gen) \u001b[38;5;66;03m#First item\u001b[39;00m\n\u001b[32m      5\u001b[39m \u001b[38;5;28mprint\u001b[39m(val) \u001b[38;5;66;03m#10\u001b[39;00m\n\u001b[32m----> \u001b[39m\u001b[32m6\u001b[39m val = \u001b[38;5;28;43mnext\u001b[39;49m\u001b[43m(\u001b[49m\u001b[43mgen\u001b[49m\u001b[43m)\u001b[49m\n\u001b[32m      7\u001b[39m \u001b[38;5;28mprint\u001b[39m(val) \u001b[38;5;66;03m#error\u001b[39;00m\n\u001b[32m      8\u001b[39m \u001b[38;5;66;03m#  As you can see, \u001b[39;00m\n\u001b[32m      9\u001b[39m \u001b[38;5;66;03m# the above generator stops executing after getting the first item because the return keyword is used after yielding the first item.\u001b[39;00m\n",
      "\u001b[31mStopIteration\u001b[39m: "
     ]
    }
   ],
   "source": [
    "# Now, execute the above function as shown below.\n",
    "# Example: Generator Function\n",
    "gen = mygenerator()\n",
    "val = next(gen) #First item\n",
    "print(val) #10\n",
    "val = next(gen)\n",
    "print(val) #error\n",
    "#  As you can see, \n",
    "# the above generator stops executing after getting the first item because the return keyword is used after yielding the first item."
   ]
  }
 ],
 "metadata": {
  "kernelspec": {
   "display_name": "Python 3",
   "language": "python",
   "name": "python3"
  },
  "language_info": {
   "codemirror_mode": {
    "name": "ipython",
    "version": 3
   },
   "file_extension": ".py",
   "mimetype": "text/x-python",
   "name": "python",
   "nbconvert_exporter": "python",
   "pygments_lexer": "ipython3",
   "version": "3.13.2"
  }
 },
 "nbformat": 4,
 "nbformat_minor": 2
}
