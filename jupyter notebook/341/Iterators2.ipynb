{
  "cells": [
    {
      "cell_type": "markdown",
      "metadata": {
        "id": "u4zliyMoXJ0d"
      },
      "source": [
        "<!--BOOK_INFORMATION-->\n",
        "<img align=\"left\" style=\"padding-right:10px;\" src=\"https://github.com/jakevdp/WhirlwindTourOfPython/blob/master/fig/cover-small.jpg?raw=1\">\n",
        "*This notebook contains an excerpt from the [Whirlwind Tour of Python](http://www.oreilly.com/programming/free/a-whirlwind-tour-of-python.csp) by Jake VanderPlas; the content is available [on GitHub](https://github.com/jakevdp/WhirlwindTourOfPython).*\n",
        "\n",
        "*The text and code are released under the [CC0](https://github.com/jakevdp/WhirlwindTourOfPython/blob/master/LICENSE) license; see also the companion project, the [Python Data Science Handbook](https://github.com/jakevdp/PythonDataScienceHandbook).*\n"
      ]
    },
    {
      "cell_type": "markdown",
      "metadata": {
        "id": "fDs8iDB9XJ0i"
      },
      "source": [
        "<!--NAVIGATION-->\n",
        "< [Errors and Exceptions](09-Errors-and-Exceptions.ipynb) | [Contents](Index.ipynb) | [List Comprehensions](11-List-Comprehensions.ipynb) >"
      ]
    },
    {
      "cell_type": "markdown",
      "metadata": {
        "id": "OPgUZfi4XJ0k"
      },
      "source": [
        "# Iterators"
      ]
    },
    {
      "cell_type": "markdown",
      "metadata": {
        "id": "TD4VuQsHXJ0k"
      },
      "source": [
        "Often an important piece of data analysis is repeating a similar calculation, over and over, in an automated fashion.\n",
        "For example, you may have a table of a names that you'd like to split into first and last, or perhaps of dates that you'd like to convert to some standard format.\n",
        "One of Python's answers to this is the *iterator* syntax.\n",
        "We've seen this already with the ``range`` iterator:"
      ]
    },
    {
      "cell_type": "code",
      "execution_count": null,
      "metadata": {
        "id": "kXHzcTbHXJ0l",
        "outputId": "7f956bce-2eb4-4039-fb53-e80805628d58"
      },
      "outputs": [
        {
          "name": "stdout",
          "output_type": "stream",
          "text": [
            "0 1 2 3 4 5 6 7 8 9 "
          ]
        }
      ],
      "source": [
        "for i in range(10):\n",
        "    print(i, end=' ')"
      ]
    },
    {
      "cell_type": "markdown",
      "metadata": {
        "id": "EIdqGjgRXJ0m"
      },
      "source": [
        "Here we're going to dig a bit deeper.\n",
        "It turns out that in Python 3, ``range`` is not a list, but is something called an *iterator*, and learning how it works is key to understanding a wide class of very useful Python functionality."
      ]
    },
    {
      "cell_type": "markdown",
      "metadata": {
        "id": "sqBp33_qXJ0n"
      },
      "source": [
        "## Iterating over lists\n",
        "Iterators are perhaps most easily understood in the concrete case of iterating through a list.\n",
        "Consider the following:"
      ]
    },
    {
      "cell_type": "code",
      "execution_count": null,
      "metadata": {
        "id": "IZrNcmOdXJ0o",
        "outputId": "1bbf5f38-ab87-4274-cc39-4b804c22354a"
      },
      "outputs": [
        {
          "name": "stdout",
          "output_type": "stream",
          "text": [
            "3 5 7 9 11 "
          ]
        }
      ],
      "source": [
        "for value in [2, 4, 6, 8, 10]:\n",
        "    # do some operation\n",
        "    print(value + 1, end=' ')"
      ]
    },
    {
      "cell_type": "markdown",
      "metadata": {
        "id": "4YjXKumsXJ0p"
      },
      "source": [
        "The familiar \"``for x in y``\" syntax allows us to repeat some operation for each value in the list.\n",
        "The fact that the syntax of the code is so close to its English description (\"*for [each] value in [the] list*\") is just one of the syntactic choices that makes Python such an intuitive language to learn and use.\n",
        "\n",
        "But the face-value behavior is not what's *really* happening.\n",
        "When you write something like \"``for val in L``\", the Python interpreter checks whether it has an *iterator* interface, which you can check yourself with the built-in ``iter`` function:"
      ]
    },
    {
      "cell_type": "code",
      "execution_count": null,
      "metadata": {
        "id": "tLRBPxn9XJ0q",
        "outputId": "802c7292-bad8-4a75-b25b-c6fa1a9c6b95"
      },
      "outputs": [
        {
          "data": {
            "text/plain": [
              "<list_iterator at 0x104722400>"
            ]
          },
          "execution_count": 3,
          "metadata": {},
          "output_type": "execute_result"
        }
      ],
      "source": [
        "iter([2, 4, 6, 8, 10])"
      ]
    },
    {
      "cell_type": "markdown",
      "metadata": {
        "id": "nPUhr7udXJ0r"
      },
      "source": [
        "It is this iterator object that provides the functionality required by the ``for`` loop.\n",
        "The ``iter`` object is a container that gives you access to the next object for as long as it's valid, which can be seen with the built-in function ``next``:"
      ]
    },
    {
      "cell_type": "code",
      "execution_count": null,
      "metadata": {
        "collapsed": true,
        "id": "gUELFSUsXJ0r"
      },
      "outputs": [],
      "source": [
        "I = iter([2, 4, 6, 8, 10])"
      ]
    },
    {
      "cell_type": "code",
      "execution_count": null,
      "metadata": {
        "id": "4AuQtvAIXJ0s",
        "outputId": "d28044e7-c8ac-44b8-8c92-58a17a6622a7"
      },
      "outputs": [
        {
          "name": "stdout",
          "output_type": "stream",
          "text": [
            "2\n"
          ]
        }
      ],
      "source": [
        "print(next(I))"
      ]
    },
    {
      "cell_type": "code",
      "execution_count": null,
      "metadata": {
        "id": "1ziuUGr_XJ0s",
        "outputId": "9621c854-3c54-45dc-8d5d-7804ef9c6417"
      },
      "outputs": [
        {
          "name": "stdout",
          "output_type": "stream",
          "text": [
            "4\n"
          ]
        }
      ],
      "source": [
        "print(next(I))"
      ]
    },
    {
      "cell_type": "code",
      "execution_count": null,
      "metadata": {
        "id": "m6q9g4vbXJ0t",
        "outputId": "3a02bb44-93b2-43bc-f0f4-8117b5d84c88"
      },
      "outputs": [
        {
          "name": "stdout",
          "output_type": "stream",
          "text": [
            "6\n"
          ]
        }
      ],
      "source": [
        "print(next(I))"
      ]
    },
    {
      "cell_type": "markdown",
      "metadata": {
        "id": "wpTLnPaqXJ0t"
      },
      "source": [
        "What is the purpose of this level of indirection?\n",
        "Well, it turns out this is incredibly useful, because it allows Python to treat things as lists that are *not actually lists*."
      ]
    },
    {
      "cell_type": "markdown",
      "metadata": {
        "id": "HKDoSRcaXJ0t"
      },
      "source": [
        "## ``range()``: A List Is Not Always a List\n",
        "Perhaps the most common example of this indirect iteration is the ``range()`` function in Python 3 (named ``xrange()`` in Python 2), which returns not a list, but a special ``range()`` object:"
      ]
    },
    {
      "cell_type": "code",
      "execution_count": null,
      "metadata": {
        "id": "lXU6jG04XJ0t",
        "outputId": "a45267fa-d7bb-4f86-fed7-4af8ebf2faec"
      },
      "outputs": [
        {
          "data": {
            "text/plain": [
              "range(0, 10)"
            ]
          },
          "execution_count": 8,
          "metadata": {},
          "output_type": "execute_result"
        }
      ],
      "source": [
        "range(10)"
      ]
    },
    {
      "cell_type": "markdown",
      "metadata": {
        "id": "wvr5h0JDXJ0t"
      },
      "source": [
        "``range``, like a list, exposes an iterator:"
      ]
    },
    {
      "cell_type": "code",
      "execution_count": null,
      "metadata": {
        "id": "VBCAj4B6XJ0t",
        "outputId": "e24b54f9-cc3c-417a-de84-32ecaf8fcb8d"
      },
      "outputs": [
        {
          "data": {
            "text/plain": [
              "<range_iterator at 0x1045a1810>"
            ]
          },
          "execution_count": 9,
          "metadata": {},
          "output_type": "execute_result"
        }
      ],
      "source": [
        "iter(range(10))"
      ]
    },
    {
      "cell_type": "markdown",
      "metadata": {
        "id": "iLS8hoXlXJ0u"
      },
      "source": [
        "So Python knows to treat it *as if* it's a list:"
      ]
    },
    {
      "cell_type": "code",
      "execution_count": null,
      "metadata": {
        "id": "ZWGOAbu5XJ0u",
        "outputId": "e1924a32-8288-4e96-b110-eebf370dd0ea"
      },
      "outputs": [
        {
          "name": "stdout",
          "output_type": "stream",
          "text": [
            "0 1 2 3 4 5 6 7 8 9 "
          ]
        }
      ],
      "source": [
        "for i in range(10):\n",
        "    print(i, end=' ')"
      ]
    },
    {
      "cell_type": "markdown",
      "metadata": {
        "id": "e9QSILC5XJ0v"
      },
      "source": [
        "The benefit of the iterator indirection is that *the full list is never explicitly created!*\n",
        "We can see this by doing a range calculation that would overwhelm our system memory if we actually instantiated it (note that in Python 2, ``range`` creates a list, so running the following will not lead to good things!):"
      ]
    },
    {
      "cell_type": "code",
      "execution_count": null,
      "metadata": {
        "id": "Vej9aoJlXJ0v",
        "outputId": "8df95783-e7b7-45ea-c9a1-49780425e59c"
      },
      "outputs": [
        {
          "name": "stdout",
          "output_type": "stream",
          "text": [
            "0, 1, 2, 3, 4, 5, 6, 7, 8, 9, "
          ]
        }
      ],
      "source": [
        "N = 10 ** 12\n",
        "for i in range(N):\n",
        "    if i >= 10: break\n",
        "    print(i, end=', ')"
      ]
    },
    {
      "cell_type": "markdown",
      "metadata": {
        "id": "k-2zIwjiXJ0v"
      },
      "source": [
        "If ``range`` were to actually create that list of one trillion values, it would occupy tens of terabytes of machine memory: a waste, given the fact that we're ignoring all but the first 10 values!\n",
        "\n",
        "In fact, there's no reason that iterators ever have to end at all!\n",
        "Python's ``itertools`` library contains a ``count`` function that acts as an infinite range:"
      ]
    },
    {
      "cell_type": "code",
      "execution_count": null,
      "metadata": {
        "id": "qFHAZwuHXJ0v",
        "outputId": "3a448d50-5239-4ae2-f949-8eb35a3cb58c"
      },
      "outputs": [
        {
          "name": "stdout",
          "output_type": "stream",
          "text": [
            "0, 1, 2, 3, 4, 5, 6, 7, 8, 9, "
          ]
        }
      ],
      "source": [
        "from itertools import count\n",
        "\n",
        "for i in count():\n",
        "    if i >= 10:\n",
        "        break\n",
        "    print(i, end=', ')"
      ]
    },
    {
      "cell_type": "markdown",
      "metadata": {
        "id": "rJmWRFYTXJ0w"
      },
      "source": [
        "Had we not thrown-in a loop break here, it would go on happily counting until the process is manually interrupted or killed (using, for example, ``ctrl-C``)."
      ]
    },
    {
      "cell_type": "markdown",
      "metadata": {
        "id": "MWaY-rAAXJ0w"
      },
      "source": [
        "## Useful Iterators\n",
        "This iterator syntax is used nearly universally in Python built-in types as well as the more data science-specific objects we'll explore in later sections.\n",
        "Here we'll cover some of the more useful iterators in the Python language:"
      ]
    },
    {
      "cell_type": "markdown",
      "metadata": {
        "id": "pWXLD9dIXJ0w"
      },
      "source": [
        "### ``enumerate``\n",
        "Often you need to iterate not only the values in an array, but also keep track of the index.\n",
        "You might be tempted to do things this way:"
      ]
    },
    {
      "cell_type": "code",
      "execution_count": null,
      "metadata": {
        "id": "APzN6pb9XJ0w",
        "outputId": "680edce3-093d-46fb-b219-fe05dae896c6"
      },
      "outputs": [
        {
          "name": "stdout",
          "output_type": "stream",
          "text": [
            "0 2\n",
            "1 4\n",
            "2 6\n",
            "3 8\n",
            "4 10\n"
          ]
        }
      ],
      "source": [
        "L = [2, 4, 6, 8, 10]\n",
        "for i in range(len(L)):\n",
        "    print(i, L[i])"
      ]
    },
    {
      "cell_type": "markdown",
      "metadata": {
        "id": "GtDWbmBfXJ0w"
      },
      "source": [
        "Although this does work, Python provides a cleaner syntax using the ``enumerate`` iterator:"
      ]
    },
    {
      "cell_type": "code",
      "execution_count": null,
      "metadata": {
        "id": "yWF8fPZ2XJ0w",
        "outputId": "69cf3d2d-cffb-4238-8987-aeee4c274b84"
      },
      "outputs": [
        {
          "name": "stdout",
          "output_type": "stream",
          "text": [
            "0 2\n",
            "1 4\n",
            "2 6\n",
            "3 8\n",
            "4 10\n"
          ]
        }
      ],
      "source": [
        "for i, val in enumerate(L):\n",
        "    print(i, val)"
      ]
    },
    {
      "cell_type": "markdown",
      "metadata": {
        "id": "VPscp4CMXJ0w"
      },
      "source": [
        "This is the more \"Pythonic\" way to enumerate the indices and values in a list."
      ]
    },
    {
      "cell_type": "markdown",
      "metadata": {
        "id": "_Mj3KvAVXJ0x"
      },
      "source": [
        "### ``zip``\n",
        "Other times, you may have multiple lists that you want to iterate over simultaneously.\n",
        "You could certainly iterate over the index as in the non-Pythonic example we looked at previously, but it is better to use the ``zip`` iterator, which zips together iterables:"
      ]
    },
    {
      "cell_type": "code",
      "execution_count": null,
      "metadata": {
        "id": "_w_sAdw7XJ0x",
        "outputId": "8f4ee3b8-dcc1-459f-b290-7aa2d95bf6a3"
      },
      "outputs": [
        {
          "name": "stdout",
          "output_type": "stream",
          "text": [
            "2 3\n",
            "4 6\n",
            "6 9\n",
            "8 12\n",
            "10 15\n"
          ]
        }
      ],
      "source": [
        "L = [2, 4, 6, 8, 10]\n",
        "R = [3, 6, 9, 12, 15]\n",
        "for lval, rval in zip(L, R):\n",
        "    print(lval, rval)"
      ]
    },
    {
      "cell_type": "markdown",
      "metadata": {
        "id": "Ikvivds5XJ0x"
      },
      "source": [
        "Any number of iterables can be zipped together, and if they are different lengths, the shortest will determine the length of the ``zip``."
      ]
    },
    {
      "cell_type": "markdown",
      "metadata": {
        "id": "3ud-PMhnXJ0x"
      },
      "source": [
        "### ``map`` and ``filter``\n",
        "The ``map`` iterator takes a function and applies it to the values in an iterator:"
      ]
    },
    {
      "cell_type": "code",
      "execution_count": null,
      "metadata": {
        "id": "28geRlGHXJ0x",
        "outputId": "13921efb-9c64-4776-9981-8c0eb49c62ac"
      },
      "outputs": [
        {
          "name": "stdout",
          "output_type": "stream",
          "text": [
            "0 1 4 9 16 25 36 49 64 81 "
          ]
        }
      ],
      "source": [
        "# find the first 10 square numbers\n",
        "square = lambda x: x ** 2\n",
        "for val in map(square, range(10)):\n",
        "    print(val, end=' ')"
      ]
    },
    {
      "cell_type": "markdown",
      "metadata": {
        "id": "77uQbt1UXJ0y"
      },
      "source": [
        "The ``filter`` iterator looks similar, except it only passes-through values for which the filter function evaluates to True:"
      ]
    },
    {
      "cell_type": "code",
      "execution_count": null,
      "metadata": {
        "id": "If4-9GiFXJ03",
        "outputId": "c02f93ba-780e-459f-a45a-4e036c148a22"
      },
      "outputs": [
        {
          "name": "stdout",
          "output_type": "stream",
          "text": [
            "0 2 4 6 8 "
          ]
        }
      ],
      "source": [
        "# find values up to 10 for which x % 2 is zero\n",
        "is_even = lambda x: x % 2 == 0\n",
        "for val in filter(is_even, range(10)):\n",
        "    print(val, end=' ')"
      ]
    },
    {
      "cell_type": "markdown",
      "metadata": {
        "id": "ig-bPT0LXJ03"
      },
      "source": [
        "The ``map`` and ``filter`` functions, along with the ``reduce`` function (which lives in Python's ``functools`` module) are fundamental components of the *functional programming* style, which, while not a dominant programming style in the Python world, has its outspoken proponents (see, for example, the [pytoolz](https://toolz.readthedocs.org/en/latest/) library)."
      ]
    },
    {
      "cell_type": "markdown",
      "metadata": {
        "id": "W8eI_BAGXJ03"
      },
      "source": [
        "### Iterators as function arguments\n",
        "\n",
        "We saw in [``*args`` and ``**kwargs``: Flexible Arguments](#*args-and-**kwargs:-Flexible-Arguments). that ``*args`` and ``**kwargs`` can be used to pass sequences and dictionaries to functions.\n",
        "It turns out that the ``*args`` syntax works not just with sequences, but with any iterator:"
      ]
    },
    {
      "cell_type": "code",
      "execution_count": null,
      "metadata": {
        "id": "8fkLJIYXXJ03",
        "outputId": "610f3997-9c75-4a03-ab7e-fafc6756b16f"
      },
      "outputs": [
        {
          "name": "stdout",
          "output_type": "stream",
          "text": [
            "0 1 2 3 4 5 6 7 8 9\n"
          ]
        }
      ],
      "source": [
        "print(*range(10))"
      ]
    },
    {
      "cell_type": "markdown",
      "metadata": {
        "id": "kPKbrQKnXJ03"
      },
      "source": [
        "So, for example, we can get tricky and compress the ``map`` example from before into the following:"
      ]
    },
    {
      "cell_type": "code",
      "execution_count": null,
      "metadata": {
        "id": "-8BRtejBXJ03",
        "outputId": "e124c4d8-7e8e-428f-bb61-1e95412f1ea7"
      },
      "outputs": [
        {
          "name": "stdout",
          "output_type": "stream",
          "text": [
            "0 1 4 9 16 25 36 49 64 81\n"
          ]
        }
      ],
      "source": [
        "print(*map(lambda x: x ** 2, range(10)))"
      ]
    },
    {
      "cell_type": "markdown",
      "metadata": {
        "id": "IPWI0rNTXJ04"
      },
      "source": [
        "Using this trick lets us answer the age-old question that comes up in Python learners' forums: why is there no ``unzip()`` function which does the opposite of ``zip()``?\n",
        "If you lock yourself in a dark closet and think about it for a while, you might realize that the opposite of ``zip()`` is... ``zip()``! The key is that ``zip()`` can zip-together any number of iterators or sequences. Observe:"
      ]
    },
    {
      "cell_type": "code",
      "execution_count": null,
      "metadata": {
        "collapsed": true,
        "id": "aDf-jrRyXJ04"
      },
      "outputs": [],
      "source": [
        "L1 = (1, 2, 3, 4)\n",
        "L2 = ('a', 'b', 'c', 'd')"
      ]
    },
    {
      "cell_type": "code",
      "execution_count": null,
      "metadata": {
        "id": "feRIJWPXXJ04",
        "outputId": "0d3d9393-a0fa-44e4-d1d9-560ccc4046dd"
      },
      "outputs": [
        {
          "name": "stdout",
          "output_type": "stream",
          "text": [
            "(1, 'a') (2, 'b') (3, 'c') (4, 'd')\n"
          ]
        }
      ],
      "source": [
        "z = zip(L1, L2)\n",
        "print(*z)"
      ]
    },
    {
      "cell_type": "code",
      "execution_count": null,
      "metadata": {
        "id": "DbpSZJcUXJ04",
        "outputId": "2c85ecbc-0c48-401e-93e2-5e35cdd9726c"
      },
      "outputs": [
        {
          "name": "stdout",
          "output_type": "stream",
          "text": [
            "(1, 2, 3, 4) ('a', 'b', 'c', 'd')\n"
          ]
        }
      ],
      "source": [
        "z = zip(L1, L2)\n",
        "new_L1, new_L2 = zip(*z)\n",
        "print(new_L1, new_L2)"
      ]
    },
    {
      "cell_type": "markdown",
      "metadata": {
        "id": "zzwtNaTBXJ04"
      },
      "source": [
        "Ponder this for a while. If you understand why it works, you'll have come a long way in understanding Python iterators!"
      ]
    },
    {
      "cell_type": "markdown",
      "metadata": {
        "id": "fxfR_W8SXJ04"
      },
      "source": [
        "## Specialized Iterators: ``itertools``\n",
        "\n",
        "We briefly looked at the infinite ``range`` iterator, ``itertools.count``.\n",
        "The ``itertools`` module contains a whole host of useful iterators; it's well worth your while to explore the module to see what's available.\n",
        "As an example, consider the ``itertools.permutations`` function, which iterates over all permutations of a sequence:"
      ]
    },
    {
      "cell_type": "code",
      "execution_count": null,
      "metadata": {
        "id": "ZbVwFF5lXJ04",
        "outputId": "9fdaf0a6-83cc-401a-aa0e-160ba26c9adc"
      },
      "outputs": [
        {
          "name": "stdout",
          "output_type": "stream",
          "text": [
            "(0, 1, 2) (0, 2, 1) (1, 0, 2) (1, 2, 0) (2, 0, 1) (2, 1, 0)\n"
          ]
        }
      ],
      "source": [
        "from itertools import permutations\n",
        "p = permutations(range(3))\n",
        "print(*p)"
      ]
    },
    {
      "cell_type": "markdown",
      "metadata": {
        "id": "Yb975FahXJ05"
      },
      "source": [
        "Similarly, the ``itertools.combinations`` function iterates over all unique combinations of ``N`` values within a list:"
      ]
    },
    {
      "cell_type": "code",
      "execution_count": null,
      "metadata": {
        "id": "nOJeAqarXJ05",
        "outputId": "374decf5-7f3f-41d0-8d25-96120bd728b9"
      },
      "outputs": [
        {
          "name": "stdout",
          "output_type": "stream",
          "text": [
            "(0, 1) (0, 2) (0, 3) (1, 2) (1, 3) (2, 3)\n"
          ]
        }
      ],
      "source": [
        "from itertools import combinations\n",
        "c = combinations(range(4), 2)\n",
        "print(*c)"
      ]
    },
    {
      "cell_type": "markdown",
      "metadata": {
        "id": "3yOVbg3_XJ06"
      },
      "source": [
        "Somewhat related is the ``product`` iterator, which iterates over all sets of pairs between two or more iterables:"
      ]
    },
    {
      "cell_type": "code",
      "execution_count": null,
      "metadata": {
        "id": "tcMxyT5uXJ06",
        "outputId": "45678d1d-5895-4c8f-8eaa-1f25620d0e4b"
      },
      "outputs": [
        {
          "name": "stdout",
          "output_type": "stream",
          "text": [
            "('a', 0) ('a', 1) ('a', 2) ('b', 0) ('b', 1) ('b', 2)\n"
          ]
        }
      ],
      "source": [
        "from itertools import product\n",
        "p = product('ab', range(3))\n",
        "print(*p)"
      ]
    },
    {
      "cell_type": "markdown",
      "metadata": {
        "id": "leqgy2OtXJ06"
      },
      "source": [
        "Many more useful iterators exist in ``itertools``: the full list can be found, along with some examples, in Python's [online documentation](https://docs.python.org/3.5/library/itertools.html)."
      ]
    },
    {
      "cell_type": "markdown",
      "metadata": {
        "id": "Bb6p3l1nXJ07"
      },
      "source": [
        "   "
      ]
    },
    {
      "cell_type": "markdown",
      "metadata": {
        "id": "EkeoxbnEXJ07"
      },
      "source": [
        "<!--NAVIGATION-->\n",
        "< [Errors and Exceptions](09-Errors-and-Exceptions.ipynb) | [Contents](Index.ipynb) | [List Comprehensions](11-List-Comprehensions.ipynb) >"
      ]
    }
  ],
  "metadata": {
    "anaconda-cloud": {},
    "kernelspec": {
      "display_name": "Python 3",
      "language": "python",
      "name": "python3"
    },
    "language_info": {
      "codemirror_mode": {
        "name": "ipython",
        "version": 3
      },
      "file_extension": ".py",
      "mimetype": "text/x-python",
      "name": "python",
      "nbconvert_exporter": "python",
      "pygments_lexer": "ipython3",
      "version": "3.5.1"
    },
    "colab": {
      "provenance": []
    }
  },
  "nbformat": 4,
  "nbformat_minor": 0
}