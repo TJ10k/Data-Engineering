{
 "cells": [
  {
   "cell_type": "code",
   "execution_count": null,
   "id": "caf448a8",
   "metadata": {},
   "outputs": [
    {
     "name": "stdout",
     "output_type": "stream",
     "text": [
      "Hello\n",
      "Class\n",
      "Hello\\nClass\n"
     ]
    }
   ],
   "source": [
    "# What is the difference between a normal string and a raw string.\n",
    "\n",
    "text =\"Hello\\nClass\" # Your normal day to day string\n",
    "print(text)\n",
    "\n",
    "text2 = r\"Hello\\nClass\" # you use these when specifying a file location or using regex as raw strings dont interpret back slashes\n",
    "print(text2)"
   ]
  },
  {
   "cell_type": "code",
   "execution_count": 3,
   "id": "f2d19208",
   "metadata": {},
   "outputs": [
    {
     "name": "stdout",
     "output_type": "stream",
     "text": [
      "[900, 1600, 400, 25, 100, 225]\n"
     ]
    }
   ],
   "source": [
    "# Write A lambda function used with map() to square all elements in a list\n",
    "\n",
    "numbers = [30, 40, 20, 5, 10, 15]\n",
    "squared = list(map(lambda x: x**2, numbers))\n",
    "print(squared)"
   ]
  },
  {
   "cell_type": "code",
   "execution_count": 2,
   "id": "2713276f",
   "metadata": {},
   "outputs": [
    {
     "name": "stdout",
     "output_type": "stream",
     "text": [
      "['L', 'e', 'b', 'r', 'o', 'n']\n"
     ]
    }
   ],
   "source": [
    "# Write a function to find the letters in a word\n",
    "\n",
    "word = \"Lebron\"\n",
    "letters = [letter for letter in word]\n",
    "print(letters)"
   ]
  },
  {
   "cell_type": "code",
   "execution_count": 26,
   "id": "328f8f13",
   "metadata": {},
   "outputs": [
    {
     "name": "stdout",
     "output_type": "stream",
     "text": [
      "[' ', ' ', ' ', ' ', '!', '#', '$']\n"
     ]
    }
   ],
   "source": [
    "import re\n",
    "\n",
    "target_str = 'My roll number is 25!#$'\n",
    "res = re.findall(r'\\W', target_str)\n",
    "print(res)"
   ]
  },
  {
   "cell_type": "code",
   "execution_count": 14,
   "id": "1200d63f",
   "metadata": {},
   "outputs": [
    {
     "name": "stdout",
     "output_type": "stream",
     "text": [
      "['stephen.a.smith@espn.com', 'drake@hotmail.com', 'frenchMontana@gmail.com']\n"
     ]
    }
   ],
   "source": [
    "import re\n",
    "stri = 'From: stephen.a.smith@espn.com, drake@hotmail.com, frenchMontana@gmail.com'\n",
    "stri = stri.rstrip()\n",
    "emails = re.findall(r'[A-Za-z0-9.]+@[A-Za-z0-9.-]+\\.[A-Za-z]{2,}', stri)\n",
    "print(emails)"
   ]
  },
  {
   "cell_type": "code",
   "execution_count": 42,
   "id": "ec6abff9",
   "metadata": {},
   "outputs": [
    {
     "name": "stdout",
     "output_type": "stream",
     "text": [
      "813-816-5794\n"
     ]
    }
   ],
   "source": [
    "import re\n",
    "phone = '813-816-5794'\n",
    "new = re.compile(r'\\d{3}-\\d{3}-\\d{4}')\n",
    "match = new.match(phone)\n",
    "print(match.group() if match else \"No match found\")"
   ]
  },
  {
   "cell_type": "code",
   "execution_count": 78,
   "id": "15544695",
   "metadata": {},
   "outputs": [
    {
     "name": "stdout",
     "output_type": "stream",
     "text": [
      "None\n"
     ]
    }
   ],
   "source": [
    "txt = \"The rain in Spain\"\n",
    "txt2 = \"The people speak spanish in Mexico and Spain\"\n",
    "x = re.search(\"^The.*Spain$\", txt)\n",
    "print(match)\n"
   ]
  }
 ],
 "metadata": {
  "kernelspec": {
   "display_name": "Python 3",
   "language": "python",
   "name": "python3"
  },
  "language_info": {
   "codemirror_mode": {
    "name": "ipython",
    "version": 3
   },
   "file_extension": ".py",
   "mimetype": "text/x-python",
   "name": "python",
   "nbconvert_exporter": "python",
   "pygments_lexer": "ipython3",
   "version": "3.12.0"
  }
 },
 "nbformat": 4,
 "nbformat_minor": 5
}
