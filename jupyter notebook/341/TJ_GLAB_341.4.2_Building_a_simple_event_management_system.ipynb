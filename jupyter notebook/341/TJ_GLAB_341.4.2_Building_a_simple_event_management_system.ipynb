{
 "cells": [
  {
   "cell_type": "code",
   "execution_count": null,
   "id": "21aa33fe",
   "metadata": {},
   "outputs": [],
   "source": []
  },
  {
   "cell_type": "markdown",
   "id": "652f9757",
   "metadata": {},
   "source": [
    "# Lab Overview\n",
    "\n",
    "Here's a real-world example of using Python's date and time functionality to build a simple event management system. In this example, we'll create a program that allows users to schedule and list events, and it will automatically remind them of upcoming events.\n",
    "\n",
    "We will use a dictionary events to store event names as keys and their corresponding dates as values.\n",
    "\n",
    "Users can add events by providing a name and a date in the format \"YYYY-MM-DD.\"\n",
    "\n",
    "Users can list upcoming events, which are sorted by date and include the number of days remaining until each event.\n",
    "\n",
    "The program continues running until the user chooses to quit."
   ]
  },
  {
   "cell_type": "code",
   "execution_count": null,
   "id": "c69a8579",
   "metadata": {},
   "outputs": [
    {
     "name": "stdout",
     "output_type": "stream",
     "text": [
      "\n",
      "Event Management System\n",
      "1. Add Event\n",
      "2. List Events\n",
      "3. Quit\n",
      "Event added!\n",
      "\n",
      "Event Management System\n",
      "1. Add Event\n",
      "2. List Events\n",
      "3. Quit\n",
      "Upcoming events:\n",
      "TJS Birthday - 2026-03-30 (356 days remaining)\n",
      "\n",
      "Event Management System\n",
      "1. Add Event\n",
      "2. List Events\n",
      "3. Quit\n",
      "Goodbye!\n"
     ]
    }
   ],
   "source": [
    "import datetime\n",
    "\n",
    "# Create an empty dictionary to store events\n",
    "events = {}\n",
    "\n",
    "# Function to add an event\n",
    "def add_event():\n",
    "    # Get user input for event name and date\n",
    "    event_name = input(\"Enter event name: \")\n",
    "    event_date = input(\"Enter event date (YYYY-MM-DD): \")\n",
    "    \n",
    "    # Parse the event date and validate the date format\n",
    "    try:\n",
    "        event_date = datetime.datetime.strptime(event_date, \"%Y-%m-%d\").date()\n",
    "    except ValueError:\n",
    "        print(\"Invalid date format. Use YYYY-MM-DD.\")\n",
    "        return\n",
    "\n",
    "    # Add the event to the dictionary\n",
    "    events[event_name] = event_date\n",
    "    print(\"Event added!\")\n",
    "\n",
    "# Function to list upcoming events\n",
    "def list_events():\n",
    "    if events:\n",
    "        print(\"Upcoming events:\")\n",
    "        # Sort events by date and iterate through them\n",
    "        for event, date in sorted(events.items(), key=lambda item: item[1]):\n",
    "            # Calculate the number of days remaining until the event\n",
    "            days_remaining = (date - datetime.date.today()).days\n",
    "            # Print event details\n",
    "            print(f\"{event} - {date} ({days_remaining} days remaining)\")\n",
    "    else:\n",
    "        print(\"No upcoming events.\")\n",
    "\n",
    "# Main program function\n",
    "def main():\n",
    "    while True:\n",
    "        # Display menu options\n",
    "        print(\"\\nEvent Management System\")\n",
    "        print(\"1. Add Event\")\n",
    "        print(\"2. List Events\")\n",
    "        print(\"3. Quit\")\n",
    "        \n",
    "        # Get user input for menu choice\n",
    "        choice = input(\"Enter your choice: \")\n",
    "        \n",
    "        # Process user input and call the appropriate function\n",
    "        if choice == \"1\":\n",
    "            add_event()\n",
    "        elif choice == \"2\":\n",
    "            list_events()\n",
    "        elif choice == \"3\":\n",
    "            print(\"Goodbye!\")\n",
    "            break\n",
    "        else:\n",
    "            print(\"Invalid choice. Please try again.\")\n",
    "\n",
    "if __name__ == \"__main__\":\n",
    "    main()"
   ]
  }
 ],
 "metadata": {
  "kernelspec": {
   "display_name": "Python 3",
   "language": "python",
   "name": "python3"
  },
  "language_info": {
   "codemirror_mode": {
    "name": "ipython",
    "version": 3
   },
   "file_extension": ".py",
   "mimetype": "text/x-python",
   "name": "python",
   "nbconvert_exporter": "python",
   "pygments_lexer": "ipython3",
   "version": "3.12.0"
  }
 },
 "nbformat": 4,
 "nbformat_minor": 5
}
