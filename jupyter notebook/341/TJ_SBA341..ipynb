{
 "cells": [
  {
   "cell_type": "markdown",
   "id": "5cb9fc1d",
   "metadata": {},
   "source": [
    "# Task One: Lambda Map - (25 points)\n",
    "You are given a list of numbers. Your task is to complete the function lambdaMap(arr), which performs the following operations:\n"
   ]
  },
  {
   "cell_type": "code",
   "execution_count": null,
   "id": "b905f3e7",
   "metadata": {},
   "outputs": [
    {
     "name": "stdout",
     "output_type": "stream",
     "text": [
      "[2, 4, 12]\n"
     ]
    }
   ],
   "source": [
    "# Defining our function lambdaMap\n",
    "def lambdaMap(arr):\n",
    "    # Use filter to keep only positive numbers from the list\n",
    "    # Then use map to multiply each of those positive numbers by 2\n",
    "    ans = map(lambda x: x * 2, filter(lambda x: x > 0, arr))\n",
    "    # Convert the result of map to a list and return it\n",
    "    return list(ans)\n",
    "\n",
    "arr = [-1, 1, 2, -2, 6]\n",
    "result = lambdaMap(arr)\n",
    "print(result)\n"
   ]
  },
  {
   "cell_type": "markdown",
   "id": "38bfc12a",
   "metadata": {},
   "source": [
    "# Task Two: Validating Strings with RegEx - (25 points)\n",
    "You are given a string containing only the characters 'a' and 'b'. Your task is to write a regular expression that matches strings where:\n",
    "\n",
    "The string starts and ends with the same character ('a' or 'b').\n",
    "\n",
    "The string can be of any length (including a single character).\n",
    "\n",
    "If the first character is 'a', the last character must also be 'a'.\n",
    "\n",
    "If the first character is 'b', the last character must also be 'b'.\n"
   ]
  },
  {
   "cell_type": "code",
   "execution_count": 18,
   "id": "84c82dc7",
   "metadata": {},
   "outputs": [
    {
     "name": "stdout",
     "output_type": "stream",
     "text": [
      "True\n"
     ]
    }
   ],
   "source": [
    "from re import compile\n",
    "from re import match\n",
    "\n",
    "\n",
    "# Write the regular expression in the blank space below\n",
    "regularExpression = r\"^(a.*a|b.*b|a|b)$\"\n",
    "\n",
    "# Test your regular expression.\n",
    "pattern = compile(regularExpression)\n",
    "if pattern.match(\"ababababa\"):\n",
    "    print(\"True\")\n",
    "else:\n",
    "    print(\"False\")\n",
    "\n"
   ]
  },
  {
   "cell_type": "markdown",
   "id": "481b0a79",
   "metadata": {},
   "source": [
    "# Task Three: Iterators - (25 points)\n",
    "You are given a list of sentences, and your task is to implement a Python iterator that iterates over each word in the sentences."
   ]
  },
  {
   "cell_type": "code",
   "execution_count": null,
   "id": "f15a12a1",
   "metadata": {},
   "outputs": [
    {
     "name": "stdout",
     "output_type": "stream",
     "text": [
      "Hello,\n",
      "how\n",
      "are\n",
      "you?\n",
      "I\n",
      "hope\n",
      "you\n",
      "are\n",
      "doing\n",
      "well.\n"
     ]
    }
   ],
   "source": [
    "# Create the WordIterator class\n",
    "class WordIterator:\n",
    "    def __init__(self, sentences):\n",
    "        # Combine all sentences into a single string and split into words\n",
    "        self.words = \" \".join(sentences).split()\n",
    "        self.index = 0\n",
    "\n",
    "    def __iter__(self):\n",
    "        return self\n",
    "    \n",
    "    def __next__(self):\n",
    "        # Check if the index exceeds the number of words\n",
    "        if self.index >= len(self.words):\n",
    "            # Stop iteration when all words have been gone through\n",
    "            raise StopIteration\n",
    "        result = self.words[self.index]\n",
    "        self.index += 1\n",
    "        return result\n",
    "\n",
    "# Example list of sentences\n",
    "sentences_list = [\"Hello, how are you?\", \"I hope you are doing well.\"]\n",
    "\n",
    "# Creating a WordIterator \n",
    "word_iterator = WordIterator(sentences_list)\n",
    "\n",
    "# For loop to go over the words\n",
    "for word in word_iterator:\n",
    "    # Print each word\n",
    "    print(word)\n",
    "\n"
   ]
  }
 ],
 "metadata": {
  "kernelspec": {
   "display_name": "Python 3",
   "language": "python",
   "name": "python3"
  },
  "language_info": {
   "codemirror_mode": {
    "name": "ipython",
    "version": 3
   },
   "file_extension": ".py",
   "mimetype": "text/x-python",
   "name": "python",
   "nbconvert_exporter": "python",
   "pygments_lexer": "ipython3",
   "version": "3.12.0"
  }
 },
 "nbformat": 4,
 "nbformat_minor": 5
}
