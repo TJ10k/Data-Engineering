{
 "cells": [
  {
   "cell_type": "markdown",
   "id": "0dc7ef1b",
   "metadata": {},
   "source": [
    "### This lab demonstrates how to use Regex Expressions and python re module's methods for Regular expression.\n",
    "\n",
    "### By the end of this lab, learner will be able to: identofy the re module's methods ofr Regex Utilize the regex in the python applicationsThis lab demonstrates how to use Regex Expressions and python re module's methods for Regular expression.\n",
    "\n",
    "### By the end of this lab, learner will be able to: identofy the re module's methods ofr Regex Utilize the regex in the python applications"
   ]
  },
  {
   "cell_type": "markdown",
   "id": "3f2e751d",
   "metadata": {},
   "source": [
    "# Example 1: findall()"
   ]
  },
  {
   "cell_type": "code",
   "execution_count": null,
   "id": "d6e28929",
   "metadata": {},
   "outputs": [
    {
     "name": "stdout",
     "output_type": "stream",
     "text": [
      "washes\n",
      "everyday\n"
     ]
    }
   ],
   "source": [
    "# in this example, the pattern is set to find all words with a length of 5 or more\n",
    "import re\n",
    "# creating a pattern and Compile the regular expression pattern\n",
    "pattern = re.compile(r'\\b\\w{5,}\\b') # compiles the pattern to have a \\b which is a word boundary so this is gonna search for any word with 5 or more characters \n",
    "text = 'Art washes away from the soul the dust of everyday life.'\n",
    "\n",
    "matches = pattern.findall(text)\n",
    "\n",
    "for match in matches:\n",
    "    print(match)\n",
    "\n",
    "# In the above example demonstrates how to use re.compile() with findall() to find all occurrences of a pattern in a given string. \n",
    "# The pattern used in this example finds all words with a length of 5 or more."
   ]
  },
  {
   "cell_type": "markdown",
   "id": "bf4371c5",
   "metadata": {},
   "source": [
    "# Example 2: findall()"
   ]
  },
  {
   "cell_type": "code",
   "execution_count": 10,
   "id": "10a57337",
   "metadata": {},
   "outputs": [
    {
     "name": "stdout",
     "output_type": "stream",
     "text": [
      "Contact\n",
      "me\n",
      "at\n",
      "john.doe\n",
      "example.com\n",
      "or\n",
      "jane.doe\n",
      "example\n",
      "for\n",
      "more\n",
      "information\n"
     ]
    }
   ],
   "source": [
    "# In the following example, the pattern will match all strings containing alphanumeric characters and the hyphen\n",
    "import re\n",
    "# compile the regular expression pattern\n",
    "pattern = re.compile(r'\\b[A-Za-z0-9._%+-]+\\b') # This expression looks for A-Z uppercase, a-z lowercase, any digit, and certain special characters in our list '@' wont be outputted even though its in our string\n",
    "\n",
    "# target string\n",
    "text = \"Contact me at john.doe@example.com or jane.doe@example for more information\"\n",
    "\n",
    "# Find all matches of the pattern in the test string\n",
    "matches = pattern.findall(text)\n",
    "\n",
    "# Print the matches\n",
    "for match in matches:\n",
    "    print(match)"
   ]
  },
  {
   "cell_type": "markdown",
   "id": "360cdef9",
   "metadata": {},
   "source": [
    "# Example 3: findall()"
   ]
  },
  {
   "cell_type": "code",
   "execution_count": null,
   "id": "01b5ef76",
   "metadata": {},
   "outputs": [
    {
     "name": "stdout",
     "output_type": "stream",
     "text": [
      "john.doe@example.com\n",
      "jane.doe@example.com\n"
     ]
    }
   ],
   "source": [
    "# In this example, we will match all the email addresses in a string using a regular expression pattern\n",
    "\n",
    "import re \n",
    "\n",
    "# our original string\n",
    "text = \"Contact me at john.doe@example.com or jane.doe@example.com for more information.\"\n",
    "\n",
    "# The regex pattern to search for\n",
    "pattern = re.compile(r'\\b[A-Za-z0-9._%+-]+@[A-Za-z0-9.-]+\\.[A-Z|a-z]{2,}\\b') # pattern to search for an email\n",
    "# Use the findall() function to find all matches in the string\n",
    "matches = re.findall(pattern, text)\n",
    "\n",
    "for match in matches:\n",
    "    print(match)"
   ]
  },
  {
   "cell_type": "markdown",
   "id": "c3cd7819",
   "metadata": {},
   "source": [
    "# Example 4: search()\n",
    "Basic Examples\n",
    "\n",
    "Joke: what do you call a pig with three eyes? piiig!\n",
    "\n",
    "The basic rules of regular expression search for a pattern within a string are:\n",
    "\n",
    "The search proceeds through the string from start to end, stopping at the first match found All of the pattern must be matched, but not all of the string If match = re.search(pat, str) is successful, match is not None and in particular match.group() is the matching text"
   ]
  },
  {
   "cell_type": "code",
   "execution_count": null,
   "id": "d08ef674",
   "metadata": {},
   "outputs": [],
   "source": [
    "import re\n",
    " ## Search for pattern 'iii' in string 'piiig'.\n",
    "  ## All of the pattern must match, but it may appear anywhere.\n",
    "  ## On success, match.group() is matched text.\n",
    "match_one = re.search(r'iii', 'piiig') # found, match.group() == \"iii\"\n",
    "print(match_one)\n",
    "match_two = re.search(r'igs', 'piiig') # not found, match == None\n",
    "print(match_two)\n",
    "  ## . = any char but \\n\n",
    "match_three = re.search(r'..g', 'piiig') # found, match.group() == \"iig\"\n",
    "print(match_three)\n",
    "  ## \\d = digit char, \\w = word char\n",
    "match_four = re.search(r'\\d\\d\\d', 'p123g') # found, match.group() == \"123\"\n",
    "print(match_four)\n",
    "match_five = re.search(r'\\w\\w\\w', '@@abcd!!') # found, match.group() == \"abc\"\n",
    "print(match_five)"
   ]
  },
  {
   "cell_type": "markdown",
   "id": "3adf9f40",
   "metadata": {},
   "source": [
    "# Repetition\n",
    "\n",
    "Things get more interesting when you use + and * to specify repetition in the pattern.\n",
    "\n",
    "\" + -- 1 or more occurrences of the pattern to its left, e.g. 'i+' = one or more i's\"\n",
    "\n",
    "\" * -- 0 or more occurrences of the pattern to its left\"\n",
    "\n",
    "\" ? -- match 0 or 1 occurrences of the pattern to its left\"\n",
    "\n",
    "Leftmost & Largest\n",
    "\n",
    "First the search finds the leftmost match for the pattern, and second it tries to use up as much of the string as possible -- i.e. + and * go as far as possible (the + and * are said to be \"greedy\")."
   ]
  },
  {
   "cell_type": "code",
   "execution_count": 19,
   "id": "e03b8f3c",
   "metadata": {},
   "outputs": [
    {
     "name": "stdout",
     "output_type": "stream",
     "text": [
      "<re.Match object; span=(0, 4), match='piii'>\n",
      "<re.Match object; span=(1, 3), match='ii'>\n",
      "<re.Match object; span=(2, 9), match='1 2   3'>\n",
      "<re.Match object; span=(2, 7), match='12  3'>\n",
      "<re.Match object; span=(2, 5), match='123'>\n",
      "None\n",
      "<re.Match object; span=(3, 6), match='bar'>\n"
     ]
    }
   ],
   "source": [
    "  # i+ = one or more i's, as many as possible.\n",
    "match_one = re.search(r'pi+', 'piiig') # found, match.group() == \"piii\"\n",
    "print(match_one)\n",
    "\n",
    "  # Finds the first/leftmost solution, and within it drives the +\n",
    "  # as far as possible (aka 'leftmost and largest').\n",
    "  # In this example, note that it does not get to the second set of i's.\n",
    "match_two = re.search(r'i+', 'piigiiii') # found, match.group() == \"ii\"\n",
    "print(match_two)\n",
    "\n",
    "  # \\s* = zero or more whitespace chars\n",
    "  # Here look for 3 digits, possibly separated by whitespace.\n",
    "match_three = re.search(r'\\d\\s*\\d\\s*\\d', 'xx1 2   3xx') # found, match.group() == \"1 2   3\"\n",
    "print(match_three)\n",
    "\n",
    "match_four = re.search(r'\\d\\s*\\d\\s*\\d', 'xx12  3xx') # found, match.group() == \"12  3\"\n",
    "print(match_four)\n",
    "match_five = re.search(r'\\d\\s*\\d\\s*\\d', 'xx123xx') # found, match.group() == \"123\"\n",
    "print(match_five)\n",
    "\n",
    "  # ^ = matches the start of string, so this fails:\n",
    "match_six = re.search(r'^b\\w+', 'foobar') # not found, match == None\n",
    "print(match_six)\n",
    "  # but without the ^ it succeeds:\n",
    "match_seven = re.search(r'b\\w+', 'foobar') # found, match.group() == \"bar\"\n",
    "print(match_seven)"
   ]
  },
  {
   "cell_type": "markdown",
   "id": "662f2572",
   "metadata": {},
   "source": [
    "# Example 5: Grouping with search()\n",
    "we can use parentheses to group sub-patterns in a regex pattern"
   ]
  },
  {
   "cell_type": "code",
   "execution_count": null,
   "id": "fca30d03",
   "metadata": {},
   "outputs": [
    {
     "name": "stdout",
     "output_type": "stream",
     "text": [
      "Found a match: is an interpreted\n"
     ]
    }
   ],
   "source": [
    "# Define the text to search within\n",
    "text = \"Python is an interpreted high-level programming language for general-purpose programming\"\n",
    "\n",
    "# Define the regex pattern to search for\n",
    "# This pattern looks for the word \"is\" followed by either \"an\" or \"the\", and then the word \"interpreted\"\n",
    "pattern = \"is (an|the) interpreted\"\n",
    "\n",
    "# Use the re.search() method to search for the first occurrence of the pattern in the text\n",
    "match = re.search(pattern, text)\n",
    "\n",
    "# Check if a match was found\n",
    "if match:\n",
    "    print(\"Found a match:\", match.group())\n",
    "else:\n",
    "    print(\"No match found.\")"
   ]
  },
  {
   "cell_type": "markdown",
   "id": "328064f6",
   "metadata": {},
   "source": [
    "# Example 6: Match Phone Number Pattern"
   ]
  },
  {
   "cell_type": "code",
   "execution_count": 31,
   "id": "26de4248",
   "metadata": {},
   "outputs": [
    {
     "name": "stdout",
     "output_type": "stream",
     "text": [
      "Found a match: 123-456-7890\n"
     ]
    }
   ],
   "source": [
    "# Compile a regular expression pattern to match phone numbers in the format 'XXX-XXX-XXXX'\n",
    "pattern = re.compile(r'\\d{3}-\\d{3}-\\d{4}')\n",
    "\n",
    "phone_number = \"123-456-7890\"\n",
    "\n",
    "# Use the search() method to find the first occurrence of the pattern in the string\n",
    "match = pattern.search(phone_number)\n",
    "\n",
    "# Check if a match was found\n",
    "if match:\n",
    "    print(\"Found a match:\", match.group())\n",
    "else:\n",
    "    print(\"No Match found\")"
   ]
  },
  {
   "cell_type": "markdown",
   "id": "5971cc90",
   "metadata": {},
   "source": [
    "# Find all pattern matches in a string"
   ]
  },
  {
   "cell_type": "code",
   "execution_count": 32,
   "id": "c9038262",
   "metadata": {},
   "outputs": [
    {
     "name": "stdout",
     "output_type": "stream",
     "text": [
      "Found a match 123-456-7890\n",
      "Found a match 234-567-8901\n"
     ]
    }
   ],
   "source": [
    "# To find all matches of a pattern in a string, you can use the findall() method.\n",
    "\n",
    "# The text string contains two phone numbers.\n",
    "text = \"123-456-7890 is a phone number, and 234-567-8901 is another.\"\n",
    "\n",
    "# Use the findall() method of the compiled regex pattern to find all matches in the text.\n",
    "# The pattern is looking for phone numbers in the format 'XXX-XXX-XXXX'.\n",
    "matches = pattern.findall(text)\n",
    "\n",
    "# Iterate through the list of matches and print each match.\n",
    "for match in matches:\n",
    "    print(\"Found a match\", match)"
   ]
  },
  {
   "cell_type": "markdown",
   "id": "7e40ec2e",
   "metadata": {},
   "source": [
    "# Example 7: Emails Example\n",
    "Suppose you want to find the email address inside the string 'xyz alice-b@google.com purple monkey'. \n",
    "\n",
    "We'll use this as a running example to demonstrate more regular expression features. \n",
    "\n",
    "Here's an attempt using the pattern r'\\w+@\\w+':"
   ]
  },
  {
   "cell_type": "code",
   "execution_count": null,
   "id": "5bd9c753",
   "metadata": {},
   "outputs": [
    {
     "name": "stdout",
     "output_type": "stream",
     "text": [
      "b@google\n"
     ]
    }
   ],
   "source": [
    "# Define a string containing some text, including an email address\n",
    "str = 'xyz alice-b@google.com purple monkey'\n",
    "\n",
    "# Use the re.search() method to search for the first occurrence of the pattern in the string\n",
    "# The pattern r'\\w+@\\w+' matches a sequence of word characters (letters, digits, or underscores),\n",
    "# followed by the '@' symbol, and another sequence of word characters.\n",
    "match = re.search(r'\\w+@\\w+', str)\n",
    "\n",
    "if match:\n",
    "    print(match.group())\n",
    "# The search does not get the whole email address in this case because the \\w does not match the '-' or '.' in the address. We'll fix this using the regular expression features below.\n"
   ]
  },
  {
   "cell_type": "markdown",
   "id": "e5df488d",
   "metadata": {},
   "source": [
    "# Square Brackets\n",
    "Square brackets can be used to indicate a set of chars, so [abc] matches 'a' or 'b' or 'c'. The codes \\w, \\s etc.\n",
    "\n",
    "work inside square brackets too with the one exception that dot (.) just means a literal dot. \n",
    "\n",
    "For the emails problem, the square brackets are an easy way to add '.' and '-' to the set of chars which can appear around the @ with the pattern r'[\\w.-]+@[\\w.-]+' to get the whole email address:"
   ]
  },
  {
   "cell_type": "code",
   "execution_count": 38,
   "id": "e78f4f79",
   "metadata": {},
   "outputs": [
    {
     "name": "stdout",
     "output_type": "stream",
     "text": [
      "alice-b@google.com\n"
     ]
    }
   ],
   "source": [
    "# Use the re.search() method to search for the first occurrence of the pattern in the string\n",
    "# The pattern r'[\\w.-]+@[\\w.-]+' matches a sequence of word characters (letters, digits, or underscores)\n",
    "# dots (.), or hyphens (-), followed by the '@' symbol, and another sequence of word characters, dots, or hyphens\n",
    "match = re.search(r'[\\w.-]+@[\\w.-]+', str)\n",
    "\n",
    "if match:\n",
    "    print(match.group())"
   ]
  },
  {
   "cell_type": "markdown",
   "id": "49fe1ff9",
   "metadata": {},
   "source": [
    "# Group Extraction\n",
    "The \"group\" feature of a regular expression allows you to pick out parts of the matching text. \n",
    "\n",
    "Suppose for the emails problem that we want to extract the username and host separately. To do this, add parentheses ( ) around the username and host in the pattern, like this: r'([\\w.-]+)@([\\w.-]+)'. \n",
    "\n",
    "In this case, the parentheses do not change what the pattern will match, instead they establish logical \"groups\" inside of the match text. On a successful search, match.group(1) is the match text \n",
    "\n",
    "corresponding to the 1st left parentheses, and match.group(2) is the text corresponding to the 2nd left parentheses. The plain match.group() is still the whole match text as usual."
   ]
  },
  {
   "cell_type": "code",
   "execution_count": null,
   "id": "b39a5a56",
   "metadata": {},
   "outputs": [
    {
     "name": "stdout",
     "output_type": "stream",
     "text": [
      "alice-b@google.com\n",
      "alice-b\n",
      "google.com\n"
     ]
    }
   ],
   "source": [
    "# Define a string containing some text, including an email address\n",
    "str = 'purple alice-b@google.com monkey dishwasher'\n",
    "\n",
    "# Use the re.search() method to search for the first occurrence of the pattern in the string\n",
    "# The pattern r'([\\w.-]+)@([\\w.-]+)' matches:\n",
    "# - Group 1: A sequence of word characters (letters, digits, or underscores), dots (.), or hyphens (-)\n",
    "# - The '@' symbol\n",
    "# - Group 2: Another sequence of word characters, dots, or hyphens\n",
    "match = re.search(r'([\\w.-]+)@([\\w.-]+)', str)\n",
    "\n",
    "# checks if match is found\n",
    "if match:\n",
    "    # Print the entire match (the full email address)\n",
    "    print(match.group())   # Output: 'alice-b@google.com'\n",
    "\n",
    "    # Print the first group (the username part of the email)\n",
    "    print(match.group(1))  # Output: 'alice-b'\n",
    "\n",
    "    # Print the second group (the domain part of the email)\n",
    "    print(match.group(2))  # Output: 'google.com'\n",
    "\n",
    "# A common workflow with regular expressions is to write a pattern for the thing you are looking for, adding parentheses groups to extract the specific parts you want."
   ]
  },
  {
   "cell_type": "markdown",
   "id": "bbccedb0",
   "metadata": {},
   "source": [
    "# Example 8: findall and Groups\n",
    "The parentheses ( ) group mechanism can be combined with findall(). If the pattern includes 2 or more parentheses groups, then instead of returning a list of strings, findall() returns a list of tuples. \n",
    "\n",
    "Each tuple represents one match of the pattern, and inside the tuple is the group(1), group(2) .. data. So if 2 parentheses groups are added to the email pattern, then findall() returns a list of \n",
    "\n",
    "tuples, each length 2 containing the username and host, e.g. ('alice', 'google.com')."
   ]
  },
  {
   "cell_type": "code",
   "execution_count": null,
   "id": "a22a6246",
   "metadata": {},
   "outputs": [
    {
     "name": "stdout",
     "output_type": "stream",
     "text": [
      "[('alice', 'google.com'), ('bob', 'abc.com')]\n",
      "alice\n",
      "google.com\n",
      "bob\n",
      "abc.com\n"
     ]
    }
   ],
   "source": [
    "# Define a string containing some text, including email addresses\n",
    "str = 'purple alice@google.com, blah monkey bob@abc.com blah dishwasher'\n",
    "\n",
    "# Use the re.findall() method to find all matches of the pattern in the string\n",
    "# The pattern r'([\\w\\.-]+)@([\\w\\.-]+)' matches:\n",
    "# - Group 1: A sequence of word characters (letters, digits, or underscores), dots (.), or hyphens (-)\n",
    "# - The '@' symbol\n",
    "# - Group 2: Another sequence of word characters, dots, or hyphens\n",
    "# The findall() method returns a list of tuples, where each tuple contains the username and host of an email address\n",
    "tuples = re.findall(r'([\\w\\.-]+)@([\\w\\.-]+)', str)\n",
    "\n",
    "# Print the list of tuples containing the username and host of each email address\n",
    "print(tuples)  ## [('alice', 'google.com'), ('bob', 'abc.com')]\n",
    "\n",
    "# Iterate through the list of tuples\n",
    "for tuple in tuples:\n",
    "    # Print the username (first element of the tuple)\n",
    "    print(tuple[0])  ## username\n",
    "    # Print the host (second element of the tuple)\n",
    "    print(tuple[1])  ## host"
   ]
  },
  {
   "cell_type": "markdown",
   "id": "812938bc",
   "metadata": {},
   "source": [
    "Once you have the list of tuples, you can loop over it to do some computation for each tuple. If the pattern includes no parentheses, then findall() returns a list of found strings as in earlier examples. \n",
    "\n",
    "If the pattern includes a single set of parentheses, then findall() returns a list of strings corresponding to that single group. (Obscure optional feature: Sometimes you have paren ( ) groupings in the \n",
    "\n",
    "pattern, but which you do not want to extract. In that case, write the parens with a ?: at the start, e.g. (?: ) and that left paren will not count as a group result.)"
   ]
  }
 ],
 "metadata": {
  "kernelspec": {
   "display_name": "Python 3",
   "language": "python",
   "name": "python3"
  },
  "language_info": {
   "codemirror_mode": {
    "name": "ipython",
    "version": 3
   },
   "file_extension": ".py",
   "mimetype": "text/x-python",
   "name": "python",
   "nbconvert_exporter": "python",
   "pygments_lexer": "ipython3",
   "version": "3.12.0"
  }
 },
 "nbformat": 4,
 "nbformat_minor": 5
}
