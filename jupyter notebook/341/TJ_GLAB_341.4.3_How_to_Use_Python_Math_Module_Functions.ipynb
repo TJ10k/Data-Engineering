{
 "cells": [
  {
   "cell_type": "markdown",
   "id": "42a9376c",
   "metadata": {},
   "source": [
    "# 1. Example: Addition\n",
    "The Python math module provides the math.fsum() function, which is particularly useful for adding floating-point numbers with better precision than the standard + operator. \n",
    "\n",
    "The math.fsum() function takes an iterable (such as a list or tuple) of numbers as its argument and returns the sum of all elements in the iterable.\n"
   ]
  },
  {
   "cell_type": "code",
   "execution_count": 2,
   "id": "77511c8d",
   "metadata": {},
   "outputs": [
    {
     "name": "stdout",
     "output_type": "stream",
     "text": [
      "16.5\n"
     ]
    }
   ],
   "source": [
    "import math # import math module\n",
    "numbers = [1.1, 2.2, 3.3, 4.4, 5.5] # list of numbers we are adding\n",
    "result = math.fsum(numbers) # get the sum of the list \"numbers\"\n",
    "print(result) # print the sum"
   ]
  },
  {
   "cell_type": "markdown",
   "id": "ec491463",
   "metadata": {},
   "source": [
    "# 2. Example: Division\n",
    "Python has built-in division using the / operator. The math module provides math.floor() and math.ceil() functions that can be used in conjunction with division."
   ]
  },
  {
   "cell_type": "code",
   "execution_count": 8,
   "id": "2f914f08",
   "metadata": {},
   "outputs": [
    {
     "name": "stdout",
     "output_type": "stream",
     "text": [
      "3\n",
      "4\n"
     ]
    }
   ],
   "source": [
    "# using math.floor() for integer division (floor division)\n",
    "a = 10\n",
    "b = 3\n",
    "result = math.floor(a / b) # Floor division rounds down to the nearest integer\n",
    "print(result)\n",
    "\n",
    "result = math.ceil(a / b) # Ceiling division rounds up to the nearest integer\n",
    "print(result)\n",
    "\n",
    "# Easiest way to remember the difference between floor and ceiling division is think of a floor and ceiling in the real world\n",
    "# The ceiling is up and the floor is down same with the division"
   ]
  },
  {
   "cell_type": "markdown",
   "id": "c5666d50",
   "metadata": {},
   "source": [
    "# 3. Example: Exponentiation\n",
    "The math.exp() method returns a float number after raising e to the power of the given number. In other words, exp(x) gives e**x"
   ]
  },
  {
   "cell_type": "code",
   "execution_count": 13,
   "id": "024aadeb",
   "metadata": {},
   "outputs": [
    {
     "name": "stdout",
     "output_type": "stream",
     "text": [
      "1000.0\n"
     ]
    }
   ],
   "source": [
    "import math\n",
    "base = 10\n",
    "exponent = 3\n",
    "result = math.pow(base, exponent)\n",
    "print(result)\n"
   ]
  },
  {
   "cell_type": "markdown",
   "id": "6fa5da00",
   "metadata": {},
   "source": [
    "# 4. Example: Square Root\n",
    "The math.sqrt() method returns the square root of a given number."
   ]
  },
  {
   "cell_type": "code",
   "execution_count": 11,
   "id": "f05a87ba",
   "metadata": {},
   "outputs": [
    {
     "name": "stdout",
     "output_type": "stream",
     "text": [
      "12.0\n"
     ]
    }
   ],
   "source": [
    "import math\n",
    "number = 144\n",
    "result = math.sqrt(number)\n",
    "print(result)"
   ]
  },
  {
   "cell_type": "markdown",
   "id": "e131e65d",
   "metadata": {},
   "source": [
    "# 5. Example: power of a number\n",
    "The pow() function computes x**y. This function first converts its arguments into floats, and then computes the power"
   ]
  },
  {
   "cell_type": "code",
   "execution_count": 18,
   "id": "506326d8",
   "metadata": {},
   "outputs": [
    {
     "name": "stdout",
     "output_type": "stream",
     "text": [
      "The value of 3**4 is :15625\n"
     ]
    }
   ],
   "source": [
    "import math \n",
    "# Python code to demonstrate pow()\n",
    "print(\"The value of 3**4 is :\", end=\"\")\n",
    "print(pow(5,6))"
   ]
  },
  {
   "cell_type": "markdown",
   "id": "a4341180",
   "metadata": {},
   "source": [
    "# 6. Example: Logarithm:"
   ]
  },
  {
   "cell_type": "code",
   "execution_count": null,
   "id": "3004ca6f",
   "metadata": {},
   "outputs": [
    {
     "name": "stdout",
     "output_type": "stream",
     "text": [
      "4.605170185988092\n",
      "2.0\n",
      "4.605170185988092\n",
      "2.0\n"
     ]
    }
   ],
   "source": [
    "import math\n",
    "number = 100  # Number for which logarithm is calculated\n",
    "base = 10  # Base for the logarithm\n",
    "\n",
    "# Natural logarithm (base e)\n",
    "log_e = math.log(number)  # Calculate natural logarithm of 'number'\n",
    "print(log_e)  # Print the natural logarithm\n",
    "\n",
    "# Logarithm with specified base\n",
    "log_base = math.log(number, base)  # Calculate logarithm of 'number' with base 'base'\n",
    "print(log_base)  # Print the logarithm with specified base\n"
   ]
  },
  {
   "cell_type": "markdown",
   "id": "de2fcfb3",
   "metadata": {},
   "source": [
    "# 7. Example: Factorial\n",
    "Using the factorial() function, we can find the factorial of a number in a single line of the code. An error message is displayed if the number is not integral."
   ]
  },
  {
   "cell_type": "code",
   "execution_count": 20,
   "id": "78681380",
   "metadata": {},
   "outputs": [
    {
     "name": "stdout",
     "output_type": "stream",
     "text": [
      "120\n"
     ]
    }
   ],
   "source": [
    "import math\n",
    "number = 5\n",
    "factorial = math.factorial(number)\n",
    "print(factorial) "
   ]
  },
  {
   "cell_type": "markdown",
   "id": "1f44c050",
   "metadata": {},
   "source": [
    "# 8. Example: Greatest Common Divisor (GCD)\n",
    "gcd() function is used to find the greatest common divisor of two numbers passed as the arguments. "
   ]
  },
  {
   "cell_type": "code",
   "execution_count": 21,
   "id": "2bdcd400",
   "metadata": {},
   "outputs": [
    {
     "name": "stdout",
     "output_type": "stream",
     "text": [
      "14\n"
     ]
    }
   ],
   "source": [
    "import math\n",
    "\n",
    "a = 56\n",
    "b = 98\n",
    "\n",
    "gcd = math.gcd(a, b)\n",
    "print(gcd) "
   ]
  },
  {
   "cell_type": "markdown",
   "id": "793dc49a",
   "metadata": {},
   "source": [
    "# 9. Example: Combinations"
   ]
  },
  {
   "cell_type": "code",
   "execution_count": 22,
   "id": "ff721391",
   "metadata": {},
   "outputs": [
    {
     "name": "stdout",
     "output_type": "stream",
     "text": [
      "120\n"
     ]
    }
   ],
   "source": [
    "import math\n",
    "n = 10\n",
    "k = 3\n",
    "combinations = math.comb(n, k)\n",
    "print(combinations) "
   ]
  },
  {
   "cell_type": "markdown",
   "id": "08247f48",
   "metadata": {},
   "source": [
    "# 10. Example: Permutations"
   ]
  },
  {
   "cell_type": "code",
   "execution_count": 25,
   "id": "430e31ec",
   "metadata": {},
   "outputs": [
    {
     "name": "stdout",
     "output_type": "stream",
     "text": [
      "720\n"
     ]
    }
   ],
   "source": [
    "import math\n",
    "\n",
    "n = 10\n",
    "k = 3\n",
    "\n",
    "permutations = math.perm(n, k)\n",
    "print(permutations)"
   ]
  },
  {
   "cell_type": "markdown",
   "id": "ca5b676b",
   "metadata": {},
   "source": [
    "# 11. Example: Rounding Functions"
   ]
  },
  {
   "cell_type": "code",
   "execution_count": 23,
   "id": "73db889e",
   "metadata": {},
   "outputs": [
    {
     "name": "stdout",
     "output_type": "stream",
     "text": [
      "6\n",
      "5\n"
     ]
    }
   ],
   "source": [
    "import math\n",
    "number = 5.5\n",
    "\n",
    "ceil_value = math.ceil(number)  # Round up to the nearest integer\n",
    "\n",
    "floor_value = math.floor(number) # Round down to the nearest integer\n",
    "\n",
    "print(ceil_value) \n",
    "\n",
    "print(floor_value)  "
   ]
  },
  {
   "cell_type": "markdown",
   "id": "b8162b34",
   "metadata": {},
   "source": [
    "# 12. Example: Remainder and Modulo Operations"
   ]
  },
  {
   "cell_type": "code",
   "execution_count": 26,
   "id": "ec7250d4",
   "metadata": {},
   "outputs": [
    {
     "name": "stdout",
     "output_type": "stream",
     "text": [
      "1.0\n",
      "1.0\n"
     ]
    }
   ],
   "source": [
    "import math\n",
    "\n",
    "x = 10\n",
    "y = 3\n",
    "\n",
    "remainder = math.remainder(x , y)\n",
    "\n",
    "modulos = math.fmod(x, y)\n",
    "\n",
    "print(remainder)\n",
    "print(modulos)"
   ]
  }
 ],
 "metadata": {
  "kernelspec": {
   "display_name": "Python 3",
   "language": "python",
   "name": "python3"
  },
  "language_info": {
   "codemirror_mode": {
    "name": "ipython",
    "version": 3
   },
   "file_extension": ".py",
   "mimetype": "text/x-python",
   "name": "python",
   "nbconvert_exporter": "python",
   "pygments_lexer": "ipython3",
   "version": "3.12.0"
  }
 },
 "nbformat": 4,
 "nbformat_minor": 5
}
