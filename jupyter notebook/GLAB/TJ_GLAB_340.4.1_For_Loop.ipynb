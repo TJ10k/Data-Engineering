{
 "cells": [
  {
   "cell_type": "markdown",
   "metadata": {},
   "source": [
    "# Quick Notes"
   ]
  },
  {
   "cell_type": "code",
   "execution_count": null,
   "metadata": {},
   "outputs": [],
   "source": [
    "# A simple for loop allows us to iterate over items until a specified condition is met or satisfied. \n",
    "# This normally works with the help of a counter, which will be initialized at the start of the execution and will be incremented with each iteration.\n",
    "# The for loop has the following syntax:\n",
    "# for iterating_var in sequence:\n",
    "#   body of loop [statement(s)]\n"
   ]
  },
  {
   "cell_type": "markdown",
   "metadata": {},
   "source": [
    "# Example 1: \n",
    "Display sum of n Natural Numbers"
   ]
  },
  {
   "cell_type": "code",
   "execution_count": null,
   "metadata": {},
   "outputs": [],
   "source": [
    "# in the Following program, the user will be prompted to enter a positive integer number, and the program will find the sum of the \"n\" natural numbers entered by the user\n",
    "\n",
    "# Input: Take the value of 'n' from the user\n",
    "n = int(input(\"Enter a positive integer(n): \"))\n",
    "\n",
    "# Create a variable to store the sum\n",
    "sum_of_n = 0 # we are using n to define \"natural numbers\" so essentially this is sum_of_natural_numbers\n",
    "\n",
    "# Calculate the sum of the first 'n'\n",
    "for i in range(1, n + 1):\n",
    "    sum_of_n += i \n",
    "    print(f\"In this iteration i = {i} sum = {sum_of_n}\")\n",
    "\n",
    "# Display the sum\n",
    "print(f\"The sum of the first {n} natural numbers is: {sum_of_n}\")\n",
    "\n",
    "# in the above program the user is prompted to enter a positive integer\n",
    "# a variable called sum_of_n is initialized to 0\n",
    "# This variable will be used to accumulate the sum of natural numbers\n",
    "# A for loop is used to iterate through the numbers from 1 to n\n",
    "# in each iteration the current number is added to 'sum_of_n' variable \n"
   ]
  },
  {
   "cell_type": "markdown",
   "metadata": {},
   "source": [
    "# Example 2\n",
    "Palindrome"
   ]
  },
  {
   "cell_type": "code",
   "execution_count": null,
   "metadata": {},
   "outputs": [],
   "source": [
    "# In this example we are going to see whether a number is a palindrome\n",
    "# Palindrome is a number that represents the same number when reversed\n",
    "\n",
    "# Input\n",
    "number = int(input(\"Enter a number: \"))\n",
    "\n",
    "# Convert the number to a string for easier comparison\n",
    "num_str = str(number)\n",
    "\n",
    "# Reverse the string\n",
    "reversed_str = num_str[::-1]\n",
    "\n",
    "# Check if the original number and its reverse are the same\n",
    "if num_str == reversed_str:\n",
    "    print(f\"{number} is a palindrome number.\")\n",
    "else:\n",
    "    print(f\"{number} is not a palindrome number.\")"
   ]
  },
  {
   "cell_type": "markdown",
   "metadata": {},
   "source": [
    "# Example 3\n",
    "Pattern"
   ]
  },
  {
   "cell_type": "code",
   "execution_count": null,
   "metadata": {},
   "outputs": [],
   "source": [
    "# In this example, construct the dollowing pattern using a nested for loop\n",
    "# *\n",
    "# **\n",
    "# ***\n",
    "# ****\n",
    "# *****\n",
    "# ****\n",
    "# ***\n",
    "# **\n",
    "# *\n",
    "\n",
    "n=10;\n",
    "for i in range(n):\n",
    "    for j in range(i):\n",
    "        print('* ', end=\"\")\n",
    "    print('')\n",
    "\n",
    "for i in range(n,0,-1):\n",
    "    for j in range(i):\n",
    "        print('* ', end=\"\")\n",
    "    print('') \n",
    "\n",
    "s=50;\n",
    "for i in range(s):\n",
    "    for j in range(i):\n",
    "        print('$ ', end=\"\")\n",
    "    print('')\n",
    "\n",
    "\n",
    "for i in range(s,0,-1):\n",
    "    for j in range(i):\n",
    "        print('$ ', end=\"\")\n",
    "    print('')\n"
   ]
  },
  {
   "cell_type": "markdown",
   "metadata": {},
   "source": [
    "# Example 4\n",
    "Pyramid Pattern"
   ]
  },
  {
   "cell_type": "code",
   "execution_count": null,
   "metadata": {},
   "outputs": [],
   "source": [
    "# Input for numbers of rows for the pyramid\n",
    "n = int(input(\"Enter the number of rows for the pyramid: \"))\n",
    "\n",
    "# Outer Loop for the numbers of rows\n",
    "for i in range(1, n + 1):\n",
    "    # print leading spaces for formatting\n",
    "    for j in range(n - i):\n",
    "        print(\" \", end=\"\")\n",
    "    # Print asterisks for the current row\n",
    "    for k in range(2 * i - 1):\n",
    "        print(\"*\", end=\"\")\n",
    "    # Move to the next line for the next row\n",
    "    print()"
   ]
  }
 ],
 "metadata": {
  "kernelspec": {
   "display_name": "Python 3",
   "language": "python",
   "name": "python3"
  },
  "language_info": {
   "codemirror_mode": {
    "name": "ipython",
    "version": 3
   },
   "file_extension": ".py",
   "mimetype": "text/x-python",
   "name": "python",
   "nbconvert_exporter": "python",
   "pygments_lexer": "ipython3",
   "version": "3.12.0"
  }
 },
 "nbformat": 4,
 "nbformat_minor": 2
}
