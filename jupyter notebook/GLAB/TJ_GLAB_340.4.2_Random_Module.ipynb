{
 "cells": [
  {
   "cell_type": "markdown",
   "metadata": {},
   "source": [
    "This lab demonstrates how to generate random data in Python using a random module. In Python, a random module implements pseudo-random number generators for various distributions, including integer and float (real).\n",
    "\n",
    "Python has a built-in module that you can use to make random numbers. It can be used to perform some action randomly such as getting a random number, selecting random elements from a list, shuffling elements randomly, etc.\n",
    "\n",
    "You need to import the random module into your program. Use the following statement to import the random module into your code\n"
   ]
  },
  {
   "cell_type": "markdown",
   "metadata": {},
   "source": [
    "# Example 1\n",
    "Generate Random Floats"
   ]
  },
  {
   "cell_type": "code",
   "execution_count": null,
   "metadata": {},
   "outputs": [],
   "source": [
    "import random\n",
    "print(random.random())"
   ]
  },
  {
   "cell_type": "markdown",
   "metadata": {},
   "source": [
    "# Example 2\n",
    "Generate Random Integers"
   ]
  },
  {
   "cell_type": "code",
   "execution_count": null,
   "metadata": {},
   "outputs": [],
   "source": [
    "import random\n",
    "print(random.randint(1, 100))\n",
    "print(random.randint(1, 100))"
   ]
  },
  {
   "cell_type": "markdown",
   "metadata": {},
   "source": [
    "# Example 3\n",
    "Generate Random Numbers Within Range"
   ]
  },
  {
   "cell_type": "code",
   "execution_count": null,
   "metadata": {},
   "outputs": [],
   "source": [
    "import random\n",
    "print(random.randrange(1, 10))\n",
    "print(random.randrange(1, 10, 2))\n",
    "print(random.randrange(0, 101, 10))"
   ]
  },
  {
   "cell_type": "markdown",
   "metadata": {},
   "source": [
    "# Example 4\n",
    "Select Random Elements"
   ]
  },
  {
   "cell_type": "code",
   "execution_count": null,
   "metadata": {},
   "outputs": [],
   "source": [
    "# The random.choice() method returns a randomly selected element from a non-empty sequence. \n",
    "# An empty sequence as an argument raises an IndexError.\n",
    "import random\n",
    "print(random.choice('computer'))\n",
    "print(random.choice([12,23,45,67,65,43]))\n",
    "print(random.choice((12,23,45,67,65,43)))"
   ]
  },
  {
   "cell_type": "markdown",
   "metadata": {},
   "source": [
    "# Example 5 \n",
    "Select Random Items from Data Set"
   ]
  },
  {
   "cell_type": "code",
   "execution_count": 14,
   "metadata": {},
   "outputs": [
    {
     "name": "stdout",
     "output_type": "stream",
     "text": [
      "[100, 80, 20]\n",
      "[27, 84, 29, 62, 43]\n"
     ]
    }
   ],
   "source": [
    "# The random.sample() function chooses a sample/multiple items from a Python list, set, or dictionary. \n",
    "# It returns a list of unique items chosen randomly from the list, sequence, or set.\n",
    "# Syntax: random.sample(population, k) \n",
    "# population: It can be any sequence, such as a list, set, or string, from which you want to select a k-length number.\n",
    "# k: It is the number of random items you want to select from the sequence. k must be less than the size of the specified list.\n",
    "\n",
    "# list\n",
    "import random\n",
    "aList = [20, 40, 60, 80 ,100, 120]\n",
    "sampled_list = random.sample(aList, 3)\n",
    "print(sampled_list)\n",
    "\n",
    "# create list of random 5 numbers\n",
    "import random \n",
    "num_list = random.sample(range(100), 5)\n",
    "print(num_list)"
   ]
  }
 ],
 "metadata": {
  "kernelspec": {
   "display_name": "Python 3",
   "language": "python",
   "name": "python3"
  },
  "language_info": {
   "codemirror_mode": {
    "name": "ipython",
    "version": 3
   },
   "file_extension": ".py",
   "mimetype": "text/x-python",
   "name": "python",
   "nbconvert_exporter": "python",
   "pygments_lexer": "ipython3",
   "version": "3.12.0"
  }
 },
 "nbformat": 4,
 "nbformat_minor": 2
}
