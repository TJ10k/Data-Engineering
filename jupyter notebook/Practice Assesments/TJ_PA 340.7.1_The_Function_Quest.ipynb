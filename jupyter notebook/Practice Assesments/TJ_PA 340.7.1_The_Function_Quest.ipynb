{
 "cells": [
  {
   "cell_type": "markdown",
   "metadata": {},
   "source": [
    "# Task 1: Enter the Realm of Functions\n",
    "step into the magical realm of functions and unravel their secrets with the following example:"
   ]
  },
  {
   "cell_type": "code",
   "execution_count": 29,
   "metadata": {},
   "outputs": [
    {
     "name": "stdout",
     "output_type": "stream",
     "text": [
      "The sum is 8\n",
      "The difference is 6\n",
      "The product is 12\n",
      "The quotient is Error: Division by zero!\n",
      "The quotient is 4.0\n"
     ]
    }
   ],
   "source": [
    "# The Mighty Calculator \n",
    "def add_numbers(a, b): # defines a function with a and b as those are the parameters\n",
    "    return a + b # returns a + b\n",
    "\n",
    "def subtract_numbers(a, b): \n",
    "    return a - b # returns a - b \n",
    "\n",
    "def multiply_numbers(a, b):\n",
    "    return a * b # returns a * b\n",
    "\n",
    "def divide_numbers(a, b):\n",
    "    if b != 0: # saying if b is not equal to 0 then our function will return a / b\n",
    "        return a / b\n",
    "    else:\n",
    "        return \"Error: Division by zero!\" # prevents the function from working if b is equal to 0\n",
    "    \n",
    "result = add_numbers(5, 3) # Adds 5 and 3\n",
    "print(f'The sum is {result}')\n",
    "\n",
    "result = subtract_numbers(10, 4) # Subtracts 10 and 4\n",
    "print(f'The difference is {result}')\n",
    "\n",
    "result = multiply_numbers(6, 2) # Multiplys 6 by 2\n",
    "print(f'The product is {result}')\n",
    "\n",
    "result = divide_numbers(15, 0) # Prints an error we cant divide by zero\n",
    "print(f'The quotient is {result}')\n",
    "\n",
    "result = divide_numbers(16, 4) # Divides 16 by 4\n",
    "print(f'The quotient is {result}')\n"
   ]
  }
 ],
 "metadata": {
  "kernelspec": {
   "display_name": "Python 3",
   "language": "python",
   "name": "python3"
  },
  "language_info": {
   "codemirror_mode": {
    "name": "ipython",
    "version": 3
   },
   "file_extension": ".py",
   "mimetype": "text/x-python",
   "name": "python",
   "nbconvert_exporter": "python",
   "pygments_lexer": "ipython3",
   "version": "3.12.0"
  }
 },
 "nbformat": 4,
 "nbformat_minor": 2
}
