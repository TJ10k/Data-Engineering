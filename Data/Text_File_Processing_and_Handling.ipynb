{
 "cells": [
  {
   "cell_type": "markdown",
   "id": "334cae0f",
   "metadata": {},
   "source": [
    "# How to Open a File\n",
    "Python has a built-in function open(file_name, mode) to open a file. This function returns a file object. It is used to read or modify the file accordingly.\n",
    "\n",
    "We can specify the mode while opening a file. In mode, we specify whether we want to read 'r', write 'w', or append 'a' to the file. We also specify if we want to open the file in text mode or binary mode.\n",
    "\n",
    "The default is reading in text mode. In this mode, we get strings when reading from the file. Binary mode returns bytes and this is the mode to be used when dealing with non-text files like image or executable files."
   ]
  },
  {
   "cell_type": "code",
   "execution_count": 12,
   "id": "f3c3623f",
   "metadata": {},
   "outputs": [],
   "source": [
    "# open the file in the current directory(relative path)\n",
    "f = open('my_file.txt')\n",
    "# open the file using full path(absolute path)\n",
    "# f = open('file_path') #note change file path as per your computer"
   ]
  },
  {
   "cell_type": "markdown",
   "id": "f2b2333a",
   "metadata": {},
   "source": [
    "# Python File Modes\n",
    "File modes in Python dictate how a file is opened and what operations can be performed on it. Here is a breakdown of common file modes:\n",
    "\n",
    "'r' (Read): Opens a file for reading. It is the default mode if no mode is specified. Raises an error if the file does not exist.\n",
    "\n",
    "'w' (Write): Opens a file for writing. If the file exists, its contents are overwritten. If the file does not exist, a new file is created.\n",
    "\n",
    "'a' (Append): Opens a file for appending. Data is written to the end of the file. Creates a new file if it does not exist.\n",
    "\n",
    "'x' (Exclusive Creation): Opens a file for exclusive creation. If the file already exists, it raises a FileExistsError. If the file does not exist, it creates it \n",
    "and opens it for writing.\n",
    "\n",
    "'b' (Binary): Used with other modes to open a file in binary mode. For example, 'rb' opens a file for reading in binary mode.\n",
    "\n",
    "'t' (Text): The default mode. Opens a file in text mode.\n",
    "\n",
    "'+' (Read and Write): Used with other modes to allow both reading and writing. For example, 'r+' opens a file for both reading and writing, starting from the beginning of the file. 'w+' also allows both reading and writing but truncates the file first. 'a+' opens a file for both appending and reading.\n",
    "\n",
    "The modes can be combined, for instance:\n",
    "'rb': Opens a binary file for reading.\n",
    "\n",
    "'wt': Opens a text file for writing (same as 'w').\n",
    "\n",
    "'r+': Opens a file for both reading and writing.\n",
    "\n",
    "'a+': Opens a file for both appending and reading.\n"
   ]
  },
  {
   "cell_type": "code",
   "execution_count": 14,
   "id": "c710f478",
   "metadata": {},
   "outputs": [],
   "source": [
    "f = open('my_file.txt') # equivalent to 'r' or 'rt'\n",
    "f = open('my_file.csv', 'w') # write in text mode\n",
    "f = open('sales.txt', 'r+b') # read and write in binary mode\n"
   ]
  },
  {
   "cell_type": "markdown",
   "id": "0b243042",
   "metadata": {},
   "source": [
    "# Python File Encoding\n",
    "Unlike other languages, the character 'a' does not imply the number 97 until it is encoded using ASCII (or other equivalent encodings). Moreover, the default encoding is platform dependent. In windows, it is 'cp1252' but in Linux, it is 'utf-8'.\n",
    "\n",
    "So, we must not also rely on the default encoding or else our code will behave differently in different platforms. Therefore, when working with files in text mode, it is highly recommended to specify the encoding type.\n"
   ]
  },
  {
   "cell_type": "code",
   "execution_count": 15,
   "id": "1328992f",
   "metadata": {},
   "outputs": [
    {
     "data": {
      "text/plain": [
       "<_io.TextIOWrapper name='my_file.csv' mode='w' encoding='utf-8'>"
      ]
     },
     "execution_count": 15,
     "metadata": {},
     "output_type": "execute_result"
    }
   ],
   "source": [
    "f = open('my_file.txt', mode = 'r', encoding = 'mac_roman') \n",
    "open('my_file.csv', mode = 'w', encoding = 'utf-8')"
   ]
  },
  {
   "cell_type": "markdown",
   "id": "11cb06a1",
   "metadata": {},
   "source": [
    "# How to Close a File\n",
    "When we are done with operations to the file, the file needs to be properly closed. Closing a file will free up the resources that were tied with the file and is done using close() method. Python has a garbage collector to clean up unreferenced objects, but we must not rely on it to close the file.\n",
    "\n"
   ]
  },
  {
   "cell_type": "code",
   "execution_count": null,
   "id": "8b709a73",
   "metadata": {},
   "outputs": [],
   "source": [
    "f = open('my_file.txt', encoding = 'utf-8')\n",
    "# perform file operations\n",
    "f.close()"
   ]
  },
  {
   "cell_type": "markdown",
   "id": "a5b8a375",
   "metadata": {},
   "source": [
    "This method is not entirely safe. If an exception occurs when we are performing some operation with the file, the code exits without closing the file.\n",
    "\n",
    "A safer way is to use a try....finally block.\n",
    "\n",
    "This way, we are guaranteed that the file is properly closed even if an exception is raised, causing program flow to stop.\n",
    "\n",
    "The best way to do this is using the `with` statement. This ensures that the file is closed when the block inside with is exited. We do not need to explicitly call the close() method. It is done internally.\n"
   ]
  },
  {
   "cell_type": "code",
   "execution_count": 22,
   "id": "ef0ec10e",
   "metadata": {},
   "outputs": [],
   "source": [
    "try:\n",
    "    f = open('my_file.txt', encoding = 'utf-8')\n",
    "# perform file operations\n",
    "finally:\n",
    "    f.close()"
   ]
  },
  {
   "cell_type": "markdown",
   "id": "43dbb80e",
   "metadata": {},
   "source": [
    "# How to Read a File\n",
    "In order to read a file in Python, we need to open it in read 'r' mode, or update '+' mode.\n",
    "\n",
    "There are various methods available for this purpose.\n",
    "\n",
    "read(n) – Reads and returns at most n bytes/characters from the file, and reads until rhe end of the file if it is negative or not provided.\n",
    "\n",
    "readline(n=-1) – Reads and returns one line from the file; reads at most n bytes/characters if specified.\n",
    "\n",
    "readlines() – Reads and returns a list of lines from the file."
   ]
  },
  {
   "cell_type": "code",
   "execution_count": 4,
   "id": "9033e269",
   "metadata": {},
   "outputs": [
    {
     "name": "stdout",
     "output_type": "stream",
     "text": [
      "How\n",
      " Pytho\n",
      "n Hand\n",
      "les Files?\n",
      "\n",
      "If you are working in a large software application where they process a large amount\n",
      "of data, then we cannot expect that data to be stored in a variable as the variables are\n",
      "volatile in nature.\n",
      "\n",
      "Hence when you are about to handle such situations, the role of files will come into\n",
      "the picture.\n",
      "\n",
      "As files are non-volatile in nature, the data will be stored permanently in a secondary\n",
      "device like Hard Disk and using python we will handle these files in our applications.\n",
      "\n",
      "Are you thinking about how python will handle files?\n",
      "\n",
      "Let’s take an Example of how normal people will handle the files. If we want to read\n",
      "the data from a file or write the data into a file, then, first of all, we will open the file\n",
      "or will create a new file if the file does not exist and then perform the normal\n",
      "read/write operations, save the file and close it.\n",
      "\n",
      "Similarly, we do the same operations in python using some in-built methods or\n",
      "functions.\n",
      "[]\n"
     ]
    }
   ],
   "source": [
    "with open('my_file.txt', mode = 'r+') as fo:\n",
    "    print(fo.read(3))\n",
    "    print(fo.read(6))\n",
    "    print(fo.read(6))\n",
    "    print(fo.readline())\n",
    "    print(fo.read())\n",
    "    print(fo.readlines())\n",
    "\n"
   ]
  },
  {
   "cell_type": "markdown",
   "id": "15095584",
   "metadata": {},
   "source": [
    "# File Positions Overview\n",
    "The file object has something called a file cursor/position, which Python uses as a starting position for reading and writing. The default position is 0.\n",
    "\n",
    "tell() – Returns the current position of the cursor within the file.\n",
    "\n",
    "seek(n) – Moves the current position of the cursor to n.\n",
    "\n",
    "Example reads 3 bytes, and then moves cursor to position 45.\n"
   ]
  },
  {
   "cell_type": "code",
   "execution_count": 5,
   "id": "0171ccd4",
   "metadata": {},
   "outputs": [
    {
     "name": "stdout",
     "output_type": "stream",
     "text": [
      "How\n",
      "3\n",
      "45\n",
      " in a large software application where they process a large amount\n",
      "of data, then we cannot expect that data to be stored in a variable as the variables are\n",
      "volatile in nature.\n",
      "\n",
      "Hence when you are about to handle such situations, the role of files will come into\n",
      "the picture.\n",
      "\n",
      "As files are non-volatile in nature, the data will be stored permanently in a secondary\n",
      "device like Hard Disk and using python we will handle these files in our applications.\n",
      "\n",
      "Are you thinking about how python will handle files?\n",
      "\n",
      "Let’s take an Example of how normal people will handle the files. If we want to read\n",
      "the data from a file or write the data into a file, then, first of all, we will open the file\n",
      "or will create a new file if the file does not exist and then perform the normal\n",
      "read/write operations, save the file and close it.\n",
      "\n",
      "Similarly, we do the same operations in python using some in-built methods or\n",
      "functions.\n"
     ]
    }
   ],
   "source": [
    "with open('my_file.txt', mode = 'r+') as fo:\n",
    "    print(fo.read(3))\n",
    "    print(fo.tell())\n",
    "    fo.seek(45)\n",
    "    print(fo.tell())\n",
    "    print(fo.read())"
   ]
  },
  {
   "cell_type": "markdown",
   "id": "e22bdb0b",
   "metadata": {},
   "source": [
    "# Example: Write List to a File using a Loop\n",
    "This program writes a list of names to a text file, with each name on a new line"
   ]
  },
  {
   "cell_type": "code",
   "execution_count": 6,
   "id": "a07493d2",
   "metadata": {},
   "outputs": [
    {
     "name": "stdout",
     "output_type": "stream",
     "text": [
      "Jessa\n",
      "Eric\n",
      "Bob\n",
      "Names have been written to the file.\n"
     ]
    }
   ],
   "source": [
    "def write_names_to_file(names, file_path):\n",
    "    try:\n",
    "        with open(file_path, 'w') as fp:\n",
    "            for item in names:\n",
    "                fp.write(\"%s\\n\" % item)\n",
    "                print(item)\n",
    "            print('Names have been written to the file.')\n",
    "    except Exception as e:\n",
    "        print(f\"An error occurred: {str(e)}\")\n",
    "\n",
    "# Example of using the function\n",
    "names = ['Jessa', 'Eric', 'Bob']\n",
    "\n",
    "#file_path = r'E:/files_Path/sales.txt'\n",
    "file_path = r'sales.txt'\n",
    "\n",
    "write_names_to_file(names, file_path)"
   ]
  },
  {
   "cell_type": "markdown",
   "id": "c1425577",
   "metadata": {},
   "source": [
    "# Example: Write a list to file without using a Loop\n",
    "This program writes a list of names to a text file, with each name on a new line"
   ]
  },
  {
   "cell_type": "code",
   "execution_count": 7,
   "id": "52fd9b99",
   "metadata": {},
   "outputs": [
    {
     "name": "stdout",
     "output_type": "stream",
     "text": [
      "Names have been written to the file.\n"
     ]
    }
   ],
   "source": [
    "def write_names_to_file(names, file_path):\n",
    "    try:\n",
    "        with open(file_path, 'w') as fp:\n",
    "            fp.write('\\n'.join(names))\n",
    "        print('Names have been written to the file.')\n",
    "    except Exception as e:\n",
    "        print(f\"An error occurred: {str(e)}\")\n",
    "\n",
    "# Example of using the function\n",
    "names = ['Jessa', 'Eric', 'Bob']\n",
    "file_path = r'sales.txt'\n",
    "#file_path = r'E:/files_Path/sales.txt'\n",
    "write_names_to_file(names, file_path)\n"
   ]
  },
  {
   "cell_type": "markdown",
   "id": "7e6f8b33",
   "metadata": {},
   "source": [
    "To append data into a file we must open the file in ‘a+’ mode so that we will have access to both the append as well as write modes."
   ]
  },
  {
   "cell_type": "code",
   "execution_count": 9,
   "id": "51b7b37e",
   "metadata": {},
   "outputs": [],
   "source": [
    "with open(r'sales.txt', 'a+') as fp:\n",
    "  fp.write (\"\\nJohn\")\n",
    "\n",
    "name = [\"\\nHaseeb\", \"\\nJames\", \"\\nFig\", \"\\nTano\"]\n",
    "#my_file = open(C:/Documents/Python/test.txt”, “a+”)\n",
    "with open(r'sales.txt', 'a+') as fp:\n",
    "  fp.writelines(name)\n",
    "#my_file.writelines(fruits)\n"
   ]
  }
 ],
 "metadata": {
  "kernelspec": {
   "display_name": "Python 3",
   "language": "python",
   "name": "python3"
  },
  "language_info": {
   "codemirror_mode": {
    "name": "ipython",
    "version": 3
   },
   "file_extension": ".py",
   "mimetype": "text/x-python",
   "name": "python",
   "nbconvert_exporter": "python",
   "pygments_lexer": "ipython3",
   "version": "3.12.0"
  }
 },
 "nbformat": 4,
 "nbformat_minor": 5
}
