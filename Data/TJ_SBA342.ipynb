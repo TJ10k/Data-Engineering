{
 "cells": [
  {
   "cell_type": "code",
   "execution_count": null,
   "id": "6a350afa",
   "metadata": {},
   "outputs": [
    {
     "name": "stdout",
     "output_type": "stream",
     "text": [
      "Minimum Body Temperature for Dr Arnold Bullock is: 99\n",
      "Maximum Body Temperature for Dr Arnold Bullock is: 103\n",
      "Minimum Body Temperature for Dr Allysa Ellis is: 97\n",
      "Maximum Body Temperature for Dr Allysa Ellis is: 99\n",
      "Minimum Body Temperature for Dr Adam is: None\n",
      "Maximum Body Temperature for Dr Adam is: None\n"
     ]
    }
   ],
   "source": [
    "import requests\n",
    "\n",
    "def bodyTemperature(doctorName, diagnosisId):\n",
    "    base_url = \"https://jsonmock.hackerrank.com/api/medical_records\"\n",
    "    page = 1\n",
    "    body_temperatures = []\n",
    "\n",
    "    try:\n",
    "        # Initial request to get total number of pages\n",
    "        response = requests.get(f\"{base_url}?page={page}\")\n",
    "        response.raise_for_status() # will raise the status code if theres a failure\n",
    "        json_data = response.json()\n",
    "        total_pages = json_data.get(\"total_pages\", 0)\n",
    "\n",
    "        # Go through all pages\n",
    "        while page <= total_pages:  # loop will continue as long as the page number is less than or equal to total_pages\n",
    "            response = requests.get(f\"{base_url}?page={page}\")\n",
    "            response.raise_for_status()\n",
    "            data = response.json().get(\"data\", [])\n",
    "\n",
    "            for record in data:\n",
    "                try:\n",
    "                    # Apply filters for doctor name and diagnosis ID\n",
    "                    if (\n",
    "                        record.get(\"doctor\", {}).get(\"name\") == doctorName and\n",
    "                        record.get(\"diagnosis\", {}).get(\"id\") == diagnosisId\n",
    "                    ):\n",
    "                        # Extract body temperature and add to list\n",
    "                        temp = record.get(\"vitals\", {}).get(\"bodyTemperature\")\n",
    "                        if isinstance(temp, (float, int)):\n",
    "                            body_temperatures.append(int(temp))  # Convert to integer\n",
    "                except (KeyError, TypeError):\n",
    "                    # Skip record if any field is missing\n",
    "                    continue\n",
    "\n",
    "            page += 1\n",
    "\n",
    "        # Return the result\n",
    "        if body_temperatures:\n",
    "            return [min(body_temperatures), max(body_temperatures)]\n",
    "        else:\n",
    "            return [None, None]\n",
    "        # this raises an error if one is found\n",
    "    except requests.RequestException as e:\n",
    "        print(\"Error fetching data:\", e)\n",
    "\n",
    "# Expected Inputs I switched mine to F strings I thought it would look a lot cleaner\n",
    "doctor_name = \"Dr Arnold Bullock\"\n",
    "diagnosis_id = 2\n",
    "result = bodyTemperature(doctor_name, diagnosis_id)\n",
    "print(f\"Minimum Body Temperature for {doctor_name} is:\", result[0])\n",
    "print(f\"Maximum Body Temperature for {doctor_name} is:\", result[1])\n",
    "\n",
    "doctor_name = \"Dr Allysa Ellis\"\n",
    "diagnosis_id = 4\n",
    "result = bodyTemperature(doctor_name, diagnosis_id)\n",
    "print(f\"Minimum Body Temperature for {doctor_name} is:\", result[0])\n",
    "print(f\"Maximum Body Temperature for {doctor_name} is:\", result[1])\n",
    "\n",
    "doctor_name = \"Dr Adam\"\n",
    "diagnosis_id = 5\n",
    "result = bodyTemperature(doctor_name, diagnosis_id)\n",
    "print(f\"Minimum Body Temperature for {doctor_name} is:\", result[0])\n",
    "print(f\"Maximum Body Temperature for {doctor_name} is:\", result[1])\n"
   ]
  }
 ],
 "metadata": {
  "kernelspec": {
   "display_name": "Python 3",
   "language": "python",
   "name": "python3"
  },
  "language_info": {
   "codemirror_mode": {
    "name": "ipython",
    "version": 3
   },
   "file_extension": ".py",
   "mimetype": "text/x-python",
   "name": "python",
   "nbconvert_exporter": "python",
   "pygments_lexer": "ipython3",
   "version": "3.12.0"
  }
 },
 "nbformat": 4,
 "nbformat_minor": 5
}
