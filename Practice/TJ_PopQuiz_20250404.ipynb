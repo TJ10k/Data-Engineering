{
 "cells": [
  {
   "cell_type": "markdown",
   "metadata": {},
   "source": [
    "## Write a FOR loop to find letters IN the word \"Tampa\" and PRINT them to the screen"
   ]
  },
  {
   "cell_type": "code",
   "execution_count": null,
   "metadata": {},
   "outputs": [
    {
     "name": "stdout",
     "output_type": "stream",
     "text": [
      "T\n",
      "a\n",
      "m\n",
      "p\n",
      "a\n",
      "\n",
      "T a m p a "
     ]
    }
   ],
   "source": [
    "city = 'Tampa'\n",
    "for i in city:\n",
    "    print(i)\n",
    "\n",
    "print() # OR\n",
    "\n",
    "for j in city:\n",
    "    print(j, end=\" \")"
   ]
  },
  {
   "cell_type": "markdown",
   "metadata": {},
   "source": [
    "## Write a FOR loop to find letters IN the word \"Tampa\", but add a condition to only PRINT the vowels IN the word \"Tampa\""
   ]
  },
  {
   "cell_type": "code",
   "execution_count": null,
   "metadata": {},
   "outputs": [
    {
     "name": "stdout",
     "output_type": "stream",
     "text": [
      "a a "
     ]
    }
   ],
   "source": [
    "city = 'Tampa'\n",
    "vowels = 'aeiouAEIOU'\n",
    "\n",
    "for letter in city:\n",
    "    if letter in vowels:\n",
    "        print(letter, end=\" \")"
   ]
  },
  {
   "cell_type": "markdown",
   "metadata": {},
   "source": [
    "## [BONUS] Write a FOR loop to find letters IN the word \"Tampa\", but add a condition to only PRINT the vowels IN the word \"Tampa\" AND save the Output to a variable \"x\"."
   ]
  },
  {
   "cell_type": "code",
   "execution_count": 11,
   "metadata": {},
   "outputs": [
    {
     "name": "stdout",
     "output_type": "stream",
     "text": [
      " a a \n"
     ]
    }
   ],
   "source": [
    "city = 'Tampa'\n",
    "vowels = 'aeiouAEIOU'\n",
    "x = \" \"\n",
    "for letter in city:\n",
    "    if letter in vowels:\n",
    "        x += letter + \" \"\n",
    "\n",
    "print(x)"
   ]
  },
  {
   "cell_type": "markdown",
   "metadata": {},
   "source": [
    "## Write a FUNCTION called \"consonant_finder\" and use LIST COMPREHENSION to find letters IN the word \"Tampa\", but add a condition to only PRINT the consonants IN the word \"Tampa\" AND save the Output to a variable \"x\"."
   ]
  },
  {
   "cell_type": "code",
   "execution_count": 6,
   "metadata": {},
   "outputs": [
    {
     "name": "stdout",
     "output_type": "stream",
     "text": [
      "['T', 'm', 'p']\n"
     ]
    }
   ],
   "source": [
    "city = 'Tampa'\n",
    "vowels = 'aeiouAEIOU'\n",
    "\n",
    "def consonant_finder(city):\n",
    "    return [c for c in city if c not in vowels]\n",
    "\n",
    "find = consonant_finder(city)\n",
    "print(find)"
   ]
  },
  {
   "cell_type": "code",
   "execution_count": 29,
   "metadata": {},
   "outputs": [
    {
     "name": "stdout",
     "output_type": "stream",
     "text": [
      "hello TJ\n"
     ]
    }
   ],
   "source": [
    "hello1 = lambda name : print('hello', name)\n",
    "hello1('TJ')\n"
   ]
  }
 ],
 "metadata": {
  "kernelspec": {
   "display_name": "Python 3",
   "language": "python",
   "name": "python3"
  },
  "language_info": {
   "codemirror_mode": {
    "name": "ipython",
    "version": 3
   },
   "file_extension": ".py",
   "mimetype": "text/x-python",
   "name": "python",
   "nbconvert_exporter": "python",
   "pygments_lexer": "ipython3",
   "version": "3.12.0"
  }
 },
 "nbformat": 4,
 "nbformat_minor": 2
}
