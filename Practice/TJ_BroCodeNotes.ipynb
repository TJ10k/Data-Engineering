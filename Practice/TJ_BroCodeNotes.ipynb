{
 "cells": [
  {
   "cell_type": "code",
   "execution_count": 28,
   "metadata": {},
   "outputs": [
    {
     "name": "stdout",
     "output_type": "stream",
     "text": [
      "Happy birthday to Kenna!\n",
      "You are 18 years old!\n",
      "Happy birthday to you!\n",
      "\n",
      "Happy birthday to TJ!\n",
      "You are 20 years old!\n",
      "Happy birthday to you!\n",
      "\n",
      "Happy birthday to Brenda!\n",
      "You are 60 years old!\n",
      "Happy birthday to you!\n",
      "\n"
     ]
    }
   ],
   "source": [
    "# function = A block of reusable code\n",
    "#       place () after the function name to invoke it\n",
    "\n",
    "def happy_birthday(name , age):\n",
    "\tprint(f\"Happy birthday to {name}!\") \n",
    "\tprint(f\"You are {age} years old!\")\n",
    "\tprint(\"Happy birthday to you!\")\n",
    "\tprint()\n",
    "\n",
    "happy_birthday(\"Kenna\", 18)\n",
    "happy_birthday(\"TJ\", 20)\n",
    "happy_birthday(\"Brenda\", 60)"
   ]
  },
  {
   "cell_type": "code",
   "execution_count": 8,
   "metadata": {},
   "outputs": [
    {
     "name": "stdout",
     "output_type": "stream",
     "text": [
      "Hello Tj\n",
      "your bill of $15000.00 is due 01/01\n"
     ]
    }
   ],
   "source": [
    "def display_invoice(username, amount, due_date):\n",
    "    print(f\"Hello {username}\")\n",
    "    print(f\"your bill of ${amount:.2f} is due {due_date}\")\n",
    "\n",
    "display_invoice(\"Tj\", 15000, \"01/01\")\n",
    "\n"
   ]
  },
  {
   "cell_type": "code",
   "execution_count": 10,
   "metadata": {},
   "outputs": [
    {
     "name": "stdout",
     "output_type": "stream",
     "text": [
      "3\n",
      "-1\n",
      "2\n",
      "0.5\n"
     ]
    }
   ],
   "source": [
    "# return = statement used to end a function\n",
    "#          and send a result back to the caller\n",
    "\n",
    "def add(x, y):\n",
    "    z = x + y\n",
    "    return z\n",
    "\n",
    "def subtract(x, y):\n",
    "    z = x - y\n",
    "    return z\n",
    "\n",
    "def multiply(x, y):\n",
    "    z = x * y\n",
    "    return z\n",
    "\n",
    "def divide(x, y):\n",
    "    z = x / y\n",
    "    return z\n",
    "\n",
    "print(add(1, 2))\n",
    "print(subtract(1, 2))\n",
    "print(multiply(1, 2))\n",
    "print(divide(1, 2))"
   ]
  },
  {
   "cell_type": "code",
   "execution_count": 22,
   "metadata": {},
   "outputs": [
    {
     "name": "stdout",
     "output_type": "stream",
     "text": [
      "Spongebob Circlepants\n"
     ]
    }
   ],
   "source": [
    "def create_name(first, last):\n",
    "    first = first.capitalize()\n",
    "    last = last.capitalize()\n",
    "    return first + \" \" + last\n",
    "\n",
    "\n",
    "full_name = create_name(\"spongebob\", \"circlepants\")\n",
    "\n",
    "print(full_name)"
   ]
  }
 ],
 "metadata": {
  "kernelspec": {
   "display_name": "Python 3",
   "language": "python",
   "name": "python3"
  },
  "language_info": {
   "codemirror_mode": {
    "name": "ipython",
    "version": 3
   },
   "file_extension": ".py",
   "mimetype": "text/x-python",
   "name": "python",
   "nbconvert_exporter": "python",
   "pygments_lexer": "ipython3",
   "version": "3.12.0"
  }
 },
 "nbformat": 4,
 "nbformat_minor": 2
}
