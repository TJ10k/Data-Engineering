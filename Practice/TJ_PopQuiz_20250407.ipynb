{
 "cells": [
  {
   "cell_type": "code",
   "execution_count": null,
   "id": "caf448a8",
   "metadata": {},
   "outputs": [
    {
     "name": "stdout",
     "output_type": "stream",
     "text": [
      "Hello\n",
      "Class\n",
      "Hello\\nClass\n"
     ]
    }
   ],
   "source": [
    "# What is the difference between a normal string and a raw string.\n",
    "\n",
    "text =\"Hello\\nClass\" # Your normal day to day string\n",
    "print(text)\n",
    "\n",
    "text2 = r\"Hello\\nClass\" # you use these when specifying a file location or using regex as raw strings dont interpret back slashes\n",
    "print(text2)"
   ]
  },
  {
   "cell_type": "code",
   "execution_count": 3,
   "id": "f2d19208",
   "metadata": {},
   "outputs": [
    {
     "name": "stdout",
     "output_type": "stream",
     "text": [
      "[900, 1600, 400, 25, 100, 225]\n"
     ]
    }
   ],
   "source": [
    "# Write A lambda function used with map() to square all elements in a list\n",
    "\n",
    "numbers = [30, 40, 20, 5, 10, 15]\n",
    "squared = list(map(lambda x: x**2, numbers))\n",
    "print(squared)"
   ]
  },
  {
   "cell_type": "code",
   "execution_count": null,
   "id": "2713276f",
   "metadata": {},
   "outputs": [
    {
     "name": "stdout",
     "output_type": "stream",
     "text": [
      "['L', 'e', 'b', 'r', 'o', 'n']\n"
     ]
    }
   ],
   "source": [
    "# Write a function to find the letters in a word\n",
    "\n",
    "word = \"Lebron\"\n",
    "letters = [letter for letter in word]\n",
    "print(letters)"
   ]
  }
 ],
 "metadata": {
  "kernelspec": {
   "display_name": "Python 3",
   "language": "python",
   "name": "python3"
  },
  "language_info": {
   "codemirror_mode": {
    "name": "ipython",
    "version": 3
   },
   "file_extension": ".py",
   "mimetype": "text/x-python",
   "name": "python",
   "nbconvert_exporter": "python",
   "pygments_lexer": "ipython3",
   "version": "3.12.0"
  }
 },
 "nbformat": 4,
 "nbformat_minor": 5
}
