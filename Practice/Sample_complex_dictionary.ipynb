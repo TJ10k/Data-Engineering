{
 "cells": [
  {
   "cell_type": "code",
   "execution_count": null,
   "metadata": {},
   "outputs": [
    {
     "name": "stdout",
     "output_type": "stream",
     "text": [
      "Anytown\n",
      "101\n",
      "coding\n"
     ]
    },
    {
     "data": {
      "text/plain": [
       "2"
      ]
     },
     "execution_count": 15,
     "metadata": {},
     "output_type": "execute_result"
    }
   ],
   "source": [
    "# Let's examine a sample dictionary\n",
    "complex_dict = {\n",
    "    \"person1\": {\n",
    "        \"name\": \"Alice\",\n",
    "        \"age\": 30,\n",
    "        \"address\": {\n",
    "            \"street\": \"123 Main St\",\n",
    "            \"city\": \"Anytown\",\n",
    "            \"zipcode\": \"12345\"\n",
    "        },\n",
    "        \"hobbies\": [\"reading\", \"hiking\", \"coding\"]\n",
    "    },\n",
    "    \"person2\": {\n",
    "        \"name\": \"Bob\",\n",
    "        \"age\": 25,\n",
    "        \"address\": {\n",
    "            \"street\": \"456 Oak Ave\",\n",
    "            \"city\": \"Otherville\",\n",
    "            \"zipcode\": \"67890\"\n",
    "        },\n",
    "        \"hobbies\": [\"gaming\", \"movies\"]\n",
    "    },\n",
    "    \"company\": {\n",
    "        \"name\": \"TechCorp\",\n",
    "        \"employees\": [\n",
    "            {\"id\": 101, \"name\": \"Charlie\", \"position\": \"Manager\"},\n",
    "            {\"id\": 102, \"name\": \"David\", \"position\": \"Developer\"}\n",
    "        ]\n",
    "    }\n",
    "}\n",
    "\n",
    "''' Challenge Practice\n",
    "\n",
    "Try accessing these:\n",
    "1. The city where person1 lives.\n",
    "2. The ID of the first employee.\n",
    "3. The last hobby of person1 (use `-1` index).\n",
    "4. The length of the employee list. '''\n",
    "\n",
    "city = complex_dict['person1']['address']['city']\n",
    "print(city)\n",
    "\n",
    "id1 = complex_dict['company']['employees'][0]['id']\n",
    "print(id1)\n",
    "\n",
    "hobby = complex_dict['person1']['hobbies'][-1]\n",
    "print(hobby)\n",
    "\n",
    "len(complex_dict['company']['employees'])\n",
    "    "
   ]
  },
  {
   "cell_type": "code",
   "execution_count": null,
   "metadata": {},
   "outputs": [],
   "source": []
  }
 ],
 "metadata": {
  "kernelspec": {
   "display_name": "Python 3",
   "language": "python",
   "name": "python3"
  },
  "language_info": {
   "codemirror_mode": {
    "name": "ipython",
    "version": 3
   },
   "file_extension": ".py",
   "mimetype": "text/x-python",
   "name": "python",
   "nbconvert_exporter": "python",
   "pygments_lexer": "ipython3",
   "version": "3.12.0"
  }
 },
 "nbformat": 4,
 "nbformat_minor": 2
}
