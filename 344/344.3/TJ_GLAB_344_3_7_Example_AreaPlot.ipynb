{
  "nbformat": 4,
  "nbformat_minor": 0,
  "metadata": {
    "colab": {
      "provenance": []
    },
    "kernelspec": {
      "name": "python3",
      "display_name": "Python 3"
    },
    "language_info": {
      "name": "python"
    }
  },
  "cells": [
    {
      "cell_type": "markdown",
      "source": [
        "#**Guided LAB - 344.3.7 - Example AreaPlot**"
      ],
      "metadata": {
        "id": "DWV3qVTpfxc7"
      }
    },
    {
      "cell_type": "markdown",
      "source": [
        "##**Lab Overview:**\n",
        "In this lab, we will explore the concept of area plots, also known as stacked line plots, and learn how to create them using Matplotlib. Area plots are useful for visualizing the cumulative effect of multiple variables over a continuous interval, such as time. We will start by understanding the basic syntax of creating area plots, and then move on to more advanced features such as customizing colors, and filling between lines.\n",
        "\n",
        "\n",
        "##**Lab Objectives:**\n",
        "The objective of this lab is to gain proficiency in creating area plots using Matplotlib. By the end of this lab, learners will be able to:\n",
        "* Describe the concept and purpose of area plots.\n",
        "* Visualize data with area plots, interpret trends, and convey insights effectively.\n",
        "* Create basic area plots using Matplotlib.\n",
        "* Explore advanced features such as filling between lines to highlight specific areas.\n",
        "* Interpret trends and patterns in area plots to derive meaningful insights from data.\n",
        "\n"
      ],
      "metadata": {
        "id": "ruLUETfNOZY3"
      }
    },
    {
      "cell_type": "markdown",
      "source": [
        "##**Exmple 1 - Visualize the temperature range over a period of time.**\n"
      ],
      "metadata": {
        "id": "LwNLbS6cb8cM"
      }
    },
    {
      "cell_type": "markdown",
      "source": [
        "1.1 - In this example, we will consider a real-world example of using **fill_between()** to visualize the temperature range over a period of time, say a week. We will use fictional temperature data for illustration purposes."
      ],
      "metadata": {
        "id": "cqH899-xbgP8"
      }
    },
    {
      "cell_type": "markdown",
      "source": [
        "Let's assume that we have two sets of data: **high_temps** and **low_temps**, representing the high and low temperatures for each day of the week. We use plot() to visualize these temperatures as lines. Then we use fill_between() to fill the area between the high and low temperature lines to represent the temperature range. Finally, we add labels, a title, and a legend to enhance the readability of the plot."
      ],
      "metadata": {
        "id": "tLlbazGlcEil"
      }
    },
    {
      "cell_type": "code",
      "source": [
        "import matplotlib.pyplot as plt\n",
        "\n",
        "# Sample data: temperature range over a week (in Celsius)\n",
        "days = ['Monday', 'Tuesday', 'Wednesday', 'Thursday', 'Friday', 'Saturday', 'Sunday']\n",
        "high_temps = [25, 28, 27, 26, 30, 31, 29]  # High temperatures\n",
        "low_temps = [18, 20, 19, 17, 22, 23, 21]   # Low temperatures\n",
        "\n",
        "# Plotting the high and low temperatures\n",
        "plt.plot(days, high_temps, label='High Temp', color='red')\n",
        "plt.plot(days, low_temps, label='Low Temp', color='blue')\n",
        "\n",
        "# Filling the area between the high and low temperatures\n",
        "plt.fill_between(days, high_temps, low_temps, color='skyblue', alpha=0.3)\n",
        "\n",
        "# Adding labels and title\n",
        "plt.xlabel('Day of the Week')\n",
        "plt.ylabel('Temperature (Celsius)')\n",
        "plt.title('Weekly Temperature Range')\n",
        "plt.legend()\n",
        "\n",
        "# Displaying the plot\n",
        "plt.grid(True)\n",
        "plt.show()\n"
      ],
      "metadata": {
        "id": "nCVJulzgbiD9"
      },
      "execution_count": null,
      "outputs": []
    },
    {
      "cell_type": "markdown",
      "source": [
        "#**Example 2 - Visualize the monthly trends in deposits and withdrawals for a bank account.**\n",
        "2.1 - Here is a real-world example regarding banking that illustrates the use of area plots.\n",
        "\n",
        "In this example, the area plot visualizes the difference between deposits and withdrawals over each month, allowing us to observe the overall trend in account activity throughout the year. Suppose we want to visualize the monthly trends in deposits and withdrawals for a bank account over the course of a year."
      ],
      "metadata": {
        "id": "ae-9eTy9M2P4"
      }
    },
    {
      "cell_type": "code",
      "source": [
        "import matplotlib.pyplot as plt\n",
        "\n",
        "# Sample data: Monthly deposits and withdrawals (in dollars)\n",
        "months = ['Jan', 'Feb', 'Mar', 'Apr', 'May', 'Jun', 'Jul', 'Aug', 'Sep', 'Oct', 'Nov', 'Dec']\n",
        "deposits = [5000, 6000, 5500, 5800, 6200, 5400, 5600, 5900, 6100, 6200, 6300, 6500]\n",
        "withdrawals = [4000, 4500, 4200, 4300, 4100, 4400, 4600, 4700, 4800, 4900, 5000, 5100]\n",
        "\n",
        "# Plotting the monthly deposits and withdrawals\n",
        "plt.plot(months, deposits, label='Deposits', color='green')\n",
        "plt.plot(months, withdrawals, label='Withdrawals', color='red')\n",
        "\n",
        "# Filling the area between deposits and withdrawals\n",
        "plt.fill_between(months, deposits, withdrawals, color='skyblue', alpha=0.3)\n",
        "\n",
        "# Adding labels and title\n",
        "plt.xlabel('Month')\n",
        "plt.ylabel('Amount (USD)')\n",
        "plt.title('Monthly Deposits and Withdrawals')\n",
        "plt.legend()\n",
        "\n",
        "# Displaying the plot\n",
        "plt.grid(True)\n",
        "plt.xticks(rotation=45)  # Rotate x-axis labels for better readability\n",
        "plt.tight_layout()\n",
        "plt.show()\n"
      ],
      "metadata": {
        "id": "cjoB9gVpd_Ve"
      },
      "execution_count": null,
      "outputs": []
    },
    {
      "cell_type": "markdown",
      "source": [
        "2.2 - We can add multiple area plots to visualize different aspects of your data. Below is an example where we add an additional area plot to represent the balance of the bank account over the months:"
      ],
      "metadata": {
        "id": "o6L-Rj4nNT53"
      }
    },
    {
      "cell_type": "code",
      "source": [
        "import matplotlib.pyplot as plt\n",
        "\n",
        "# Sample data: Monthly deposits, withdrawals, and balance (in dollars)\n",
        "months = ['Jan', 'Feb', 'Mar', 'Apr', 'May', 'Jun', 'Jul', 'Aug', 'Sep', 'Oct', 'Nov', 'Dec']\n",
        "deposits = [5000, 6000, 5500, 5800, 6200, 5400, 5600, 5900, 6100, 6200, 6300, 6500]\n",
        "withdrawals = [4000, 4500, 4200, 4300, 4100, 4400, 4600, 4700, 4800, 4900, 5000, 5100]\n",
        "balance = [1000, 2500, 2800, 4300, 6400, 7400, 8400, 9000, 9300, 10400, 11700, 13100]\n",
        "\n",
        "# Plotting the monthly deposits, withdrawals, and balance\n",
        "plt.plot(months, deposits, label='Deposits', color='green')\n",
        "plt.plot(months, withdrawals, label='Withdrawals', color='red')\n",
        "plt.plot(months, balance, label='Balance', color='blue')\n",
        "\n",
        "# Filling the areas between the lines\n",
        "plt.fill_between(months, deposits, balance, color='lightgreen', alpha=0.3)\n",
        "plt.fill_between(months, withdrawals, balance, color='lightcoral', alpha=0.3)\n",
        "\n",
        "# Adding labels and title\n",
        "plt.xlabel('Month')\n",
        "plt.ylabel('Amount (USD)')\n",
        "plt.title('Monthly Deposits, Withdrawals, and Balance')\n",
        "plt.legend()\n",
        "\n",
        "# Displaying the plot\n",
        "plt.grid(True)\n",
        "plt.xticks(rotation=45)  # Rotate x-axis labels for better readability\n",
        "plt.tight_layout()\n",
        "plt.show()\n"
      ],
      "metadata": {
        "id": "1EQjzoiLeN-F"
      },
      "execution_count": null,
      "outputs": []
    },
    {
      "cell_type": "markdown",
      "source": [
        "##**Example 3 -  Visualize turnover (in dollars) of ice cream sales.**"
      ],
      "metadata": {
        "id": "yegd3ap6rQAK"
      }
    },
    {
      "cell_type": "markdown",
      "source": [
        "3.1 - The objective of this example is to visualize the turnover (in dollars) of ice cream sales during one year using a filled line plot. The chart aims to depict the monthly fluctuations in ice cream sales revenue over the course of the year 2022."
      ],
      "metadata": {
        "id": "1aeibGjqracY"
      }
    },
    {
      "cell_type": "code",
      "source": [
        "import matplotlib.pyplot as  plt\n",
        "import numpy as np\n",
        "plt.figure(figsize=(9, 6))\n",
        "#Assume: turnover(in dollar) of ice-cream's sales during one year.\n",
        "icecream_sale_year2022 = [2, 7, 14, 17, 20, 27, 30, 38, 25, 18, 6, 1]\n",
        "plt.fill_between(np.arange(12), icecream_sale_year2022, color=\"skyblue\", alpha=0.4)\n",
        "plt.plot(np.arange(12), icecream_sale_year2022, color=\"Slateblue\", alpha=0.6, linewidth=2)\n",
        "\n",
        "plt.tick_params(labelsize=12)\n",
        "plt.xticks(np.arange(12), np.arange(1,13)) # The xticks parameter in Matplotlib is used to customize the tick marks (or ticks) along the x-axis of a plot. Tick marks are the small markers or indicators on the axis that denote specific data points or intervals.\n",
        "plt.xlabel('Month', size=12)\n",
        "plt.ylabel('Turnover (in dollar) of ice-cream sale', size=12)\n",
        "plt.ylim(bottom=0) # The plt.ylim() parameter in Matplotlib is used to set the lower limit of the y-axis (vertical axis) of a plot to a specified value.\n",
        "\n",
        "plt.show()"
      ],
      "metadata": {
        "id": "QdABQltxf5Xj"
      },
      "execution_count": null,
      "outputs": []
    },
    {
      "cell_type": "markdown",
      "source": [
        "3.2 - As an extension of the above plot, let's compare 2022 and 2023. The peak for both years is in the summer. For 2022, it is in August; however, the peak is reached in June in the year 2023, which is caused by the heatwave in June, as shown below."
      ],
      "metadata": {
        "id": "-MajLhR_rgoA"
      }
    },
    {
      "cell_type": "code",
      "source": [
        "import matplotlib.pyplot as  plt\n",
        "import numpy as np\n",
        "plt.figure(figsize=(9, 6))\n",
        "\n",
        "icecream_sale_year2023 = [1.5, 3, 10, 13, 22, 36, 30, 33, 24.5, 15, 6.5, 1.2]\n",
        "icecream_sale_year2022 = [2, 7, 14, 17, 20, 27, 30, 38, 25, 18, 6, 1]\n",
        "\n",
        "plt.fill_between(np.arange(12), icecream_sale_year2023, color=\"lightpink\", alpha=0.5, label='icecream_sale_year2023')\n",
        "plt.fill_between(np.arange(12), icecream_sale_year2022, color=\"skyblue\", alpha=0.5, label='icecream_sale_year2022')\n",
        "\n",
        "plt.tick_params(labelsize=12)\n",
        "plt.xticks(np.arange(12), np.arange(1,13))\n",
        "plt.xlabel('Month', size=12)\n",
        "plt.ylabel('Turnover (in dollar) of ice-cream sale', size=12)\n",
        "plt.ylim(bottom=0)\n",
        "plt.legend()\n",
        "\n",
        "plt.show()"
      ],
      "metadata": {
        "id": "B432KxpZrivh"
      },
      "execution_count": null,
      "outputs": []
    },
    {
      "cell_type": "markdown",
      "source": [
        "# **Submission Instructions:**\n",
        "Include the following deliverables in your submission -\n",
        "\n",
        "- Submit your completed Python program file(s) with appropriate comments and  any additional instructions if required,\n",
        "- Use the Start Assignment button in the top-right corner of the Assignment page in Canvas.\n"
      ],
      "metadata": {
        "id": "byi_vbbtf5qr"
      }
    }
  ]
}