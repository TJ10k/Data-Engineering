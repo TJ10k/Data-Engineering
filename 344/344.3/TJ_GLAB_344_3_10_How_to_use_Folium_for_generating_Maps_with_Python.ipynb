{
  "cells": [
    {
      "cell_type": "markdown",
      "metadata": {
        "button": false,
        "new_sheet": false,
        "run_control": {
          "read_only": false
        },
        "id": "0L7wuZ4dJLKo"
      },
      "source": [
        "#**Guided Lab - 344.3.10 - How to use Folium for generating Maps with Python**\n",
        "\n",
        "\n",
        "## **Learning Objectives:**\n",
        "\n",
        "After completing this lab you will be able to:\n",
        "\n",
        "*   Describe the Folium libraray usages.\n",
        "*   Create a graph to visualize geospatial data with Folium.\n"
      ]
    },
    {
      "cell_type": "markdown",
      "metadata": {
        "button": false,
        "new_sheet": false,
        "run_control": {
          "read_only": false
        },
        "id": "xDtSX3MeJLKr"
      },
      "source": [
        "## Lab Overview\n",
        "\n",
        "In this lab, we will learn how to create maps for different objectives. To do that, we will part ways with Matplotlib and work with another Python visualization library, namely **Folium**."
      ]
    },
    {
      "cell_type": "markdown",
      "metadata": {
        "button": false,
        "new_sheet": false,
        "run_control": {
          "read_only": false
        },
        "id": "cXS6NxoGJLKt"
      },
      "source": [
        "# Introduction to Folium <a id=\"4\"></a>\n"
      ]
    },
    {
      "cell_type": "markdown",
      "metadata": {
        "button": false,
        "new_sheet": false,
        "run_control": {
          "read_only": false
        },
        "id": "Uzfl_8t-JLKu"
      },
      "source": [
        "Folium is a powerful Python library that helps you create several types of Leaflet maps. The fact that the Folium results are interactive makes this library very useful for dashboard building.\n",
        "\n",
        "From the official Folium documentation page:\n",
        "\n",
        "> Folium builds on the data wrangling strengths of the Python ecosystem and the mapping strengths of the Leaflet.js library. Manipulate your data in Python, and then visualize it in on a Leaflet map via Folium.\n",
        "\n",
        "> Folium makes it easy to visualize data that has been manipulated in Python on an interactive Leaflet map. It enables both the binding of data to a map for choropleth visualizations, as well as passing Vincent/Vega visualizations as markers on the map.\n",
        "\n",
        "> The library has a number of built-in tilesets from OpenStreetMap, Mapbox, and Stamen, and supports custom tilesets with Mapbox or Cloudmade API keys. Folium supports both GeoJSON and TopoJSON overlays, as well as the binding of data to those overlays to create choropleth maps with color-brewer color schemes.\n",
        "\n",
        "**folium.Map()**\n",
        "\n",
        "- In Folium, **folium.Map()** is a class constructor used to create map objects. It is used to initialize a map with specified parameters such as location, zoom level, and choice of tiles. When called, it returns an instance of the Map class, which represents the map object that can then be customized and displayed.\n",
        "- There are several parameters, but at first, you only need to know the following five basic parameters.\n",
        "-- location (tuple or list, default:None) : Latitude & Longitude of Map.\n",
        "-- width & heigth (int, string, default :'100%') : int is pixel, str is percentage (100, or '100%').\n",
        "-- min_zoom (int, default:0) : Minimum allowed zoom level for the tile layer that is created.\n",
        "-- max_zoom (int, default:18): Maximum allowed zoom level for the tile layer that is created.\n",
        "-- zoom_start (int, default:10): Initial zoom level for the map (Map scale).\n",
        "-- tiles : style of map (default=OpenStreetMap, Mapbox Bright, Mapbox Control Room, etc.)."
      ]
    },
    {
      "cell_type": "markdown",
      "source": [
        "##**Instructions:**"
      ],
      "metadata": {
        "id": "0AMUEyBIr5VV"
      }
    },
    {
      "cell_type": "markdown",
      "metadata": {
        "button": false,
        "new_sheet": false,
        "run_control": {
          "read_only": false
        },
        "id": "uNbyGfdYJLKu"
      },
      "source": [
        "#### Let's install **Folium.**\n"
      ]
    },
    {
      "cell_type": "markdown",
      "metadata": {
        "button": false,
        "new_sheet": false,
        "run_control": {
          "read_only": false
        },
        "id": "oxf_PfFMJLKu"
      },
      "source": [
        "**Folium** is not available by default. So, we first need to install it before we are able to import it.\n"
      ]
    },
    {
      "cell_type": "code",
      "execution_count": null,
      "metadata": {
        "button": false,
        "new_sheet": false,
        "run_control": {
          "read_only": false
        },
        "id": "foXG-QDkJLKu"
      },
      "outputs": [],
      "source": [
        "#!conda install -c conda-forge folium=0.5.0 --yes\n",
        "pip install folium\n",
        "import folium\n",
        "print('Folium installed and imported!')"
      ]
    },
    {
      "cell_type": "markdown",
      "source": [
        " ##**Verifying the Folium version**"
      ],
      "metadata": {
        "id": "jAMw8dgesb7U"
      }
    },
    {
      "cell_type": "code",
      "source": [
        "import folium\n",
        "print('folium ver: ', folium.__version__)"
      ],
      "metadata": {
        "id": "-HMmDV5ZVUNE"
      },
      "execution_count": null,
      "outputs": []
    },
    {
      "cell_type": "markdown",
      "metadata": {
        "button": false,
        "new_sheet": false,
        "run_control": {
          "read_only": false
        },
        "id": "D7WgQ7q0JLKv"
      },
      "source": [
        "##**Example 1.1 - Create a simple Map using Folium.**\n",
        "Generating the world map is straightforward in **Folium**. You simply create a **Folium** *Map* object, and then you display it. What is attractive about **Folium** maps is that they are interactive, so you can zoom into any region of interest despite the initial zoom level."
      ]
    },
    {
      "cell_type": "code",
      "execution_count": null,
      "metadata": {
        "button": false,
        "new_sheet": false,
        "run_control": {
          "read_only": false
        },
        "scrolled": true,
        "id": "tPT5QAdCJLKv"
      },
      "outputs": [],
      "source": [
        "# define the world map\n",
        "world_map = folium.Map()\n",
        "\n",
        "# display world map\n",
        "world_map"
      ]
    },
    {
      "cell_type": "markdown",
      "metadata": {
        "button": false,
        "new_sheet": false,
        "run_control": {
          "read_only": false
        },
        "id": "s79UT-pyJLKv"
      },
      "source": [
        "Go ahead. Try zooming in and out of the rendered map above.\n"
      ]
    },
    {
      "cell_type": "markdown",
      "metadata": {
        "button": false,
        "new_sheet": false,
        "run_control": {
          "read_only": false
        },
        "id": "keiR2hdaJLKw"
      },
      "source": [
        "You can customize this default definition of the world map by specifying the centre of your map and the initial zoom level.\n",
        "\n",
        "All locations on a map are defined by their respective *Latitude* and *Longitude* values. So you can create a map and pass in a center of *Latitude* and *Longitude* values of **\\[0, 0]**.\n",
        "\n",
        "For a defined center, you can also define the initial zoom level into that location when the map is rendered. **The higher the zoom level, the more the map is zoomed into the center**.\n"
      ]
    },
    {
      "cell_type": "markdown",
      "source": [
        "## **Example 1.2 - Let's create a map centered around Canada and play with the zoom level to see how it affects the rendered map.**"
      ],
      "metadata": {
        "id": "Fap3n6yvs43d"
      }
    },
    {
      "cell_type": "code",
      "execution_count": null,
      "metadata": {
        "button": false,
        "new_sheet": false,
        "run_control": {
          "read_only": false
        },
        "id": "I5oqyHwsJLKw"
      },
      "outputs": [],
      "source": [
        "import folium\n",
        "# Canada latitude and longitude values\n",
        "canada_coordinates = [56.130,  -106.35]\n",
        "\n",
        "# define the world map centered around Canada with a low zoom level\n",
        "canada_map = folium.Map(location = canada_coordinates, zoom_start=4)\n",
        "\n",
        "# display world map\n",
        "canada_map"
      ]
    },
    {
      "cell_type": "markdown",
      "metadata": {
        "button": false,
        "new_sheet": false,
        "run_control": {
          "read_only": false
        },
        "id": "sBfFMSWtJLKw"
      },
      "source": [
        "Let's create the map again with a higher zoom level.\n"
      ]
    },
    {
      "cell_type": "code",
      "execution_count": null,
      "metadata": {
        "button": false,
        "new_sheet": false,
        "run_control": {
          "read_only": false
        },
        "id": "I7eCKvVuJLKw"
      },
      "outputs": [],
      "source": [
        "import folium\n",
        "# Canada latitude and longitude values\n",
        "canada_coordinates = [56.130,  -106.35]\n",
        "\n",
        "# define the world map centered around Canada with a low zoom level\n",
        "canada_map = folium.Map(location = canada_coordinates, zoom_start=8)\n",
        "\n",
        "# display world map\n",
        "canada_map"
      ]
    },
    {
      "cell_type": "markdown",
      "metadata": {
        "button": false,
        "new_sheet": false,
        "run_control": {
          "read_only": false
        },
        "id": "d6XMpi2bJLKw"
      },
      "source": [
        "As you can see, the higher the zoom level the more the map is zoomed into the given center.\n"
      ]
    },
    {
      "cell_type": "markdown",
      "metadata": {
        "button": false,
        "new_sheet": false,
        "run_control": {
          "read_only": false
        },
        "id": "ZYDXgu6_JLKw"
      },
      "source": [
        "##**Example 1.3 - Create a map of Mexico with a zoom level of 4.**\n",
        "\n",
        "Mexico's geolocation coordinates are:\n",
        "- mexico_latitude = 23.6345\n",
        "- mexico_longitude = -102.5528\n"
      ]
    },
    {
      "cell_type": "code",
      "execution_count": null,
      "metadata": {
        "button": false,
        "new_sheet": false,
        "run_control": {
          "read_only": false
        },
        "id": "AckidoZ8JLKw"
      },
      "outputs": [],
      "source": [
        "\n",
        "\n",
        "# Mexico latitude and longitude values\n",
        "Mexico_coordinates = [23.6345, -102.5528]\n",
        "\n",
        "# define the world map centered around Mexico\n",
        "mexico_map = folium.Map(location = Mexico_coordinates, zoom_start=4)\n",
        "mexico_map"
      ]
    },
    {
      "cell_type": "markdown",
      "source": [
        "##**Example 1.4 - Maps with Markers**\n",
        "\n",
        "- Markers play a vital role in enhancing interactivity and adding context to maps. They represent specific locations or points of interest, providing additional information when clicked.\n",
        "\n",
        "- **Markers** are like signposts that guide us through the map, highlighting important elements.\n",
        "\n",
        "- Let's add a marker for Mexico."
      ],
      "metadata": {
        "id": "2Mg_jPLSO3fd"
      }
    },
    {
      "cell_type": "code",
      "source": [
        "\n",
        "# Mexico latitude and longitude values\n",
        "Mexico_coordinates = [23.6345, -102.5528]\n",
        "\n",
        "# define the world map centered around Mexico\n",
        "mexico_map = folium.Map(location = Mexico_coordinates, zoom_start=4)\n",
        "# Add a marker for Mexico\n",
        "folium.Marker(location= Mexico_coordinates, popup='Mexico').add_to(mexico_map)\n",
        "\n",
        "# display  map\n",
        "mexico_map"
      ],
      "metadata": {
        "id": "fp-GYgrjOzz-"
      },
      "execution_count": null,
      "outputs": []
    },
    {
      "cell_type": "markdown",
      "source": [
        "**We can change the color and icon of Marker by using color and icon parameter:**"
      ],
      "metadata": {
        "id": "jtEcrYmvBVYa"
      }
    },
    {
      "cell_type": "code",
      "source": [
        "# Mexico latitude and longitude values\n",
        "Mexico_coordinates = [23.6345, -102.5528]\n",
        "\n",
        "# define the world map centered around Mexico\n",
        "mexico_map = folium.Map(location = Mexico_coordinates, zoom_start=4)\n",
        "# Add a marker for Mexico\n",
        "folium.Marker(location= Mexico_coordinates,\n",
        "              popup='Mexico',\n",
        "              icon=folium.Icon(icon='info-sign',\n",
        "              color=\"green\")).add_to(mexico_map)\n",
        "# display  map\n",
        "mexico_map"
      ],
      "metadata": {
        "id": "IdZj0_UdrK8e"
      },
      "execution_count": null,
      "outputs": []
    },
    {
      "cell_type": "markdown",
      "source": [
        "##**Example 1.5 - Circle the coordinates**\n",
        "\n",
        "- We can use the **CircleMarker()** function to circle the coordinates. Let’s look at the output by entering parameters such as radius and color.\n",
        "\n",
        "- Let's circle the coordinates of Mexico."
      ],
      "metadata": {
        "id": "5fotAjasoL7v"
      }
    },
    {
      "cell_type": "code",
      "source": [
        "# Mexico latitude and longitude values\n",
        "Mexico_coordinates = [23.6345, -102.5528]\n",
        "\n",
        "# define the world map centered around Mexico\n",
        "mexico_map = folium.Map(location = Mexico_coordinates, zoom_start=4)\n",
        "\n",
        "# Add a circle for Mexico\n",
        "folium.CircleMarker(\n",
        "radius=30,\n",
        "location = Mexico_coordinates,\n",
        "color='crimson',\n",
        "fill_color='blue').add_to(mexico_map)\n",
        "\n",
        "# display  map\n",
        "mexico_map"
      ],
      "metadata": {
        "id": "GynJgEl2o_Zm"
      },
      "execution_count": null,
      "outputs": []
    },
    {
      "cell_type": "markdown",
      "source": [
        "##**Example 1.6 - Add Marker and Circle to the coordinates**"
      ],
      "metadata": {
        "id": "JIFNCdulpIpa"
      }
    },
    {
      "cell_type": "code",
      "source": [
        "# Mexico latitude and longitude values\n",
        "Mexico_coordinates = [23.6345, -102.5528]\n",
        "\n",
        "# define the world map centered around Mexico\n",
        "mexico_map = folium.Map(location = Mexico_coordinates, zoom_start=4)\n",
        "\n",
        "\n",
        "# Add a circle for Mexico\n",
        "folium.CircleMarker(\n",
        "radius=30,\n",
        "location = Mexico_coordinates,\n",
        "color='crimson',\n",
        "fill_color='blue').add_to(mexico_map)\n",
        "# display  map\n",
        "mexico_map\n",
        "\n",
        "# Add a marker for Mexico\n",
        "folium.Marker(location= Mexico_coordinates, popup='Mexico').add_to(mexico_map)\n",
        "# display  map\n",
        "mexico_map"
      ],
      "metadata": {
        "id": "8mcfC0T0nfsU"
      },
      "execution_count": null,
      "outputs": []
    },
    {
      "cell_type": "markdown",
      "source": [
        "##**Example 1.7 - Resize the Map**"
      ],
      "metadata": {
        "id": "korDFWUwwo-4"
      }
    },
    {
      "cell_type": "markdown",
      "source": [
        "Let’s try to customize this map now. First, we will reduce the height and width of the map, and then we will change the zoom level.\n",
        "\n",
        "We can resize our map by using the branca library in Python. It is a spinoff from Folium that hosts the non-map specific features. We can use its Figure class for resizing our maps and pass the desired width and height in pixels:"
      ],
      "metadata": {
        "id": "qwSzhGPsvJrO"
      }
    },
    {
      "cell_type": "code",
      "source": [
        "from branca.element import Figure\n",
        "\n",
        "# Mexico latitude and longitude values\n",
        "Mexico_coordinates = [23.6345, -102.5528]\n",
        "\n",
        "# define the world map centered around Mexico\n",
        "mexico_map = folium.Map(location = Mexico_coordinates, zoom_start=5)\n",
        "\n",
        "# Add a circle for Mexico\n",
        "folium.CircleMarker(\n",
        "radius=30,\n",
        "location= Mexico_coordinates,\n",
        "color='crimson',\n",
        "fill_color='red', ).add_to(mexico_map)\n",
        "\n",
        "#Resizing the map\n",
        "fig=Figure(width=800,height=800)\n",
        "fig.add_child(mexico_map)\n",
        "\n",
        "\n",
        "mexico_map"
      ],
      "metadata": {
        "id": "VIJCRTK2uZpm"
      },
      "execution_count": null,
      "outputs": []
    },
    {
      "cell_type": "markdown",
      "source": [
        "##**Example 1.8 - Layers and Tiles in Folium**\n",
        "\n",
        "- A tileset is a collection of vector data broken up into a uniform grid of square tiles. Each tileset represents data in a unique way on the map. Folium enables us to create maps with various tiles, such as CartoDB Positron, OpenStreetMap, and many others. By default, the tiles are set to OpenStreetMap.\n",
        "\n",
        "- Each tileset displays different features of a map and is suitable for different purposes. For example, CartoDB Dark Matter style presents the in dark mode.\n",
        "\n",
        "- Now that we understand how each tileset provides information differently and serves a unique purpose, we can layer them over one another to obtain more comprehensive information with just a single map. This can be achieved by adding different layers of tiles to a single map.\n",
        "\n",
        "\n",
        "<img src = \"https://cdn.analyticsvidhya.com/wp-content/uploads/2020/04/ft-v3.gif\" width = 600>\n"
      ],
      "metadata": {
        "id": "BjSL22LaxDpm"
      }
    },
    {
      "cell_type": "code",
      "source": [
        "from branca.element import Figure\n",
        "\n",
        "\n",
        "# Mexico latitude and longitude values\n",
        "Mexico_coordinates = [23.6345, -102.5528]\n",
        "\n",
        "# define the world map centered around Mexico\n",
        "mexico_map = folium.Map(location = Mexico_coordinates, zoom_start=5)\n",
        "\n",
        "# Add a circle for Mexico\n",
        "folium.CircleMarker(\n",
        "radius=30,\n",
        "location = Mexico_coordinates ,\n",
        "color='crimson',\n",
        "fill_color='blue', ).add_to(mexico_map)\n",
        "\n",
        "#Resizing the map\n",
        "fig=Figure(width=1000,height=1000)\n",
        "fig.add_child(mexico_map)\n",
        "\n",
        "#Adding different map styles#\n",
        "folium.TileLayer('cartodbpositron').add_to(mexico_map)\n",
        "folium.TileLayer('cartodbdark_matter').add_to(mexico_map)\n",
        "folium.LayerControl().add_to(mexico_map)\n",
        "\n",
        "mexico_map"
      ],
      "metadata": {
        "id": "cSHSV7MVwdVm"
      },
      "execution_count": null,
      "outputs": []
    },
    {
      "cell_type": "markdown",
      "source": [
        "##**Example 1.9 - Save this map as an HTML file.**"
      ],
      "metadata": {
        "id": "Q-lPXfOgXlVH"
      }
    },
    {
      "cell_type": "code",
      "source": [
        "#And you can save this map as an HTML file.\n",
        "\n",
        "mexico_map.save('mexico_map.html')"
      ],
      "metadata": {
        "id": "X0pybUdKYIzi"
      },
      "execution_count": null,
      "outputs": []
    },
    {
      "cell_type": "markdown",
      "source": [
        "\n",
        "\n",
        "---\n",
        "\n"
      ],
      "metadata": {
        "id": "dFded7Qftnfe"
      }
    },
    {
      "cell_type": "markdown",
      "source": [
        "##**Example 2 - Add Multiple Markets**"
      ],
      "metadata": {
        "id": "Fe_npcIfpx7N"
      }
    },
    {
      "cell_type": "markdown",
      "source": [
        "Let's create a Pandas dataframe. It provides a numeric value for a few big cities, along with their geographic coordinates"
      ],
      "metadata": {
        "id": "Zx0-TnjlSZJP"
      }
    },
    {
      "cell_type": "code",
      "source": [
        "# Import the pandas library\n",
        "import pandas as pd\n",
        "\n",
        "\n",
        "# Make a data frame with dots to show on the map\n",
        "data = pd.DataFrame({\n",
        "   'longitudes':[-58, 2, 145, 30.32, -4.03, -73.57, 36.82, -38.5],\n",
        "   'latitude':[-34, 49, -38, 59.93, 5.33, 45.52, -1.29, -12.97],\n",
        "   'name':['Buenos Aires', 'Paris', 'melbourne', 'St Petersbourg', 'Abidjan', 'Montreal', 'Nairobi', 'Salvador'],\n",
        "   'value':[10, 12, 40, 70, 23, 43, 100, 43]\n",
        "}, dtype=str)\n",
        "\n",
        "data"
      ],
      "metadata": {
        "id": "ZEpqRlAZRkMI",
        "colab": {
          "base_uri": "https://localhost:8080/",
          "height": 300
        },
        "outputId": "731e7739-c586-4b03-9055-cc7389376877"
      },
      "execution_count": null,
      "outputs": [
        {
          "output_type": "execute_result",
          "data": {
            "text/plain": [
              "  longitudes latitude            name value\n",
              "0        -58      -34    Buenos Aires    10\n",
              "1          2       49           Paris    12\n",
              "2        145      -38       melbourne    40\n",
              "3      30.32    59.93  St Petersbourg    70\n",
              "4      -4.03     5.33         Abidjan    23\n",
              "5     -73.57    45.52        Montreal    43\n",
              "6      36.82    -1.29         Nairobi   100\n",
              "7      -38.5   -12.97        Salvador    43"
            ],
            "text/html": [
              "\n",
              "  <div id=\"df-595f20e2-c9ac-48e4-b58d-3e1aca033061\" class=\"colab-df-container\">\n",
              "    <div>\n",
              "<style scoped>\n",
              "    .dataframe tbody tr th:only-of-type {\n",
              "        vertical-align: middle;\n",
              "    }\n",
              "\n",
              "    .dataframe tbody tr th {\n",
              "        vertical-align: top;\n",
              "    }\n",
              "\n",
              "    .dataframe thead th {\n",
              "        text-align: right;\n",
              "    }\n",
              "</style>\n",
              "<table border=\"1\" class=\"dataframe\">\n",
              "  <thead>\n",
              "    <tr style=\"text-align: right;\">\n",
              "      <th></th>\n",
              "      <th>longitudes</th>\n",
              "      <th>latitude</th>\n",
              "      <th>name</th>\n",
              "      <th>value</th>\n",
              "    </tr>\n",
              "  </thead>\n",
              "  <tbody>\n",
              "    <tr>\n",
              "      <th>0</th>\n",
              "      <td>-58</td>\n",
              "      <td>-34</td>\n",
              "      <td>Buenos Aires</td>\n",
              "      <td>10</td>\n",
              "    </tr>\n",
              "    <tr>\n",
              "      <th>1</th>\n",
              "      <td>2</td>\n",
              "      <td>49</td>\n",
              "      <td>Paris</td>\n",
              "      <td>12</td>\n",
              "    </tr>\n",
              "    <tr>\n",
              "      <th>2</th>\n",
              "      <td>145</td>\n",
              "      <td>-38</td>\n",
              "      <td>melbourne</td>\n",
              "      <td>40</td>\n",
              "    </tr>\n",
              "    <tr>\n",
              "      <th>3</th>\n",
              "      <td>30.32</td>\n",
              "      <td>59.93</td>\n",
              "      <td>St Petersbourg</td>\n",
              "      <td>70</td>\n",
              "    </tr>\n",
              "    <tr>\n",
              "      <th>4</th>\n",
              "      <td>-4.03</td>\n",
              "      <td>5.33</td>\n",
              "      <td>Abidjan</td>\n",
              "      <td>23</td>\n",
              "    </tr>\n",
              "    <tr>\n",
              "      <th>5</th>\n",
              "      <td>-73.57</td>\n",
              "      <td>45.52</td>\n",
              "      <td>Montreal</td>\n",
              "      <td>43</td>\n",
              "    </tr>\n",
              "    <tr>\n",
              "      <th>6</th>\n",
              "      <td>36.82</td>\n",
              "      <td>-1.29</td>\n",
              "      <td>Nairobi</td>\n",
              "      <td>100</td>\n",
              "    </tr>\n",
              "    <tr>\n",
              "      <th>7</th>\n",
              "      <td>-38.5</td>\n",
              "      <td>-12.97</td>\n",
              "      <td>Salvador</td>\n",
              "      <td>43</td>\n",
              "    </tr>\n",
              "  </tbody>\n",
              "</table>\n",
              "</div>\n",
              "    <div class=\"colab-df-buttons\">\n",
              "\n",
              "  <div class=\"colab-df-container\">\n",
              "    <button class=\"colab-df-convert\" onclick=\"convertToInteractive('df-595f20e2-c9ac-48e4-b58d-3e1aca033061')\"\n",
              "            title=\"Convert this dataframe to an interactive table.\"\n",
              "            style=\"display:none;\">\n",
              "\n",
              "  <svg xmlns=\"http://www.w3.org/2000/svg\" height=\"24px\" viewBox=\"0 -960 960 960\">\n",
              "    <path d=\"M120-120v-720h720v720H120Zm60-500h600v-160H180v160Zm220 220h160v-160H400v160Zm0 220h160v-160H400v160ZM180-400h160v-160H180v160Zm440 0h160v-160H620v160ZM180-180h160v-160H180v160Zm440 0h160v-160H620v160Z\"/>\n",
              "  </svg>\n",
              "    </button>\n",
              "\n",
              "  <style>\n",
              "    .colab-df-container {\n",
              "      display:flex;\n",
              "      gap: 12px;\n",
              "    }\n",
              "\n",
              "    .colab-df-convert {\n",
              "      background-color: #E8F0FE;\n",
              "      border: none;\n",
              "      border-radius: 50%;\n",
              "      cursor: pointer;\n",
              "      display: none;\n",
              "      fill: #1967D2;\n",
              "      height: 32px;\n",
              "      padding: 0 0 0 0;\n",
              "      width: 32px;\n",
              "    }\n",
              "\n",
              "    .colab-df-convert:hover {\n",
              "      background-color: #E2EBFA;\n",
              "      box-shadow: 0px 1px 2px rgba(60, 64, 67, 0.3), 0px 1px 3px 1px rgba(60, 64, 67, 0.15);\n",
              "      fill: #174EA6;\n",
              "    }\n",
              "\n",
              "    .colab-df-buttons div {\n",
              "      margin-bottom: 4px;\n",
              "    }\n",
              "\n",
              "    [theme=dark] .colab-df-convert {\n",
              "      background-color: #3B4455;\n",
              "      fill: #D2E3FC;\n",
              "    }\n",
              "\n",
              "    [theme=dark] .colab-df-convert:hover {\n",
              "      background-color: #434B5C;\n",
              "      box-shadow: 0px 1px 3px 1px rgba(0, 0, 0, 0.15);\n",
              "      filter: drop-shadow(0px 1px 2px rgba(0, 0, 0, 0.3));\n",
              "      fill: #FFFFFF;\n",
              "    }\n",
              "  </style>\n",
              "\n",
              "    <script>\n",
              "      const buttonEl =\n",
              "        document.querySelector('#df-595f20e2-c9ac-48e4-b58d-3e1aca033061 button.colab-df-convert');\n",
              "      buttonEl.style.display =\n",
              "        google.colab.kernel.accessAllowed ? 'block' : 'none';\n",
              "\n",
              "      async function convertToInteractive(key) {\n",
              "        const element = document.querySelector('#df-595f20e2-c9ac-48e4-b58d-3e1aca033061');\n",
              "        const dataTable =\n",
              "          await google.colab.kernel.invokeFunction('convertToInteractive',\n",
              "                                                    [key], {});\n",
              "        if (!dataTable) return;\n",
              "\n",
              "        const docLinkHtml = 'Like what you see? Visit the ' +\n",
              "          '<a target=\"_blank\" href=https://colab.research.google.com/notebooks/data_table.ipynb>data table notebook</a>'\n",
              "          + ' to learn more about interactive tables.';\n",
              "        element.innerHTML = '';\n",
              "        dataTable['output_type'] = 'display_data';\n",
              "        await google.colab.output.renderOutput(dataTable, element);\n",
              "        const docLink = document.createElement('div');\n",
              "        docLink.innerHTML = docLinkHtml;\n",
              "        element.appendChild(docLink);\n",
              "      }\n",
              "    </script>\n",
              "  </div>\n",
              "\n",
              "\n",
              "<div id=\"df-e0e8b4b1-2f1d-44a7-9e95-0ab07a708e50\">\n",
              "  <button class=\"colab-df-quickchart\" onclick=\"quickchart('df-e0e8b4b1-2f1d-44a7-9e95-0ab07a708e50')\"\n",
              "            title=\"Suggest charts\"\n",
              "            style=\"display:none;\">\n",
              "\n",
              "<svg xmlns=\"http://www.w3.org/2000/svg\" height=\"24px\"viewBox=\"0 0 24 24\"\n",
              "     width=\"24px\">\n",
              "    <g>\n",
              "        <path d=\"M19 3H5c-1.1 0-2 .9-2 2v14c0 1.1.9 2 2 2h14c1.1 0 2-.9 2-2V5c0-1.1-.9-2-2-2zM9 17H7v-7h2v7zm4 0h-2V7h2v10zm4 0h-2v-4h2v4z\"/>\n",
              "    </g>\n",
              "</svg>\n",
              "  </button>\n",
              "\n",
              "<style>\n",
              "  .colab-df-quickchart {\n",
              "      --bg-color: #E8F0FE;\n",
              "      --fill-color: #1967D2;\n",
              "      --hover-bg-color: #E2EBFA;\n",
              "      --hover-fill-color: #174EA6;\n",
              "      --disabled-fill-color: #AAA;\n",
              "      --disabled-bg-color: #DDD;\n",
              "  }\n",
              "\n",
              "  [theme=dark] .colab-df-quickchart {\n",
              "      --bg-color: #3B4455;\n",
              "      --fill-color: #D2E3FC;\n",
              "      --hover-bg-color: #434B5C;\n",
              "      --hover-fill-color: #FFFFFF;\n",
              "      --disabled-bg-color: #3B4455;\n",
              "      --disabled-fill-color: #666;\n",
              "  }\n",
              "\n",
              "  .colab-df-quickchart {\n",
              "    background-color: var(--bg-color);\n",
              "    border: none;\n",
              "    border-radius: 50%;\n",
              "    cursor: pointer;\n",
              "    display: none;\n",
              "    fill: var(--fill-color);\n",
              "    height: 32px;\n",
              "    padding: 0;\n",
              "    width: 32px;\n",
              "  }\n",
              "\n",
              "  .colab-df-quickchart:hover {\n",
              "    background-color: var(--hover-bg-color);\n",
              "    box-shadow: 0 1px 2px rgba(60, 64, 67, 0.3), 0 1px 3px 1px rgba(60, 64, 67, 0.15);\n",
              "    fill: var(--button-hover-fill-color);\n",
              "  }\n",
              "\n",
              "  .colab-df-quickchart-complete:disabled,\n",
              "  .colab-df-quickchart-complete:disabled:hover {\n",
              "    background-color: var(--disabled-bg-color);\n",
              "    fill: var(--disabled-fill-color);\n",
              "    box-shadow: none;\n",
              "  }\n",
              "\n",
              "  .colab-df-spinner {\n",
              "    border: 2px solid var(--fill-color);\n",
              "    border-color: transparent;\n",
              "    border-bottom-color: var(--fill-color);\n",
              "    animation:\n",
              "      spin 1s steps(1) infinite;\n",
              "  }\n",
              "\n",
              "  @keyframes spin {\n",
              "    0% {\n",
              "      border-color: transparent;\n",
              "      border-bottom-color: var(--fill-color);\n",
              "      border-left-color: var(--fill-color);\n",
              "    }\n",
              "    20% {\n",
              "      border-color: transparent;\n",
              "      border-left-color: var(--fill-color);\n",
              "      border-top-color: var(--fill-color);\n",
              "    }\n",
              "    30% {\n",
              "      border-color: transparent;\n",
              "      border-left-color: var(--fill-color);\n",
              "      border-top-color: var(--fill-color);\n",
              "      border-right-color: var(--fill-color);\n",
              "    }\n",
              "    40% {\n",
              "      border-color: transparent;\n",
              "      border-right-color: var(--fill-color);\n",
              "      border-top-color: var(--fill-color);\n",
              "    }\n",
              "    60% {\n",
              "      border-color: transparent;\n",
              "      border-right-color: var(--fill-color);\n",
              "    }\n",
              "    80% {\n",
              "      border-color: transparent;\n",
              "      border-right-color: var(--fill-color);\n",
              "      border-bottom-color: var(--fill-color);\n",
              "    }\n",
              "    90% {\n",
              "      border-color: transparent;\n",
              "      border-bottom-color: var(--fill-color);\n",
              "    }\n",
              "  }\n",
              "</style>\n",
              "\n",
              "  <script>\n",
              "    async function quickchart(key) {\n",
              "      const quickchartButtonEl =\n",
              "        document.querySelector('#' + key + ' button');\n",
              "      quickchartButtonEl.disabled = true;  // To prevent multiple clicks.\n",
              "      quickchartButtonEl.classList.add('colab-df-spinner');\n",
              "      try {\n",
              "        const charts = await google.colab.kernel.invokeFunction(\n",
              "            'suggestCharts', [key], {});\n",
              "      } catch (error) {\n",
              "        console.error('Error during call to suggestCharts:', error);\n",
              "      }\n",
              "      quickchartButtonEl.classList.remove('colab-df-spinner');\n",
              "      quickchartButtonEl.classList.add('colab-df-quickchart-complete');\n",
              "    }\n",
              "    (() => {\n",
              "      let quickchartButtonEl =\n",
              "        document.querySelector('#df-e0e8b4b1-2f1d-44a7-9e95-0ab07a708e50 button');\n",
              "      quickchartButtonEl.style.display =\n",
              "        google.colab.kernel.accessAllowed ? 'block' : 'none';\n",
              "    })();\n",
              "  </script>\n",
              "</div>\n",
              "    </div>\n",
              "  </div>\n"
            ],
            "application/vnd.google.colaboratory.intrinsic+json": {
              "type": "dataframe",
              "variable_name": "data",
              "summary": "{\n  \"name\": \"data\",\n  \"rows\": 8,\n  \"fields\": [\n    {\n      \"column\": \"longitudes\",\n      \"properties\": {\n        \"dtype\": \"string\",\n        \"num_unique_values\": 8,\n        \"samples\": [\n          \"2\",\n          \"-73.57\",\n          \"-58\"\n        ],\n        \"semantic_type\": \"\",\n        \"description\": \"\"\n      }\n    },\n    {\n      \"column\": \"latitude\",\n      \"properties\": {\n        \"dtype\": \"string\",\n        \"num_unique_values\": 8,\n        \"samples\": [\n          \"49\",\n          \"45.52\",\n          \"-34\"\n        ],\n        \"semantic_type\": \"\",\n        \"description\": \"\"\n      }\n    },\n    {\n      \"column\": \"name\",\n      \"properties\": {\n        \"dtype\": \"string\",\n        \"num_unique_values\": 8,\n        \"samples\": [\n          \"Paris\",\n          \"Montreal\",\n          \"Buenos Aires\"\n        ],\n        \"semantic_type\": \"\",\n        \"description\": \"\"\n      }\n    },\n    {\n      \"column\": \"value\",\n      \"properties\": {\n        \"dtype\": \"string\",\n        \"num_unique_values\": 7,\n        \"samples\": [\n          \"10\",\n          \"12\",\n          \"43\"\n        ],\n        \"semantic_type\": \"\",\n        \"description\": \"\"\n      }\n    }\n  ]\n}"
            }
          },
          "metadata": {},
          "execution_count": 14
        }
      ]
    },
    {
      "cell_type": "markdown",
      "source": [
        "Now,\n",
        "- Create a world's map.\n",
        "- Loop through the dataframe.\n",
        "- Add a marker to each location by using the marker() function:\n"
      ],
      "metadata": {
        "id": "xSHMBa6-RquR"
      }
    },
    {
      "cell_type": "code",
      "source": [
        "# Make an empty map\n",
        "emptyMap = folium.Map(location=[20,0], tiles=\"OpenStreetMap\", zoom_start=2)\n",
        "\n",
        "# add marker one by one on the map\n",
        "for i in range(0,len(data)): # loop through dataframe list\n",
        "  folium.Marker(\n",
        "    location=[data.iloc[i]['latitude'], data.iloc[i]['longitudes']],\n",
        "    popup=data.iloc[i]['name'],\n",
        "  ).add_to(emptyMap)\n",
        "\n",
        "# Show the map again\n",
        "emptyMap"
      ],
      "metadata": {
        "id": "gKWLX0ZBRtwY"
      },
      "execution_count": null,
      "outputs": []
    },
    {
      "cell_type": "markdown",
      "metadata": {
        "button": false,
        "new_sheet": false,
        "run_control": {
          "read_only": false
        },
        "id": "cWd91dn1JLK9"
      },
      "source": [
        "### Thank you for completing this lab!\n",
        "\n",
        "# **Submission Instructions:**\n",
        "Include the following deliverables in your submission -\n",
        "\n",
        "- Submit your completed Python program file(s) with appropriate comments and - any additional instructions if required,\n",
        "- Using the Start Assignment button in the top-right corner of the Assignment page in Canvas.\n"
      ]
    }
  ],
  "metadata": {
    "kernelspec": {
      "display_name": "Python 3",
      "language": "python",
      "name": "python3"
    },
    "language_info": {
      "codemirror_mode": {
        "name": "ipython",
        "version": 3
      },
      "file_extension": ".py",
      "mimetype": "text/x-python",
      "name": "python",
      "nbconvert_exporter": "python",
      "pygments_lexer": "ipython3",
      "version": "3.8.5"
    },
    "colab": {
      "provenance": []
    }
  },
  "nbformat": 4,
  "nbformat_minor": 0
}