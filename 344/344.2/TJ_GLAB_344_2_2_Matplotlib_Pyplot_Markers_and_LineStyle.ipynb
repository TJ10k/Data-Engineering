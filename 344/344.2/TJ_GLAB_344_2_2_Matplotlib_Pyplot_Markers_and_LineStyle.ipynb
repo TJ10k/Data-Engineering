{
  "nbformat": 4,
  "nbformat_minor": 0,
  "metadata": {
    "colab": {
      "provenance": []
    },
    "kernelspec": {
      "name": "python3",
      "display_name": "Python 3"
    },
    "language_info": {
      "name": "python"
    }
  },
  "cells": [
    {
      "cell_type": "markdown",
      "source": [
        "#**Guided lab - 344.2 - Matplotlib Pyplot Markers and LineStyle**"
      ],
      "metadata": {
        "id": "yul1byhx32nQ"
      }
    },
    {
      "cell_type": "markdown",
      "source": [
        "##**Learning Objective:**\n",
        "\n",
        "In this lab, you will demonstrate how to use various markers that you can use to highlight data points in your plots.\n",
        "\n",
        "By the end of his lab, learners will be able to use markers to highlight data points in the plots, and use different line styles on a line plot."
      ],
      "metadata": {
        "id": "slcskSyn4IXu"
      }
    },
    {
      "cell_type": "markdown",
      "source": [
        "**Marker Reference: You can choose any of these markers:**\n",
        "\n",
        "```\n",
        "'o' Circle\n",
        "'*' Star\n",
        "'.' Point\n",
        "',' Pixel\n",
        "'x' X\n",
        "'X' X (filled)\n",
        "'+' Plus\n",
        "'P' Plus (filled)\n",
        "'s' Square\n",
        "'D' Diamond\n",
        "'d' Diamond (thin)\n",
        "'p' Pentagon\n",
        "'p'\tPentagon\n",
        "'H'\tHexagon\n",
        "'h'\tHexagon\n",
        "'v'\tTriangle Down\n",
        "'^'\tTriangle Up\n",
        "'<'\tTriangle Left\n",
        "'>'\tTriangle Right\n",
        "'1'\tTri Down\n",
        "'2'\tTri Up\n",
        "'3'\tTri Left\n",
        "'4'\tTri Right\n",
        "'|'\tVline\n",
        "'_'\tHline\n",
        "\n",
        "```\n",
        "We can see all the [possible choices of markers](https://matplotlib.org/stable/api/markers_api.html#module-matplotlib.markers).\n",
        "\n",
        "\n",
        "Let's explore some of above.\n",
        "\n",
        "\n"
      ],
      "metadata": {
        "id": "tyNc-8A93hOg"
      }
    },
    {
      "cell_type": "markdown",
      "source": [
        "##**Example: 1**\n",
        "In this example, we are creating a simple line plot, and marking each point on the plot with a \"diamond.\"\n"
      ],
      "metadata": {
        "id": "Q_mX4xkH0593"
      }
    },
    {
      "cell_type": "code",
      "execution_count": null,
      "metadata": {
        "id": "puXSwzjRuzVN"
      },
      "outputs": [],
      "source": [
        "#Mark each point with a circle:\n",
        "import matplotlib.pyplot as plt\n",
        "import numpy as np\n",
        "\n",
        "ypoints = np.array([3, 8, 1, 10,4,200,45,67,56,98,100])\n",
        "\n",
        "plt.plot(ypoints, marker = 'D', linestyle='--' )\n",
        "plt.show()\n"
      ]
    },
    {
      "cell_type": "markdown",
      "source": [
        "##**Example: 2**\n",
        "Create a simple line plot and mark each point on the plot with a \"Square.\""
      ],
      "metadata": {
        "id": "idbI00uQ13Z3"
      }
    },
    {
      "cell_type": "code",
      "source": [
        "#Mark each point with a circle:\n",
        "import matplotlib.pyplot as plt\n",
        "import numpy as np\n",
        "\n",
        "ypoints = np.array([3, 8, 1, 10,4,200,45,67,56,98,100])\n",
        "\n",
        "plt.plot(ypoints, marker = 's', linestyle = \"dashdot\")\n",
        "plt.show()"
      ],
      "metadata": {
        "id": "TLN2ha140VNf"
      },
      "execution_count": null,
      "outputs": []
    },
    {
      "cell_type": "markdown",
      "source": [
        "##**Example: 3**\n",
        "Create a simple line plot and mark each point on the plot with a \"Right Triangle.\""
      ],
      "metadata": {
        "id": "rnEpVXJ15YSI"
      }
    },
    {
      "cell_type": "code",
      "source": [
        "#Mark each point with a circle:\n",
        "import matplotlib.pyplot as plt\n",
        "import numpy as np\n",
        "\n",
        "ypoints = np.array([3, 8, 1, 10,4,200,45,67,56,98,100])\n",
        "\n",
        "plt.plot(ypoints, marker = '>')\n",
        "plt.show()"
      ],
      "metadata": {
        "id": "mK1vaMUg0taq"
      },
      "execution_count": null,
      "outputs": []
    },
    {
      "cell_type": "markdown",
      "source": [
        "##**Example: 4**\n",
        "\n",
        "In Matplotlib, you can change the color of the markers independent of the line color. You can do this by specifying the **marker** and the **markerfacecolor** or **markeredgewidth** parameters when plotting.\n"
      ],
      "metadata": {
        "id": "Thk63Lx9lWGz"
      }
    },
    {
      "cell_type": "code",
      "source": [
        "#Mark each point with a circle:\n",
        "import matplotlib.pyplot as plt\n",
        "import numpy as np\n",
        "\n",
        "ypoints = np.array([3, 8, 1, 10,4,200,45,67,56,98,100])\n",
        "\n",
        "plt.plot(ypoints, marker = 'd', markerfacecolor='red', markeredgewidth=\"2\")\n",
        "plt.show()\n"
      ],
      "metadata": {
        "id": "5l8u5pzJlWQS"
      },
      "execution_count": null,
      "outputs": []
    },
    {
      "cell_type": "markdown",
      "source": [
        "Task: You can try the rest of the markers with different line styles."
      ],
      "metadata": {
        "id": "_Fxt3Xup5nYp"
      }
    }
  ]
}