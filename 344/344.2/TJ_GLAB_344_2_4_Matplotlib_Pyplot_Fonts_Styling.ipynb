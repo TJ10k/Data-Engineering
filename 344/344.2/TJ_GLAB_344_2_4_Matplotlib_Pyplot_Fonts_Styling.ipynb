{
  "nbformat": 4,
  "nbformat_minor": 0,
  "metadata": {
    "colab": {
      "provenance": []
    },
    "kernelspec": {
      "name": "python3",
      "display_name": "Python 3"
    },
    "language_info": {
      "name": "python"
    }
  },
  "cells": [
    {
      "cell_type": "markdown",
      "source": [
        "#**Guided LAB - 344.2.4 - Matplotlib Pyplot - Fonts Styling**"
      ],
      "metadata": {
        "id": "JXrbvtsIhs07"
      }
    },
    {
      "cell_type": "markdown",
      "source": [
        "#**Objective:**\n",
        "\n",
        "This lab  demonstrates various ways to customize colors and fonts in your Matplotlib plot. Experiment with different options to create visually appealing and informative plots!\n",
        "\n",
        "By the end of this lab, learners will be able to adjust the font family, color, weight (boldness), and size of the chart's elements."
      ],
      "metadata": {
        "id": "qj5WOg_NrvrN"
      }
    },
    {
      "cell_type": "markdown",
      "source": [
        "##**Introduction:**\n",
        "To modify fonts in your plot, you can use the following methods:\n",
        "\n",
        "\n",
        "- **Keyword Arguments:** Apply font properties directly to plot elements\n",
        "- **plt.fontdict:**  Set custom fonts for different text elements such as title, labels, and tick labels using the **fontdict** parameter in various Matplotlib functions.\n",
        "\n",
        "Reference for fonts properties: https://matplotlib.org/stable/users/explain/text/text_props.html\n",
        "\n"
      ],
      "metadata": {
        "id": "-Bq3KDX_bl9x"
      }
    },
    {
      "cell_type": "markdown",
      "source": [
        "##**Example 1: Styling Custom Fonts using Keyword Arguments**\n"
      ],
      "metadata": {
        "id": "pTKeZODFbXZT"
      }
    },
    {
      "cell_type": "code",
      "source": [
        "import numpy as np\n",
        "import matplotlib.pyplot as plt\n",
        "x = np.array([80, 85, 90, 95, 100, 105, 110, 115, 120, 125])\n",
        "y = np.array([240, 250, 260, 170, 190, 160, 300, 310, 320, 330])\n",
        "\n",
        "# Set plot colors\n",
        "plt.plot(x, y, marker = 'D', linestyle='dotted', color=\"#FF5733\")\n",
        "\n",
        "\n",
        "# Set font properties for Title\n",
        "plt.title(\"Title: Sports Watch Data\", fontweight='bold', fontsize=30, color=\"green\" )\n",
        "\n",
        "# Set font properties for label\n",
        "plt.xlabel(\"Label: Average Pulse\",  color='red', fontweight='bold', fontsize=20 )\n",
        "plt.ylabel(\"Label: Calorie Burnage\" ,color='blue', fontfamily='monospace', fontweight=\"bold\", fontsize=20)\n",
        "plt.show()"
      ],
      "metadata": {
        "id": "CsSEtr52b54B"
      },
      "execution_count": null,
      "outputs": []
    },
    {
      "cell_type": "markdown",
      "source": [
        "#**Example 2 - Styling Custom Fonts using fontdict parameter**\n",
        "\n",
        "You can set custom fonts for different text elements such as **title and labels,**  using the **fontdict** parameter in various Matplotlib functions."
      ],
      "metadata": {
        "id": "z7GYsgdgnpYj"
      }
    },
    {
      "cell_type": "code",
      "source": [
        "import numpy as np\n",
        "import matplotlib.pyplot as plt\n",
        "x = np.array([80, 85, 90, 95, 100, 105, 110, 115, 120, 125])\n",
        "y = np.array([240, 250, 260, 170, 190, 160, 300, 310, 320, 330])\n",
        "\n",
        "# Set plot colors\n",
        "plt.plot(x, y, marker = 'D', linestyle='dotted', color=\"#FF5733\")\n",
        "\n",
        "\n",
        "# Setting custom font for title\n",
        "title_font = {'family': 'serif', 'color': 'green', 'weight': 'bold', 'size': 40}\n",
        "plt.title('Title: Sports Watch Data', fontdict=title_font)\n",
        "\n",
        "\n",
        "# Setting custom font for axis labels\n",
        "label_font = {'family': 'sans-serif', 'color': 'red', 'weight': 'normal', 'size': 20}\n",
        "plt.xlabel('X Label: Average Pulse', fontdict=label_font)\n",
        "plt.ylabel('Y Label: Calorie Burnage', fontdict=label_font)\n",
        "\n",
        "\n",
        "plt.show()"
      ],
      "metadata": {
        "id": "c5v-GT68mZij"
      },
      "execution_count": null,
      "outputs": []
    },
    {
      "cell_type": "markdown",
      "source": [
        "Reference: https://matplotlib.org/stable/users/explain/text/fonts.html."
      ],
      "metadata": {
        "id": "jMO4G11ZnoY0"
      }
    }
  ]
}