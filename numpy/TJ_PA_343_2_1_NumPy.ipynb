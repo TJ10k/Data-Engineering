{
 "cells": [
  {
   "cell_type": "markdown",
   "id": "1a75cf6c",
   "metadata": {},
   "source": [
    "# Task 1: Data Type Objects in NumPy\n",
    "1. Create a NumPy array using np.array() function and specify the data type as 'int32.' Print the array and its data type.\n",
    "\n",
    "2. Create another NumPy array using np.array() with the data type as 'float64.' Print the array and its data type."
   ]
  },
  {
   "cell_type": "code",
   "execution_count": 3,
   "id": "fb78257d",
   "metadata": {},
   "outputs": [
    {
     "name": "stdout",
     "output_type": "stream",
     "text": [
      "Array 1\n",
      "Array: [2, 4, 4, 7, 8]\n",
      "Shape of Array 1: (5,)\n",
      "Size of Array 1: 5\n",
      "Datatype of Array 1: int64\n",
      "\n",
      "Array 2\n",
      "Array: [1.3, 2.4, 4.2, 5.5]\n",
      "Shape of Array 2: (4,)\n",
      "Size of Array 2: 4\n",
      "Datatype of Array 2: float64\n"
     ]
    }
   ],
   "source": [
    "import numpy as np\n",
    "\n",
    "array1 = [2, 4, 4, 7, 8]\n",
    "array2 = [1.3, 2.4, 4.2, 5.5]\n",
    "\n",
    "\n",
    "np_array1 = np.array(array1)\n",
    "np_array2 = np.array(array2)\n",
    "\n",
    "shape1 = np_array1.shape\n",
    "shape2 = np_array2.shape\n",
    "\n",
    "size1 = np_array1.size \n",
    "size2 = np_array2.size\n",
    "\n",
    "datatype1 = np_array1.dtype\n",
    "datatype2 = np_array2.dtype\n",
    "\n",
    "print(\"Array 1\")\n",
    "print(\"Array:\", array1)\n",
    "print(\"Shape of Array 1:\", shape1)\n",
    "print(\"Size of Array 1:\", size1)\n",
    "print(\"Datatype of Array 1:\", datatype1)\n",
    "\n",
    "print(\"\\nArray 2\")\n",
    "print(\"Array:\", array2)\n",
    "print(\"Shape of Array 2:\", shape2)\n",
    "print(\"Size of Array 2:\", size2)\n",
    "print(\"Datatype of Array 2:\", datatype2)"
   ]
  },
  {
   "cell_type": "markdown",
   "id": "a38e14b2",
   "metadata": {},
   "source": [
    "# Task 2: One-Dimensional and Multidimensional Arrays\n",
    "1. Create a one-dimensional NumPy array containing the integers from 1 to 5. Print the array.\n",
    "\n",
    "2. Create a two-dimensional NumPy array (matrix) with the following values:"
   ]
  },
  {
   "cell_type": "code",
   "execution_count": 10,
   "id": "619d543e",
   "metadata": {},
   "outputs": [
    {
     "name": "stdout",
     "output_type": "stream",
     "text": [
      "One-dimensional array:\n",
      "[1 2 3 4 5]\n",
      "\n",
      "Two-dimensional array:\n",
      "[[1 2 3]\n",
      " [4 5 6]]\n"
     ]
    }
   ],
   "source": [
    "import numpy as np\n",
    "\n",
    "# One-dimensional array containing integers from 1 to 5\n",
    "one_d_array = np.array([1, 2, 3, 4, 5])\n",
    "print(\"One-dimensional array:\")\n",
    "print(one_d_array)\n",
    "\n",
    "# Two-dimensional array (matrix)\n",
    "two_d_array = np.array([[1, 2, 3],\n",
    "                        [4, 5, 6]])\n",
    "print(\"\\nTwo-dimensional array:\")\n",
    "print(two_d_array)"
   ]
  },
  {
   "cell_type": "markdown",
   "id": "95d3985d",
   "metadata": {},
   "source": [
    "# Task 3: NumPy Operations\n",
    "\n",
    "1. Create two NumPy arrays arr1 and arr2 with any values of your choice. Perform element-wise addition, subtraction, multiplication, and division between these arrays and print the results.\n",
    "\n",
    "2. Calculate the dot product between arr1 and arr2. Print the result.\n",
    "\n",
    "3. Use NumPy to calculate the mean, median, and standard deviation of arr1."
   ]
  },
  {
   "cell_type": "code",
   "execution_count": null,
   "id": "8d4c324f",
   "metadata": {},
   "outputs": [
    {
     "name": "stdout",
     "output_type": "stream",
     "text": [
      "\n",
      "Element-wise Addition:\n",
      "[11 22 33]\n",
      "\n",
      "Element-wise Subtraction:\n",
      "[ 9 18 27]\n",
      "\n",
      "Element-wise Multiplication:\n",
      "[10 40 90]\n",
      "\n",
      "Element-wise Division:\n",
      "[10. 10. 10.]\n",
      "\n",
      "Dot Product of arr1 and arr2:\n",
      "140\n",
      "\n",
      "Statistics for arr1:\n",
      "Mean: 20.0\n",
      "Median: 20.0\n",
      "Standard Deviation: 8.16496580927726\n",
      "1\n"
     ]
    }
   ],
   "source": [
    "import numpy as np\n",
    "# Creating two arrays with chosen values\n",
    "arr1 = np.array([10, 20, 30])\n",
    "arr2 = np.array([1, 2, 3])\n",
    "\n",
    "# Element-wise operations\n",
    "print(\"\\nElement-wise Addition:\")\n",
    "print(arr1 + arr2)\n",
    "\n",
    "print(\"\\nElement-wise Subtraction:\")\n",
    "print(arr1 - arr2)\n",
    "\n",
    "print(\"\\nElement-wise Multiplication:\")\n",
    "print(arr1 * arr2)\n",
    "\n",
    "print(\"\\nElement-wise Division:\")\n",
    "print(arr1 / arr2)\n",
    "\n",
    "# Dot product\n",
    "dot_product = np.dot(arr1, arr2)\n",
    "print(\"\\nDot Product of arr1 and arr2:\")\n",
    "print(dot_product)\n",
    "\n",
    "# Statistics on arr1\n",
    "mean_val = np.mean(arr1)\n",
    "median_val = np.median(arr1)\n",
    "std_dev = np.std(arr1)\n",
    "\n",
    "print(\"\\nStatistics for arr1:\")\n",
    "print(f\"Mean: {mean_val}\")\n",
    "print(f\"Median: {median_val}\")\n",
    "print(f\"Standard Deviation: {std_dev}\")"
   ]
  }
 ],
 "metadata": {
  "kernelspec": {
   "display_name": "Python 3",
   "language": "python",
   "name": "python3"
  },
  "language_info": {
   "codemirror_mode": {
    "name": "ipython",
    "version": 3
   },
   "file_extension": ".py",
   "mimetype": "text/x-python",
   "name": "python",
   "nbconvert_exporter": "python",
   "pygments_lexer": "ipython3",
   "version": "3.12.0"
  }
 },
 "nbformat": 4,
 "nbformat_minor": 5
}
