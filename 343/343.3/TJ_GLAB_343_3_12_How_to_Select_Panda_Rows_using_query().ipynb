{
  "nbformat": 4,
  "nbformat_minor": 0,
  "metadata": {
    "colab": {
      "provenance": []
    },
    "kernelspec": {
      "name": "python3",
      "display_name": "Python 3"
    },
    "language_info": {
      "name": "python"
    }
  },
  "cells": [
    {
      "cell_type": "markdown",
      "source": [
        "#**Guided Lab - 343.3.12 - How to Select Panda Rows using query()**"
      ],
      "metadata": {
        "id": "TPqP0uMlkLGV"
      }
    },
    {
      "cell_type": "markdown",
      "source": [
        "#**Lab Objective:**\n",
        "\n",
        "In this lab, we will demonstrate various techniques for querying Pandas DataFrame rows. We will cover:\n",
        "\n",
        "- Selecting rows based on single or multiple conditions.\n",
        "- Querying with a list of values (checking if a column value exists within a list of string values).\n",
        "- Utilizing the `query()` function to efficiently access specific records from a Pandas DataFrame.\n",
        "\n",
        "#**Learning Objective:**\n",
        "\n",
        "By the end of this lab, Learner will be able to utilize **query()** function to retrieve desired data from Pandas DataFrame.\n",
        "\n",
        "## **Introduction**\n",
        "\n",
        "The `query()` function, a powerful tool for selecting rows from a DataFrame based on specific criteria. The `query()` function enhances data exploration and manipulation, allowing for precise data retrieval and analysis. Throughout this lab, you will gain hands-on experience with `query()` and understand its syntax and applications in data analysis.\n",
        "\n",
        "\n"
      ],
      "metadata": {
        "id": "u0QEiqraIs0K"
      }
    },
    {
      "cell_type": "markdown",
      "source": [
        "**Following is the syntax of query() method.**\n",
        "\n",
        "```\n",
        "DataFrame.query(expr, inplace=False)\n",
        "\n",
        "- expr: expression takes conditions to query rows\n",
        "- inplace: Defaults to False. When set toTrue, it updates the referring DataFrame and query() method returns None.\n",
        "\n",
        "```\n",
        "\n"
      ],
      "metadata": {
        "id": "AO7fLFRKCMJv"
      }
    },
    {
      "cell_type": "markdown",
      "source": [
        "### **let’s create a pandas DataFrame from Dictionary.**\n",
        "\n",
        "Remember when you query DataFrame Rows using query() fucntion, it always returns a new DataFrame with selected rows, in order to update existing df you have to use **`inplace=True`**. I hope this article helps you learn Pandas."
      ],
      "metadata": {
        "id": "73YNcPmHBjJr"
      }
    },
    {
      "cell_type": "code",
      "execution_count": null,
      "metadata": {
        "id": "68aHzomXA2D0"
      },
      "outputs": [],
      "source": [
        "# importing pandas library\n",
        "import pandas as pd\n",
        "\n",
        "# Initializing the nested list with Data set\n",
        "employee_list = [['James', 36, 75, 5428000],\n",
        "               ['Villers', 38, 74, 3428000],\n",
        "               ['VKole', 31, 70, 8428000],\n",
        "               ['Smith', 34, 80, 4428000],\n",
        "               ['Gayle', 40, 100, 4528000],\n",
        "               ['Rooter', 33, 72, 7028000],\n",
        "               ['Peterson', 42, 85, 2528000],\n",
        "               ['John', 41, 85, 1528000],\n",
        "               ['Rome', 45, 85, 152890],\n",
        "               ['Dave', 55, 85, 152890],\n",
        "                ['Smith', 44, 60, 1428000]\n",
        "\n",
        "]\n",
        "\n",
        "# creating a pandas dataframe\n",
        "idx = pd.RangeIndex(1,12)\n",
        "df = pd.DataFrame(employee_list, columns=['Name', 'Age', 'Weight', 'Salary'], index = idx)\n",
        "\n",
        "print(' ------data frame before slicing-----')\n",
        "print(df)"
      ]
    },
    {
      "cell_type": "markdown",
      "source": [
        "###**DataFrame.query() takes condition in expression to select rows from a DataFrame. This expression can have one or multiple conditions.**\n",
        "\n",
        "- The following exmaple we can consider as a categorical variable matches a single value."
      ],
      "metadata": {
        "id": "YDYJ1o7BC10p"
      }
    },
    {
      "cell_type": "code",
      "source": [
        "df2=df.query(\"Name == 'Gayle'\")\n",
        "print(df2)"
      ],
      "metadata": {
        "id": "n6c61uibBWEO"
      },
      "execution_count": null,
      "outputs": []
    },
    {
      "cell_type": "markdown",
      "source": [
        "###**In case you wanted to use a variable in the expression, use @, as shown in the below code example.**"
      ],
      "metadata": {
        "id": "Thj7QgdpDDjA"
      }
    },
    {
      "cell_type": "code",
      "source": [
        "# Using variable\n",
        "value='Gayle '\n",
        "df2 = df.query(\"Name == @value\")\n",
        "print(df2)"
      ],
      "metadata": {
        "colab": {
          "base_uri": "https://localhost:8080/"
        },
        "id": "DJNSByJ2BZu6",
        "outputId": "e07f8383-902e-403a-e764-0ce7b011dc28"
      },
      "execution_count": null,
      "outputs": [
        {
          "output_type": "stream",
          "name": "stdout",
          "text": [
            "Empty DataFrame\n",
            "Columns: [Name, Age, Weight, Salary]\n",
            "Index: []\n"
          ]
        }
      ]
    },
    {
      "cell_type": "markdown",
      "source": [
        "### **If you notice the above examples return a new DataFrame after filtering the rows. if you wanted to update the existing DataFrame use inplace=True**"
      ],
      "metadata": {
        "id": "a0Kun8mQDolx"
      }
    },
    {
      "cell_type": "code",
      "source": [
        "# Inpace\n",
        "print(df.query(\"Name == 'Gayle'\", inplace=True))\n",
        "print(df)"
      ],
      "metadata": {
        "id": "bsprnCxxCCIT"
      },
      "execution_count": null,
      "outputs": []
    },
    {
      "cell_type": "markdown",
      "source": [
        "###**Filter records: We can use conditional operators and comparision operators**"
      ],
      "metadata": {
        "id": "6XLcDH20Eit5"
      }
    },
    {
      "cell_type": "code",
      "source": [
        "print(df.query(\"Name != 'VKole'\"))\n"
      ],
      "metadata": {
        "id": "HeW7UZ7TCPMM"
      },
      "execution_count": null,
      "outputs": []
    },
    {
      "cell_type": "code",
      "source": [
        "df.query(\"Salary >= 4528000\")\n"
      ],
      "metadata": {
        "id": "XoG0Nl-IDPVx"
      },
      "execution_count": null,
      "outputs": []
    },
    {
      "cell_type": "code",
      "source": [
        "df.query(\"Salary >= 6528000 and Salary >= 2528000\")"
      ],
      "metadata": {
        "id": "bDrZZbREDSK8"
      },
      "execution_count": null,
      "outputs": []
    },
    {
      "cell_type": "markdown",
      "source": [
        "###**We can use the 'in' operator with query()**\n",
        "\n",
        "- The following example, we can consider as a categorical variable is in a list of items.\n",
        "\n",
        "\n"
      ],
      "metadata": {
        "id": "rmb4rEgNFAr5"
      }
    },
    {
      "cell_type": "code",
      "source": [
        "print(df.query(\"Name in ('James','Smith')\"))\n",
        "#df.query(\"Salary >= 4528000\")\n",
        "#df.query(\"Salary >= 20000 and Salary >= 2528000\")"
      ],
      "metadata": {
        "id": "ETIm1CpnCsKG"
      },
      "execution_count": null,
      "outputs": []
    },
    {
      "cell_type": "markdown",
      "source": [
        "###**We can use string methods with query()**\n",
        "\n",
        "For conditions requiring partial string matches, the string method (str.xxx()) can be used. Although exact matches can be achieved with == or in, string methods provide more flexibility.\n",
        "\n",
        "pandas: Extract rows that contain specific strings from a DataFrame\n",
        "Here are some useful methods:\n",
        "\n",
        "- str.contains(): Checks if a specific string is contained.\n",
        "\n",
        "- str.endswith(): Checks if a string ends with a specific string.\n",
        "\n",
        "- str.startswith(): Checks if a string starts with a specific string.\n",
        "\n",
        "- str.match(): Checks if a string matches a regular expression pattern.\n"
      ],
      "metadata": {
        "id": "hGCv8n6uFp-B"
      }
    },
    {
      "cell_type": "markdown",
      "source": [
        "let’s create a pandas DataFrame from Dictionary again."
      ],
      "metadata": {
        "id": "m08HFjZyHATI"
      }
    },
    {
      "cell_type": "code",
      "source": [
        "# importing pandas library\n",
        "import pandas as pd\n",
        "\n",
        "# Initializing the nested list with Data set\n",
        "employee_list = [['James', 36, 75, 5428000],\n",
        "               ['Villers', 38, 74, 3428000],\n",
        "               ['VKole', 31, 70, 8428000],\n",
        "               ['Smith', 34, 80, 4428000],\n",
        "               ['Gayle', 40, 100, 4528000],\n",
        "               ['Rooter', 33, 72, 7028000],\n",
        "               ['Peterson', 42, 85, 2528000],\n",
        "               ['John', 41, 85, 1528000],\n",
        "               ['Rome', 45, 85, 152890],\n",
        "               ['Dave', 55, 85, 152890],\n",
        "                ['Smith', 44, 60, 1428000]\n",
        "\n",
        "]\n",
        "\n",
        "# creating a pandas dataframe\n",
        "idx = pd.RangeIndex(1,12)\n",
        "df = pd.DataFrame(employee_list, columns=['Name', 'Age', 'Weight', 'Salary'], index = idx)\n",
        "\n",
        "print(' ------data frame before slicing-----')\n",
        "print(df)"
      ],
      "metadata": {
        "id": "jAyPodesG-nf"
      },
      "execution_count": null,
      "outputs": []
    },
    {
      "cell_type": "code",
      "source": [
        "print(df.query('Name.str.endswith(\"s\")'))"
      ],
      "metadata": {
        "id": "gHy7IpBvGe5h"
      },
      "execution_count": null,
      "outputs": []
    },
    {
      "cell_type": "code",
      "source": [
        "print(df.query('Name.str.contains(\"le\")'))"
      ],
      "metadata": {
        "id": "i160DfEhG3Eq"
      },
      "execution_count": null,
      "outputs": []
    },
    {
      "cell_type": "markdown",
      "source": [
        "### Non-string type columns can be converted to strings with **astype()**, allowing string methods to be applied. This conversion can also be executed within query()."
      ],
      "metadata": {
        "id": "0qxU-DsAHtBe"
      }
    },
    {
      "cell_type": "code",
      "source": [
        "print(df.query('Age.astype(\"str\").str.endswith(\"5\")'))"
      ],
      "metadata": {
        "id": "QUprRAEzHyZ5"
      },
      "execution_count": null,
      "outputs": []
    },
    {
      "cell_type": "markdown",
      "source": [
        "##**Submission**\n",
        "- Submit your completed lab using the Start Assignment button on the assignment page in Canvas.\n",
        "- Your submission can be include:\n",
        "  - if you are using notebook then, all tasks should be written and submitted in a single notebook file, for example: (**your_name_labname.ipynb**).\n",
        "  - if you are using python script file, all tasks should be written and submitted in a single python script file for example: **(your_name_labname.py)**.\n",
        "- Add appropriate comments and any additional instructions if required.\n"
      ],
      "metadata": {
        "id": "IKIZjpl8MHM1"
      }
    }
  ]
}