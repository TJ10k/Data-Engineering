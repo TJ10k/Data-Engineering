{
  "nbformat": 4,
  "nbformat_minor": 0,
  "metadata": {
    "colab": {
      "provenance": []
    },
    "kernelspec": {
      "name": "python3",
      "display_name": "Python 3"
    },
    "language_info": {
      "name": "python"
    }
  },
  "cells": [
    {
      "cell_type": "markdown",
      "source": [
        "#**Guided Lab 343.3.10 - Sorting a Pandas DataFrame**"
      ],
      "metadata": {
        "id": "ao7Ox46Jm_MZ"
      }
    },
    {
      "cell_type": "markdown",
      "source": [
        "##**Learning Objective:**\n",
        "\n",
        "In this lab, you will demonstrate how to sort data(column) in a Pandas DataFrame using the **`.sort_values()`** function.\n",
        "\n",
        "By the end of this lesson, learner will be able to:\n",
        "-Explain the concept of sorting data in a Pandas DataFrame.\n",
        "Utilize the .sort_values() function to sort a DataFrame by one or more columns.\n",
        "- Specify the sorting order (ascending or descending) using the ascending parameter.\n",
        "- Sort a DataFrame by multiple columns with different sorting orders.\n",
        "- Apply sorting techniques to real-world data scenarios."
      ],
      "metadata": {
        "id": "bo7RaPCGnWyK"
      }
    },
    {
      "cell_type": "markdown",
      "source": [
        "#**Example 1**"
      ],
      "metadata": {
        "id": "UyR_NOYomsWo"
      }
    },
    {
      "cell_type": "markdown",
      "source": [
        "You can use **.sort_values()** function to sort values in a DataFrame along either axis (columns or rows). Typically, you want to sort the rows in a DataFrame by the values of one or more columns:"
      ],
      "metadata": {
        "id": "iyaEFcw1kw35"
      }
    },
    {
      "cell_type": "code",
      "execution_count": null,
      "metadata": {
        "id": "ouYe4huti7sW"
      },
      "outputs": [],
      "source": [
        "import pandas as pd\n",
        "# Define a dictionary containing Students data\n",
        "data = {'Name': ['Jane', 'Princi', 'James', 'Fadi'],\n",
        "        'Height': [5.1, 6.2, 5.1, 5.2],\n",
        "        'Qualification': ['Msc', 'MA', 'Msc', 'Msc'],\n",
        "       'Score 1' : [56,86,77,45],\n",
        "       'Score 2' : [50,96,60,30]}\n",
        "print(\"------before -------\")\n",
        "# Convert the dictionary into DataFrame\n",
        "df = pd.DataFrame(data)\n",
        "print(df)\n",
        "print(\"------after adding column -------\")\n",
        "# using DataFrame.assign() method adding 'Address' column and equating it to the list\n",
        "df = df.assign(address = ['NYC', 'NJ', 'CA', 'PA'])\n",
        "print(df)\n"
      ]
    },
    {
      "cell_type": "code",
      "source": [
        "print(\"------after sorting -------\")\n",
        "print(df.sort_values(by='Score 1', ascending=False))\n"
      ],
      "metadata": {
        "id": "jZvY52gWjFQi"
      },
      "execution_count": null,
      "outputs": []
    },
    {
      "cell_type": "markdown",
      "source": [
        "###**Sort by Two Columns: If you want to sort by multiple columns, then just pass lists as arguments for by and ascending as shown below.**\n"
      ],
      "metadata": {
        "id": "c_2Cbl9_jmQJ"
      }
    },
    {
      "cell_type": "code",
      "source": [
        "print (df.sort_values(by=['Score 1', 'Height'], ascending=[False, True]))\n"
      ],
      "metadata": {
        "id": "z5kV_pNejbYx"
      },
      "execution_count": null,
      "outputs": []
    },
    {
      "cell_type": "markdown",
      "source": [
        "\n",
        "\n",
        "---\n",
        "\n",
        "\n",
        "\n",
        "---\n",
        "\n",
        "\n",
        "\n",
        "#**Example 2**"
      ],
      "metadata": {
        "id": "wUZWLrWHmmYq"
      }
    },
    {
      "cell_type": "code",
      "source": [
        "import pandas as pd\n",
        "df_cars = pd.read_json('cars.json')\n",
        "\n",
        "print(\"------before -------\")\n",
        "\n",
        "df_cars"
      ],
      "metadata": {
        "id": "-WpVtT1Slg9i"
      },
      "execution_count": null,
      "outputs": []
    },
    {
      "cell_type": "code",
      "source": [
        "print(\"------after adding column -------\")\n",
        "df_cars.sort_values(by=['quantity'], ascending=[True])"
      ],
      "metadata": {
        "id": "kn6JmlD1lmda"
      },
      "execution_count": null,
      "outputs": []
    },
    {
      "cell_type": "code",
      "source": [
        "df_cars.sort_values(by=['quantity','Car'], ascending=[False,True])"
      ],
      "metadata": {
        "id": "ZBg95faEl8pw"
      },
      "execution_count": null,
      "outputs": []
    },
    {
      "cell_type": "code",
      "source": [
        "import pandas as pd\n",
        "\n",
        "student_dict = {'Name': ['Joe', 'Nat', 'Harry'], 'Age': [20, 21, 19], 'Marks': [85.10, 77.80, 91.54]}\n",
        "\n",
        "# create DataFrame from dict\n",
        "student_df = pd.DataFrame(student_dict)\n",
        "print(student_df)\n",
        "\n",
        "# set index using column\n",
        "student_df = student_df.set_index('Name')\n",
        "print(student_df)\n"
      ],
      "metadata": {
        "id": "muoWAtavq6A-"
      },
      "execution_count": null,
      "outputs": []
    },
    {
      "cell_type": "markdown",
      "source": [
        "# **Submission Instructions:**\n",
        "Include the following deliverables in your submission -\n",
        "\n",
        "- Submit your completed Python program file(s) with appropriate comments and - any additional instructions if required,\n",
        "- Using the Start Assignment button in the top-right corner of the assignment page in Canvas.\n"
      ],
      "metadata": {
        "id": "BZSceQNRi9_P"
      }
    }
  ]
}