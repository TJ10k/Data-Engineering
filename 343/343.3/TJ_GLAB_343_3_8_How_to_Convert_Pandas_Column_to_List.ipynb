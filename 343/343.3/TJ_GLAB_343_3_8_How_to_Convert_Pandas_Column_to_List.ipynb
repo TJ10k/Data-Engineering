{
  "nbformat": 4,
  "nbformat_minor": 0,
  "metadata": {
    "colab": {
      "provenance": []
    },
    "kernelspec": {
      "name": "python3",
      "display_name": "Python 3"
    },
    "language_info": {
      "name": "python"
    }
  },
  "cells": [
    {
      "cell_type": "markdown",
      "source": [
        "# **Guided Lab - 343.3.8 - How to Convert Pandas Column to List**"
      ],
      "metadata": {
        "id": "nTdv8Z43a3iB"
      }
    },
    {
      "cell_type": "markdown",
      "source": [
        "## **Learning Objective:**\n",
        "In this Lab, will learn and demonstrate how to convert a Pandas column from a DataFrame to a list using the **.tolist()** method on the specific column.\n",
        "\n",
        "Upon completing this lab, you should be able to:\n",
        "\n",
        "- Extract a specific column from a Pandas DataFrame.\n",
        "- Convert a Pandas Series (column) into a Python list using various methods.\n",
        "- Describe the relationship between Pandas Series, NumPy arrays, and Python lists.\n",
        "- Access columns using both column names and index positions.\n",
        "Extract the DataFrame's index as a list."
      ],
      "metadata": {
        "id": "SuAW1qvCbO5g"
      }
    },
    {
      "cell_type": "markdown",
      "source": [
        "You can get or convert the pandas DataFrame column to the list using Series.values.tolist(), since each column in DataFrame is represented as a Series internally, you can use this function after getting a column you wanted to convert as a Series. You can get a column as a Series by using **df.column_name** or  **df['column_name']**."
      ],
      "metadata": {
        "id": "vBiSu81abEJV"
      }
    },
    {
      "cell_type": "markdown",
      "source": [
        "##**Dataset**\n",
        "\n",
        "In this lab, we will use [cars.json](https://drive.google.com/file/d/1CXAK8gbuLtc2NNOXVUgmja8fDg0TrNZm/view) dataset, Let import cars dataset in Panda dataframe.\n",
        "\n",
        "## **Instructions:**"
      ],
      "metadata": {
        "id": "s6AhiHKIaocy"
      }
    },
    {
      "cell_type": "code",
      "source": [
        "import pandas as pd\n",
        "# do not forget to change the path of the file\n",
        "df_cars = pd.read_json('cars.json')\n",
        "df_cars"
      ],
      "metadata": {
        "colab": {
          "base_uri": "https://localhost:8080/",
          "height": 423
        },
        "id": "_raHtlWuapYr",
        "outputId": "61e7dbfe-9275-4ddb-e1b2-85f9b2a175d1"
      },
      "execution_count": null,
      "outputs": [
        {
          "output_type": "execute_result",
          "data": {
            "text/plain": [
              "                            Car   MPG  Cylinders  Displacement  Horsepower  \\\n",
              "0                Chevrolet Vega  25.0          4         140.0          75   \n",
              "1           Chevrolet Vega (sw)  22.0          4         140.0          72   \n",
              "2           Chevrolet Vega 2300  28.0          4         140.0          90   \n",
              "3               Chevrolet Woody  24.5          4          98.0          60   \n",
              "4    Chevrolete Chevelle Malibu  16.0          6         250.0         105   \n",
              "..                          ...   ...        ...           ...         ...   \n",
              "156            Mercury Capri v6  21.0          6         155.0         107   \n",
              "157     Mercury Cougar Brougham  15.0          8         302.0         130   \n",
              "158       Mercury Grand Marquis  16.5          8         351.0         138   \n",
              "159              Mercury Lynx l  36.0          4          98.0          70   \n",
              "160             Mercury Marquis  11.0          8         429.0         208   \n",
              "\n",
              "     Weight  Acceleration  Model Origin  quantity     city  \n",
              "0      2542          17.0     74     US       177       NJ  \n",
              "1      2408          19.0     71     US        91   DALLAS  \n",
              "2      2264          15.5     71     US        74    TEXAS  \n",
              "3      2164          22.1     76     US       241       OH  \n",
              "4      3897          18.5     75     US       206  NewYork  \n",
              "..      ...           ...    ...    ...       ...      ...  \n",
              "156    2472          14.0     73     US       158  NewYork  \n",
              "157    4295          14.9     77     US        27       NJ  \n",
              "158    3955          13.2     79     US       332   DALLAS  \n",
              "159    2125          17.3     82     US       425    TEXAS  \n",
              "160    4633          11.0     72     US       112       OH  \n",
              "\n",
              "[161 rows x 11 columns]"
            ],
            "text/html": [
              "\n",
              "  <div id=\"df-03ec402f-ff69-4523-8929-366ac8299766\" class=\"colab-df-container\">\n",
              "    <div>\n",
              "<style scoped>\n",
              "    .dataframe tbody tr th:only-of-type {\n",
              "        vertical-align: middle;\n",
              "    }\n",
              "\n",
              "    .dataframe tbody tr th {\n",
              "        vertical-align: top;\n",
              "    }\n",
              "\n",
              "    .dataframe thead th {\n",
              "        text-align: right;\n",
              "    }\n",
              "</style>\n",
              "<table border=\"1\" class=\"dataframe\">\n",
              "  <thead>\n",
              "    <tr style=\"text-align: right;\">\n",
              "      <th></th>\n",
              "      <th>Car</th>\n",
              "      <th>MPG</th>\n",
              "      <th>Cylinders</th>\n",
              "      <th>Displacement</th>\n",
              "      <th>Horsepower</th>\n",
              "      <th>Weight</th>\n",
              "      <th>Acceleration</th>\n",
              "      <th>Model</th>\n",
              "      <th>Origin</th>\n",
              "      <th>quantity</th>\n",
              "      <th>city</th>\n",
              "    </tr>\n",
              "  </thead>\n",
              "  <tbody>\n",
              "    <tr>\n",
              "      <th>0</th>\n",
              "      <td>Chevrolet Vega</td>\n",
              "      <td>25.0</td>\n",
              "      <td>4</td>\n",
              "      <td>140.0</td>\n",
              "      <td>75</td>\n",
              "      <td>2542</td>\n",
              "      <td>17.0</td>\n",
              "      <td>74</td>\n",
              "      <td>US</td>\n",
              "      <td>177</td>\n",
              "      <td>NJ</td>\n",
              "    </tr>\n",
              "    <tr>\n",
              "      <th>1</th>\n",
              "      <td>Chevrolet Vega (sw)</td>\n",
              "      <td>22.0</td>\n",
              "      <td>4</td>\n",
              "      <td>140.0</td>\n",
              "      <td>72</td>\n",
              "      <td>2408</td>\n",
              "      <td>19.0</td>\n",
              "      <td>71</td>\n",
              "      <td>US</td>\n",
              "      <td>91</td>\n",
              "      <td>DALLAS</td>\n",
              "    </tr>\n",
              "    <tr>\n",
              "      <th>2</th>\n",
              "      <td>Chevrolet Vega 2300</td>\n",
              "      <td>28.0</td>\n",
              "      <td>4</td>\n",
              "      <td>140.0</td>\n",
              "      <td>90</td>\n",
              "      <td>2264</td>\n",
              "      <td>15.5</td>\n",
              "      <td>71</td>\n",
              "      <td>US</td>\n",
              "      <td>74</td>\n",
              "      <td>TEXAS</td>\n",
              "    </tr>\n",
              "    <tr>\n",
              "      <th>3</th>\n",
              "      <td>Chevrolet Woody</td>\n",
              "      <td>24.5</td>\n",
              "      <td>4</td>\n",
              "      <td>98.0</td>\n",
              "      <td>60</td>\n",
              "      <td>2164</td>\n",
              "      <td>22.1</td>\n",
              "      <td>76</td>\n",
              "      <td>US</td>\n",
              "      <td>241</td>\n",
              "      <td>OH</td>\n",
              "    </tr>\n",
              "    <tr>\n",
              "      <th>4</th>\n",
              "      <td>Chevrolete Chevelle Malibu</td>\n",
              "      <td>16.0</td>\n",
              "      <td>6</td>\n",
              "      <td>250.0</td>\n",
              "      <td>105</td>\n",
              "      <td>3897</td>\n",
              "      <td>18.5</td>\n",
              "      <td>75</td>\n",
              "      <td>US</td>\n",
              "      <td>206</td>\n",
              "      <td>NewYork</td>\n",
              "    </tr>\n",
              "    <tr>\n",
              "      <th>...</th>\n",
              "      <td>...</td>\n",
              "      <td>...</td>\n",
              "      <td>...</td>\n",
              "      <td>...</td>\n",
              "      <td>...</td>\n",
              "      <td>...</td>\n",
              "      <td>...</td>\n",
              "      <td>...</td>\n",
              "      <td>...</td>\n",
              "      <td>...</td>\n",
              "      <td>...</td>\n",
              "    </tr>\n",
              "    <tr>\n",
              "      <th>156</th>\n",
              "      <td>Mercury Capri v6</td>\n",
              "      <td>21.0</td>\n",
              "      <td>6</td>\n",
              "      <td>155.0</td>\n",
              "      <td>107</td>\n",
              "      <td>2472</td>\n",
              "      <td>14.0</td>\n",
              "      <td>73</td>\n",
              "      <td>US</td>\n",
              "      <td>158</td>\n",
              "      <td>NewYork</td>\n",
              "    </tr>\n",
              "    <tr>\n",
              "      <th>157</th>\n",
              "      <td>Mercury Cougar Brougham</td>\n",
              "      <td>15.0</td>\n",
              "      <td>8</td>\n",
              "      <td>302.0</td>\n",
              "      <td>130</td>\n",
              "      <td>4295</td>\n",
              "      <td>14.9</td>\n",
              "      <td>77</td>\n",
              "      <td>US</td>\n",
              "      <td>27</td>\n",
              "      <td>NJ</td>\n",
              "    </tr>\n",
              "    <tr>\n",
              "      <th>158</th>\n",
              "      <td>Mercury Grand Marquis</td>\n",
              "      <td>16.5</td>\n",
              "      <td>8</td>\n",
              "      <td>351.0</td>\n",
              "      <td>138</td>\n",
              "      <td>3955</td>\n",
              "      <td>13.2</td>\n",
              "      <td>79</td>\n",
              "      <td>US</td>\n",
              "      <td>332</td>\n",
              "      <td>DALLAS</td>\n",
              "    </tr>\n",
              "    <tr>\n",
              "      <th>159</th>\n",
              "      <td>Mercury Lynx l</td>\n",
              "      <td>36.0</td>\n",
              "      <td>4</td>\n",
              "      <td>98.0</td>\n",
              "      <td>70</td>\n",
              "      <td>2125</td>\n",
              "      <td>17.3</td>\n",
              "      <td>82</td>\n",
              "      <td>US</td>\n",
              "      <td>425</td>\n",
              "      <td>TEXAS</td>\n",
              "    </tr>\n",
              "    <tr>\n",
              "      <th>160</th>\n",
              "      <td>Mercury Marquis</td>\n",
              "      <td>11.0</td>\n",
              "      <td>8</td>\n",
              "      <td>429.0</td>\n",
              "      <td>208</td>\n",
              "      <td>4633</td>\n",
              "      <td>11.0</td>\n",
              "      <td>72</td>\n",
              "      <td>US</td>\n",
              "      <td>112</td>\n",
              "      <td>OH</td>\n",
              "    </tr>\n",
              "  </tbody>\n",
              "</table>\n",
              "<p>161 rows × 11 columns</p>\n",
              "</div>\n",
              "    <div class=\"colab-df-buttons\">\n",
              "\n",
              "  <div class=\"colab-df-container\">\n",
              "    <button class=\"colab-df-convert\" onclick=\"convertToInteractive('df-03ec402f-ff69-4523-8929-366ac8299766')\"\n",
              "            title=\"Convert this dataframe to an interactive table.\"\n",
              "            style=\"display:none;\">\n",
              "\n",
              "  <svg xmlns=\"http://www.w3.org/2000/svg\" height=\"24px\" viewBox=\"0 -960 960 960\">\n",
              "    <path d=\"M120-120v-720h720v720H120Zm60-500h600v-160H180v160Zm220 220h160v-160H400v160Zm0 220h160v-160H400v160ZM180-400h160v-160H180v160Zm440 0h160v-160H620v160ZM180-180h160v-160H180v160Zm440 0h160v-160H620v160Z\"/>\n",
              "  </svg>\n",
              "    </button>\n",
              "\n",
              "  <style>\n",
              "    .colab-df-container {\n",
              "      display:flex;\n",
              "      gap: 12px;\n",
              "    }\n",
              "\n",
              "    .colab-df-convert {\n",
              "      background-color: #E8F0FE;\n",
              "      border: none;\n",
              "      border-radius: 50%;\n",
              "      cursor: pointer;\n",
              "      display: none;\n",
              "      fill: #1967D2;\n",
              "      height: 32px;\n",
              "      padding: 0 0 0 0;\n",
              "      width: 32px;\n",
              "    }\n",
              "\n",
              "    .colab-df-convert:hover {\n",
              "      background-color: #E2EBFA;\n",
              "      box-shadow: 0px 1px 2px rgba(60, 64, 67, 0.3), 0px 1px 3px 1px rgba(60, 64, 67, 0.15);\n",
              "      fill: #174EA6;\n",
              "    }\n",
              "\n",
              "    .colab-df-buttons div {\n",
              "      margin-bottom: 4px;\n",
              "    }\n",
              "\n",
              "    [theme=dark] .colab-df-convert {\n",
              "      background-color: #3B4455;\n",
              "      fill: #D2E3FC;\n",
              "    }\n",
              "\n",
              "    [theme=dark] .colab-df-convert:hover {\n",
              "      background-color: #434B5C;\n",
              "      box-shadow: 0px 1px 3px 1px rgba(0, 0, 0, 0.15);\n",
              "      filter: drop-shadow(0px 1px 2px rgba(0, 0, 0, 0.3));\n",
              "      fill: #FFFFFF;\n",
              "    }\n",
              "  </style>\n",
              "\n",
              "    <script>\n",
              "      const buttonEl =\n",
              "        document.querySelector('#df-03ec402f-ff69-4523-8929-366ac8299766 button.colab-df-convert');\n",
              "      buttonEl.style.display =\n",
              "        google.colab.kernel.accessAllowed ? 'block' : 'none';\n",
              "\n",
              "      async function convertToInteractive(key) {\n",
              "        const element = document.querySelector('#df-03ec402f-ff69-4523-8929-366ac8299766');\n",
              "        const dataTable =\n",
              "          await google.colab.kernel.invokeFunction('convertToInteractive',\n",
              "                                                    [key], {});\n",
              "        if (!dataTable) return;\n",
              "\n",
              "        const docLinkHtml = 'Like what you see? Visit the ' +\n",
              "          '<a target=\"_blank\" href=https://colab.research.google.com/notebooks/data_table.ipynb>data table notebook</a>'\n",
              "          + ' to learn more about interactive tables.';\n",
              "        element.innerHTML = '';\n",
              "        dataTable['output_type'] = 'display_data';\n",
              "        await google.colab.output.renderOutput(dataTable, element);\n",
              "        const docLink = document.createElement('div');\n",
              "        docLink.innerHTML = docLinkHtml;\n",
              "        element.appendChild(docLink);\n",
              "      }\n",
              "    </script>\n",
              "  </div>\n",
              "\n",
              "\n",
              "<div id=\"df-2df96bbd-01ef-4df8-96f9-84efca717d1b\">\n",
              "  <button class=\"colab-df-quickchart\" onclick=\"quickchart('df-2df96bbd-01ef-4df8-96f9-84efca717d1b')\"\n",
              "            title=\"Suggest charts\"\n",
              "            style=\"display:none;\">\n",
              "\n",
              "<svg xmlns=\"http://www.w3.org/2000/svg\" height=\"24px\"viewBox=\"0 0 24 24\"\n",
              "     width=\"24px\">\n",
              "    <g>\n",
              "        <path d=\"M19 3H5c-1.1 0-2 .9-2 2v14c0 1.1.9 2 2 2h14c1.1 0 2-.9 2-2V5c0-1.1-.9-2-2-2zM9 17H7v-7h2v7zm4 0h-2V7h2v10zm4 0h-2v-4h2v4z\"/>\n",
              "    </g>\n",
              "</svg>\n",
              "  </button>\n",
              "\n",
              "<style>\n",
              "  .colab-df-quickchart {\n",
              "      --bg-color: #E8F0FE;\n",
              "      --fill-color: #1967D2;\n",
              "      --hover-bg-color: #E2EBFA;\n",
              "      --hover-fill-color: #174EA6;\n",
              "      --disabled-fill-color: #AAA;\n",
              "      --disabled-bg-color: #DDD;\n",
              "  }\n",
              "\n",
              "  [theme=dark] .colab-df-quickchart {\n",
              "      --bg-color: #3B4455;\n",
              "      --fill-color: #D2E3FC;\n",
              "      --hover-bg-color: #434B5C;\n",
              "      --hover-fill-color: #FFFFFF;\n",
              "      --disabled-bg-color: #3B4455;\n",
              "      --disabled-fill-color: #666;\n",
              "  }\n",
              "\n",
              "  .colab-df-quickchart {\n",
              "    background-color: var(--bg-color);\n",
              "    border: none;\n",
              "    border-radius: 50%;\n",
              "    cursor: pointer;\n",
              "    display: none;\n",
              "    fill: var(--fill-color);\n",
              "    height: 32px;\n",
              "    padding: 0;\n",
              "    width: 32px;\n",
              "  }\n",
              "\n",
              "  .colab-df-quickchart:hover {\n",
              "    background-color: var(--hover-bg-color);\n",
              "    box-shadow: 0 1px 2px rgba(60, 64, 67, 0.3), 0 1px 3px 1px rgba(60, 64, 67, 0.15);\n",
              "    fill: var(--button-hover-fill-color);\n",
              "  }\n",
              "\n",
              "  .colab-df-quickchart-complete:disabled,\n",
              "  .colab-df-quickchart-complete:disabled:hover {\n",
              "    background-color: var(--disabled-bg-color);\n",
              "    fill: var(--disabled-fill-color);\n",
              "    box-shadow: none;\n",
              "  }\n",
              "\n",
              "  .colab-df-spinner {\n",
              "    border: 2px solid var(--fill-color);\n",
              "    border-color: transparent;\n",
              "    border-bottom-color: var(--fill-color);\n",
              "    animation:\n",
              "      spin 1s steps(1) infinite;\n",
              "  }\n",
              "\n",
              "  @keyframes spin {\n",
              "    0% {\n",
              "      border-color: transparent;\n",
              "      border-bottom-color: var(--fill-color);\n",
              "      border-left-color: var(--fill-color);\n",
              "    }\n",
              "    20% {\n",
              "      border-color: transparent;\n",
              "      border-left-color: var(--fill-color);\n",
              "      border-top-color: var(--fill-color);\n",
              "    }\n",
              "    30% {\n",
              "      border-color: transparent;\n",
              "      border-left-color: var(--fill-color);\n",
              "      border-top-color: var(--fill-color);\n",
              "      border-right-color: var(--fill-color);\n",
              "    }\n",
              "    40% {\n",
              "      border-color: transparent;\n",
              "      border-right-color: var(--fill-color);\n",
              "      border-top-color: var(--fill-color);\n",
              "    }\n",
              "    60% {\n",
              "      border-color: transparent;\n",
              "      border-right-color: var(--fill-color);\n",
              "    }\n",
              "    80% {\n",
              "      border-color: transparent;\n",
              "      border-right-color: var(--fill-color);\n",
              "      border-bottom-color: var(--fill-color);\n",
              "    }\n",
              "    90% {\n",
              "      border-color: transparent;\n",
              "      border-bottom-color: var(--fill-color);\n",
              "    }\n",
              "  }\n",
              "</style>\n",
              "\n",
              "  <script>\n",
              "    async function quickchart(key) {\n",
              "      const quickchartButtonEl =\n",
              "        document.querySelector('#' + key + ' button');\n",
              "      quickchartButtonEl.disabled = true;  // To prevent multiple clicks.\n",
              "      quickchartButtonEl.classList.add('colab-df-spinner');\n",
              "      try {\n",
              "        const charts = await google.colab.kernel.invokeFunction(\n",
              "            'suggestCharts', [key], {});\n",
              "      } catch (error) {\n",
              "        console.error('Error during call to suggestCharts:', error);\n",
              "      }\n",
              "      quickchartButtonEl.classList.remove('colab-df-spinner');\n",
              "      quickchartButtonEl.classList.add('colab-df-quickchart-complete');\n",
              "    }\n",
              "    (() => {\n",
              "      let quickchartButtonEl =\n",
              "        document.querySelector('#df-2df96bbd-01ef-4df8-96f9-84efca717d1b button');\n",
              "      quickchartButtonEl.style.display =\n",
              "        google.colab.kernel.accessAllowed ? 'block' : 'none';\n",
              "    })();\n",
              "  </script>\n",
              "</div>\n",
              "    </div>\n",
              "  </div>\n"
            ]
          },
          "metadata": {},
          "execution_count": 2
        }
      ]
    },
    {
      "cell_type": "markdown",
      "source": [
        "### **Examples 1: Converting Pandas column to list using Series.values.tolist()**"
      ],
      "metadata": {
        "id": "fjfXp9l6bv0S"
      }
    },
    {
      "cell_type": "code",
      "source": [
        "# Example 1: Using Series.values.tolist()\n",
        "# in the below example, we are getting the column names of the dataframe\n",
        "col_list = df_cars.Car.values.tolist()\n",
        "print(col_list)\n"
      ],
      "metadata": {
        "colab": {
          "base_uri": "https://localhost:8080/"
        },
        "id": "iynEf9JCa2uZ",
        "outputId": "b49b69cf-d4a0-4eb2-fbd1-2585ff4387ee"
      },
      "execution_count": null,
      "outputs": [
        {
          "output_type": "stream",
          "name": "stdout",
          "text": [
            "['Chevrolet Vega', 'Chevrolet Vega (sw)', 'Chevrolet Vega 2300', 'Chevrolet Woody', 'Chevrolete Chevelle Malibu', 'Chevy C20', 'Chevy S-10', 'Chrysler Cordoba', 'Chrysler Lebaron Medallion', 'Chrysler Lebaron Salon', 'Chrysler Lebaron Town @ Country (sw)', 'Chrysler New Yorker Brougham', 'Chrysler Newport Royal', 'Citroen DS-21 Pallas', 'Datsun 1200', 'Datsun 200SX', 'Datsun 200-SX', 'Datsun 210', 'Datsun 210', 'Datsun 210 MPG', 'Datsun 280-ZX', 'Datsun 310', 'Datsun 310 GX', 'Datsun 510', 'Datsun 510 (sw)', 'Datsun 510 Hatchback', 'Datsun 610', 'Datsun 710', 'Datsun 710', 'Datsun 810', 'Datsun 810 Maxima', 'Datsun B210', 'Datsun B-210', 'Datsun B210 GX', 'Datsun F-10 Hatchback', 'Datsun PL510', 'Datsun PL510', 'Dodge Aries SE', 'Dodge Aries Wagon (sw)', 'Dodge Aspen', 'Dodge Aspen', 'Dodge Aspen 6', 'Dodge Aspen SE', 'Dodge Challenger SE', 'Dodge Charger 2.2', 'Dodge Colt', 'Dodge Colt', 'Dodge Colt', 'Dodge Colt (sw)', 'Dodge Colt Hardtop', 'Dodge Colt Hatchback Custom', 'Dodge Colt m/m', 'Dodge Coronet Brougham', 'Dodge Coronet Custom', 'Dodge Coronet Custom (sw)', 'Dodge D100', 'Dodge D200', 'Dodge Dart Custom', 'Dodge Diplomat', 'Dodge Magnum XE', 'Dodge Monaco (sw)', 'Dodge Monaco Brougham', 'Dodge Omni', 'Dodge Rampage', 'Dodge St. Regis', 'Fiat 124 Sport Coupe', 'Fiat 124 TC', 'Fiat 124B', 'Fiat 128', 'Fiat 128', 'Fiat 131', 'Fiat Strada Custom', 'Fiat x1.9', 'Ford Country', 'Ford Country Squire (sw)', 'Ford Country Squire (sw)', 'Ford Escort 2H', 'Ford Escort 4W', 'Ford F108', 'Ford F250', 'Ford Fairmont', 'Ford Fairmont (auto)', 'Ford Fairmont (man)', 'Ford Fairmont 4', 'Ford Fairmont Futura', 'Ford Fiesta', 'Ford Futura', 'Ford Galaxie 500', 'Ford Galaxie 500', 'Ford Galaxie 500', 'Ford Gran Torino', 'Ford Gran Torino', 'Ford Gran Torino', 'Ford Gran Torino (sw)', 'Ford Gran Torino (sw)', 'Ford Grenada', 'Ford Grenada ghia', 'Ford Grenada gl', 'Ford Grenada l', 'Ford LTD', 'Ford LTD', 'Ford LTD Landau', 'Ford Maverick', 'Ford Maverick', 'Ford Maverick', 'Ford Maverick', 'Ford Maverick', 'Ford Mustang', 'Ford Mustang Boss 302', 'Ford Mustang Cobra', 'Ford Mustang GL', 'Ford Mustang II', 'Ford Mustang II 2+2', 'Ford Pinto', 'Ford Pinto', 'Ford Pinto', 'Ford Pinto', 'Ford Pinto', 'Ford Pinto', 'Ford Pinto (sw)', 'Ford Pinto Runabout', 'Ford Ranger', 'Ford Thunderbird', 'Ford Torino', 'Ford Torino (sw)', 'Ford Torino 500', 'Hi 1200D', 'Honda Accord', 'Honda Accord', 'Honda Accord CVCC', 'Honda Accord LX', 'Honda Civic', 'Honda Civic', 'Honda Civic', 'Honda Civic (auto)', 'Honda Civic 1300', 'Honda Civic 1500 gl', 'Honda Civic CVCC', 'Honda Civic CVCC', 'Honda Prelude', 'Mazda 626', 'Mazda 626', 'Mazda GLC', 'Mazda GLC 4', 'Mazda GLC Custom', 'Mazda GLC Custom l', 'Mazda GLC Deluxe', 'Mazda GLC Deluxe', 'Mazda RX2 Coupe', 'Mazda RX3', 'Mazda RX-4', 'Mazda RX-7 GS', 'Mercedes Benz 300d', 'Mercedes-Benz 240d', 'Mercedes-Benz 280s', 'Mercury Capri 2000', 'Mercury Capri v6', 'Mercury Cougar Brougham', 'Mercury Grand Marquis', 'Mercury Lynx l', 'Mercury Marquis']\n"
          ]
        }
      ]
    },
    {
      "cell_type": "markdown",
      "source": [
        "**Alternatively, you can also write the statement using.**"
      ],
      "metadata": {
        "id": "fWFB4NFLe_zl"
      }
    },
    {
      "cell_type": "code",
      "source": [
        "# in the below example, we are getting the index of the dataframe\n",
        "df_cars[\"Car\"].values.tolist()"
      ],
      "metadata": {
        "id": "M8DaiGUifC6P"
      },
      "execution_count": null,
      "outputs": []
    },
    {
      "cell_type": "markdown",
      "source": [
        "Below is an explanation of each section of the statement.\n",
        "\n",
        "- df_cars['Courses'] returns a Series object of a specified column.\n",
        "\n",
        "- df_cars['Courses'].values returns an array with column values and this has a helper function .tolist() to convert to a list."
      ],
      "metadata": {
        "id": "FFULLNTsd-gF"
      }
    },
    {
      "cell_type": "markdown",
      "source": [
        "# **Example 2: Converting Pandas column to list using list() Function**\n",
        "\n",
        "list() function will return the list with the values of the specified column of DataFrame."
      ],
      "metadata": {
        "id": "8Ktfv3L-flJh"
      }
    },
    {
      "cell_type": "code",
      "source": [
        "list(df_cars[\"Car\"])"
      ],
      "metadata": {
        "id": "TMunsTJubbvW"
      },
      "execution_count": null,
      "outputs": []
    },
    {
      "cell_type": "markdown",
      "source": [
        "# **Example 3: Convert Pandas column to Numpy array**\n",
        "\n",
        "Sometimes you may be required to convert the Pandas column to Numpy Array you can do so by using the **to_numpy()** function."
      ],
      "metadata": {
        "id": "2vMBachZfy6-"
      }
    },
    {
      "cell_type": "code",
      "source": [
        "\n",
        "col_list = df_cars['Car'].to_numpy()\n",
        "print(col_list)\n",
        "print(\"Get the array from specified column:\\n\")\n",
        "print(type(col_list))\n",
        "\n"
      ],
      "metadata": {
        "id": "Q8AZM5nPfzpD"
      },
      "execution_count": null,
      "outputs": []
    },
    {
      "cell_type": "markdown",
      "source": [
        "# **Example 4: Converting Pandas column to list using by Column Index**\n",
        "\n",
        "If you have a column index and want to get the column values of an index, first you have to get the column name by index and then use the approaches explained above to convert it to a list.\n",
        "\n",
        "From the below example **`df.columns[0]`** returns the column name for an index 0, which is Car.\n"
      ],
      "metadata": {
        "id": "a03TQ-PIgnWl"
      }
    },
    {
      "cell_type": "code",
      "source": [
        "# in the below example, we are getting the column names of the dataframe\n",
        "col_list = df_cars[df_cars.columns[0]].values.tolist()\n",
        "print(col_list)\n",
        "\n"
      ],
      "metadata": {
        "id": "1pFhoxvkhYrh"
      },
      "execution_count": null,
      "outputs": []
    },
    {
      "cell_type": "markdown",
      "source": [
        "# **Example 5: Convert Index Column to List**\n"
      ],
      "metadata": {
        "id": "q6eSDdcxhaJ_"
      }
    },
    {
      "cell_type": "code",
      "source": [
        "# in the below example, we are getting the index of the dataframe\n",
        "index_list = df_cars.index.tolist()\n",
        "print(index_list)"
      ],
      "metadata": {
        "id": "Aem7erJIh8BG"
      },
      "execution_count": null,
      "outputs": []
    },
    {
      "cell_type": "markdown",
      "source": [
        "\n",
        "##**Submission Instructions**\n",
        "- Submit your completed lab using the Start Assignment button on the assignment page in Canvas.\n",
        "- Your submission can be include:\n",
        "  - if you are using notebook then, all tasks should be written and submitted in a single notebook file, for example: (**your_name_labname.ipynb**).\n",
        "  - if you are using python script file, all tasks should be written and submitted in a single python script file for example: **(your_name_labname.py)**.\n",
        "- Add appropriate comments and any additional instructions if required.\n",
        "\n"
      ],
      "metadata": {
        "id": "xrhEpF0CgZeX"
      }
    }
  ]
}