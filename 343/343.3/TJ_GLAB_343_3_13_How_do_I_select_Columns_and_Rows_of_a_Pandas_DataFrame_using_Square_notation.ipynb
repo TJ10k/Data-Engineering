{
  "nbformat": 4,
  "nbformat_minor": 0,
  "metadata": {
    "colab": {
      "provenance": []
    },
    "kernelspec": {
      "name": "python3",
      "display_name": "Python 3"
    },
    "language_info": {
      "name": "python"
    }
  },
  "cells": [
    {
      "cell_type": "markdown",
      "source": [
        "#**Guided Lab 343.3.13 - Select Columns and Rows of a Pandas DataFrame using Square notation []**\n",
        "\n",
        "---\n",
        "\n"
      ],
      "metadata": {
        "id": "ig6e04EWA_29"
      }
    },
    {
      "cell_type": "markdown",
      "source": [
        "##**Lab Objective:**\n",
        "In this lab, you will demonstrate, how to access or select columns and Rows from Panda Datafram by using square braket [ ]. This lab dives into the core Pandas skills of selecting and filtering data within DataFrames. You'll learn how to pinpoint specific columns and rows using a variety of techniques, empowering you to extract the data you need for analysis.\n",
        "\n",
        "**Key takeaways:**\n",
        "\n",
        "- Select data by column name or index.\n",
        "- Filter rows based on conditions and string patterns.\n",
        "- Utilize the `.isin()` method for targeted filtering.\n",
        "- Apply the `.str` attribute for string-based operations.\n",
        "\n",
        "##**Learning Objective:**\n",
        "\n",
        "By the end this lab, learners will be able t:\n",
        "- Select any specified column/columns and Row/Rows from Pandas Dataframe.\n",
        "- Filter rows using conditions.\n",
        "- Utilize specialized functions like .isin() for precise filtering, like selecting data for specific years or categories."
      ],
      "metadata": {
        "id": "DyUE-au_ZzO7"
      }
    },
    {
      "cell_type": "markdown",
      "source": [
        "##**Introduction:**\n",
        "**Selecting columns by using column attribute**\n",
        "\n",
        "- To select a single column, use square brackets [ ] with the column name of the column of interest.\n",
        "\n",
        "- To select multiple columns, use a list of column names within the selection brackets [ ].\n",
        "\n",
        " -- Important Note:  The inner square brackets define a Python list with column names, whereas the outer brackets are used to select the data from a pandas DataFrame.\n",
        "\n",
        "Syntax:\n",
        "\n",
        "```\n",
        "# select column to Series\n",
        "s = df['colName']\n",
        "\n",
        "# select column to dataframe\n",
        "df = df[['colName']]\n",
        "\n",
        "# select two or more columns\n",
        "df = df[['ColOne','colTwo']]  \n",
        "\n",
        "# select single column by column index number\n",
        "s = df[df.columns[0]]  \n",
        "\n",
        "# select multiple columns by column index numbers\n",
        "df = df.columns[[0, 3, 4]]\n",
        "```\n",
        "\n"
      ],
      "metadata": {
        "id": "tYY9QDTIDiMy"
      }
    },
    {
      "cell_type": "markdown",
      "source": [
        "\n",
        "\n",
        "---\n",
        "\n",
        "## **Dataset**\n",
        "\n",
        "In this lab, we will use [cars.json](https://drive.google.com/file/d/1CXAK8gbuLtc2NNOXVUgmja8fDg0TrNZm/view) dataset, Let import cars dataset in Panda dataframe."
      ],
      "metadata": {
        "id": "NUAA9D9tBi2V"
      }
    },
    {
      "cell_type": "code",
      "execution_count": null,
      "metadata": {
        "id": "VzdvBb-gAymO"
      },
      "outputs": [],
      "source": [
        "import pandas as pd\n",
        "df_cars = pd.read_json('cars.json')\n",
        "df_cars\n"
      ]
    },
    {
      "cell_type": "markdown",
      "source": [
        "#**How do I select specific columns from a DataFrame?**"
      ],
      "metadata": {
        "id": "_y27DvZPgL0l"
      }
    },
    {
      "cell_type": "markdown",
      "source": [
        "![How-do-I-select-a-subset-of-a-DataFrame-—-pandas-1-0-5-documentation (1).png](data:image/png;base64,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)"
      ],
      "metadata": {
        "id": "ChwLBIZhgPz0"
      }
    },
    {
      "cell_type": "markdown",
      "source": [
        "##**Example - Select One Column:**\n",
        "\n",
        "Suppose we are interested in the Name of the cars."
      ],
      "metadata": {
        "id": "Auw5GKXhBHMr"
      }
    },
    {
      "cell_type": "code",
      "source": [
        "df_cars['Car']"
      ],
      "metadata": {
        "id": "qL9KpTQtB5aW"
      },
      "execution_count": null,
      "outputs": []
    },
    {
      "cell_type": "code",
      "source": [
        "df_cars['Car'].head(60)"
      ],
      "metadata": {
        "id": "x8wavh2OCGDJ"
      },
      "execution_count": null,
      "outputs": []
    },
    {
      "cell_type": "markdown",
      "source": [
        "\n",
        "\n",
        "---\n",
        "\n"
      ],
      "metadata": {
        "id": "sw9PnhAJCLoz"
      }
    },
    {
      "cell_type": "markdown",
      "source": [
        "##**Example: Select multiple Columns**\n",
        "\n",
        "Suppose, we are interested in the cars name, Model of the cars, and quantity"
      ],
      "metadata": {
        "id": "JjiHHpRUCmNp"
      }
    },
    {
      "cell_type": "code",
      "source": [
        "df_cars[['Car','Model', 'quantity']]\n"
      ],
      "metadata": {
        "id": "1ATIHQE7C67e"
      },
      "execution_count": null,
      "outputs": []
    },
    {
      "cell_type": "markdown",
      "source": [
        "##**Example: Select single column by column index number**"
      ],
      "metadata": {
        "id": "RUczRXUkECgN"
      }
    },
    {
      "cell_type": "code",
      "source": [
        "df_cars[df_cars.columns[0]]\n"
      ],
      "metadata": {
        "id": "fbo0E9HuELT7"
      },
      "execution_count": null,
      "outputs": []
    },
    {
      "cell_type": "markdown",
      "source": [
        "##**Example: Select Multiple columns by column index number**"
      ],
      "metadata": {
        "id": "wK2zxSAoEnU_"
      }
    },
    {
      "cell_type": "code",
      "source": [
        "df_cars[df_cars.columns[[0,1,9]]]"
      ],
      "metadata": {
        "id": "3zmaN5DQEt5o"
      },
      "execution_count": null,
      "outputs": []
    },
    {
      "cell_type": "markdown",
      "source": [
        "\n",
        "\n",
        "---\n",
        "\n"
      ],
      "metadata": {
        "id": "ANrCmGNRecEc"
      }
    },
    {
      "cell_type": "markdown",
      "source": [
        "#**How do I filter specific rows from a DataFrame?**"
      ],
      "metadata": {
        "id": "iR3LSuqAeS09"
      }
    },
    {
      "cell_type": "markdown",
      "source": [
        "![How-do-I-select-a-subset-of-a-DataFrame-—-pandas-1-0-5-documentation.png](data:image/png;base64,iVBORw0KGgoAAAANSUhEUgAAAugAAACvCAYAAACvmCttAAAAAXNSR0IArs4c6QAAHXdJREFUeF7t3d9vXOWdx/HPmXHin+M4/qGFBEEKREkNtIJCSmFLoNm2u6oEEtot9Gb3pr3dq67aO26rCiGxF73av2C7cFVpJbqLukWtAmxoQyFAlkJDHSdOQpzYAXscj2d1nNhhNyFnzvN8n3nOM3lHqlTJ5/meZ17Pqfrm4NhZu91uiz8IIIAAAggggAACCCBQCYGMQK/EObAJBBBAAAEEEEAAAQTWBQh0HgQEEEAAAQQQQAABBCokQKBX6DDYCgIIIIAAAggggAACBDrPAAIIIIAAAggggAACFRIg0Ct0GGwFAQQQQAABBBBAAAECnWcAAQQQQAABBBBAAIEKCRDoFToMtoIAAggggAACCCCAAIHOM4AAAggggAACCCCAQIUECPQKHQZbQQABBBBAAAEEEECAQOcZQAABBBBAAAEEEECgQgIEeoUOg60ggAACCCCAAAIIIECg8wwggAACCCCAAAIIIFAhAQK9QofBVhBAAAEEEEAAAQQQINB5BhBAAAEEEEAAAQQQqJAAgV6hw2ArCCCAAAIIIIAAAggQ6DwDCCCAAAIIIIAAAghUSIBANzqMVqtlNKn7Y2q1mtbW1rp/Y6M7ZlmmdrttNK37Y1Lffy5Wr9e7D8cdEUAAAQQQ6FEBAt3oYD86dkzHZ2aMpnVvzNjYmPZOT2vu5El9+MEH3bux0Z1GRkZ01z33aP7sWR197z2jqd0bM9Dfry/fd58uLC7q7bfe6t6Nje6Uh/lXHniAQDfyZAwCCCCAAAK5AIFu9Bzkgf7G668bTevemD1f/OJmoB/8zW+6d2OjO92xe/dmoL/yq18ZTe3emNt27doM9Jd/+cvu3djoTjtuuYVAN7JkDAIIIIAAAhsCBLrRs0CgG0GWHEOglwQzvpxANwZlHAIIIIAAArxBt3sGCHQ7yzKTCPQyWvbXEuj2pkxEAAEEEECAN+hGzwCBbgRZcgyBXhLM+HIC3RiUcQgggAACCPAG3e4ZINDtLMtMItDLaNlfS6DbmzIRAQQQQAAB3qAbPQMEuhFkyTEEekkw48sJdGNQxiGAAAIIIMAbdLtngEC3sywziUAvo2V/LYFub8pEBBBAAAEEeINu9AwQ6EaQJccQ6CXBjC8n0I1BGYcAAggggABv0O2eAQLdzrLMJAK9jJb9tQS6vSkTEUAAAQQQ4A260TNAoBtBlhxDoJcEM76cQDcGZRwCCCCAAAK8Qbd7Bgh0O8sykwj0Mlr21xLo9qZMRAABBBBAgDfoRs8AgW4EWXIMgV4SzPhyAt0YlHEIIIAAAgjwBt3uGSDQ7SzLTCLQy2jZX0ug25syEQEEEEAAAd6gGz0DBLoRZMkxBHpJMOPLCXRjUMYhgAACCCDAG3S7Z4BAt7MsM4lAL6Nlfy2Bbm/KRAQQQAABBHiDbvQMEOhGkCXHEOglwYwvJ9CNQRmHAAIIIIAAb9DtngEC3c6yzCQCvYyW/bUEur0pExFAAAEEEOANutEzQKAbQZYcQ6CXBDO+nEA3BmUcAggggAACvEG3ewYIdDvLMpMI9DJa9tcS6PamTEQAAQQQQIA36EbPAIFuBFlyDIFeEsz4cgLdGJRxCCCAAAII8Abd7hkg0O0sy0wi0Mto2V9LoNubMhEBBBBAAAHeoBs9AxcvXjSa1P0xfX19Wl1d7f6Nje5Yr9fVarWMpnV/TOr7r9Vqyj8DfxBAAAEEEEDARoBAt3FkCgIIIIAAAggggAACJgIEugkjQxBAAAEEEEAAAQQQsBEg0D0c82+r6IV/td9ut5VlmYdE3KWp7z+unv/d8fc3ZAICCCCAAAKfFYge6LMzMzry9tvJncrNO3Zo7/T0ZqBfWFzU+fPnk/scw8PD2jY2puWlJX189mxy+x8aHNT28XE1m02dOXMmuf0PDgxoYnJSKysrOnXqVHL737p1q6amppL+B7zk0NkwAggggEDPC1Qi0F87eDA56N179lwV6B8nGIh5nG8E+tzcXHLnMDo6uhnoJ0+cSG7/jUZjM9Bnjx9Pbv9Dw8MEenKnxoYRQAABBKouQKA7nhCB7ghnvIxANwYtOY5ALwnG5QgggAACCHQgQKB3gHStSwh0RzjjZQS6MWjJcQR6STAuRwABBBBAoAMBAr0DJALdEakLywj0LiBf5xYEelx/7o4AAggg0JsCBLrjufIG3RHOeBmBbgxachyBXhKMyxFAAAEEEOhAgEDvAIk36I5IXVhGoHcBmTfocZG5OwIIIIDADSdAoDseOW/QHeGMlxHoxqAlx/EGvSQYlyOAAAIIINCBAIHeARJv0B2RurCMQO8CMm/Q4yJzdwQQQACBG06AQHc8ct6gO8IZLyPQjUFLjuMNekkwLkegYgJra2uq1WoV21Xn20n9N3qz/87P+ka7kkB3PHEC3RHOeBmBbgxachyBXhKMyxGomEAe6PkvC2wuLVVsZ8Xb+cq+fRocGtLvDx1S/tu8U/vz5fvuU2N0VG8dPqxz8/OpbV/T99yj8YkJvXvkiM4k+Juw847bccstlXUn0B2PhkB3hDNeRqAbg5YcR6CXBONyBComsBHoJ2dnK7az4u381be/vRnof/7oo+IFFbvi0QMHNgP9ww8+qNjuirfz8COPbAb6/7z3XvGCil2x78EHCfTrncnszMz6P72n9odAr8aJEehxz4FAj+vP3RHwFSDQfQXd1xPo7nYWKwn0AkUC3eIxc5+xbWxM+X+Wl5Y0NzfnPijSSgI9Evzl2xLocf25OwK+AgS6r6D7egLd3c5iJYFOoFs8R8FmEOjBaDsa3Gg0NDE5qZWVFc0eP97RmipdRKBX6TTYCwLlBQj08mZWKwh0K0m3OVUO9Ha7Lb4H3e1cxbe4OMIZL+MNujFoyXEEekkwLkegYgIEerwDIdDj2ed3JtB5gx73CSy4O2/Q4x4Pb9Dj+nN3BG50AQI93hNAoMezr3Kg52/PeYPu8WzwBt0Dz3Apb9ANMR1G8QbdAY0lCFRIgECPdxgEejx7Ar0De/6SaAdIAS/hDXpA3A5G8wa9AyQuQQCBYAIEejDawsEEeiFR0Auq+i0u+dvz/H+XfA+64/HzBt0RzngZb9CNQUuO4w16STAuR6BiAgR6vAMh0OPZV/0NOoHu8WwQ6B54hksJdENMh1EEugMaSxCokACBHu8wCPR49gR6B/b5t7j87tChDq6s1iW7br9de6enVa/X1zeW/5rh+bNnq7XJDnaT/5rhjZ+Dfvr06Q5WVOuSkZERbR8fV7PZ1KkEf4778PDw5o9ZPHniRLVwO9jNwOCgpqamlGVZB1dzCQIIVE2AQI93IgR6PHsCPa598Lu3Wq3NQA9+s5A3aLelhANr/W87s/+QT8h1Z6fuHw2OGyNQAQECPd4hEOjx7An0uPbh7762JNUGw98n+B3aklJ+A5r4/tstKbv0b2KS/JP6/pNEZ9MI2AgQ6DaOLlMIdBc1uzX8JdEiy/mfS8f+seiq6n198h+knc9I2eVAXz4qXXi9evss2tHgXmnoXunijLTwStHV1fv6wB3S8D5p9ZR0/j+rt7+iHfXfKjUellbPSef+vejq6n19601SY7+U9VVvb+wIAQQKBQj0QqJgFxDowWg7GkygFzHlgf7+d4uuqt7Xb/7R1YG++Ovq7bNoR3mcbwT6+ZeKrq7e1wfvvhLo535Rvf0V7Whgz5VAn3+x6Orqfb3/CwR69U6FHSHQsQCB3jGV+YUEujlpqYEEehEXgV4kFPbrBHpY36LpBHqREF9HAIGAAgR6QNyC0QR6PPv8zgR6kT+BXiQU9usEeljfoukEepEQX0cAgYACBHpAXAI9Hm4HdybQi5AI9CKhsF8n0MP6Fk0n0IuE+DoCCAQUINAD4hLo8XA7uDOBXoREoBcJhf06gR7Wt2g6gV4kxNcRQCCgAIEeEJdAj4fbwZ0J9CIkAr1IKOzXCfSwvkXTCfQiIb6OAAIBBQj0gLgEejzcDu5MoBchEehFQmG/TqCH9S2aTqAXCfF1BBAIKLAR6HMJ/ibjA9/6lgaHhvT7Q4c08+c/B1QKM3r/N76h/Ld5v3X4sP704YdhbhJw6kNf/7rGJyb07pEjev/o0YB3CjP6ga9+VTtuuSXMcI+p+S//y/93mbXz/xbzD4EeU//Sj1jkxyzGOwMCPZ49d0YAgfUQqNVqyUqk/hu92X+yj16wjRPovrT8HHRfQZv1/Bx0G0fXKfwcdFc51iGAAAIIIHCVAIHu+1AQ6L6CNusJdBtH1ykEuqsc6xBAAAEEECDQzZ8BAt2c1Gkgge7EZraIQDejZFBiAmtLUm0wsU1fa7stSfWEP0fi+2+vSlkf/gkLWG+dN+i+ogS6r6DNegLdxtF1CoHuKse61AXyQP/g76WF/0jvk+z9L2noS5f33ZIWXpZWTqT3ObY/IdVHpIVXpJWP0tv/2N9I9e3ShVel5h/T2/+2A9KWm6RP3pCW3klv/42/lPpvr9y+CXTfIyHQfQVt1hPoNo6uUwh0VznWpS6wEejz/5beJ7nr8NWB3jyW3ucY/7srgd58P739r/8DxuVAX04wcPN/wNgI9E8Pp+c/+g0C/bqnxk9xiftQ81Nc4vrzU1zi+nN3BFwFCHRXObt1BLqdpcskAt1FrXANb9ALiQou4A26r6DNet6g2zi6TuENuqsc61IXINDjnyCBHvcMCPQg/gS6LyuB7itos55At3F0nUKgu8qxLnUBAj3+CRLocc+AQA/iT6D7shLovoI26wl0G0fXKQS6q1zPrXvhhRf04IMPaufOnT332a75gQj0+OdMoMc9AwI9iD+B7stKoPsK2qwn0G0cXacQ6K5yPbXu8OHDevzxxzU5OalHHnlE3/nOd/S1r31Nw8PDPfU5/8+HIdDjny2BHvcMCPQg/gS6LyuB7itos55At3F0nUKgu8r13Lqf/vSn+vGPf6z8/1x27dqlqakpPfnkkzpw4IAeeOCBnvu8ItDjnymBHvcMCPQg/gS6LyuB7itos55At3F0nUKgu8r13LojR47oscce06lTpzY/W61W0x133KFbb71VTz31lB599FHt3r27Nz47gR7/HAn0uGdAoAfxr1agf/RPQT5k0KETT0s7n5Gyy79JbvnopR/Wn9qfgd1S/qMWL85Ii79NbfdS/y5peJ+0ekpa+FV6+9+6U2o8LK2ek86/lN7+t0xJjf2J/yY86dlnn03PvmI7bjabeu6553T27Nlr7qxer69/C8z09LS+973v6Qc/+EHFPkHJ7RDoJcECXE6gB0AtMZJAL4HV+aXVCfTO91zBK5uS+iu4r5JbarelLCu5qEKXt9ekrFahDZXcSur7V+K/alvST37yE62trZU8OC7/rEAe6D/72c905syZzw30iYkJ3X333euB/v3vfz9tQAI9/vkR6HHPgEAP4k+gG7Dm/4ee/ytc/sQVyB/mLOF/wGD/cZ8f7m4j8M477+ib3/ymjh8/vjnws9/i8vTTT69/i8udd95pc8PYUwj02CcgEehxz4BAD+JfmUCfnZnRoddfD/IhQw69/c47tXd6Wvm/ts3/XFhc1Pzn/KvdkPvwnd0YHdW2sTEtLy3p9OnTvuO6vn5kZETbx8eVv707NTfX9fv73jD/KRcTk5NaWVnRyRMnfMd1ff3A4OD6XwZM+R+Quo7Wozd8/vnn9cMf/lCrq6u67bbbNv+SaB7t999/f+99agI9/pkS6HHPgEAP4l+pQH/t4MEgHzLk0N179lwV6B9/zr/aDbkP39l5nG8E+lyCgTs6OroZ6CkGbqPR2Az02c+8efQ9126tHxoeJtC7hV3h+7z55pt64oknND4+rv3796//mMX8Z6LzYxYremh3HZaGvnR5cy1p4WWpeayim73Otgj0uGdGoAfxJ9A9WQl0T0Cj5QS6EaTjGALdEa4Hl7344ovrUb5jx44e/HTX+Ei8QY9/zgR63DMg0IP4E+ierAS6J6DRcgLdCNJxDIHuCMey9AUI9PhnSKDHPQMCPYg/ge7JSqB7AhotJ9CNIB3HEOiOcCxLX4BAj3+GBHrcMyDQg/gT6J6sBLonoNFyAt0I0nEMge4Ix7L0BQj0+GdIoMc9AwI9iD+B7slKoHsCGi0n0I0gHccQ6I5wLEtfgECPf4YEetwzINCD+BPonqwEuieg0XIC3QjScQyB7gjHsvQFCPT4Z0igxz0DAj2IP4HuyUqgewIaLSfQjSAdxxDojnAsS1+AQI9/hgR63DMg0IP4E+ierAS6J6DRcgLdCNJxDIHuCMey9AU2An3pD+l9ljv+9eqfg756Lr3Pse1bUn1EWnhFWk3vF+1p9FGpvl268Kp0cTY9/8ZD0pabpE/ekJp/Sm//w1+R+m+v3L4JdM8jIdA9AY2WE+hGkI5jCHRHOJalL7C2LNUG0v8cakm69Bux0/yzJqmW5tbzXbfXpCzl/bekLOXnp3qPDoHueSYEuieg0XIC3QjScQyB7gjHsvQFCPRqnGF7Vcr6qrEXl12wfxe1nl5DoHseL4HuCWi0nEA3gnQcQ6A7wrEsfYHN70F/Mb3Pctfvrv4Wl+ZH6X2O8b+98i0uzT+mt//tj1/5Fpfld9Pb/9hfX/kWl0/fTG//o4/xLS7XO7XZmRm9dvBgcgdLoFfjyAj0uOdAoMf15+4RBfhLohHxL9+avyQa9wz4S6JB/HmD7slKoHsCGi0n0I0gHccQ6I5wLEtfgECPf4YEetwzINCD+BPonqwEuieg0XIC3QjScQyB7gjHsvQFCPT4Z0igxz0DAj2IP4HuyUqgewIaLSfQjSAdxxDojnAsS1+AQI9/hgR63DMg0IP4E+ierAS6J6DRcgLdCNJxDIHuCMey9AUI9PhnSKDHPQMCPYg/ge7JSqB7AhotJ9CNIB3HEOiOcCxLX4BAj3+GBHrcMyDQg/gT6J6sBLonoNFyAt0I0nEMge4Ix7L0BQj0+GdIoMc9AwI9iD+B7slKoHsCGi0n0I0gHccQ6I5wLEtfgECPf4YEetwzINCD+Fcq0N99550gHzLk0L+46SbtnZ5WvX7pV9xeWFzUwsJCyFsGmT00NKRtY2NaXlrS/Px8kHuEHDowMKDt4+NqNps6+/HHIW8VZHZ/f78mJie1srKiM6dPB7lHyKF9W7ZoampKWZaFvA2zEaieAIEe/0wI9LhnQKAH8a9MoAf5dF0aura2plqt1qW7cRsEEEAAgcoIEOjxj4JAj3sGBHoQ/+oEersV5AN2ZWh7RaoNXr5Vuyu3DHKTdltK+Q1o6vvXmqSE/0GvvSZll/5NEn8QuGEECPT4R02gxz0DAj2If3UCff7n0vvfDfIhgw69+UfSzmek7HKgLx+VFn8d9JZBhg/dK+X/uTgjnX8pyC2CDh28WxreJ62eks79Iuitggwf2CM1HpZWz0nzLwa5RdCh/V+QGvulrC/obRiOQOUECPT4R0Kgxz0DAj2IP4Huy0qg+wrarCfQbRxdpxDornKsS12AQI9/ggR63DMg0IP4E+i+rAS6r6DNegLdxtF1CoHuKse61AUI9PgnSKDHPQMCPYg/ge7LSqD7CtqsJ9BtHF2nEOiucqxLXYBAj3+CBHrcMyDQg/gT6L6sBLqvoM16At3G0XUKge4qx7rUBQj0+CdIoMc9AwI9iD+B7stKoPsK2qwn0G0cXacQ6K5yrEtdgECPf4IEetwzINCD+BPovqwEuq+gzXoC3cbRdQqB7irHutQFCPT4J0igxz0DAj2IP4Huy0qg+wrarCfQbRxdpxDornKsS12AQI9/ggR63DMg0IP4E+i+rAS6r6DNegLdxtF1CoHuKse61AUI9PgnSKDHPQMCPYg/ge7LSqD7CtqsJ9BtHF2nEOiucqxLXWAj0FeOpfdJdv2LNPSly/tuSQsvS61P0/sco49K9RFp4RWpdT69/TcekurbpQuvSqtn0tv/yP3SlpukT96QVmbT2//QPVL/7ZXbN4HueyQEuq+gzXoC3cbRdQqB7irHutQF8kDP+tP9FFntSqC3N/57gh8nW5NS3r9akuoJwl/ecur+WVY5ewLd90gIdF9Bm/UEuo2j6xQC3VWOdQgggAACCFwlQKD7PhQEuq+gzXoC3cbRdQqB7irHOgQQQAABBAh082eAQDcndRpIoDuxmS0i0M0oGYQAAggggABv0H2fAQLdV9BmPYFu4+g6hUB3lWMdAggggAACvEE3fwYIdHNSp4EEuhOb2SIC3YySQQgggAACCPAG3fcZINB9BW3WE+g2jq5TCHRXOdYhgAACCCDAG3TzZ4BANyd1GkigO7GZLSLQzSgZhAACCCCAAG/QfZ8BAt1X0GY9gW7j6DqFQHeVYx0CCCCAAAK8QTd/Bgh0c1KngQS6E5vZIgLdjJJBCCCAAAII8Abd9xkg0H0FbdYT6DaOrlMIdFc51iGAAAIIIFDxN+gn/zm9I2o8LO18RsoGL+19+eil/6T2Z8vN0tC90sUZ6dM3U9u91DcpDe+TVk9Jn/x3evuvb5PyZ2n1nHTht+ntvzYoNfZLWV96e2fHCCCAAAIIVEygOm/Q262K0ZTZTkvKtl5e0C6zkGtNBXL7zHQiw0oItNekrF5iAZcigAACCCCAwLUEKhPoFy9eTPaEarWa6vVLYZKD8gcBF4Esy5J/fvLPwB8EEEAAAQQQ8BOoTKDPzszotYMH/T5NhNW79+zR3unpzUBfXFzUx2fORNiJ3y23jY1pbGxMy0tLmpub8xsWYfXo6Ki2j4+r2Wzq5IkTEXbgd8tGo6GJyUmtrKxo9vhxv2ERVg8ND2tqakoEegR8bokAAggg0HMCBLrnkRLonoBGywl0I0jHMQS6IxzLEEAAAQQQuIYAge75WBDonoBGywl0I0jHMQS6IxzLEEAAAQQQINDtnwEC3d7UZSKB7qJmt4ZAt7NkEgIIIIAAArxB93wGCHRPQKPlBLoRpOMYAt0RjmUIIIAAAgjwBt3+GSDQ7U1dJhLoLmp2awh0O0smIYAAAgggwBt0z2eAQPcENFpOoBtBOo4h0B3hWIYAAggggMDnvEHPIz1rR/4B3vyYxbjPJz9mMa4/P2Yxrj93RwABBBBAoEoCeZYT6B4nwht0DzzDpbxBN8R0GMUbdAc0liCAAAIIIHAdAQLd4/Eg0D3wDJcS6IaYDqMIdAc0liCAAAIIIECgh3kGCPQwrmWnEuhlxWyvJ9BtPZmGAAIIIIBALsD3oDs+BwS6I5zxMgLdGLTkOAK9JBiXI4AAAggg0IEAgd4B0rUuIdAd4YyXEejGoCXHEeglwbgcAQQQQACBDgQI9A6QCHRHpC4sI9C7gHydWxDocf25OwIIIIBAbwoQ6I7nyht0RzjjZQS6MWjJcQR6STAuRwABBBBAoAMBAr0DJN6gOyJ1YRmB3gVk3qDHRebuCCCAAAI3nACB7njkvEF3hDNeRqAbg5Ycxxv0kmBcjgACCCCAQAcCBHoHSLxBd0TqwjICvQvIvEGPi8zdEUAAAQRuOAEC3fHIeYPuCGe8jEA3Bi05jjfoJcG4HAEEEEAAgQ4ECPQOkHiD7ojUhWUEeheQeYMeF5m7I4AAAgjccAIEuuOR8wbdEc54GYFuDFpyHG/QS4JxOQIIIIAAAh0IVCLQjx071sFWq3VJHoZ7p6dVr9fXN7a4uKilTz+t1iY72M2WrVs1Njam5aWl9c+Q2p++vj5tHx9Xs9nUwvnzqW1//fmZmJzUysqKzs3PJ7d/ZZmmpqaUZVl6e2fHCCCAAAIIVFQgeqC3Wq2K0nS2rY1Ab7fbnS3gKgT+n0Aet6k/PwQ6jzUCCCCAAAJ2AtED3e6jMAkBBBBAAAEEEEAAgfQFCPT0z5BPgAACCCCAAAIIINBDAgR6Dx0mHwUBBBBAAAEEEEAgfQECPf0z5BMggAACCCCAAAII9JAAgd5Dh8lHQQABBBBAAAEEEEhfgEBP/wz5BAgggAACCCCAAAI9JECg99Bh8lEQQAABBBBAAAEE0hcg0NM/Qz4BAggggAACCCCAQA8JEOg9dJh8FAQQQAABBBBAAIH0BQj09M+QT4AAAggggAACCCDQQwIEeg8dJh8FAQQQQAABBBBAIH0BAj39M+QTIIAAAggggAACCPSQwP8CHiJWU9zBwnoAAAAASUVORK5CYII=)"
      ],
      "metadata": {
        "id": "X2F-L-ZPgVf9"
      }
    },
    {
      "cell_type": "markdown",
      "source": [
        "- Pandas lets you filter data by conditions over row/column values.\n",
        "- We can create very powerful and sophisticated expressions by combining logical operations and comparison operators.\n"
      ],
      "metadata": {
        "id": "s2SeiKiz1tYs"
      }
    },
    {
      "cell_type": "markdown",
      "source": [
        "### **For example,the below code selects the row where MPG is exactly 17.6**"
      ],
      "metadata": {
        "id": "zRBBNqjO236l"
      }
    },
    {
      "cell_type": "code",
      "source": [
        "df_cars[df_cars.MPG == 17.6]"
      ],
      "metadata": {
        "id": "kjHV0I4Y23AM"
      },
      "execution_count": null,
      "outputs": []
    },
    {
      "cell_type": "markdown",
      "source": [
        "# **Alternatively: We can use .eq() function**"
      ],
      "metadata": {
        "id": "j9zeKfRt4mhr"
      }
    },
    {
      "cell_type": "code",
      "source": [
        "df_cars[df_cars['MPG'].eq(17.6)]"
      ],
      "metadata": {
        "id": "5ptkGjh54g2E"
      },
      "execution_count": null,
      "outputs": []
    },
    {
      "cell_type": "markdown",
      "source": [
        "###**Example: Get only those cars whose quantity is greater than 350.**\n",
        "\n",
        "- We can use a > operator to draw comparisons.\n",
        "- If you wanted to fill an entire row based off of the condition of a single Pandas Series. You can also pass a series as the conditional."
      ],
      "metadata": {
        "id": "p46qjTGiiM89"
      }
    },
    {
      "cell_type": "code",
      "source": [
        "df_cars['quantity']<350"
      ],
      "metadata": {
        "id": "hx1zXHYzqJLc"
      },
      "execution_count": null,
      "outputs": []
    },
    {
      "cell_type": "code",
      "source": [
        "getQuantity = df_cars[df_cars[\"quantity\"] > 350]\n",
        "print(getQuantity)"
      ],
      "metadata": {
        "id": "9nnixqrchJs9"
      },
      "execution_count": null,
      "outputs": []
    },
    {
      "cell_type": "markdown",
      "source": [
        "###**Get only those cars whose quantity is greater than 350 years and cylinders are less than 4.**\n"
      ],
      "metadata": {
        "id": "2mra_4F2iiFk"
      }
    },
    {
      "cell_type": "code",
      "source": [
        "\n",
        "\n",
        "GetData = df_cars[(df_cars['quantity'] >= 350) & (df_cars['Cylinders'] > 4)]\n",
        "\n",
        "print(GetData)\n",
        "\n",
        "\n"
      ],
      "metadata": {
        "id": "UP24EN05jEun"
      },
      "execution_count": null,
      "outputs": []
    },
    {
      "cell_type": "markdown",
      "source": [
        "## **Example: Get all Cars for city 'New York' and 'TEXAS'.**"
      ],
      "metadata": {
        "id": "LfbpdkXy6jkt"
      }
    },
    {
      "cell_type": "code",
      "source": [
        "df_cars[((df_cars['city'] == 'TEXAS') | (df_cars['city'] == 'NewYork'))]"
      ],
      "metadata": {
        "id": "vpZPpgRt6JBe"
      },
      "execution_count": null,
      "outputs": []
    },
    {
      "cell_type": "markdown",
      "source": [
        "## **Alternate: It is better to use `pandas.DataFrame.isin()` function, it is easier to read.**"
      ],
      "metadata": {
        "id": "0ZCvo1ygtkiK"
      }
    },
    {
      "cell_type": "code",
      "source": [
        "df_cars[df_cars['city'].isin(['TEXAS','NewYork'])]"
      ],
      "metadata": {
        "id": "wEWYkJ8NtMB8"
      },
      "execution_count": null,
      "outputs": []
    },
    {
      "cell_type": "markdown",
      "source": [
        "- We can use series for boolean verfication, as shown below"
      ],
      "metadata": {
        "id": "8iADdYBJqTTr"
      }
    },
    {
      "cell_type": "code",
      "source": [
        "df_cars['city'].isin([\"San TEXAS\", \"NewYork\"])"
      ],
      "metadata": {
        "id": "oU8z2Zu5qUzi"
      },
      "execution_count": null,
      "outputs": []
    },
    {
      "cell_type": "markdown",
      "source": [
        "# **By using `.str` attribute, we can enable string functions and can apply on pandas dataframe.**"
      ],
      "metadata": {
        "id": "8eh66rWjxaPM"
      }
    },
    {
      "cell_type": "markdown",
      "source": [
        "## **Example: Get Cars that have a Name that starts with M**"
      ],
      "metadata": {
        "id": "OumdGvLn4DDD"
      }
    },
    {
      "cell_type": "code",
      "source": [
        "df_cars[df_cars['Car'].str.startswith('M')]"
      ],
      "metadata": {
        "id": "apm__K764B4s"
      },
      "execution_count": null,
      "outputs": []
    },
    {
      "cell_type": "markdown",
      "source": [
        "## **Example: Get Cars that have a Name that ends with m**\n",
        "\n"
      ],
      "metadata": {
        "id": "8Vb5NRyN5TuL"
      }
    },
    {
      "cell_type": "code",
      "source": [
        "df_cars[df_cars['Car'].str.endswith('m')]"
      ],
      "metadata": {
        "id": "GCBGKKl75iX0"
      },
      "execution_count": null,
      "outputs": []
    },
    {
      "cell_type": "markdown",
      "source": [
        "## **Example: Filter rows having string length greater than 20.**\n",
        "\n",
        "\n",
        "\n",
        "**The len( ) function calculates length of iterable.**"
      ],
      "metadata": {
        "id": "tOQ6UvPxw8ND"
      }
    },
    {
      "cell_type": "code",
      "source": [
        "df_cars[df_cars['Car'].str.len()>20]"
      ],
      "metadata": {
        "id": "FqYaOWtNw-GV"
      },
      "execution_count": null,
      "outputs": []
    },
    {
      "cell_type": "code",
      "source": [
        "import numpy as np\n",
        "import pandas as pd\n",
        "\n",
        "# Initializing the nested list with Data set\n",
        "employee_list = [['James', 36, 75, 5428000],\n",
        "               ['Villers', 38, 74, 3428000],\n",
        "               ['VKole', 31, 70, 8428000],\n",
        "               ['Smith', 34, 80, 4428000],\n",
        "               ['Gayle', 40, 100, 4528000],\n",
        "               ['Adam', 40, np.nan, 4528000],\n",
        "               ['Rooter', 33, 72, 7028000],\n",
        "               ['Peterson', 42, 85, 2528000],\n",
        "               ['lynda', 42, 85, np.nan],\n",
        "               [np.nan, 42, 85, np.nan],\n",
        "               ['Jenny', np.nan, 100, 25632],\n",
        "               ['Kenn', np.nan, 110, 25632],\n",
        "                ['Aly', np.nan, 90, 25582],\n",
        "               ['John', 41, 85, 1528000]]\n",
        "\n",
        "# creating a pandas dataframe\n",
        "df = pd.DataFrame(employee_list, columns=['Name', 'Age', 'Weight', 'Salary'])\n",
        "\n",
        "print(df)\n",
        "\n",
        "print('---- after dropping or cleaning the missing data ---')\n",
        "df = df.dropna()\n",
        "df\n"
      ],
      "metadata": {
        "id": "2dong6gG5yze"
      },
      "execution_count": null,
      "outputs": []
    },
    {
      "cell_type": "code",
      "source": [
        "drop_na_cols_strategy = df.dropna(axis=1)\n",
        "drop_na_cols_strategy\n"
      ],
      "metadata": {
        "id": "AuN4ZbS06HXZ"
      },
      "execution_count": null,
      "outputs": []
    },
    {
      "cell_type": "markdown",
      "source": [
        "##**Submission**\n",
        "- Submit your completed lab using the Start Assignment button on the assignment page in Canvas.\n",
        "- Your submission can be include:\n",
        "  - if you are using notebook then, all tasks should be written and submitted in a single notebook file, for example: (**your_name_labname.ipynb**).\n",
        "  - if you are using python script file, all tasks should be written and submitted in a single python script file for example: **(your_name_labname.py)**.\n",
        "- Add appropriate comments and any additional instructions if required.\n"
      ],
      "metadata": {
        "id": "6nEDZLEdHsPY"
      }
    }
  ]
}