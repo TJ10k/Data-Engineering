{
  "cells": [
    {
      "cell_type": "markdown",
      "metadata": {
        "id": "jEHLLWlEIlOd"
      },
      "source": [
        "#**<font color='#0969DA'>Guided Lab 343.3.4 - Exploratory Data Analysis on json data - Basic insights from the Data</font>**\n",
        "---"
      ]
    },
    {
      "cell_type": "markdown",
      "metadata": {
        "id": "JB-l9QHm9mOa"
      },
      "source": [
        "## **Lab Overview:**\n",
        "\n",
        "This lab focuses on performing Exploratory Data Analysis (EDA) on a JSON dataset using Python and the Pandas library. The lab aims to guide you through the following key concepts:\n",
        "\n",
        "1. **Data Type Inspection:** Understanding the importance of checking data types for potential mismatches and compatibility with Python methods. This is demonstrated using the `dtypes` attribute of Pandas DataFrames.\n",
        "\n",
        "2. **Descriptive Statistics:** Calculating and interpreting basic statistical measures such as mean, standard deviation, minimum, maximum, and quartiles using the `describe()` method.\n",
        "\n",
        "3. **Concise Summary:** Obtaining a comprehensive overview of the dataset, including column names, data types, memory usage, and non-null values, using the `info()` method.\n",
        "\n",
        "4. **Data Selection:** Extracting specific records or subsets of the data using the `head()`, `tail()`, `at`, and `iat` functions, enabling efficient exploration of large datasets.\n",
        "\n",
        "5. **Data Shape and Size:** Determining the number of rows and columns using the `shape` attribute and exploring alternative methods like `axes` and `len` to access this information.\n",
        "\n",
        "**Learning Outcomes:**\n",
        "\n",
        "By the end of this lab, you should be able to:\n",
        "\n",
        "* Confidently load and manipulate JSON data in Python using Pandas.\n",
        "* Utilize various Pandas functions to perform basic EDA tasks.\n",
        "* Interpret descriptive statistics and summaries to gain insights into data.\n",
        "* Efficiently extract and analyze specific subsets of data.\n",
        "* Understand the structure and dimensions of a dataset.\n",
        "\n",
        "**Dataset:**\n",
        "\n",
        "The lab utilizes a JSON dataset named ['cars.json'](https://drive.google.com/file/d/1CXAK8gbuLtc2NNOXVUgmja8fDg0TrNZm/view) as the primary data source for analysis and demonstration.\n"
      ]
    },
    {
      "cell_type": "markdown",
      "metadata": {
        "id": "kcNHdyo0Jhmc"
      },
      "source": [
        "###**<font color='#0969DA'>How to check Data types in Pandas**\n",
        "\n"
      ]
    },
    {
      "cell_type": "markdown",
      "metadata": {
        "id": "4owsDFRMKOyc"
      },
      "source": [
        "- In pandas, we use **dtypes** attribute to check data types.\n",
        "- Why check data types?\n",
        " - potential info and type mismatch.\n",
        " - compatibility with python methods.\n",
        "---\n",
        "#**Begin**\n",
        "\n",
        "The lab follows a step-by-step approach, starting with loading the JSON data into a Pandas DataFrame. It then proceeds with exploring the data's characteristics, calculating statistics, selecting specific records, and understanding the dataset's structure."
      ]
    },
    {
      "cell_type": "code",
      "execution_count": null,
      "metadata": {
        "id": "05O0jYw5L6zk"
      },
      "outputs": [],
      "source": [
        "import pandas as pd\n",
        "# Read JSON file\n",
        "df_cars = pd.read_json('cars.json')\n",
        "print(df_cars.dtypes)"
      ]
    },
    {
      "cell_type": "markdown",
      "metadata": {
        "id": "qHDWado0MDX8"
      },
      "source": [
        "##**<font color='#0969DA'>Determining Descriptive Statistics**"
      ]
    },
    {
      "cell_type": "markdown",
      "metadata": {
        "id": "TeYU3vsNIt-F"
      },
      "source": [
        "- Pandas provides many statistical methods for DataFrames. You can get basic statistics summary for the numerical columns of a Pandas DataFrame with **describe()** method.\n",
        "\n",
        "Visit this link for all descriptive related methods.\n",
        "https://pandas.pydata.org/pandas-docs/stable/reference/frame.html#computations-descriptive-stats\n",
        "\n",
        "- Example: Consider the **cars.json** dataset"
      ]
    },
    {
      "cell_type": "code",
      "execution_count": null,
      "metadata": {
        "id": "J2mC7fhNIimz"
      },
      "outputs": [],
      "source": [
        "import pandas as pd\n",
        "df_cars = pd.read_json('cars.json')\n",
        "df_cars.describe()"
      ]
    },
    {
      "cell_type": "markdown",
      "metadata": {
        "id": "fCgWmbghNeez"
      },
      "source": [
        "in the above result, describe() returns a new DataFrame with the number of rows indicated by count, as well as the mean, standard deviation, minimum, maximum, and quartiles of the columns.\n",
        "\n",
        "---\n",
        "\n"
      ]
    },
    {
      "cell_type": "markdown",
      "metadata": {
        "id": "zdkVbvK8MXBd"
      },
      "source": [
        "##**<font color='#0969DA'>Determine Basic Concise summary</font>**\n",
        "\n",
        "Pandas provides many statistical methods for DataFrames. You can get basic concise summary for the Pandas DataFrame with **info()** method.\n",
        "\n",
        "In other words, info function gives metadata of panda DataFrame, Which includes,\n",
        "\n",
        "- Number of rows and its range of index\n",
        "- Total number of columns\n",
        "- List of columns\n",
        "- Count of the total number of non-null values in the column\n",
        "- Data type of column\n",
        "- Count of columns in each data type\n",
        "- Memory usage by the DataFrame\n",
        "\n",
        "Reference: https://pandas.pydata.org/pandas-docs/stable/reference/api/pandas.DataFrame.info.html"
      ]
    },
    {
      "cell_type": "markdown",
      "metadata": {
        "id": "0S9nNk3Jg6Lz"
      },
      "source": [
        "# **<font color='#0969DA'>DataFrame Count</font>**\n",
        "\n",
        "df.count():\n",
        "DataFrame Count will return the number of Non-NA values within each column. I don’t love this one because 1) it’s slower and 2) you need to do extra data work after your call .count().\n",
        "\n",
        "Be careful, if you have NAs in your dataset, you may get confusing. The count() will skip these by default."
      ]
    },
    {
      "cell_type": "code",
      "execution_count": null,
      "metadata": {
        "id": "R7wnuIRKNPSV"
      },
      "outputs": [],
      "source": [
        "df_cars.info()"
      ]
    },
    {
      "cell_type": "markdown",
      "metadata": {
        "id": "D6-x1ujQNRme"
      },
      "source": [
        "In the above result, the information contains the number of columns, column labels, column data types, memory usage, range index, and the number of cells in each column (non-null values).\n",
        "\n",
        "---\n",
        "\n"
      ]
    },
    {
      "cell_type": "markdown",
      "metadata": {
        "id": "fVDAGxTINox-"
      },
      "source": [
        "##**<font color='#0969DA'>Select few records</font>**"
      ]
    },
    {
      "cell_type": "markdown",
      "metadata": {
        "id": "rv14CovGNsBk"
      },
      "source": [
        "The **head()** and  **tail()** functions use to select top and bottom rows of the Pandas DataFrame respectively. It is beneficial when we have massive datasets, and it is not possible to see the entire dataset at once.\n",
        "\n",
        "**Example: Consider the cars.json dataset**"
      ]
    },
    {
      "cell_type": "markdown",
      "metadata": {
        "id": "DXa0aQXSN2Sc"
      },
      "source": [
        "You can use **head(2)** function, only the first 2 rows of the DataFrame are displayed."
      ]
    },
    {
      "cell_type": "code",
      "execution_count": null,
      "metadata": {
        "id": "-OKJ-9g2N4RX"
      },
      "outputs": [],
      "source": [
        "df_cars.head(2)"
      ]
    },
    {
      "cell_type": "markdown",
      "metadata": {
        "id": "ChzQXvlvOFuE"
      },
      "source": [
        "\n",
        "\n",
        "---\n",
        "\n"
      ]
    },
    {
      "cell_type": "markdown",
      "metadata": {
        "id": "vobWPuMPN-v0"
      },
      "source": [
        "You can use **tail(2)** function, only the last 2 rows of the DataFrame are displayed."
      ]
    },
    {
      "cell_type": "code",
      "execution_count": null,
      "metadata": {
        "id": "tXIkPcGAN9Ts"
      },
      "outputs": [],
      "source": [
        "df_cars.tail(2)"
      ]
    },
    {
      "cell_type": "markdown",
      "metadata": {
        "id": "wYDOUelNOYQc"
      },
      "source": [
        "\n",
        "\n",
        "---\n",
        "\n"
      ]
    },
    {
      "cell_type": "markdown",
      "metadata": {
        "id": "yjFKFvjAOQo8"
      },
      "source": [
        "##**<font color='#0969DA'>Select Specific records</font>**"
      ]
    },
    {
      "cell_type": "markdown",
      "metadata": {
        "id": "EghsmG6NOZ8X"
      },
      "source": [
        " Also, **at** and **iat** properties to access a specific element in the DataFrame.\n",
        "\n",
        "Example: Using **at** property:\n",
        "\n",
        "**Consider the cars.json dataset**\n",
        "\n"
      ]
    },
    {
      "cell_type": "code",
      "execution_count": null,
      "metadata": {
        "id": "ZKkDfjUuOfHU"
      },
      "outputs": [],
      "source": [
        "df_cars.at[157, 'MPG']\n"
      ]
    },
    {
      "cell_type": "markdown",
      "metadata": {
        "id": "4-feWu31O0LW"
      },
      "source": [
        "**DataFrame.iat:** We want to access a specific element from a very large DataFrame, but we do not know its column label or row index. We can still access such an element using its column and row positions. For that, we can use iat property of python pandas.\n",
        "\n",
        "**Example: Using iat property:**\n",
        "In this example, we will access the 157 row and the 1st column."
      ]
    },
    {
      "cell_type": "code",
      "execution_count": null,
      "metadata": {
        "id": "h5t-KYTMPp5j"
      },
      "outputs": [],
      "source": [
        "df_cars.iat[157, 1]"
      ]
    },
    {
      "cell_type": "markdown",
      "metadata": {
        "id": "OmB7sK71Rcsj"
      },
      "source": [
        "\n",
        "\n",
        "---\n",
        "\n"
      ]
    },
    {
      "cell_type": "markdown",
      "metadata": {
        "id": "41JUku32sRw0"
      },
      "source": [
        "# **<font color='#0969DA'>DataFrame Shape</font>**\n",
        "##**Find number of rows and columns**\n",
        "The number of rows and columns of a DataFrame can be identified using the .**shape ** attribute of the Panda DataFrame. It returns a tuple (row, column) and can be indexed to get only rows, and only columns count as output.\n",
        "\n",
        "\n",
        "**- df.shape[0] - To count rows**\n",
        "\n",
        "**- df.shape[1] - To count columns**"
      ]
    },
    {
      "cell_type": "code",
      "execution_count": null,
      "metadata": {
        "id": "MTA4XIq4RQ8l"
      },
      "outputs": [],
      "source": [
        "\n",
        "print(df_cars.shape) # Get the number of rows and columns\n",
        "print(df_cars.shape[0]) # Get the number of rows only\n",
        "print(df_cars.shape[1]) # Get the number of columns only"
      ]
    },
    {
      "cell_type": "code",
      "execution_count": null,
      "metadata": {
        "id": "ZOAd8F2d51Fh"
      },
      "outputs": [],
      "source": [
        "import pandas as pd\n",
        "# Create DataFrame from dict\n",
        "student_dict = {'Name': ['Joe', 'Nat', 'Harry'], 'Age': [20, 21, 19], 'Marks': [85.10, 77.80, 91.54]}\n",
        "\n",
        "student_df = pd.DataFrame(student_dict)\n",
        "\n",
        "list_Index = student_df.columns    # get col index\n",
        "print(list_Index)\n",
        "label = student_df.columns[0]  # 1st col label\n",
        "print(student_df.columns[0])\n",
        "Get_As_List = student_df.columns.tolist() # get as a list\n",
        "print(GetAs_List)"
      ]
    },
    {
      "cell_type": "markdown",
      "metadata": {
        "id": "WhW10XediIb5"
      },
      "source": [
        "\n",
        "\n",
        "---\n",
        "\n",
        "#**<font color='#0969DA'>DataFrame Axes Length**</font>\n",
        "\n",
        "**len(df.axes[0]):** Next up is our most verbose option – DataFrame Axes Length.\n",
        "\n",
        "This axes attribute will return your row axis, then you must count the length of it.\n",
        "\n",
        "Let’s break this one down. **df.axes** will return a tuple of your two axes for rows and columns. [0] will pull the first item (rows) from the tuple. Then finally **len()** will find the length, or how many items, you have in your axis which is your row count.\n",
        "\n",
        " Let's look through it step by step.\n",
        "\n",
        "- Return both axis (rows/columns)\n",
        "\n",
        "- Pull our the rows\n",
        "\n",
        "- Count the length"
      ]
    },
    {
      "cell_type": "code",
      "execution_count": null,
      "metadata": {
        "id": "Cuk5x7EIh38q"
      },
      "outputs": [],
      "source": [
        "df_cars.axes"
      ]
    },
    {
      "cell_type": "code",
      "execution_count": null,
      "metadata": {
        "id": "n7_Dvffuh-1K"
      },
      "outputs": [],
      "source": [
        "df_cars.axes[0]"
      ]
    },
    {
      "cell_type": "code",
      "execution_count": null,
      "metadata": {
        "id": "5v9ePT_RiECS"
      },
      "outputs": [],
      "source": [
        "len(df_cars.axes[0])"
      ]
    },
    {
      "cell_type": "markdown",
      "metadata": {
        "id": "KIJ_6G85cErR"
      },
      "source": [
        "##**Submission**\n",
        "- Submit your completed lab using the Start Assignment button on the assignment page in Canvas.\n",
        "- Your submission can be include:\n",
        "  - if you are using notebook then, all tasks should be written and submitted in a single notebook file, for example: (**your_name_labname.ipynb**).\n",
        "  - if you are using python script file, all tasks should be written and submitted in a single python script file for example: **(your_name_labname.py)**.\n",
        "- Add appropriate comments and any additional instructions if required.\n"
      ]
    }
  ],
  "metadata": {
    "colab": {
      "provenance": []
    },
    "kernelspec": {
      "display_name": ".venv",
      "language": "python",
      "name": "python3"
    },
    "language_info": {
      "codemirror_mode": {
        "name": "ipython",
        "version": 3
      },
      "file_extension": ".py",
      "mimetype": "text/x-python",
      "name": "python",
      "nbconvert_exporter": "python",
      "pygments_lexer": "ipython3",
      "version": "3.13.2"
    }
  },
  "nbformat": 4,
  "nbformat_minor": 0
}
