{
  "nbformat": 4,
  "nbformat_minor": 0,
  "metadata": {
    "colab": {
      "provenance": []
    },
    "kernelspec": {
      "name": "python3",
      "display_name": "Python 3"
    },
    "language_info": {
      "name": "python"
    }
  },
  "cells": [
    {
      "cell_type": "markdown",
      "source": [
        "# **Guided Lab 343.3.14 - Handling Missing Data**\n"
      ],
      "metadata": {
        "id": "ydk07LBhHXMG"
      }
    },
    {
      "cell_type": "markdown",
      "source": [
        "## **Lab Overview**\n",
        "\n",
        "Missing data is a common problem in real-world datasets. It can occur for various reasons, such as data entry errors, sensor malfunctions, or simply incomplete data collection.\n",
        "\n",
        "In this lab, we will demonstrate how to handle missing data (mostly in the form NaN value) in Pandas, we will utilize the **DataFrame.dropna(), DataFrame.fillna()** and **DataFrame.replace()** functions.\n",
        "\n",
        "## **Lab Objective:**\n",
        "By the end of this lab, learners will be able to:\n",
        "\n",
        "- Describe the need for Handling Missing Data:\n",
        "- Explore the Role of np.nan in Representing Missing Data:\n",
        "- Utilize the **df.dropna(), DataFrame.fillna()**and **DataFrame.replace()** functions to handle missing data.\n",
        "- Identify and understand the implications of missing data in datasets.\n",
        "\n",
        "## **Introduction**\n",
        "\n",
        "Missing data is a common problem in real-world datasets. It can occur for various reasons, such as data entry errors, sensor malfunctions, or simply incomplete data collection.  In this lab, we will demonstrate the techniques for handling missing data using the Pandas library in Python. We will focus on identifying, understanding, and applying different strategies for dealing with missing values. By the end of this lab, you will be equipped with the knowledge and tools to effectively manage missing data in your own datasets.\n",
        "\n",
        "---\n",
        "\n",
        "# **Begin:**"
      ],
      "metadata": {
        "id": "DBXs7_6GHcnj"
      }
    },
    {
      "cell_type": "markdown",
      "source": [
        "**Example 1: Dropping or Cleaning the Missing Data Using df.dropna() method.**\n",
        "\n",
        "This following example initializes a pandas DataFrame with a dataset representing information about employees. It then demonstrates how to handle missing data by dropping rows containing NaN (Not a Number) values using the **dropna()** function. The **dropna()** function drops all the rows with missing values.\n",
        "\n",
        "\n",
        "\n",
        "**Note:**The *np.nan* values in the dataset are representative of missing or undefined data, and np refers to the NumPy library. Make sure to import NumPy (import numpy as np) before using *np.nan*."
      ],
      "metadata": {
        "id": "49A40vQdHwHU"
      }
    },
    {
      "cell_type": "markdown",
      "source": [],
      "metadata": {
        "id": "Ee4WxIDIIN33"
      }
    },
    {
      "cell_type": "code",
      "source": [
        "\n",
        "import numpy as np\n",
        "import pandas as pd\n",
        "# Initializing the nested list with Data set\n",
        "employee_list = [['James', 36, 75, 5428000],\n",
        "               ['Villers', 38, 74, 3428000],\n",
        "               ['VKole', 31, 70, 8428000],\n",
        "               ['Smith', 34, 80, 4428000],\n",
        "               ['Gayle', 40, 100, 4528000],\n",
        "               ['Adam', 40, np.nan, 4528000],\n",
        "               ['Rooter', 33, 72, 7028000],\n",
        "               ['Peterson', 42, 85, 2528000],\n",
        "               ['lynda', 42, 85, np.nan],\n",
        "               [np.nan, 42, 85, np.nan],\n",
        "               ['Jenny', np.nan, 100, 25632],\n",
        "               ['Kenn', np.nan, 110, 25632],\n",
        "                ['Aly', np.nan, 90, 25582],\n",
        "               ['John', 41, 85, 1528000]]\n",
        "\n",
        "# creating a pandas dataframe\n",
        "df = pd.DataFrame(employee_list, columns=['Name', 'Age', 'Weight', 'Salary'])\n",
        "\n",
        "print(df)\n",
        "print('---- after dropping or cleaning the missing data ---')\n",
        "df = df.dropna()\n",
        "print(df)\n"
      ],
      "metadata": {
        "id": "NFmpnKfiIAVj"
      },
      "execution_count": null,
      "outputs": []
    },
    {
      "cell_type": "markdown",
      "source": [
        "Like many other approaches, dropna() also has some pros and cons.\n",
        "\n",
        "**Pros**\n",
        "\n",
        "- Straightforward and simple to use.\n",
        "- Beneficial when missing values have no importance.\n",
        "\n",
        "**Cons**\n",
        "- Using this approach can lead to information loss, which can introduce bias to the final dataset.\n",
        "- This is not appropriate when the data is not missing completely at random.\n",
        "- Data set with a large proportion of missing value can be significantly decreased, which can impact the result of all statistical analysis on that data set.\n"
      ],
      "metadata": {
        "id": "9dOnFq_rIONt"
      }
    },
    {
      "cell_type": "markdown",
      "source": [
        "**Example 2: Filling Missing Data Using df.fillna() method**\n",
        "\n",
        "Pandas has several options for filling or replacing missing values with other values. One of the most convenient methods is the **.fillna()** method; you can use it to replace missing values with:\n",
        "\n",
        "- Specified values.\n",
        "\n",
        "- The values above the missing value.\n",
        "\n",
        "- The values below the missing value.\n",
        "\n",
        "**Syntax:**\n",
        "\n",
        "# `DataFrame.fillna(value=None, method=None, axis=None, inplace=False, limit=None, downcast=None, **kwargs)`\n",
        "\n",
        "**Parameters:**\n",
        "- **value:** static, dictionary, array, series, or dataframe to fill instead of NaN.\n",
        "- **method:** Method is used if the user does not pass any value. Pandas has different methods like bfill(), backfill(), or ffill(), which fills the place with value in the Forward index or Previous/Back, respectively.\n",
        "- **axis:** axis takes int or string value for rows/columns. Input can be 0 or 1 for Integer and ‘index’ or ‘columns’ for String.\n",
        "inplace: a boolean, which makes the changes in the data frame itself if True.\n",
        "- **limit:** an integer value, which specifies the maximum number of consecutive forward/backward NaN value fills.\n",
        "- **downcast**: takes a dict, which specifies what dtype to downcast to which one such as float64 to int64.\n",
        "- **kwargs:** any other keyword arguments.\n",
        "\n"
      ],
      "metadata": {
        "id": "a767OfwoIZ2j"
      }
    },
    {
      "cell_type": "markdown",
      "source": [
        "Consider the following Data frame."
      ],
      "metadata": {
        "id": "YV5ZuOZCJT4m"
      }
    },
    {
      "cell_type": "code",
      "execution_count": null,
      "metadata": {
        "id": "zubJ3oOvHUQs"
      },
      "outputs": [],
      "source": [
        "import pandas as pd\n",
        "import numpy as np\n",
        "# Initializing the nested list with Data set\n",
        "employee_list = [['James', 36, 75, 5428000],\n",
        "               ['Villers', 38, 74, 3428000],\n",
        "               ['VKole', 31, 70, 8428000],\n",
        "               ['Smith', 34, 80, 4428000],\n",
        "               ['Gayle', 40, 100, 4528000],\n",
        "               ['Adam', 40, np.nan, 4528000],\n",
        "               ['Rooter', 33, 72, 7028000],\n",
        "               ['Peterson', 42, 85, 2528000],\n",
        "               ['lynda', 42, 85, np.nan],\n",
        "               [np.nan, 42, 85, np.nan],\n",
        "               ['John', 41, 85, 1528000],]\n",
        "\n",
        "# creating a pandas dataframe\n",
        "df = pd.DataFrame(employee_list, columns=['Name', 'Age', 'Weight', 'Salary'])\n",
        "\n",
        "print(df)\n",
        "\n"
      ]
    },
    {
      "cell_type": "markdown",
      "source": [
        "# **Example 2.1: fillna() on all columns**"
      ],
      "metadata": {
        "id": "dbpw4jIvJZ0E"
      }
    },
    {
      "cell_type": "code",
      "source": [
        "import pandas as pd\n",
        "import numpy as np\n",
        "\n",
        "# fillna() on all columns\n",
        "# Initializing the nested list with Data set\n",
        "employee_list = [['James', 36, 75, 5428000],\n",
        "               ['Villers', 38, 74, 3428000],\n",
        "               ['Kole', 31, 70, 8428000],\n",
        "               ['Smith', 34, 80, 4428000],\n",
        "               ['Gayle', 40, 100, 4528000],\n",
        "               ['Adam', 40, np.nan, 4528000],\n",
        "               ['Rooter', 33, 72, 7028000],\n",
        "               ['Peterson', 42, 85, 2528000],\n",
        "               ['lynda', 42, 85, np.nan],\n",
        "               [np.nan, 42, 85, np.nan],\n",
        "               ['Jenny', np.nan, 100, 25632],\n",
        "               ['Kenn', np.nan, 110, 25632],\n",
        "                ['Aly', np.nan, 90, 25582],\n",
        "               ['John', 41, 85, 1528000],]\n",
        "\n",
        "# creating a pandas dataframe\n",
        "df = pd.DataFrame(employee_list, columns=['Name', 'Age', 'Weight', 'Salary'])\n",
        "print(\"---------------Before Cleaning NaN values--------------\")\n",
        "print(df)\n",
        "print('---------------after filling all columns------------')\n",
        "print(df.fillna('None'))\n",
        "\n"
      ],
      "metadata": {
        "id": "5cCmcwtTJZA8"
      },
      "execution_count": null,
      "outputs": []
    },
    {
      "cell_type": "markdown",
      "source": [
        "## **Example 2.2:  Fill same value on multiple columns from NaN values**\n",
        "\n",
        "The below example updates columns 'Weight' and 'Age' with 'pending' for NaN values:\n",
        "\n",
        "\n",
        "\n",
        "\n"
      ],
      "metadata": {
        "id": "qpZY-gO4Jfuk"
      }
    },
    {
      "cell_type": "code",
      "source": [
        "import pandas as pd\n",
        "import numpy as np\n",
        "employee_list = [['James', 36, 75, 5428000],\n",
        "               ['Villers', 38, 74, 3428000],\n",
        "               ['VKole', 31, 70, 8428000],\n",
        "               ['Smith', 34, 80, 4428000],\n",
        "               ['Gayle', 40, 100, 4528000],\n",
        "               ['Adam', 40, np.nan, 4528000],\n",
        "               ['Rooter', 33, 72, 7028000],\n",
        "               ['Peterson', 42, 85, 2528000],\n",
        "               ['lynda', 42, 85, np.nan],\n",
        "               [np.nan, 42, 85, np.nan],\n",
        "               ['Jenny', np.nan, 100, 25632],\n",
        "               ['Kenn', np.nan, 110, 25632],\n",
        "                ['Aly', np.nan, 90, 25582],\n",
        "               ['John', 41, 85, 1528000],]\n",
        "\n",
        "# creating a pandas dataframe\n",
        "df = pd.DataFrame(employee_list, columns=['Name', 'Age', 'Weight', 'Salary'])\n",
        "print(\"---------------Before Cleaning NaN values--------------\")\n",
        "print(df)\n",
        "\n",
        "print(\"---------------after Cleaning NaN values from multiple columns--------------\")\n",
        "df =df[['Weight','Age']].fillna('pending')\n",
        "print(df)\n"
      ],
      "metadata": {
        "id": "WgHyNGWmJhp3"
      },
      "execution_count": null,
      "outputs": []
    },
    {
      "cell_type": "markdown",
      "source": [
        "##**Example 2.3:  Fill different value for each column**\n",
        "Fill different value for each column from NaN values\n",
        "Now, let’s see how to fill different values for each column. The below example updates column:\n",
        "\n",
        "- ‘Name’ with ‘verification pending’,\n",
        "\n",
        "- ‘Weight’ with ‘pending’,\n",
        "\n",
        "- ‘Age’ with ‘unknown’\n",
        "\n",
        "- ‘Salary’ with ‘0.0’ for NaN values.\n",
        "\n",
        "\n",
        "\n",
        "\n",
        "\n",
        "\n"
      ],
      "metadata": {
        "id": "q1SfqcuoOH61"
      }
    },
    {
      "cell_type": "code",
      "source": [
        "import pandas as pd\n",
        "import numpy as np\n",
        "employee_list = [['James', 36, 75, 5428000],\n",
        "               ['Villers', 38, 74, 3428000],\n",
        "               ['VKole', 31, 70, 8428000],\n",
        "               ['Smith', 34, 80, 4428000],\n",
        "               ['Gayle', 40, 100, 4528000],\n",
        "               ['Adam', 40, np.nan, 4528000],\n",
        "               ['Rooter', 33, 72, 7028000],\n",
        "               ['Peterson', 42, 85, 2528000],\n",
        "               ['lynda', 42, 85, np.nan],\n",
        "               [np.nan, 42, 85, np.nan],\n",
        "               ['Jenny', np.nan, 100, 25632],\n",
        "               ['Kenn', np.nan, 110, 25632],\n",
        "                ['Aly', np.nan, 90, 25582],\n",
        "               ['John', 41, 85, 1528000],]\n",
        "\n",
        "# creating a pandas dataframe\n",
        "df = pd.DataFrame(employee_list, columns=['Name', 'Age', 'Weight', 'Salary'])\n",
        "print(\"---------------Before Cleaning NaN values--------------\")\n",
        "print(df)\n",
        "print(\"-----after Cleaning NaN values from multiple columns--------------\")\n",
        "\n",
        "df2 = df.fillna(value={'Weight':'Pending','Age':\"Unknown\", 'Salary': \"0.0\", 'Name': \"Verification pending\"})\n",
        "\n",
        "print(df2)"
      ],
      "metadata": {
        "id": "LDGjGqGeOLo1"
      },
      "execution_count": null,
      "outputs": []
    },
    {
      "cell_type": "markdown",
      "source": [
        "# **Pandas Replace NaN with Blank/Empty String**\n",
        "\n",
        "By using replace() or fillna() methods, you can replace NaN values with a Blank/Empty string in Pandas DataFrame.\n",
        "\n",
        "Now, let’s create a DataFrame with a few rows and columns, and execute some examples and validate the results. Our DataFrame contains column names Courses, Fee, Duration and Discount."
      ],
      "metadata": {
        "id": "pLVHvyyNOYI9"
      }
    },
    {
      "cell_type": "code",
      "source": [
        "import pandas as pd\n",
        "import numpy as np\n",
        "technologies = {\n",
        "    'Courses':[\"Spark\",np.nan,\"Hadoop\",\"Python\",\"pandas\",np.nan,\"Java\"],\n",
        "    'Fee' :[20000,25000, np.nan,22000,24000,np.nan,22000],\n",
        "    'Duration':[np.nan,'40days','35days', np.nan,'60days','50days','55days'],\n",
        "    'Discount':[1000,np.nan,1500,np.nan,2500,2100,np.nan]\n",
        "              }\n",
        "df = pd.DataFrame(technologies)\n",
        "print(df)\n"
      ],
      "metadata": {
        "id": "FnqIQMTTOZgt"
      },
      "execution_count": null,
      "outputs": []
    },
    {
      "cell_type": "markdown",
      "source": [
        "**Example 3: Convert NaN to Empty String in Pandas**\n",
        "\n",
        "Use **df.replace(np.nan,'',regex=True)** method to replace all NaN values to an empty string in the Pandas DataFrame column.\n"
      ],
      "metadata": {
        "id": "YCuMP1oXOibN"
      }
    },
    {
      "cell_type": "code",
      "source": [
        "import pandas as pd\n",
        "import numpy as np\n",
        "technologies = {\n",
        "    'Courses':[\"Spark\",np.nan,\"Hadoop\",\"Python\",\"pandas\",np.nan,\"Java\"],\n",
        "    'Fee' :[20000,25000, np.nan,22000,24000,np.nan,22000],\n",
        "    'Duration':[np.nan,'40days','35days', np.nan,'60days','50days','55days'],\n",
        "    'Discount':[1000,np.nan,1500,np.nan,2500,2100,np.nan]\n",
        "              }\n",
        "df = pd.DataFrame(technologies)\n",
        "df2 = df.replace(np.nan, '', regex=True)\n",
        "print(df2)\n",
        "\n",
        "\n",
        "\n"
      ],
      "metadata": {
        "id": "6ehVyVz4Ojxs"
      },
      "execution_count": null,
      "outputs": []
    },
    {
      "cell_type": "markdown",
      "source": [
        "**Example 4: Multiple Columns Replace Empty String**\n",
        "\n",
        "In order to replace NaN values with Blank strings on multiple columns or all columns from a list, use **df[['Courses','Fee']] = df[['Courses','Fee']].fillna('')**. This replaces NaN values on Courses and Fee columns.\n"
      ],
      "metadata": {
        "id": "w47kwE9nOlXc"
      }
    },
    {
      "cell_type": "code",
      "source": [
        "import pandas as pd\n",
        "import numpy as np\n",
        "technologies = {\n",
        "    'Courses':[\"Spark\",np.nan,\"Hadoop\",\"Python\",\"pandas\",np.nan,\"Java\"],\n",
        "    'Fee' :[20000,25000, np.nan,22000,24000,np.nan,22000],\n",
        "    'Duration':[np.nan,'40days','35days', np.nan,'60days','50days','55days'],\n",
        "    'Discount':[1000,np.nan,1500,np.nan,2500,2100,np.nan]\n",
        "              }\n",
        "df = pd.DataFrame(technologies)\n",
        "\n",
        "# Using multiple columns\n",
        "df2 = df[['Courses','Fee' ]] = df[['Courses','Fee' ]].fillna('PENDING')\n",
        "print(df2)\n",
        "\n"
      ],
      "metadata": {
        "id": "SqEB0g4GOtVl"
      },
      "execution_count": null,
      "outputs": []
    },
    {
      "cell_type": "markdown",
      "source": [
        "**Example 5: fillna() with inplace=True**\n",
        "\n",
        "Notice that the above output after applying fillna() function returns a new DataFrame. In order to update the current/referring DataFrame in place, use df.fillna('',inplace=True). When using this, the fillna() method returns the None type.\n"
      ],
      "metadata": {
        "id": "9Y8tGNHNOwYj"
      }
    },
    {
      "cell_type": "code",
      "source": [
        "#fillna() with inplace=True\n",
        "import pandas as pd\n",
        "import numpy as np\n",
        "\n",
        "# initializing the nested list with Data set and NaN values\n",
        "technologies = {\n",
        "    'Courses':[\"Spark\",np.nan,\"Hadoop\",\"Python\",\"pandas\",np.nan,\"Java\"],\n",
        "    'Fee' :[20000,25000, np.nan,22000,24000,np.nan,22000],\n",
        "    'Duration':[np.nan,'40days','35days', np.nan,'60days','50days','55days'],\n",
        "    'Discount':[1000,np.nan,1500,np.nan,2500,2100,np.nan]\n",
        "              }\n",
        "df = pd.DataFrame(technologies)\n",
        "# Using pandas replace nan with null\n",
        "df2 = df.fillna('', inplace=True)\n",
        "print(df2)\n",
        "\n",
        "\n",
        "\n"
      ],
      "metadata": {
        "id": "Pr7BqjIEOyoE"
      },
      "execution_count": null,
      "outputs": []
    },
    {
      "cell_type": "markdown",
      "source": [
        "**Example 6: Handling Missing Data from CSV file**\n",
        "\n",
        "In this example, we will utilize the dummy employee dataset.\n",
        "\n",
        "[Click here to download employee dataset (employee.csv)](https://drive.google.com/file/d/14RV1xKIRzWS166LtGqnPC1Wg7eTlI_y1/view)\n",
        "\n",
        "As we have learned in the previous example, the **fillna()** function can be used to deal with NaN values. We have some NaN or missing values in the CSV file, let's handle them by using **fillna()** function.\n"
      ],
      "metadata": {
        "id": "u6SG3IGFO3_M"
      }
    },
    {
      "cell_type": "code",
      "source": [
        "import pandas as pd\n",
        "df = pd.read_csv('employee.csv', dtype={'Name':'string' })\n",
        "\n",
        "\n",
        "print('============Before Handling missing values=====')\n",
        "print(df)\n",
        "\n",
        "\n",
        "print('===========After Handling missing values using fillna()=====')\n",
        "df2 = df.fillna(value={'Name':'Verification Pending','Age':\"Unknown\", 'Weight': \"pending\", 'Salary': 0.0})\n",
        "print(df2)"
      ],
      "metadata": {
        "id": "aSS6frDoPJ14"
      },
      "execution_count": null,
      "outputs": []
    },
    {
      "cell_type": "markdown",
      "source": [
        " ### **Example 7: Identify the first non-empty row in a Pandas Series or column**"
      ],
      "metadata": {
        "id": "Q1ZZ-nqUhkl4"
      }
    },
    {
      "cell_type": "markdown",
      "source": [
        "To identify the first non-empty row in a Pandas Series or column, you can use the `first_valid_index()` method. This method returns the index label of the first non-null (non-empty) value in the Series. Here's how you can use it:"
      ],
      "metadata": {
        "id": "YqcVIVEYiBPC"
      }
    },
    {
      "cell_type": "markdown",
      "source": [
        "Example 7.1"
      ],
      "metadata": {
        "id": "gKxxI07cjzQp"
      }
    },
    {
      "cell_type": "code",
      "source": [
        "import pandas as pd\n",
        "\n",
        "# Example Pandas Series\n",
        "data = pd.Series([None, None, 5, 10, None, 20])\n",
        "\n",
        "# Find the index label of the first non-empty row\n",
        "first_non_empty_index = data.first_valid_index()\n",
        "\n",
        "print(\"Index of the first non-empty row:\", first_non_empty_index)\n",
        "print(\"Value of the first non-empty row:\", data[first_non_empty_index])\n"
      ],
      "metadata": {
        "colab": {
          "base_uri": "https://localhost:8080/"
        },
        "id": "KVpEqCMDiYmF",
        "outputId": "95b6f4d2-0980-43f8-d588-2c7c306bb73f"
      },
      "execution_count": null,
      "outputs": [
        {
          "output_type": "stream",
          "name": "stdout",
          "text": [
            "Index of the first non-empty row: 2\n",
            "Value of the first non-empty row: 5.0\n"
          ]
        }
      ]
    },
    {
      "cell_type": "markdown",
      "source": [
        "Example 7.2"
      ],
      "metadata": {
        "id": "rrvTW63xj2ow"
      }
    },
    {
      "cell_type": "code",
      "source": [
        "import pandas as pd\n",
        "import numpy as np\n",
        "# Example Pandas Series with NaN values\n",
        "data = pd.Series([np.nan, np.nan, 5, 10, np.nan, 20])\n",
        "\n",
        "# Find the index label of the first non-empty row\n",
        "first_non_empty_index = data.first_valid_index()\n",
        "\n",
        "print(\"Index of the first non-empty row:\", first_non_empty_index)\n",
        "print(\"Value of the first non-empty row:\", data[first_non_empty_index])"
      ],
      "metadata": {
        "id": "QiBfYfM9jmkQ"
      },
      "execution_count": null,
      "outputs": []
    },
    {
      "cell_type": "markdown",
      "source": [
        "In the above examples, the first non-empty row in the Series occurs at index label 2, and the corresponding value is 5.0. You can use this method to identify the first non-empty row in any Pandas Series or column."
      ],
      "metadata": {
        "id": "pYq0EQbAj7jI"
      }
    },
    {
      "cell_type": "markdown",
      "source": [
        "##**Submission Instructions**\n",
        "- Submit your completed lab using the Start Assignment button on the assignment page in Canvas.\n",
        "- Your submission can be include:\n",
        "  - if you are using notebook then, all tasks should be written and submitted in a single notebook file, for example: (**your_name_labname.ipynb**).\n",
        "  - if you are using python script file, all tasks should be written and submitted in a single python script file for example: **(your_name_labname.py)**.\n",
        "- Add appropriate comments and any additional instructions if required.\n"
      ],
      "metadata": {
        "id": "XnrmDF81QPNp"
      }
    }
  ]
}