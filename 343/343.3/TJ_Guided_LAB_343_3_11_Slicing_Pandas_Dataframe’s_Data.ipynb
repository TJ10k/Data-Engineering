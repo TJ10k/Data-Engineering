{
  "nbformat": 4,
  "nbformat_minor": 0,
  "metadata": {
    "colab": {
      "provenance": []
    },
    "kernelspec": {
      "name": "python3",
      "display_name": "Python 3"
    },
    "language_info": {
      "name": "python"
    }
  },
  "cells": [
    {
      "cell_type": "markdown",
      "source": [
        "#**Guided Lab 343.3.11 - Slicing Pandas Dataframe’s Data**\n",
        "\n",
        "## **Lab Introduction:**\n",
        "Pandas is a powerful Python library for data analysis and manipulation. One of its key features is the ability to slice data from DataFrames, allowing you to extract specific subsets of data for further analysis. This lab will guide you through the essential techniques for slicing Pandas DataFrames using the iloc and loc indexers.\n",
        "\n",
        "**Why is slicing important?**\n",
        "\n",
        "Data Exploration: Slicing lets you quickly examine specific parts of your data, such as individual rows, columns, or ranges of values.\n",
        "Data Cleaning: You can use slicing to remove unwanted data or select only the data you need for your analysis.\n",
        "Data Transformation: Slicing can be used to create new DataFrames with specific columns or rows, enabling you to reshape your data for different purposes.\n",
        "Data Analysis: By isolating specific subsets of data, slicing allows you to perform targeted analyses on smaller portions of your dataset.\n",
        "\n",
        "##**Learning Objective:**\n",
        "By the end of this lab, learner will be able to:\n",
        "- Slicing Pandas Dataframe’s Data\n",
        "- Use the iloc indexer to slice data by row and column positions.\n",
        "- Use the loc indexer to slice data by row and column labels.\n",
        "- Select specific rows and columns from a DataFrame using both iloc and loc methods.\n",
        "- Identify the first non-empty row in a Pandas Series or column using first_valid_index()\n",
        "- Effectively manipulate and extract desired data subsets from Pandas DataFrames for analysis and further processing.\n"
      ],
      "metadata": {
        "id": "Fras_dSVEZxs"
      }
    },
    {
      "cell_type": "markdown",
      "source": [
        "##**Instructions:**\n",
        "\n",
        "\n",
        "\n",
        "##**Method #1: Slicing Dataframe using DataFrame.iloc[]**\n",
        "\n",
        "**Example 1.1: Slicing by rows**\n",
        "\n",
        "In the below example, we will slice:\n",
        "- The only first row from the dataframe.\n",
        "- The first four rows (from index 0 to 3) from the dataframe.\n"
      ],
      "metadata": {
        "id": "eXcSx0BLGrqE"
      }
    },
    {
      "cell_type": "code",
      "execution_count": null,
      "metadata": {
        "id": "bdMCECE1ECkU"
      },
      "outputs": [],
      "source": [
        "# importing pandas library\n",
        "import pandas as pd\n",
        "\n",
        "# Initializing the nested list with Data set\n",
        "employee_list = [['James', 36, 75, 5428000],\n",
        "               ['Villers', 38, 74, 3428000],\n",
        "               ['VKole', 31, 70, 8428000],\n",
        "               ['Smith', 34, 80, 4428000],\n",
        "               ['Gayle', 40, 100, 4528000],\n",
        "               ['Rooter', 33, 72, 7028000],\n",
        "               ['Peterson', 42, 85, 2528000],\n",
        "               ['John', 41, 85, 1528000],\n",
        "\n",
        "]\n",
        "\n",
        "# creating a pandas dataframe\n",
        "df = pd.DataFrame(employee_list, columns=['Name', 'Age', 'Weight', 'Salary'])\n",
        "\n",
        "print(' ------data frame before slicing-----')\n",
        "print(df)\n",
        "\n",
        "print(' ------ Select First Row by Index-----')\n",
        "# Select First Row by Index\n",
        "print(df.iloc[:1])\n",
        "\n",
        "print(' ------ Select First 4 Row by Index-----')\n",
        "# Slicing first 4 rows from dataframe\n",
        "df1 = df.iloc[0:4]\n",
        "# This above line used the iloc indexer to slice (select) the first 4 rows of the #original DataFrame (df) and assigns the result to a new DataFrame named df1.\n",
        "\n",
        "print(' ------data frame after slicing----')\n",
        "print(df1)\n"
      ]
    },
    {
      "cell_type": "markdown",
      "source": [
        "**Example 1.2 - Slicing by columns or index label**\n",
        "\n",
        "In the below example, we will slice the columns from the data frame.\n",
        "\n",
        "\n"
      ],
      "metadata": {
        "id": "FXrZpr_uEvYU"
      }
    },
    {
      "cell_type": "code",
      "source": [
        "# Initializing the nested list with Data set\n",
        "employee_list = [['James', 36, 75, 5428000],\n",
        "               ['Villers', 38, 74, 3428000],\n",
        "               ['VKole', 31, 70, 8428000],\n",
        "               ['Smith', 34, 80, 4428000],\n",
        "               ['Gayle', 40, 100, 4528000],\n",
        "               ['Rooter', 33, 72, 7028000],\n",
        "               ['Peterson', 42, 85, 2528000],\n",
        "               ['John', 41, 85, 1528000]]\n",
        "\n",
        "# creating a pandas dataframe\n",
        "df = pd.DataFrame(employee_list, columns=['Name', 'Age', 'Weight', 'Salary'])\n",
        "\n",
        "# data frame before slicing\n",
        "print(df)\n",
        "print( '====Slicing columns in dataframe======')\n",
        "\n",
        "emp_df =df.iloc[:, 0:2]\n",
        "print(emp_df)\n"
      ],
      "metadata": {
        "id": "EFYVTLr0EzHk"
      },
      "execution_count": null,
      "outputs": []
    },
    {
      "cell_type": "markdown",
      "source": [
        "**Example 1.3**\n",
        "\n",
        "Select values from row index 0 to 2(exclusive) and column position 0 to 2(exclusive)\n",
        "\n",
        "\n",
        "\n",
        "\n"
      ],
      "metadata": {
        "id": "PoLb5PVSE1lU"
      }
    },
    {
      "cell_type": "code",
      "source": [
        "print(df1.iloc[0:2, 0:2])"
      ],
      "metadata": {
        "id": "vjGra45ME4hU"
      },
      "execution_count": null,
      "outputs": []
    },
    {
      "cell_type": "markdown",
      "source": [
        "## **Method #2 - Slicing Dataframe using DataFrame.loc[]**\n",
        "\n",
        "Creating Demo Data Set for Dataframe\n",
        "\n"
      ],
      "metadata": {
        "id": "RXCVeDiWE99r"
      }
    },
    {
      "cell_type": "code",
      "source": [
        "import pandas as pd\n",
        "\n",
        "#create DataFrame with six columns\n",
        "df = pd.DataFrame({'team': ['A', 'B', 'C', 'D', 'E', 'F', 'G', 'H'],\n",
        "                   'points': [18, 22, 19, 14, 14, 11, 20, 28],\n",
        "                   'assists': [5, 7, 7, 9, 12, 9, 9, 4],\n",
        "                   'rebounds': [11, 8, 10, 6, 6, 5, 9, 12],\n",
        "                   'steals': [4, 3, 3, 2, 5, 4, 3, 8],\n",
        "                   'blocks': [1, 0, 0, 3, 2, 2, 1, 5]})\n",
        "\n",
        "#view DataFrame\n",
        "print(df)\n"
      ],
      "metadata": {
        "id": "zyvBkj7jFA-7"
      },
      "execution_count": null,
      "outputs": []
    },
    {
      "cell_type": "markdown",
      "source": [
        "**Example 2.1- Slice by Specific Column Names**\n",
        "\n",
        "We can use the following syntax to create a new DataFrame that only contains the columns team and rebounds:\n",
        "\n"
      ],
      "metadata": {
        "id": "TCnD3vuHFCmT"
      }
    },
    {
      "cell_type": "code",
      "source": [
        "#slice columns team and rebounds\n",
        "df_new = df.loc[:, ['team', 'rebounds']]\n",
        "\n",
        "#view new DataFrame\n",
        "print(df_new)\n"
      ],
      "metadata": {
        "id": "k_cFiFiuFFHT"
      },
      "execution_count": null,
      "outputs": []
    },
    {
      "cell_type": "markdown",
      "source": [
        "**Example 2.2 - Slice by Column Names in Range**\n",
        "\n",
        "We can use the following example to create a new DataFrame that only contains the columns in the range between team and rebounds:\n",
        "\n",
        "\n"
      ],
      "metadata": {
        "id": "9nn5r9dJFGcj"
      }
    },
    {
      "cell_type": "code",
      "source": [
        "\n",
        "#slice columns between team and rebounds\n",
        "df_new = df.loc[:, 'team':'rebounds']\n",
        "\n",
        "#view new DataFrame\n",
        "print(df_new)\n"
      ],
      "metadata": {
        "id": "tajAbMLUFIPF"
      },
      "execution_count": null,
      "outputs": []
    },
    {
      "cell_type": "markdown",
      "source": [
        "**Example 2.3 - Select values from row index 0 to 2 and 'Name' column**\n",
        "\n",
        "Select values from row index 0 to 2 and 'Name' column\n",
        "\n",
        "\n"
      ],
      "metadata": {
        "id": "x44PiRBuFJqr"
      }
    },
    {
      "cell_type": "code",
      "source": [
        "print(df.loc[3:6, ['team']])\n"
      ],
      "metadata": {
        "id": "QKdnN3UsFMhb"
      },
      "execution_count": null,
      "outputs": []
    },
    {
      "cell_type": "markdown",
      "source": [
        " ## **Example 3: Identify the first non-empty row in a Pandas Series or column**"
      ],
      "metadata": {
        "id": "Q1ZZ-nqUhkl4"
      }
    },
    {
      "cell_type": "markdown",
      "source": [
        "To identify the first non-empty row in a Pandas Series or column, you can use the `first_valid_index()` method. This method returns the index label of the first non-null (non-empty) value in the Series. Here's how you can use it:"
      ],
      "metadata": {
        "id": "YqcVIVEYiBPC"
      }
    },
    {
      "cell_type": "code",
      "source": [
        "import pandas as pd\n",
        "\n",
        "# Example Pandas Series\n",
        "data = pd.Series([None, None, 5, 10, None, 20])\n",
        "\n",
        "# Find the index label of the first non-empty row\n",
        "first_non_empty_index = data.first_valid_index()\n",
        "\n",
        "print(\"Index of the first non-empty row:\", first_non_empty_index)\n",
        "print(\"Value of the first non-empty row:\", data[first_non_empty_index])\n"
      ],
      "metadata": {
        "id": "KVpEqCMDiYmF"
      },
      "execution_count": null,
      "outputs": []
    },
    {
      "cell_type": "markdown",
      "source": [
        "##**Submission Instructions**\n",
        "- Submit your completed lab using the Start Assignment button on the assignment page in Canvas.\n",
        "- Your submission can be include:\n",
        "  - if you are using notebook then, all tasks should be written and submitted in a single notebook file, for example: (**your_name_labname.ipynb**).\n",
        "  - if you are using python script file, all tasks should be written and submitted in a single python script file for example: **(your_name_labname.py)**.\n",
        "- Add appropriate comments and any additional instructions if required.\n",
        "\n"
      ],
      "metadata": {
        "id": "0KXRk9gDKONJ"
      }
    }
  ]
}