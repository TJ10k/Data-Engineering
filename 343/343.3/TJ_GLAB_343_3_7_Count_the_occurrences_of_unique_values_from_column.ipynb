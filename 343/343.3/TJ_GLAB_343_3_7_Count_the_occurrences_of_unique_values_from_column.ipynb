{
  "nbformat": 4,
  "nbformat_minor": 0,
  "metadata": {
    "colab": {
      "provenance": []
    },
    "kernelspec": {
      "name": "python3",
      "display_name": "Python 3"
    },
    "language_info": {
      "name": "python"
    }
  },
  "cells": [
    {
      "cell_type": "markdown",
      "source": [
        "# **Guided Lab 343.3.7 - Count the occurrences of unique values from column**"
      ],
      "metadata": {
        "id": "MOPSpVHlDdKz"
      }
    },
    {
      "cell_type": "markdown",
      "source": [
        "## **Learning Objective:**\n",
        "In this lab, you will demonstrate how to count the occurrences of unique values from column on Pandas DataFrame, we will use value_count() function for that.\n",
        "\n",
        "By the end of this lab, learners will be able to:\n",
        "- Use value_count() function to count the occurrences of unique values from column on Pandas DataFrame.\n",
        "- Analyze the quick summary of the unique values and their frequencies, making it a valuable tool in data exploration and analysis.\n",
        "\n",
        "\n",
        "\n",
        "\n",
        "\n"
      ],
      "metadata": {
        "id": "sob0hMZxDscr"
      }
    },
    {
      "cell_type": "markdown",
      "source": [
        "## **Introduction**:\n",
        "The **`value_counts()`** function in pandas is used to count the occurrences of unique values in a Series (a single column of a DataFrame). It returns a pandas Series with the unique values as the index and the counts of each unique value as the corresponding values in the Series.\n",
        "\n",
        "Here are some common use cases for value_counts():"
      ],
      "metadata": {
        "id": "RJjWhKhL_-37"
      }
    },
    {
      "cell_type": "markdown",
      "source": [
        "# **Example 1: Frequency Analysis:**\n",
        "\n",
        "To understand the distribution of values in a categorical variable.\n",
        "Example: Count the number of occurrences of each category in a column representing product categories, customer segments, etc."
      ],
      "metadata": {
        "id": "PWLR0NSCABRb"
      }
    },
    {
      "cell_type": "code",
      "execution_count": null,
      "metadata": {
        "colab": {
          "base_uri": "https://localhost:8080/"
        },
        "id": "ClDToHLP_2rN",
        "outputId": "55075231-e7a1-4164-9586-c2759db80e52"
      },
      "outputs": [
        {
          "output_type": "stream",
          "name": "stdout",
          "text": [
            "Electronics    2\n",
            "Clothing       2\n",
            "Books          2\n",
            "Name: Category, dtype: int64\n"
          ]
        }
      ],
      "source": [
        "import pandas as pd\n",
        "\n",
        "# Sample DataFrame\n",
        "data = {'Category': ['Electronics', 'Clothing', 'Electronics', 'Books', 'Books', 'Clothing']}\n",
        "df = pd.DataFrame(data)\n",
        "\n",
        "# Count the occurrences of each category\n",
        "category_counts = df['Category'].value_counts()\n",
        "print(category_counts)"
      ]
    },
    {
      "cell_type": "markdown",
      "source": [
        "## **Example 2: Frequency Analysis:**\n",
        "The example below shows the frequency of items in the column ‘Brand’ and prints the item that occurs more than once in the same column."
      ],
      "metadata": {
        "id": "0QeWoaKwDIt7"
      }
    },
    {
      "cell_type": "code",
      "source": [
        "# import pandas library to the codespace\n",
        "import pandas as pd\n",
        "# Create the dataframe\n",
        "sales_data={\"Devices\":['Laptop','iPhone','LED','LCD','Smart-Phone','Washing-Machine'],\n",
        "           'Brand':['Lenovo','Apple','Samsung','Samsung','Samsung','Whirpool'],\n",
        "           'Sales':[1000,2000,4000,2000,1000,4000],\n",
        "           'Profit':[500,1000,1000,1500,1000,1500],\n",
        "           'Pices left':[5000,4000,4000,5000,5000,1000]}\n",
        "# create the pandas dataframe\n",
        "df=pd.DataFrame(sales_data)\n",
        "# Frequency of items in the column brand\n",
        "Frequency=(df.Brand.value_counts())\n",
        "# print the product that occurs more than once\n",
        "Frequent_product = Frequency[Frequency>1].index[0]\n",
        "# display the items along with their frequency\n",
        "display(Frequency)\n",
        "# print the item that occurs more than once\n",
        "print(\" This item appears more than once:\",Frequent_product)"
      ],
      "metadata": {
        "colab": {
          "base_uri": "https://localhost:8080/",
          "height": 121
        },
        "id": "HU_r0HXwChPi",
        "outputId": "77df52f5-4511-4a3b-a080-8f62c3aad4ac"
      },
      "execution_count": null,
      "outputs": [
        {
          "output_type": "display_data",
          "data": {
            "text/plain": [
              "Samsung     3\n",
              "Lenovo      1\n",
              "Apple       1\n",
              "Whirpool    1\n",
              "Name: Brand, dtype: int64"
            ]
          },
          "metadata": {}
        },
        {
          "output_type": "stream",
          "name": "stdout",
          "text": [
            " This item appears more than once: Samsung\n"
          ]
        }
      ]
    },
    {
      "cell_type": "markdown",
      "source": [
        "## **Example 3: Checking Missing Values:**\n",
        "\n",
        "To quickly identify missing values in a column.\n",
        "Example: Count the occurrences of each value in a column and check for any values that stand out, such as 0 or -1."
      ],
      "metadata": {
        "id": "l1LP2XrMAMBD"
      }
    },
    {
      "cell_type": "code",
      "source": [
        "import pandas as pd\n",
        "\n",
        "# Sample DataFrame with missing values\n",
        "data = {'Score': [85, 92, 88, 75, None, 90, None, 85]}\n",
        "df = pd.DataFrame(data)\n",
        "\n",
        "# Count the occurrences of each value in the 'Score' column\n",
        "score_counts = df['Score'].value_counts(dropna=False)\n",
        "print(score_counts)\n"
      ],
      "metadata": {
        "colab": {
          "base_uri": "https://localhost:8080/"
        },
        "id": "9LW6A7DzAPcH",
        "outputId": "2a80c728-43a3-4da1-e163-a458ca43b918"
      },
      "execution_count": null,
      "outputs": [
        {
          "output_type": "stream",
          "name": "stdout",
          "text": [
            "85.0    2\n",
            "NaN     2\n",
            "92.0    1\n",
            "88.0    1\n",
            "75.0    1\n",
            "90.0    1\n",
            "Name: Score, dtype: int64\n"
          ]
        }
      ]
    },
    {
      "cell_type": "markdown",
      "source": [
        "## **Example 4: Checking Data Quality:**\n",
        "\n",
        "To quickly identify potential issues with data quality.\n",
        "Example: Identify unexpected or outlier values in a numerical column"
      ],
      "metadata": {
        "id": "v7Effn9UBzfK"
      }
    },
    {
      "cell_type": "code",
      "source": [
        "import pandas as pd\n",
        "\n",
        "# Sample DataFrame\n",
        "data = {'Age': [25, 30, 25, 35, 25, 40, 25, 30, 45, 25, 30, 25]}\n",
        "df = pd.DataFrame(data)\n",
        "\n",
        "# Count the occurrences of each age\n",
        "age_counts = df['Age'].value_counts()\n",
        "print(age_counts)\n"
      ],
      "metadata": {
        "colab": {
          "base_uri": "https://localhost:8080/"
        },
        "id": "wpPUHb6nB4Ra",
        "outputId": "72f22767-4a3e-434e-c5f4-fcff34c248bf"
      },
      "execution_count": null,
      "outputs": [
        {
          "output_type": "stream",
          "name": "stdout",
          "text": [
            "25    6\n",
            "30    3\n",
            "35    1\n",
            "40    1\n",
            "45    1\n",
            "Name: Age, dtype: int64\n"
          ]
        }
      ]
    },
    {
      "cell_type": "markdown",
      "source": [
        "##**Submission Instructions**\n",
        "- Submit your completed lab using the Start Assignment button on the assignment page in Canvas.\n",
        "- Your submission can be include:\n",
        "  - if you are using notebook then, all tasks should be written and submitted in a single notebook file, for example: (**your_name_labname.ipynb**).\n",
        "  - if you are using python script file, all tasks should be written and submitted in a single python script file for example: **(your_name_labname.py)**.\n",
        "- Add appropriate comments and any additional instructions if required.\n",
        "\n"
      ],
      "metadata": {
        "id": "mGPIoRpjfjzH"
      }
    }
  ]
}