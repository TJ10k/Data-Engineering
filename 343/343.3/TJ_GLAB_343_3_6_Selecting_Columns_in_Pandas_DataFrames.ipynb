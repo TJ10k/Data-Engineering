{
  "nbformat": 4,
  "nbformat_minor": 0,
  "metadata": {
    "colab": {
      "provenance": []
    },
    "kernelspec": {
      "name": "python3",
      "display_name": "Python 3"
    },
    "language_info": {
      "name": "python"
    }
  },
  "cells": [
    {
      "cell_type": "markdown",
      "source": [
        "#**Guided Lab 343.3.6 - Selecting Columns in Pandas DataFrames**\n",
        "\n",
        "---\n",
        "\n"
      ],
      "metadata": {
        "id": "ig6e04EWA_29"
      }
    },
    {
      "cell_type": "markdown",
      "source": [
        "##**Learning Objective:**\n",
        "This lab focuses on accessing and selecting specific columns from Pandas DataFrames, a fundamental skill in data manipulation and analysis.\n",
        "\n",
        "By the end this lab, learners will be able to Select any specified column or columns from Pandas Dataframe.\n",
        "\n",
        "**Introduction:**\n",
        "\n",
        "Pandas DataFrames provide flexible ways to select columns, including:\n",
        "\n",
        "1. **Column Attribute:** Use square brackets `[]` with the column name for single column selection or a list of column names for multiple columns.\n",
        "2. **Column Index Number:** Access columns using their index number within the DataFrame.\n",
        "\n",
        "**Lab Activities:**\n",
        "\n",
        "1. **Import Dataset:** Begin by importing the `cars.json` dataset into a Pandas DataFrame named `df_cars`.\n",
        "2. **Select Single Column:** Extract the 'Car' column to demonstrate single column selection.\n",
        "3. **Select Multiple Columns:** Select 'Car', 'Model', and 'quantity' columns to illustrate multiple column selection.\n",
        "4. **Select by Column Index:** Practice selecting columns using their index number.\n",
        "5. **Continue Learning:** This lab serves as an introduction. Further exploration of column selection techniques will be covered later in the module.\n",
        "\n"
      ],
      "metadata": {
        "id": "DyUE-au_ZzO7"
      }
    },
    {
      "cell_type": "markdown",
      "source": [
        "##**Introduction:**\n",
        "**Selecting columns by using column attribute**\n",
        "\n",
        "- To select a single column, use square brackets [ ] with the column name of the column of interest.\n",
        "\n",
        "- To select multiple columns, use a list of column names within the selection brackets [ ].\n",
        "\n",
        "**Syntax:**\n",
        "\n",
        "```\n",
        "# select column to Series\n",
        "s = df['colName']\n",
        "\n",
        "# select column to dataframe\n",
        "df = df[['colName']]\n",
        "\n",
        "# select two or more column\n",
        "df = df[['ColOne','colTwo']]  \n",
        "\n",
        "# select column by column index number\n",
        "s = df[df.columns[0]]  \n",
        "\n",
        "# select columns by column index numbers\n",
        "df = df.columns[[0, 3, 4]]\n",
        "```\n",
        "\n"
      ],
      "metadata": {
        "id": "tYY9QDTIDiMy"
      }
    },
    {
      "cell_type": "markdown",
      "source": [
        "\n",
        "\n",
        "---\n",
        "\n",
        "## **Dataset:**\n",
        "\n",
        "The lab utilizes the [`cars.json`](https://drive.google.com/file/d/1CXAK8gbuLtc2NNOXVUgmja8fDg0TrNZm/view) dataset, providing a practical context for applying column selection methods.\n",
        "\n",
        " Let import cars dataset in Panda dataframe."
      ],
      "metadata": {
        "id": "NUAA9D9tBi2V"
      }
    },
    {
      "cell_type": "code",
      "execution_count": null,
      "metadata": {
        "id": "VzdvBb-gAymO"
      },
      "outputs": [],
      "source": [
        "import pandas as pd\n",
        "df_cars = pd.read_json('cars.json')\n",
        "df_cars\n"
      ]
    },
    {
      "cell_type": "markdown",
      "source": [
        "##**Example - Select One Column:**\n",
        "\n",
        "Suppose we are interested in the Name of the cars."
      ],
      "metadata": {
        "id": "Auw5GKXhBHMr"
      }
    },
    {
      "cell_type": "code",
      "source": [
        "df_cars['Car']"
      ],
      "metadata": {
        "id": "qL9KpTQtB5aW"
      },
      "execution_count": null,
      "outputs": []
    },
    {
      "cell_type": "code",
      "source": [
        "df_cars['Car'].head(30)"
      ],
      "metadata": {
        "id": "x8wavh2OCGDJ"
      },
      "execution_count": null,
      "outputs": []
    },
    {
      "cell_type": "markdown",
      "source": [
        "\n",
        "\n",
        "---\n",
        "\n"
      ],
      "metadata": {
        "id": "sw9PnhAJCLoz"
      }
    },
    {
      "cell_type": "markdown",
      "source": [
        "##**Example: Select multiple Columns**\n",
        "\n",
        "Suppose, we are interested in the cars name, Model of the cars, and quantity"
      ],
      "metadata": {
        "id": "JjiHHpRUCmNp"
      }
    },
    {
      "cell_type": "code",
      "source": [
        "df_cars[['Car','Model', 'quantity']]\n"
      ],
      "metadata": {
        "id": "1ATIHQE7C67e"
      },
      "execution_count": null,
      "outputs": []
    },
    {
      "cell_type": "markdown",
      "source": [
        "##**Example: Select single column by column index number**"
      ],
      "metadata": {
        "id": "RUczRXUkECgN"
      }
    },
    {
      "cell_type": "code",
      "source": [
        "df_cars[df_cars.columns[0]]\n"
      ],
      "metadata": {
        "id": "fbo0E9HuELT7"
      },
      "execution_count": null,
      "outputs": []
    },
    {
      "cell_type": "markdown",
      "source": [
        "##**Example: Select Multiple columns by column index number**"
      ],
      "metadata": {
        "id": "wK2zxSAoEnU_"
      }
    },
    {
      "cell_type": "code",
      "source": [
        "df_cars[df_cars.columns[[0,1,9]]]"
      ],
      "metadata": {
        "id": "3zmaN5DQEt5o"
      },
      "execution_count": null,
      "outputs": []
    },
    {
      "cell_type": "markdown",
      "source": [
        "\n",
        "\n",
        "---\n",
        "\n"
      ],
      "metadata": {
        "id": "ANrCmGNRecEc"
      }
    },
    {
      "cell_type": "markdown",
      "source": [
        "**To be continue: We will continue this lab, later in this Module.**"
      ],
      "metadata": {
        "id": "iR3LSuqAeS09"
      }
    },
    {
      "cell_type": "markdown",
      "source": [
        "##**Submission Instructions**\n",
        "- Submit your completed lab using the Start Assignment button on the assignment page in Canvas.\n",
        "- Your submission can be include:\n",
        "  - if you are using notebook then, all tasks should be written and submitted in a single notebook file, for example: (**your_name_labname.ipynb**).\n",
        "  - if you are using python script file, all tasks should be written and submitted in a single python script file for example: **(your_name_labname.py)**.\n",
        "- Add appropriate comments and any additional instructions if required.\n"
      ],
      "metadata": {
        "id": "1RwbtQBLdZJ6"
      }
    }
  ]
}