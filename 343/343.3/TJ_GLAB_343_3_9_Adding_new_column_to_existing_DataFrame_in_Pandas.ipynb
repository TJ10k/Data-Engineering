{
  "cells": [
    {
      "cell_type": "markdown",
      "metadata": {
        "id": "UWq8C9mVCQ0O"
      },
      "source": [
        "#**Guided Lab - 343.3.9 - Adding new column to existing DataFrame in Pandas**\n",
        "\n",
        "\n",
        "##**Lab Objective:**\n",
        "- In this lab, we will cover how to add/append multiple columns and add a constant value, deriving new columns from an existing column to the Pandas DataFrame.\n",
        "\n",
        "- By the end of this lab, learners will be able to add new columns to Panda Dataframe using several approaches.\n",
        "\n",
        "##**Submission**\n",
        "- Submit your completed lab using the Start Assignment button on the assignment page in Canvas.\n",
        "- Your submission can be include:\n",
        "  - if you are using notebook then, all tasks should be written and submitted in a single notebook file, for example: (**your_name_labname.ipynb**).\n",
        "  - if you are using python script file, all tasks should be written and submitted in a single python script file for example: **(your_name_labname.py)**.\n",
        "- Add appropriate comments and any additional instructions if required.\n",
        "\n",
        "\n",
        "## **Introduction:**\n",
        "In Pandas, a DataFrame represents a two-dimensional, heterogenous, tabular data structure with labeled rows and columns (axes). In simple words, it contains three components ― data, rows, columns.\n",
        "\n",
        "Let's discuss how to add new columns to the existing DataFrame in Pandas. There are multiple ways we can do this task.\n",
        "\n",
        "## **Instructions**\n"
      ]
    },
    {
      "cell_type": "markdown",
      "metadata": {
        "id": "QbMXAFOQChWD"
      },
      "source": [
        "## **Method #1: By Dictionary and declaring a new list as a column.**\n",
        "\n",
        "**Example 1.1:**\n",
        "\n",
        "Note that the length of your list should match the length of the index column; otherwise, it will show an error.\n",
        "import pandas as pd\n",
        "  \n",
        "\n",
        "\n"
      ]
    },
    {
      "cell_type": "code",
      "execution_count": null,
      "metadata": {
        "id": "v8TLWNGICsN9"
      },
      "outputs": [],
      "source": [
        "import pandas as pd\n",
        "# Define a dictionary containing Students data and their respective details\n",
        "data = {'Name': ['Jane', 'Princi', 'James', 'Fadi'],\n",
        "        'Height': [5.1, 6.2, 5.1, 5.2],\n",
        "        'Qualification': ['Msc', 'MA', 'Msc', 'Msc'],\n",
        "        'Score 1' : [56,86,77,45],\n",
        "        'Score 2' : [50,96,60,30]}\n",
        "\n",
        "# Convert the dictionary into DataFrame\n",
        "df = pd.DataFrame(data)\n",
        "print(\"------before -------\")\n",
        "print(df)\n",
        "\n",
        "\n",
        "# Declare a list that is to be converted into a column\n",
        "address = ['NYC', 'NJ', 'CA', 'PA']\n",
        "\n",
        "# Using 'Address' as the column name\n",
        "# and equating it to the list\n",
        "df['Address'] = address\n",
        "print(\"------after adding column -------\")\n",
        "# Observe the result\n",
        "print(df)"
      ]
    },
    {
      "cell_type": "markdown",
      "metadata": {
        "id": "BOElKH_2C1Em"
      },
      "source": [
        "**Example: 1.2**\n",
        "\n",
        "- You can apply basic arithmetic operations such as addition, subtraction, multiplication, and division to Pandas DataFrame objects the same way you would with NumPy arrays:\n",
        "\n",
        "- The below example adds a new column based on a calculation of the existing column.\n",
        "\n",
        "\n",
        "\n"
      ]
    },
    {
      "cell_type": "code",
      "execution_count": null,
      "metadata": {
        "id": "y5jVR6tACYmk"
      },
      "outputs": [],
      "source": [
        "# defining a dictionary containing Students data and their respective details\n",
        "data = {'Name': ['Jane', 'Princi', 'James', 'Fadi'],\n",
        "        'Height': [5.1, 6.2, 5.1, 5.2],\n",
        "        'Qualification': ['Msc', 'MA', 'Msc', 'Msc'],\n",
        "       'Score 1' : [56,86,77,45],\n",
        "           'Score 2' : [50,96,60,30]}\n",
        "\n",
        "# Convert the dictionary into DataFrame\n",
        "df = pd.DataFrame(data)\n",
        "print(\"------before -------\")\n",
        "print(df)\n",
        "print(\"------after adding column -------\")\n",
        "df['Total_Score'] = df['Score 1'] +  df['Score 2']\n",
        "\n",
        "print(df)"
      ]
    },
    {
      "cell_type": "markdown",
      "metadata": {
        "id": "BxF21f2qC8B2"
      },
      "source": [
        "**Example: 1.3**"
      ]
    },
    {
      "cell_type": "code",
      "execution_count": null,
      "metadata": {
        "id": "B-7M7OZwCN9K"
      },
      "outputs": [],
      "source": [
        "data = {'Name': ['Jane', 'Princi', 'James', 'Fadi'],\n",
        "        'Height': [5.1, 6.2, 5.1, 5.2],\n",
        "        'Qualification': ['Msc', 'MA', 'Msc', 'Msc'],\n",
        "       'Score 1' : [56,86,77,45],\n",
        "           'Score 2' : [50,96,60,30]}\n",
        "\n",
        "# Convert the dictionary into DataFrame\n",
        "df = pd.DataFrame(data)\n",
        "print(\"------before -------\")\n",
        "print(df)\n",
        "print(\"------after adding column -------\")\n",
        "#\n",
        "df['Total_Score'] = df['Score 1'] +  df['Score 2']\n",
        "df['Total_Score_average'] = df['Total_Score']/ 2\n",
        "print(df)\n",
        "df\n"
      ]
    },
    {
      "cell_type": "markdown",
      "metadata": {
        "id": "QJoGy2TnDB9k"
      },
      "source": [
        "**Example: 1.4**\n",
        "\n",
        "In the below example, we will rearrange columns and skip the height column.\n",
        "\n"
      ]
    },
    {
      "cell_type": "code",
      "execution_count": null,
      "metadata": {
        "id": "rACJ7X09DGWL"
      },
      "outputs": [],
      "source": [
        "data = {'Name': ['Jane', 'Princi', 'James', 'Fadi'],\n",
        "        'Height': [5.1, 6.2, 5.1, 5.2],\n",
        "        'Qualification': ['Msc', 'MA', 'Msc', 'Msc'],\n",
        "       'Score 1' : [56,86,77,45],\n",
        "       'Score 2' : [50,96,60,30]\n",
        "       }\n",
        "\n",
        "# Convert the dictionary into DataFrame\n",
        "df = pd.DataFrame(data,columns = ['Score 1','Score 2','Name', 'Qualification'  ])\n",
        "print(\"------before -------\")\n",
        "print(df)\n",
        "print(\"------after adding column -------\")\n",
        "\n",
        "df['Total_Score'] = df['Score 1'] +  df['Score 2']\n",
        "print(df)\n"
      ]
    },
    {
      "cell_type": "markdown",
      "metadata": {
        "id": "7yKWe7z2DM0s"
      },
      "source": [
        "Example 1.5\n"
      ]
    },
    {
      "cell_type": "code",
      "execution_count": null,
      "metadata": {
        "id": "4QxYGde7DN9A"
      },
      "outputs": [],
      "source": [
        "# importing pandas library\n",
        "import pandas as pd\n",
        "\n",
        "# creating and initializing a list\n",
        "values = [['Rohan', 455], ['Elvish', 250], ['John', 495],\n",
        "          ['Sai', 400], ['Eric', 350], ['Adam', 450]]\n",
        "\n",
        "# creating a pandas dataframe\n",
        "df = pd.DataFrame(values, columns=['Name', 'Univ_Marks'])\n",
        "\n",
        "# displaying the data frame\n",
        "\n",
        "print('Data frame before calculating percentage\\n')\n",
        "print(df)\n",
        "print('\\nData frame with Percentage Column\\n')\n",
        "\n",
        "# Creating new column Percentage derived from Univ_Marks\n",
        "df[\"Percentage\"] = df[\"Univ_Marks\"]/500*100\n",
        "\n",
        "# displaying the data frame\n",
        "print(df)\n",
        "\n",
        "\n",
        "\n"
      ]
    },
    {
      "cell_type": "markdown",
      "metadata": {
        "id": "fRIxQ59lDQqT"
      },
      "source": [
        "## **Method #2: By using DataFrame.insert() function**\n",
        "\n",
        "It gives the freedom to add a column at any position we like, and not just at the end. It also provides different options for inserting the column values.\n",
        "\n",
        "**Example 2.1**\n",
        "\n",
        "\n"
      ]
    },
    {
      "cell_type": "code",
      "execution_count": 4,
      "metadata": {
        "id": "-hINfql_DU7j"
      },
      "outputs": [
        {
          "name": "stdout",
          "output_type": "stream",
          "text": [
            "------before -------\n",
            "     Name  Height Qualification  Score 1  Score 2\n",
            "0    Jane     5.1           Msc       56       50\n",
            "1  Princi     6.2            MA       86       96\n",
            "2   James     5.1           Msc       77       60\n",
            "3    Fadi     5.2           Msc       45       30\n",
            "------after adding column -------\n",
            "     Name  Height  Age Qualification  Score 1  Score 2\n",
            "0    Jane     5.1   21           Msc       56       50\n",
            "1  Princi     6.2   23            MA       86       96\n",
            "2   James     5.1   24           Msc       77       60\n",
            "3    Fadi     5.2   21           Msc       45       30\n"
          ]
        }
      ],
      "source": [
        "# Import pandas package\n",
        "import pandas as pd\n",
        "\n",
        "# Define a dictionary containing Students data\n",
        "data = {'Name': ['Jane', 'Princi', 'James', 'Fadi'],\n",
        "        'Height': [5.1, 6.2, 5.1, 5.2],\n",
        "        'Qualification': ['Msc', 'MA', 'Msc', 'Msc'],\n",
        "       'Score 1' : [56,86,77,45],\n",
        "           'Score 2' : [50,96,60,30]}\n",
        "\n",
        "# Convert the dictionary into DataFrame\n",
        "df = pd.DataFrame(data)\n",
        "print(\"------before -------\")\n",
        "print(df)\n",
        "# Using DataFrame.insert() adding age column\n",
        "df.insert(2, \"Age\", [21, 23, 24, 21], True)\n",
        "print(\"------after adding column -------\")\n",
        "# Observe the result\n",
        "print(df)"
      ]
    },
    {
      "cell_type": "markdown",
      "metadata": {
        "id": "zDx49u9zDYWs"
      },
      "source": [
        "## **Method #3: Using Dataframe.assign() function**\n",
        "\n",
        "**Example 3.1**\n",
        "\n",
        "This method will create a new dataframe with a new column added to the old dataframe.\n",
        "\n"
      ]
    },
    {
      "cell_type": "code",
      "execution_count": null,
      "metadata": {
        "id": "yzL7cto-Dbje"
      },
      "outputs": [],
      "source": [
        "# Import pandas package\n",
        "import pandas as pd\n",
        "\n",
        "# Define a dictionary containing Students data\n",
        "data = {'Name': ['Jane', 'Princi', 'James', 'Fadi'],\n",
        "        'Height': [5.1, 6.2, 5.1, 5.2],\n",
        "        'Qualification': ['Msc', 'MA', 'Msc', 'Msc'],\n",
        "       'Score 1' : [56,86,77,45],\n",
        "           'Score 2' : [50,96,60,30]}\n",
        "\n",
        "print(\"------before -------\")\n",
        "\n",
        "# Convert the dictionary into DataFrame\n",
        "df = pd.DataFrame(data)\n",
        "print(df)\n",
        "print(\"------after adding column -------\")\n",
        "# using DataFrame.assign() method adding 'Address' as the column name and equating it to the list\n",
        "df = df.assign(address = ['NYC', 'NJ', 'CA', 'PA'])\n",
        "\n",
        "# Observe the result\n",
        "print(df)\n",
        "\n",
        "\n",
        "\n"
      ]
    },
    {
      "cell_type": "markdown",
      "metadata": {
        "id": "FnGJVf7pH6qh"
      },
      "source": [
        "##**Submission**\n",
        "- Submit your completed lab using the Start Assignment button on the assignment page in Canvas.\n",
        "- Your submission can be include:\n",
        "  - if you are using notebook then, all tasks should be written and submitted in a single notebook file, for example: (**your_name_labname.ipynb**).\n",
        "  - if you are using python script file, all tasks should be written and submitted in a single python script file for example: **(your_name_labname.py)**.\n",
        "- Add appropriate comments and any additional instructions if required.\n"
      ]
    },
    {
      "cell_type": "code",
      "execution_count": null,
      "metadata": {
        "id": "0Utnv3_xH5-C"
      },
      "outputs": [],
      "source": []
    }
  ],
  "metadata": {
    "colab": {
      "provenance": []
    },
    "kernelspec": {
      "display_name": ".venv",
      "language": "python",
      "name": "python3"
    },
    "language_info": {
      "codemirror_mode": {
        "name": "ipython",
        "version": 3
      },
      "file_extension": ".py",
      "mimetype": "text/x-python",
      "name": "python",
      "nbconvert_exporter": "python",
      "pygments_lexer": "ipython3",
      "version": "3.13.2"
    }
  },
  "nbformat": 4,
  "nbformat_minor": 0
}
