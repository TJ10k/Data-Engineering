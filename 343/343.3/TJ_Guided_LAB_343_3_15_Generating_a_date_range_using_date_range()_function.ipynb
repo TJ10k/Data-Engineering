{
  "nbformat": 4,
  "nbformat_minor": 0,
  "metadata": {
    "colab": {
      "provenance": []
    },
    "kernelspec": {
      "name": "python3",
      "display_name": "Python 3"
    },
    "language_info": {
      "name": "python"
    }
  },
  "cells": [
    {
      "cell_type": "markdown",
      "source": [
        "# **Guided Lab 343.3.15 - Generating a date range using date_range() function**"
      ],
      "metadata": {
        "id": "r869Prqz-dNq"
      }
    },
    {
      "cell_type": "markdown",
      "source": [
        "#**Lab Overview:**\n",
        " - In this lab, we will demonstrate several ways of generating a date range using **date_range()** function.  It covers various ways to define the date range, including:\n",
        "\n",
        "- **Specifying start and end dates:** This is the most basic way, generating dates between two given points.\n",
        "- **Using periods:** Instead of an end date, you can specify the number of periods (dates) to generate.\n",
        "- **Exploring frequencies:** The freq parameter allows for flexible date generation, such as daily, weekly, business days, or even custom intervals like every 6 minutes.\n",
        "\n",
        "\n",
        "#**Lab Objective:**\n",
        " By the end of this lab, you should be able to:\n",
        "\n",
        "- Generate date ranges in Python using date_range().\n",
        "- Utilize different frequency options for various scenarios.\n",
        "- Apply this knowledge to real-world data analysis tasks, like working with time series data."
      ],
      "metadata": {
        "id": "AbSt06EAQGY0"
      }
    },
    {
      "cell_type": "markdown",
      "source": [
        "**Syntax**\n",
        "\n",
        "```\n",
        "pandas.date_range(start=your_start_time,\n",
        "                  end=your_end_time,\n",
        "                 freq=your_time_intervals,\n",
        "                 periods=None,\n",
        "                 freq=None,\n",
        "                 tz=None,\n",
        "                 normalize=False,\n",
        "                 name=None,\n",
        "                 closed=None)\n",
        "```\n",
        "\n"
      ],
      "metadata": {
        "id": "Yxt2biJo--aD"
      }
    },
    {
      "cell_type": "markdown",
      "source": [
        "**Parameters:**\n",
        "\n",
        "- **start:** The start date of the date range. Can be a string, datetime, or\n",
        "Timestamp object. If not specified, it defaults to None.\n",
        "- **end:** The end date of the date range. Can be a string, datetime, or Timestamp object If not specified, it defaults to None.\n",
        "- **periods:** The number of periods to generate. If start and end are not provided, periods must be specified. The date range will be generated using equally spaced intervals between the start and end.\n",
        "- **freq:** The frequency of the date range. It can be a string or a DateOffset object, specifying the intervals between dates. Common values include ‘D’ for daily, ‘W’ for weekly, ‘M’ for monthly, ‘Y’ for yearly, etc.\n",
        "- **tz:** The time zone to be used for the date range.\n",
        "- **normalize:** If True, the date range will be normalized to midnight. If False, the date range will include the exactly specified time.\n",
        "- **name:** A name to assign to the generated DatetimeIndex.\n",
        "- **closed:** Specify which side of the date range interval should be closed (left, right, both, or neither)."
      ],
      "metadata": {
        "id": "VcHQTc5I_jxh"
      }
    },
    {
      "cell_type": "markdown",
      "source": [
        "## **Example 1: By specifying the start and end**\n",
        "\n",
        "Let's generate a range of dates from start to end with a by-default freq.\n",
        "\n",
        "\n"
      ],
      "metadata": {
        "id": "dWEz-b5WAIPi"
      }
    },
    {
      "cell_type": "code",
      "source": [
        "import pandas as pd\n",
        "dateRange = pd.date_range(start = \"07-01-2023\", end = \"07-31-2025\")\n",
        "dateRange\n"
      ],
      "metadata": {
        "id": "iAEmqYEiAKa6"
      },
      "execution_count": null,
      "outputs": []
    },
    {
      "cell_type": "markdown",
      "source": [
        "## **Example 2: Creating a date range with periods**\n",
        "\n",
        "The following example will generate a pandas DateTimeIndex containing 10 dates evenly spaced between January 1, 2023, and July 31, 2025."
      ],
      "metadata": {
        "id": "13rJhV99N3Zz"
      }
    },
    {
      "cell_type": "code",
      "source": [
        "pd.date_range(start='01-01-2023', end='07-31-2025', periods=10)"
      ],
      "metadata": {
        "id": "ua72DD6JNWEk"
      },
      "execution_count": null,
      "outputs": []
    },
    {
      "cell_type": "markdown",
      "source": [
        "#**Exploring different frequencies**"
      ],
      "metadata": {
        "id": "s7eaIWArCXtD"
      }
    },
    {
      "cell_type": "markdown",
      "source": [
        "Let's get creative and explore different frequency options. There are a ton of cool ones to use. Pandas actually gives you a ton of flexibility for business use cases as well."
      ],
      "metadata": {
        "id": "9QnuovJiCmQ6"
      }
    },
    {
      "cell_type": "markdown",
      "source": [
        "### **Example 2.1: By specifying start, end, and freq**\n",
        "In this example, we will generate a range of dates from start to end with a specified freq(date range in 6 minute intervals).\n",
        "\n",
        "Let's say you did not want to split your date range by day, but rather by 6 minutes.\n",
        "\n",
        "To do this you need to specify your 'freq' parameter and tell pandas to split your start/end times every 6 minutes.\n",
        "\n",
        ":"
      ],
      "metadata": {
        "id": "mT9BlyCGApZb"
      }
    },
    {
      "cell_type": "code",
      "source": [
        "dateRange = pd.date_range(start = \"01-01-2023\", end = \"07-31-2025\", freq =\"6T\")\n",
        "\n",
        "dateRange"
      ],
      "metadata": {
        "id": "NQca1JWhA1tB"
      },
      "execution_count": null,
      "outputs": []
    },
    {
      "cell_type": "markdown",
      "source": [
        "**Notice here we specified '6T' for my frequency. 'T' is the offset code for minutes. '6T' means 6-minutes. For a full list of frequency offsets check out the [pandas documentation](https://pandas.pydata.org/pandas-docs/stable/user_guide/timeseries.html#offset-aliases).**"
      ],
      "metadata": {
        "id": "iBFf9D3gBiaD"
      }
    },
    {
      "cell_type": "markdown",
      "source": [
        "### **Example 2.2: Business Day 'B':**\n",
        "**Notice how the weekends are taken out of the date range below**"
      ],
      "metadata": {
        "id": "Bqyt8msUCvL6"
      }
    },
    {
      "cell_type": "code",
      "source": [
        "pd.date_range(start = \"01-01-2023\", end = \"07-31-2025\", freq='B')"
      ],
      "metadata": {
        "id": "4PH7_IENC28a"
      },
      "execution_count": null,
      "outputs": []
    },
    {
      "cell_type": "markdown",
      "source": [
        "### **Example 2.3: Weekly 'W' - Cutting your date range into weeks**"
      ],
      "metadata": {
        "id": "HoY6bDB5DCiD"
      }
    },
    {
      "cell_type": "code",
      "source": [
        "pd.date_range(start = \"01-01-2023\", end = \"07-31-2025\", freq='W')"
      ],
      "metadata": {
        "id": "xr68F_ZmDM_q"
      },
      "execution_count": null,
      "outputs": []
    },
    {
      "cell_type": "markdown",
      "source": [
        "### **Example 2.4: By specifying start, periods, and freq**"
      ],
      "metadata": {
        "id": "iNIEnpLPL85z"
      }
    },
    {
      "cell_type": "markdown",
      "source": [
        "The following example will generate a range of dates from the start with a fixed number of periods and with the specified freq."
      ],
      "metadata": {
        "id": "5FqFh-PaB1xS"
      }
    },
    {
      "cell_type": "markdown",
      "source": [],
      "metadata": {
        "id": "oy3ttncRNVFy"
      }
    },
    {
      "cell_type": "code",
      "source": [
        "dateRange = pd.date_range(start =\"01-01-2023\", periods=6, freq =\"2M\")\n",
        "print(dateRange)"
      ],
      "metadata": {
        "id": "HqztQuJ9BzPq"
      },
      "execution_count": null,
      "outputs": []
    },
    {
      "cell_type": "markdown",
      "source": [
        "## **Example 3: By specifying start, periods and tz**\n",
        "This will generate a range of dates from the start with a fixed number of periods and with the specified timezone tz."
      ],
      "metadata": {
        "id": "JBfWRsL1MrLR"
      }
    },
    {
      "cell_type": "code",
      "source": [
        "dateRange = pd.date_range(start =\"01-01-2023\", periods=6, tz=\"Asia/Tokyo\")\n",
        "print(dateRange)"
      ],
      "metadata": {
        "id": "n-KYgixAMpCs"
      },
      "execution_count": null,
      "outputs": []
    },
    {
      "cell_type": "markdown",
      "source": [
        "# **Real - World Example - Representing stock prices over a specified period.**"
      ],
      "metadata": {
        "id": "91xoxRcoPuMK"
      }
    },
    {
      "cell_type": "markdown",
      "source": [
        "DataFrame representing stock prices over a specific period. You can use date_range() to generate a range of dates and build a DataFrame with random stock prices for each date."
      ],
      "metadata": {
        "id": "Dd-hKPHEPW3C"
      }
    },
    {
      "cell_type": "code",
      "source": [
        "import pandas as pd\n",
        "import numpy as np\n",
        "\n",
        "# Set a specific start date and number of periods (days)\n",
        "start_date = '2023-01-01'\n",
        "num_days = 30\n",
        "\n",
        "# Generate a date range\n",
        "date_range = pd.date_range(start=start_date, periods=num_days, freq='D')\n",
        "\n",
        "# Simulate stock prices for each date\n",
        "np.random.seed(42)\n",
        "stock_prices = np.random.normal(loc=100, scale=5, size=num_days).round(2)\n",
        "\n",
        "# Create a DataFrame\n",
        "stock_df = pd.DataFrame({'Date': date_range, 'StockPrice': stock_prices})\n",
        "\n",
        "# Display the DataFrame\n",
        "print(stock_df)\n"
      ],
      "metadata": {
        "id": "TITi9cb2PWLr"
      },
      "execution_count": null,
      "outputs": []
    },
    {
      "cell_type": "markdown",
      "source": [
        "In the above example:\n",
        "\n",
        "- We set a start date of '2023-01-01' and generate a date range for 30 days using pd.date_range() with a daily frequency ('D').\n",
        "- We use NumPy to simulate random stock prices for each date. The prices are generated from a normal distribution with a mean of 100 and a standard deviation of 5.\n",
        "- We create a DataFrame (stock_df) with two columns: 'Date' and 'StockPrice'.\n",
        "Finally, we display the resulting DataFrame."
      ],
      "metadata": {
        "id": "l1qGKXciPgnS"
      }
    },
    {
      "cell_type": "markdown",
      "source": [
        "# **Submission Instructions:**\n",
        "- Submit your completed lab using the Start Assignment button on the assignment page in Canvas.\n",
        "- Your submission can be include:\n",
        "  - if you are using notebook then, all tasks should be written and submitted in a single notebook file, for example: (**your_name_labname.ipynb**).\n",
        "  - if you are using python script file, all tasks should be written and submitted in a single python script file for example: **(your_name_labname.py)**.\n",
        "- Add appropriate comments and any additional instructions if required.\n"
      ],
      "metadata": {
        "id": "db805S5jL2fA"
      }
    }
  ]
}