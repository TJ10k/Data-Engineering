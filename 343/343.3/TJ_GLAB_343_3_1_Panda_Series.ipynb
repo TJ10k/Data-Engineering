{
  "cells": [
    {
      "cell_type": "markdown",
      "metadata": {
        "id": "GQIOPV1BrFH9"
      },
      "source": [
        "# **Guided Lab - 343.3.1 - Panda Series**\n",
        "\n",
        "\n",
        "\n",
        "**Lab Objective and Overview:**\n",
        "\n",
        "- In this lab, we will demonstrate the Panda Series data structure. The lab guides you through creating and manipulating Series using various methods. The Series is a fundamental component in data analysis with Pandas, offering a one-dimensional labeled array capable of holding various data types.\n",
        "\n",
        "- Each example provides a clear demonstration of a specific concept.\n",
        "\n",
        "**Key Topics**\n",
        "\n",
        "- **Series Creation:** Learn how to create Series using dictionaries, scalar values, and NumPy arrays.\n",
        "\n",
        "- **Indexing:** Understand how to select specific elements in a Series using labels.\n",
        "\n",
        "- **Handling Missing Data:** Work with NaN (Not a Number) values that represent missing data.\n",
        "\n",
        "**Learning Objective:**\n",
        "\n",
        "By the end of this lab, you will be able to:\n",
        "- Describe the concept of a Pandas Series.\n",
        "- Create a Series from a dictionary, scalar value, and ndarray.\n",
        "- Access and manipulate elements within a Series.\n",
        " - Utilize the Panda Series data structure.\n",
        "\n",
        "**Submission**\n",
        "- Submit your completed lab using the Start Assignment button on the assignment page in Canvas.\n",
        "- Your submission can be include:\n",
        "  - if you are using notebook then, all tasks should be written and submitted in a single notebook file, for example: (**your_name_labname.ipynb**).\n",
        "  - if you are using python script file, all tasks should be written and submitted in a single python script file for example: **(your_name_labname.py)**.\n",
        "- Add appropriate comments and any additional instructions if required.\n",
        "\n",
        "**Introduction:**\n",
        "\n",
        "Series is a one-dimensional labeled array capable of holding any data type (integers, strings, floating point numbers, Python objects, etc.). The axis labels are collectively referred to as the index. The basic method to create a Series is to call:\n",
        "\n",
        "### **`newSeries = pd.Series (data,index)`**\n",
        "\n",
        "Here, data can be many different things:\n",
        "\n",
        "- a Python dict.\n",
        "\n",
        "- an ndarray.\n",
        "- a scalar value (like 5).\n",
        "\n",
        "The passed index is a list of axis labels. Thus, this separates into a few cases depending on what data is:\n",
        "\n",
        "---\n",
        "## **Begin:**\n"
      ]
    },
    {
      "cell_type": "markdown",
      "metadata": {
        "id": "ylafHJKwriCc"
      },
      "source": [
        "## **Example 1: Creating Panda Series from Dictionary**\n",
        "\n",
        "Series can be instantiated from dicts:\n",
        "\n",
        "### **Example: 1.1**\n",
        "\n",
        "\n"
      ]
    },
    {
      "cell_type": "code",
      "execution_count": 2,
      "metadata": {
        "id": "3W_pWIvPq-z_"
      },
      "outputs": [
        {
          "data": {
            "text/plain": [
              "b      1\n",
              "a      0\n",
              "c      2\n",
              "d    100\n",
              "dtype: int64"
            ]
          },
          "execution_count": 2,
          "metadata": {},
          "output_type": "execute_result"
        }
      ],
      "source": [
        "import pandas as pd # import the pandas library as pd\n",
        "d = {\"b\": 1, \"a\": 0, \"c\": 2, \"d\":100} # dictionary of numbers\n",
        "pd.Series(d) # makes our dict a series "
      ]
    },
    {
      "cell_type": "markdown",
      "metadata": {
        "id": "2oxsGFHHrqfk"
      },
      "source": [
        "### **Example: 1.2**\n",
        "\n",
        "\n"
      ]
    },
    {
      "cell_type": "code",
      "execution_count": null,
      "metadata": {
        "id": "v8Jujrw2ruR6"
      },
      "outputs": [],
      "source": [
        "\n",
        "import pandas as pd\n",
        "d = {\"a\": 0.0, \"b\": 1.0, \"c\": 2.0}\n",
        "pd.Series(d)"
      ]
    },
    {
      "cell_type": "markdown",
      "metadata": {
        "id": "ZN4ReOHZrwOa"
      },
      "source": [
        "### **Example: 1.3**\n",
        "\n",
        "If an index is passed, the values in data corresponding to the labels in the index will be pulled out.\n",
        "\n",
        "\n",
        "\n"
      ]
    },
    {
      "cell_type": "code",
      "execution_count": null,
      "metadata": {
        "id": "WLitfCa_rxXq"
      },
      "outputs": [
        {
          "data": {
            "text/plain": [
              "b      1\n",
              "c      2\n",
              "d    100\n",
              "a      0\n",
              "dtype: int64"
            ]
          },
          "execution_count": 3,
          "metadata": {},
          "output_type": "execute_result"
        }
      ],
      "source": [
        "pd.Series(d, index=[\"b\", \"c\", \"d\", \"a\"]) "
      ]
    },
    {
      "cell_type": "markdown",
      "metadata": {
        "id": "e5XVHoDbr16y"
      },
      "source": [
        "**Note:** NaN (not a number) is the standard missing data marker used in pandas."
      ]
    },
    {
      "cell_type": "markdown",
      "metadata": {
        "id": "F1fFfeM-r5YC"
      },
      "source": [
        "##**Example 2: Key/Value Objects as Series**\n",
        "\n",
        "**Example 2.1**\n",
        "\n",
        "Note: The keys of the dictionary become the labels.\n"
      ]
    },
    {
      "cell_type": "code",
      "execution_count": null,
      "metadata": {
        "id": "2z_xIVjEr_WC"
      },
      "outputs": [],
      "source": [
        "import pandas as pd\n",
        "\n",
        "calories = {\"day1\": 420, \"day2\": 380, \"day3\": 390}\n",
        "\n",
        "myvar = pd.Series(calories)\n",
        "\n",
        "print(myvar)"
      ]
    },
    {
      "cell_type": "markdown",
      "metadata": {
        "id": "uxSpQpkssA_y"
      },
      "source": [
        "**Example 2.2**\n",
        "\n",
        "To select only some of the items in the dictionary, use the index argument and specify only the items you want to include in the Series.\n",
        "\n",
        "\n",
        "Create a Series using only data from \"day1\" and \"day2\":\n"
      ]
    },
    {
      "cell_type": "code",
      "execution_count": null,
      "metadata": {
        "id": "eKcDtIyDsMQW"
      },
      "outputs": [],
      "source": [
        "calories = {\"day1\": 420, \"day2\": 380, \"day3\": 390}\n",
        "myvar = pd.Series(calories, index = [\"day1\", \"day2\"])\n",
        "print(myvar)"
      ]
    },
    {
      "cell_type": "markdown",
      "metadata": {
        "id": "7yctY-03sTXM"
      },
      "source": [
        "**Example 3:  Creating Panda Series from Scalar Value**\n",
        "\n",
        "If data is a scalar value, an index must be provided. The value will be repeated to match the length of the index.\n",
        "\n",
        "\n"
      ]
    },
    {
      "cell_type": "code",
      "execution_count": null,
      "metadata": {
        "id": "DRpV9gC_sVPk"
      },
      "outputs": [],
      "source": [
        "pd.Series(5.0, index=[\"a\", \"b\", \"c\", \"d\", \"e\"])"
      ]
    },
    {
      "cell_type": "markdown",
      "metadata": {},
      "source": [
        " **TJs Example**\n",
        " \n",
        " In this example we will make a function to take a list, dictionary, or tuple and make it a series"
      ]
    },
    {
      "cell_type": "code",
      "execution_count": 1,
      "metadata": {},
      "outputs": [
        {
          "name": "stdout",
          "output_type": "stream",
          "text": [
            "0    1\n",
            "1    2\n",
            "2    3\n",
            "dtype: int64\n",
            "\n",
            "0    a\n",
            "1    b\n",
            "2    c\n",
            "dtype: object\n",
            "\n",
            "x    10\n",
            "y    20\n",
            "dtype: int64\n",
            "\n"
          ]
        }
      ],
      "source": [
        "import pandas as pd\n",
        "\n",
        "def make_series(data):\n",
        "    if isinstance(data, (list, tuple, dict)):\n",
        "        print(pd.Series(data), end=\"\\n\\n\")\n",
        "\n",
        "    else:\n",
        "        raise TypeError(\"Input must be a list, tuple, or dictionary.\")\n",
        "    \n",
        "my_list = [1, 2, 3]\n",
        "my_tuple = ('a', 'b', 'c')\n",
        "my_dict = {'x': 10, 'y': 20}\n",
        "\n",
        "\n",
        "make_series(my_list)\n",
        "make_series(my_tuple)\n",
        "make_series(my_dict)\n",
        "\n"
      ]
    }
  ],
  "metadata": {
    "colab": {
      "provenance": []
    },
    "kernelspec": {
      "display_name": ".venv",
      "language": "python",
      "name": "python3"
    },
    "language_info": {
      "codemirror_mode": {
        "name": "ipython",
        "version": 3
      },
      "file_extension": ".py",
      "mimetype": "text/x-python",
      "name": "python",
      "nbconvert_exporter": "python",
      "pygments_lexer": "ipython3",
      "version": "3.13.2"
    }
  },
  "nbformat": 4,
  "nbformat_minor": 0
}
