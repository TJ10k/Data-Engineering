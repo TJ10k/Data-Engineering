{
  "nbformat": 4,
  "nbformat_minor": 0,
  "metadata": {
    "colab": {
      "provenance": []
    },
    "kernelspec": {
      "name": "python3",
      "display_name": "Python 3"
    },
    "language_info": {
      "name": "python"
    }
  },
  "cells": [
    {
      "cell_type": "markdown",
      "source": [
        "# **Guided LAB - 343.4.6 - Pandas Grouping and Aggregate Functions**\n",
        "\n",
        "---\n",
        "\n"
      ],
      "metadata": {
        "id": "lTKJOk7d9yzP"
      }
    },
    {
      "cell_type": "markdown",
      "source": [
        "## **Lab Overview:**\n",
        "\n",
        "In this lab, we will demonstrate how to group by a single column, multiple columns by using aggregations.\n",
        "\n",
        "## ** Learning Objective**\n",
        "By the end of this lab, learners will be able to:-\n",
        "- Utilize the groupBy() function.\n",
        "- Combine aggregate functions with groupby() function for data manipulation.\n",
        "\n",
        "## **Dataset**\n",
        "**In this lab we will student_scores.csv dataset,[ Click here to download dataset.](https://drive.google.com/file/d/1GxvbD5kV6-zzrbDS3uXUlPtm14sSZkBc/view?usp=sharing)**"
      ],
      "metadata": {
        "id": "1fFJCYylwIk1"
      }
    },
    {
      "cell_type": "markdown",
      "source": [
        "## **Introduction:**\n",
        "\n",
        "Similar to the SQL GROUP BY clause pandas DataFrame.groupby() function is used to collect identical data into groups and perform aggregate functions on the grouped data. Group by operation involves splitting the data, applying some functions, and finally aggregating the results.\n",
        "\n",
        "In pandas, you can use groupby() with the combination of sum(), aggregate() and many more methods."
      ],
      "metadata": {
        "id": "REUh4aGI9Caz"
      }
    },
    {
      "cell_type": "markdown",
      "source": [
        "**Syntax of groupby() function**\n",
        "\n",
        "```\n",
        "pandas.groupby(by=column or index, axis=0, level=None, as_index=True, sort=True, group_keys=True,  observed=False, dropna=True)\n",
        "```\n",
        "\n",
        "- by – List of column names or index label to group by\n",
        "- axis – Default to 0. It takes 0 or ‘index’, 1 or ‘columns’\n",
        "- level – Used with MultiIndex.\n",
        "- as_index – sql style grouped output.\n",
        "- sort – Default to True. Specify whether to sort after group\n",
        "- group_keys – add group keys or not\n",
        "- observed – This only applies if any of the groupers are Categorical\n",
        "- dropna – Default false. True, and if group keys contain NA values, NA values together with row/column will be dropped. If False, NA values will also be treated as the key in groups.\n"
      ],
      "metadata": {
        "id": "rYzFGmdnwBH1"
      }
    },
    {
      "cell_type": "markdown",
      "source": [
        "#**Instruction:**\n",
        "In order to explain several examples of how to perform group by, first, let’s import student_score.csv file for dataset into Pandas"
      ],
      "metadata": {
        "id": "TKN0K3hn_ytZ"
      }
    },
    {
      "cell_type": "code",
      "execution_count": null,
      "metadata": {
        "id": "AhFpuyUcvkR4"
      },
      "outputs": [],
      "source": [
        "import pandas as pd\n",
        "df = pd.read_csv(\"student_scores.csv\", header=0)\n",
        "df"
      ]
    },
    {
      "cell_type": "code",
      "source": [
        "df.shape"
      ],
      "metadata": {
        "id": "rG6qye5u5ls_"
      },
      "execution_count": null,
      "outputs": []
    },
    {
      "cell_type": "code",
      "source": [
        "df.describe()"
      ],
      "metadata": {
        "id": "u0Fr54vq5qdW"
      },
      "execution_count": null,
      "outputs": []
    },
    {
      "cell_type": "code",
      "source": [
        "df.info"
      ],
      "metadata": {
        "id": "rclWz_sW50H2"
      },
      "execution_count": null,
      "outputs": []
    },
    {
      "cell_type": "markdown",
      "source": [
        "# **Split Data into Groups**\n",
        "\n",
        "- The **by** parameter can accept one column or multiple columns.\n",
        "- Pandas object can be split into a group in many ways. A **groups** attribute is used to list group data.\n",
        "\n",
        "\n"
      ],
      "metadata": {
        "id": "xbF2QRN2xLvG"
      }
    },
    {
      "cell_type": "markdown",
      "source": [
        "### **Example: Groupby using single column – It makes the group by using a single column.**"
      ],
      "metadata": {
        "id": "_LP-sEVY0bOY"
      }
    },
    {
      "cell_type": "code",
      "source": [
        "item_group = df.groupby('first_name')\n",
        "item_group.groups"
      ],
      "metadata": {
        "id": "5zlaXBfHv28n"
      },
      "execution_count": null,
      "outputs": []
    },
    {
      "cell_type": "markdown",
      "source": [
        "### **Example: Groupby using multiple columns – It forms the group by using multiple columns.**"
      ],
      "metadata": {
        "id": "Doojea4hz7Xl"
      }
    },
    {
      "cell_type": "code",
      "source": [
        "Groupby_MultipleColumns = df.groupby([\"first_name\", \"last_name\"])\n",
        "Groupby_MultipleColumns.groups"
      ],
      "metadata": {
        "id": "l00J6MNAxgZX"
      },
      "execution_count": null,
      "outputs": []
    },
    {
      "cell_type": "markdown",
      "source": [
        "### **Example: Iterating through Groups**\n",
        "You can also print the group elements by iterating through groups using for loop."
      ],
      "metadata": {
        "id": "---uT1qS1JFN"
      }
    },
    {
      "cell_type": "code",
      "source": [
        "for name,group in item_group:\n",
        "    print('{}:'.format(name))\n",
        "    print(group)"
      ],
      "metadata": {
        "id": "y3NYXI0k1DY_"
      },
      "execution_count": null,
      "outputs": []
    },
    {
      "cell_type": "markdown",
      "source": [
        "### **Example: Selecting a Group**\n",
        "The **get_group()** method is used to select a particular group."
      ],
      "metadata": {
        "id": "m9n_9Z6R1ZNl"
      }
    },
    {
      "cell_type": "code",
      "source": [
        "item_group = df.groupby('Subject')\n",
        "#item_group.groups\n",
        "item_group.get_group('Calculus')"
      ],
      "metadata": {
        "id": "W5Zll3-m1h1-"
      },
      "execution_count": null,
      "outputs": []
    },
    {
      "cell_type": "markdown",
      "source": [
        "### **Example: Groupby – Aggregations**"
      ],
      "metadata": {
        "id": "QUKWAfN12Z5W"
      }
    },
    {
      "cell_type": "markdown",
      "source": [
        "You can use aggregation function such as mean, sum, etc to get the aggregate value of each group. Aggregation functions are used once the group by object is created.\n",
        "\n",
        "Let’s calculate the average score of each Subject."
      ],
      "metadata": {
        "id": "miZbq_R32eZm"
      }
    },
    {
      "cell_type": "code",
      "source": [
        "# Directly using mean() function\n",
        "agg_group_subject = df.groupby('Subject')['score'].mean()\n",
        "agg_group_subject"
      ],
      "metadata": {
        "id": "98_R7HO82Wm-"
      },
      "execution_count": null,
      "outputs": []
    },
    {
      "cell_type": "markdown",
      "source": [
        "## **Alternativily**: the below line will give the same output.\n"
      ],
      "metadata": {
        "id": "ru0PEjafhrB8"
      }
    },
    {
      "cell_type": "code",
      "source": [
        "agg_group_subject = df.groupby('Subject')['score'].aggregate('mean')\n",
        "agg_group_subject"
      ],
      "metadata": {
        "id": "fZxMLlqVhY2i"
      },
      "execution_count": null,
      "outputs": []
    },
    {
      "cell_type": "markdown",
      "source": [
        "Let’s calculate the average score of each Student."
      ],
      "metadata": {
        "id": "iyv1sgT23mxG"
      }
    },
    {
      "cell_type": "code",
      "source": [
        "import numpy as np\n",
        "agg_group_stu = df.groupby([\"first_name\", \"last_name\"])['score'].mean()\n",
        "print(agg_group_stu)"
      ],
      "metadata": {
        "id": "hMYG1vWp3dQ2"
      },
      "execution_count": null,
      "outputs": []
    },
    {
      "cell_type": "markdown",
      "source": [
        "## **Alternativily: the below line will give the same output.**"
      ],
      "metadata": {
        "id": "s3pBdbCziRwq"
      }
    },
    {
      "cell_type": "code",
      "source": [
        "agg_group_stu = df.groupby([\"first_name\", \"last_name\"])['score'].aggregate('mean')\n",
        "print(agg_group_stu)"
      ],
      "metadata": {
        "id": "09W1-ycSh9bc"
      },
      "execution_count": null,
      "outputs": []
    },
    {
      "cell_type": "markdown",
      "source": [
        "### **Example: Aggregation group for Multiple columns:**\n",
        "You can make groups for aggregation value by using multiple columns\n",
        "\n",
        "Let’s calculate the average and total score of each student."
      ],
      "metadata": {
        "id": "sVNXWkqV2uwe"
      }
    },
    {
      "cell_type": "code",
      "source": [
        "import numpy as np\n",
        "agg_group = df.groupby([\"first_name\", \"last_name\"])['score'].aggregate([np.mean,np.sum])\n",
        "print(agg_group)"
      ],
      "metadata": {
        "id": "XNPyaZxn2t9B"
      },
      "execution_count": null,
      "outputs": []
    },
    {
      "cell_type": "markdown",
      "source": [
        "### **Example: Lets count the number of students**"
      ],
      "metadata": {
        "id": "h1BZ28aF4Mav"
      }
    },
    {
      "cell_type": "code",
      "source": [
        "agg_group_count = df.groupby([\"first_name\", \"last_name\"])[\"id\"].count()\n",
        "\n",
        "agg_group_count"
      ],
      "metadata": {
        "id": "ITsH-G0K374e"
      },
      "execution_count": null,
      "outputs": []
    },
    {
      "cell_type": "markdown",
      "source": [
        "### **Exmaple: Find the highest score of the each Student**"
      ],
      "metadata": {
        "id": "JTsySJNq8caW"
      }
    },
    {
      "cell_type": "code",
      "source": [
        "df.groupby([\"first_name\", \"last_name\"]).max()"
      ],
      "metadata": {
        "id": "bjXZ9Os67_yn"
      },
      "execution_count": null,
      "outputs": []
    },
    {
      "cell_type": "markdown",
      "source": [
        "### **Example: Find the lowest score of the each Student**"
      ],
      "metadata": {
        "id": "DtEZml3K8mHe"
      }
    },
    {
      "cell_type": "code",
      "source": [
        "df.groupby([\"first_name\", \"last_name\"]).min()"
      ],
      "metadata": {
        "id": "u9r6wfnN8Vg1"
      },
      "execution_count": null,
      "outputs": []
    },
    {
      "cell_type": "markdown",
      "source": [
        "\n",
        "##**Submission Instructions**\n",
        "- Submit your completed lab using the Start Assignment button on the assignment page in Canvas.\n",
        "- Your submission can be include:\n",
        "  - if you are using notebook then, all tasks should be written and submitted in a single notebook file, for example: (**your_name_labname.ipynb**).\n",
        "  - if you are using python script file, all tasks should be written and submitted in a single python script file for example: **(your_name_labname.py)**.\n",
        "- Add appropriate comments and any additional instructions if required.\n"
      ],
      "metadata": {
        "id": "ZHkOa-odaliM"
      }
    }
  ]
}