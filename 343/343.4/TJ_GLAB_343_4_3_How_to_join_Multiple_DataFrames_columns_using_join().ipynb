{
  "nbformat": 4,
  "nbformat_minor": 0,
  "metadata": {
    "colab": {
      "provenance": []
    },
    "kernelspec": {
      "name": "python3",
      "display_name": "Python 3"
    },
    "language_info": {
      "name": "python"
    }
  },
  "cells": [
    {
      "cell_type": "markdown",
      "source": [
        "#**Guided Lab - 343.4.3 - How to join Multiple DataFrames using join()Function**\n",
        "\n",
        "---\n",
        "\n"
      ],
      "metadata": {
        "id": "qS8jxD_RUkno"
      }
    },
    {
      "cell_type": "markdown",
      "source": [
        "##**Lab Overview:**\n",
        "In this lab, you will learne, how to join Pandas DataFrames using the join() function.\n",
        "\n",
        "This lab aims to equip you with the knowledge and skills to join Pandas DataFrames using the `join()` function in Python. You will learn how to perform various types of joins, including left, inner, and right joins, based on row indexes and columns.\n",
        "\n",
        "##**Key Concepts:**\n",
        "\n",
        "* **`join()` Function:** This function is central to merging DataFrames in pandas. By default, it performs a left join on row indexes.\n",
        "\n",
        "\n",
        "* **Join Types:**\n",
        "    * **Left Join:** Returns all rows from the left DataFrame and the matching rows from the right DataFrame.\n",
        "    * **Inner Join:** Returns only the rows with matching indexes in both DataFrames.\n",
        "    * **Right Join:** Returns all rows from the right DataFrame and the matching rows from the left DataFrame.\n",
        "* **Joining on Columns:** You can specify columns for joining using the `on` parameter or by setting the desired column as the index.\n",
        "* **Suffixes:** When DataFrames have overlapping column names, you can use `lsuffix` and `rsuffix` to differentiate them.\n",
        "\n",
        "\n",
        "\n",
        "##**Learning Objective:**\n",
        "By the end of this lab, learners will be able to:\n",
        "* Describe the syntax and functionality of the `join()` function.\n",
        "* Perform various types of joins on DataFrames.\n",
        "* Join DataFrames based on both indexes and columns.\n",
        "* Handle overlapping column names during joins.\n",
        "- join multiple pandas Data frames by using join() function."
      ],
      "metadata": {
        "id": "mYL_BoL2Ts9C"
      }
    },
    {
      "cell_type": "markdown",
      "source": [
        "## **Introduction:**\n",
        "\n",
        "In Python, we can easily join Pandas DataFrames using the join() function. This will join the columns of the two DataFrames with different indexes.\n",
        "\n",
        "### Syntax of pandas.DataFrame.join() method\n",
        "`DataFrame.join(other, on=None, how='left', lsuffix='', rsuffix='', sort=False)`\n",
        "\n",
        "**How to join Multiple DataFrames using join() function**\n",
        "- By default, .join() will attempt to do a left join on indices. If you want to join on columns like you would with merge(), then you’ll need to set the columns as indices.\n",
        "- on – Specify which index you want to join on when you have multiple indexes.\n",
        "-how – Use to specify the join type. Accepts inner, left, right, outer\n",
        "\n",
        "- other - is the only required parameter. It defines the other DataFrame to join. You can also specify a list of DataFrames here, allowing you to combine a number of datasets in a single .join() call.\n",
        "\n",
        "- on - specifies an optional column or index name for the left DataFrame (climate_temp in the previous example) to join the other DataFrame’s index. If it’s set to None, which is the default, then you’ll get an index-on-index join.\n",
        "\n",
        "- how has the same options as how from merge(). The difference is that it’s index-based unless you also specify columns with on.\n",
        "- lsuffix – Specify the left suffix string to column names\n",
        "- rsuffix – Specify the right suffix string to column names\n",
        "\n",
        "- lsuffix and rsuffix are similar to suffixes in merge(). They specify a suffix to add to any overlapping columns but have no effect when passing a list of other DataFrames.\n",
        "\n",
        "- sort - can be enabled to sort the resulting DataFrame by the join key.\n",
        "---\n",
        "## **Begin**"
      ],
      "metadata": {
        "id": "UDiUj_0MR8SB"
      }
    },
    {
      "cell_type": "markdown",
      "source": [
        "**Let’s create two DataFrames to understand pandas join**."
      ],
      "metadata": {
        "id": "Gw6cMHElRQ-z"
      }
    },
    {
      "cell_type": "code",
      "execution_count": null,
      "metadata": {
        "colab": {
          "base_uri": "https://localhost:8080/"
        },
        "id": "e9Chs808QsBH",
        "outputId": "3f9c6955-f6b3-49bf-b285-bffe440a61db"
      },
      "outputs": [
        {
          "output_type": "stream",
          "name": "stdout",
          "text": [
            "First DataFrame:\n",
            "     Courses    Fee Duration\n",
            "r1    Spark  20000   30days\n",
            "r2  PySpark  25000   40days\n",
            "r3   Python  22000   35days\n",
            "r4   pandas  30000   50days\n",
            "Second DataFRame:\n",
            "    Courses  Discount\n",
            "r1   Spark      2000\n",
            "r6    Java      2300\n",
            "r3  Python      1200\n",
            "r5      Go      2000\n"
          ]
        }
      ],
      "source": [
        "import pandas as pd\n",
        "technologies = {\n",
        "    'Courses':[\"Spark\",\"PySpark\",\"Python\",\"pandas\"],\n",
        "    'Fee' :[20000,25000,22000,30000],\n",
        "    'Duration':['30days','40days','35days','50days'],\n",
        "              }\n",
        "index_labels=['r1','r2','r3','r4']\n",
        "df1 = pd.DataFrame(technologies,index=index_labels)\n",
        "print(\"First DataFrame:\\n\", df1)\n",
        "technologies2 = {\n",
        "    'Courses':[\"Spark\",\"Java\",\"Python\",\"Go\"],\n",
        "    'Discount':[2000,2300,1200,2000]\n",
        "              }\n",
        "index_labels2=['r1','r6','r3','r5']\n",
        "df2 = pd.DataFrame(technologies2,index=index_labels2)\n",
        "print(\"Second DataFRame:\\n\", df2)"
      ]
    },
    {
      "cell_type": "markdown",
      "source": [
        "Now, perform the default join operation. Since we have a common column Courses on both DataFrames we have to specify the lsuffix (left suffix) or rsuffix (right suffix) param, not specifying these you will get an error."
      ],
      "metadata": {
        "id": "Y43xELTYRflh"
      }
    },
    {
      "cell_type": "code",
      "source": [
        "# Pandas join\n",
        "df3=df1.join(df2, lsuffix=\"_left\", rsuffix=\"_right\")\n",
        "print(\"After joining two DataFrames:\\n\", df3)\n"
      ],
      "metadata": {
        "colab": {
          "base_uri": "https://localhost:8080/"
        },
        "id": "ovtOiW7GRgMh",
        "outputId": "0a386b1b-14ff-4562-b1a1-83d687524e38"
      },
      "execution_count": null,
      "outputs": [
        {
          "output_type": "stream",
          "name": "stdout",
          "text": [
            "After joining two DataFrames:\n",
            "    Courses_left    Fee Duration Courses_right  Discount\n",
            "r1        Spark  20000   30days         Spark    2000.0\n",
            "r2      PySpark  25000   40days           NaN       NaN\n",
            "r3       Python  22000   35days        Python    1200.0\n",
            "r4       pandas  30000   50days           NaN       NaN\n"
          ]
        }
      ]
    },
    {
      "cell_type": "markdown",
      "source": [
        "Yields above output. As specified by default it uses left join and performs join on the row index."
      ],
      "metadata": {
        "id": "D9H6SXC9S7zi"
      }
    },
    {
      "cell_type": "code",
      "source": [
        "\n",
        "df3.shape"
      ],
      "metadata": {
        "colab": {
          "base_uri": "https://localhost:8080/"
        },
        "id": "kTEt1gR-SWET",
        "outputId": "7821a1b7-1c5b-44e0-9823-97846a22e8bc"
      },
      "execution_count": null,
      "outputs": [
        {
          "output_type": "execute_result",
          "data": {
            "text/plain": [
              "(4, 5)"
            ]
          },
          "metadata": {},
          "execution_count": 21
        }
      ]
    },
    {
      "cell_type": "markdown",
      "source": [
        "# **Inner Join DataFrames**\n",
        "\n",
        "Pandas inner join is mostly used join, It is used to join two DataFrames on indexes. When indexes don’t match the rows get dropped from both DataFrames."
      ],
      "metadata": {
        "id": "ob7LmJG-TDlY"
      }
    },
    {
      "cell_type": "code",
      "source": [
        "# Pandas Inner join DataFrames\n",
        "df3=df1.join(df2, lsuffix=\"_left\", rsuffix=\"_right\", how='inner')\n",
        "print(df3)"
      ],
      "metadata": {
        "colab": {
          "base_uri": "https://localhost:8080/"
        },
        "id": "FzG-Mf6HRVGR",
        "outputId": "50d34163-803c-45de-d5b5-4b107c081c1e"
      },
      "execution_count": null,
      "outputs": [
        {
          "output_type": "stream",
          "name": "stdout",
          "text": [
            "   Courses_left    Fee Duration Courses_right  Discount\n",
            "r1        Spark  20000   30days         Spark      2000\n",
            "r3       Python  22000   35days        Python      1200\n"
          ]
        }
      ]
    },
    {
      "cell_type": "markdown",
      "source": [
        "When we apply Inner join on our DataFrames, It drops DataFrame rows with indexes r2 and r4 from left DataFrame and drops indexes r5 and r6 from right DataFrame as these don’t have matches."
      ],
      "metadata": {
        "id": "gOEOmgeDTNjw"
      }
    },
    {
      "cell_type": "markdown",
      "source": [
        "## **Right Join DataFrames**\n",
        "\n",
        " Also called Right Outer Join – This join is the opposite of left join, here it returns all rows from the right DataFrame regardless of math found on the left. When the join expression doesn’t match, it assigns null for that record and drops records from left where match not found.\n",
        "\n"
      ],
      "metadata": {
        "id": "zO1qTtLSTPyQ"
      }
    },
    {
      "cell_type": "code",
      "source": [
        "# Pandas Right join DataFrames\n",
        "df3=df1.join(df2, lsuffix=\"_left\", rsuffix=\"_right\", how='right')\n",
        "print(df3)"
      ],
      "metadata": {
        "colab": {
          "base_uri": "https://localhost:8080/"
        },
        "id": "TC0gZoSyTTUM",
        "outputId": "b6d19c52-2828-47ed-8da4-09dfe328c2be"
      },
      "execution_count": null,
      "outputs": [
        {
          "output_type": "stream",
          "name": "stdout",
          "text": [
            "   Courses_left      Fee Duration Courses_right  Discount\n",
            "r1        Spark  20000.0   30days         Spark      2000\n",
            "r6          NaN      NaN      NaN          Java      2300\n",
            "r3       Python  22000.0   35days        Python      1200\n",
            "r5          NaN      NaN      NaN            Go      2000\n"
          ]
        }
      ]
    },
    {
      "cell_type": "markdown",
      "source": [
        "When we apply right join on our DataFrames, It gets all rows from right DataFrame but it assigns NaN to left DataFrame columns for rows that don’t have the match on right DataFrame."
      ],
      "metadata": {
        "id": "M3JLM1omTV1B"
      }
    },
    {
      "cell_type": "markdown",
      "source": [
        "##**Pandas Join on Column**\n",
        "\n",
        "In case, if you want to join on columns, use pandas.merge() method or set the column you wanted to join on to Index and use it. The below example demonstrates how to set the column to Index in pandas and use it for joining. df1.set_index(‘Courses’) is used to convert the column to an index."
      ],
      "metadata": {
        "id": "1143L2LtTZUA"
      }
    },
    {
      "cell_type": "code",
      "source": [
        "# Pandas join on columns\n",
        "df3=df1.set_index('Courses').join(df2.set_index('Courses'), how='inner')\n",
        "print(df3)\n"
      ],
      "metadata": {
        "colab": {
          "base_uri": "https://localhost:8080/"
        },
        "id": "g69sqr5dTYw4",
        "outputId": "51ebd184-f9ea-4729-ad70-bdc702bc1e57"
      },
      "execution_count": null,
      "outputs": [
        {
          "output_type": "stream",
          "name": "stdout",
          "text": [
            "           Fee Duration  Discount\n",
            "Courses                          \n",
            "Spark    20000   30days      2000\n",
            "Python   22000   35days      1200\n"
          ]
        }
      ]
    },
    {
      "cell_type": "markdown",
      "source": [
        "**You can also try the below example where it persists the original index**"
      ],
      "metadata": {
        "id": "qw_sc15ITZBI"
      }
    },
    {
      "cell_type": "code",
      "source": [
        "# Pandas join\n",
        "df3=df1.join(df2.set_index('Courses'), how='inner', on='Courses')\n",
        "print(df3)"
      ],
      "metadata": {
        "colab": {
          "base_uri": "https://localhost:8080/"
        },
        "id": "68cUOmdPTpxB",
        "outputId": "d1a67002-ce4e-4557-9004-1a0836e62997"
      },
      "execution_count": null,
      "outputs": [
        {
          "output_type": "stream",
          "name": "stdout",
          "text": [
            "   Courses    Fee Duration  Discount\n",
            "r1   Spark  20000   30days      2000\n",
            "r3  Python  22000   35days      1200\n"
          ]
        }
      ]
    },
    {
      "cell_type": "markdown",
      "source": [
        "\n",
        "##**Submission Instructions**\n",
        "- Submit your completed lab using the Start Assignment button on the assignment page in Canvas.\n",
        "- Your submission can be include:\n",
        "  - if you are using notebook then, all tasks should be written and submitted in a single notebook file, for example: (**your_name_labname.ipynb**).\n",
        "  - if you are using python script file, all tasks should be written and submitted in a single python script file for example: **(your_name_labname.py)**.\n",
        "- Add appropriate comments and any additional instructions if required.\n"
      ],
      "metadata": {
        "id": "ULW7yM4UVWEV"
      }
    }
  ]
}