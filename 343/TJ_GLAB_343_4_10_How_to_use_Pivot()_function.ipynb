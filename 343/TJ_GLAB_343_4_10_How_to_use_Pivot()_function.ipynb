{
  "nbformat": 4,
  "nbformat_minor": 0,
  "metadata": {
    "colab": {
      "provenance": []
    },
    "kernelspec": {
      "name": "python3",
      "display_name": "Python 3"
    },
    "language_info": {
      "name": "python"
    }
  },
  "cells": [
    {
      "cell_type": "markdown",
      "source": [
        "# **Guided Lab - How to use Pivot() function**"
      ],
      "metadata": {
        "id": "9hkm8QI289X3"
      }
    },
    {
      "cell_type": "markdown",
      "source": [
        "## **Lab Overview**\n",
        "\n",
        "This lab will guide you through the process of using the `pivot()` function in Pandas to reshape and analyze data efficiently. We will apply the `pivot()` function to real-world scenarios, such as financial portfolio analysis.\n",
        "\n",
        "\n",
        "\n",
        "## **Learning Objective:**\n",
        "\n",
        "By completing this learning object, learners wil be able to:\n",
        "* Describe the syntax and functionality of the `pivot()` function in Pandas.\n",
        "* Learn how to use the `pivot()` function to reshape data for analysis.\n",
        "* Apply the `pivot()` function to real-world scenarios, such as financial portfolio analysis.\n"
      ],
      "metadata": {
        "id": "1s4B2CpdAfIQ"
      }
    },
    {
      "cell_type": "markdown",
      "source": [
        "##**Example One:**\n",
        "Consider the following DataFrame:"
      ],
      "metadata": {
        "id": "mk6hBrzX2Fwx"
      }
    },
    {
      "cell_type": "code",
      "execution_count": null,
      "metadata": {
        "colab": {
          "base_uri": "https://localhost:8080/"
        },
        "id": "AA8mzcyD1hBU",
        "outputId": "a86a13dc-f6bc-4b4f-da7a-71fb3c1c6579"
      },
      "outputs": [
        {
          "output_type": "stream",
          "name": "stdout",
          "text": [
            "         Date Category  Value\n",
            "0  2022-01-01        A     10\n",
            "1  2022-01-01        B     20\n",
            "2  2022-01-02        A     15\n",
            "3  2022-01-02        B     25\n"
          ]
        }
      ],
      "source": [
        "import pandas as pd\n",
        "\n",
        "data = {\n",
        "    'Date': ['2022-01-01', '2022-01-01', '2022-01-02', '2022-01-02'],\n",
        "    'Category': ['A', 'B', 'A', 'B'],\n",
        "    'Value': [10, 20, 15, 25]\n",
        "}\n",
        "\n",
        "df = pd.DataFrame(data)\n",
        "print(df)\n"
      ]
    },
    {
      "cell_type": "markdown",
      "source": [
        "Now, let's use the pivot method:"
      ],
      "metadata": {
        "id": "orMtHUcR2NEI"
      }
    },
    {
      "cell_type": "code",
      "source": [
        "pivot_df = df.pivot(index='Date', columns='Category', values='Value')\n",
        "print(pivot_df)\n"
      ],
      "metadata": {
        "colab": {
          "base_uri": "https://localhost:8080/"
        },
        "id": "Iv7AISAo2OuX",
        "outputId": "6209a1d6-9ee0-4638-f1cb-a822abad1cac"
      },
      "execution_count": null,
      "outputs": [
        {
          "output_type": "stream",
          "name": "stdout",
          "text": [
            "Category     A   B\n",
            "Date              \n",
            "2022-01-01  10  20\n",
            "2022-01-02  15  25\n"
          ]
        }
      ]
    },
    {
      "cell_type": "markdown",
      "source": [
        "In the above example, the pivot() function transformed the original DataFrame into a new DataFrame where the unique values in the 'Date' column became the index, the unique values in the 'Category' column became the columns, and the 'Value' column provided the values for the new DataFrame."
      ],
      "metadata": {
        "id": "NyziWpIZ2RfP"
      }
    },
    {
      "cell_type": "markdown",
      "source": [
        "**Note:**\n",
        "If there are multiple rows for a unique combination of index and columns, you may need to use the pivot_table method, which allows you to specify an aggregation function to handle duplicate values.\n",
        "\n",
        "The pivot() function is a specialized form of the more general pivot_table method. pivot_table provides additional flexibility and functionality for handling duplicate values and aggregations."
      ],
      "metadata": {
        "id": "BYCu_QEm2Y1n"
      }
    },
    {
      "cell_type": "markdown",
      "source": [
        "##**Example Two:**\n",
        "Consider the following DataFrame:"
      ],
      "metadata": {
        "id": "1-p8Awlp2jXg"
      }
    },
    {
      "cell_type": "code",
      "source": [
        "import pandas as pd\n",
        "\n",
        "data = {'Name': ['Alice', 'Bob', 'Alice', 'Charlie'],\n",
        "        'Fruit': ['Apple', 'Banana', 'Orange', 'Apple'],\n",
        "        'Quantity': [3, 2, 1, 4]}\n",
        "\n",
        "df = pd.DataFrame(data)\n",
        "df"
      ],
      "metadata": {
        "id": "367iaSqk2jfn"
      },
      "execution_count": null,
      "outputs": []
    },
    {
      "cell_type": "code",
      "source": [
        "pivoted_df = df.pivot(index='Name', columns='Fruit', values='Quantity')\n",
        "print(pivoted_df)"
      ],
      "metadata": {
        "id": "D77Nikr-2pcf"
      },
      "execution_count": null,
      "outputs": []
    },
    {
      "cell_type": "markdown",
      "source": [
        "##**Example Three:**\n",
        "\n",
        "Consider the following DataFrame:"
      ],
      "metadata": {
        "id": "Jp9JZhza_IT_"
      }
    },
    {
      "cell_type": "code",
      "source": [
        "df = pd.DataFrame({ 'course': ['CS2e1', 'C5201', 'CS201','DE659', 'DE659', 'DE659'],\n",
        "                   'batch': [1, 2, 3, 1, 2, 3],\n",
        "                    'instructor': ['xaviel', 'young', 'zachary','carla','wendy', 'allen'],\n",
        "                    'grade': [88.7, 92, 95.2, 78.3, 96, 92.5]\n",
        "                    }\n",
        "                  )\n",
        "# Display the original DataFrame\n",
        "print(\"Original DataFrame:\")\n",
        "print(df)"
      ],
      "metadata": {
        "id": "vXVYKv2t9Rz-"
      },
      "execution_count": null,
      "outputs": []
    },
    {
      "cell_type": "markdown",
      "source": [
        "**3.1 - The following line, pivots the DataFrame to show grades for each course within each batch.**\n",
        "\n"
      ],
      "metadata": {
        "id": "et1__7sg-TEn"
      }
    },
    {
      "cell_type": "code",
      "source": [
        "#  Pivot for Grades by Course and Batch:\n",
        "df.pivot(index='batch', columns='course', values='grade')"
      ],
      "metadata": {
        "id": "gLq8NOHz9tBR"
      },
      "execution_count": null,
      "outputs": []
    },
    {
      "cell_type": "markdown",
      "source": [
        "The above line uses the pivot() method to reshape the DataFrame based on the 'batch', 'course', and 'grade' columns. The resulting DataFrame will have 'batch' as the index, 'course' as columns, and 'grade' as values."
      ],
      "metadata": {
        "id": "ncljUTmx-2z2"
      }
    },
    {
      "cell_type": "markdown",
      "source": [
        "**3.2 - The following line,  pivots to show instructors for each course within each batch.**"
      ],
      "metadata": {
        "id": "zle1URDB-sKJ"
      }
    },
    {
      "cell_type": "code",
      "source": [
        "#Pivot for Instructors by Course and Batch:\n",
        "df.pivot(index= 'course', columns='batch', values='instructor')"
      ],
      "metadata": {
        "id": "0MBNw63593TG"
      },
      "execution_count": null,
      "outputs": []
    },
    {
      "cell_type": "markdown",
      "source": [
        "The above line uses the pivot() method to reshape the DataFrame based on the 'course', 'batch', and 'instructor' columns. The resulting DataFrame will have 'course' as the index, 'batch' as columns, and 'instructor' as values."
      ],
      "metadata": {
        "id": "IzhijXc5_W7u"
      }
    },
    {
      "cell_type": "markdown",
      "source": [
        "**3.3 - The following lione, pivots without specifying values, so it uses all non-index/column values (here, instructor and grade).**"
      ],
      "metadata": {
        "id": "LUJFnN-v_i02"
      }
    },
    {
      "cell_type": "code",
      "source": [
        "df.pivot(index= 'course', columns='batch')"
      ],
      "metadata": {
        "id": "j0mIuRXe-BzO"
      },
      "execution_count": null,
      "outputs": []
    },
    {
      "cell_type": "markdown",
      "source": [
        "The above line uses the pivot() method to reshape the DataFrame based on the 'course', 'batch', and 'instructor' columns. The resulting DataFrame will have 'course' as the index, 'batch' as columns, and 'instructor' as values.\n",
        "\n",
        "Output:"
      ],
      "metadata": {
        "id": "s7zvpV29_q5l"
      }
    },
    {
      "cell_type": "markdown",
      "source": [
        "\n",
        "\n",
        "---\n",
        "\n"
      ],
      "metadata": {
        "id": "EuhiGJrq_vtN"
      }
    },
    {
      "cell_type": "markdown",
      "source": [
        "## **Example Four: Real-world scenarios - Financial Portfolio Analysis:**\n",
        "In this example, we will consider a DataFrame representing the daily returns of different stocks in a portfolio over a period of time. We'll then use the pivot method to reshape the data for better analysis."
      ],
      "metadata": {
        "id": "rLi9BJez4UKf"
      }
    },
    {
      "cell_type": "code",
      "source": [
        "import pandas as pd\n",
        "import numpy as np\n",
        "import datetime\n",
        "\n",
        "# Create a DataFrame with daily returns for different stocks\n",
        "np.random.seed(42)\n",
        "start_date = datetime.date(2022, 1, 1)\n",
        "end_date = datetime.date(2022, 1, 10)\n",
        "date_range = pd.date_range(start_date, end_date, freq='D')\n",
        "# Create a DataFrame with daily returns for different stocks\n",
        "data = {\n",
        "    'Date': np.repeat(date_range, 3),\n",
        "    'Stock': ['AAPL', 'GOOGL', 'MSFT'] * len(date_range),\n",
        "    'Return': np.random.normal(loc=0.001, scale=0.01, size=len(date_range) * 3)\n",
        "}\n",
        "\n",
        "returns_df = pd.DataFrame(data)\n",
        "\n",
        "# Display the original DataFrame\n",
        "print(\"Original DataFrame:\")\n",
        "print(returns_df.head())\n",
        "\n",
        "# Use pivot to reshape the DataFrame for better analysis\n",
        "pivot_df = returns_df.pivot(index='Date', columns='Stock', values='Return')\n",
        "\n",
        "# Display the reshaped DataFrame\n",
        "print(\"\\nReshaped DataFrame:\")\n",
        "print(pivot_df.head())\n"
      ],
      "metadata": {
        "id": "8a0UEXiP4LHB"
      },
      "execution_count": null,
      "outputs": []
    },
    {
      "cell_type": "markdown",
      "source": [
        "- In the above example, we generate random daily returns for three stocks (AAPL, GOOGL, MSFT) over a period of 10 days. The original DataFrame has a long format with columns for 'Date', 'Stock', and 'Return'.\n",
        "\n",
        "- The pivot method is then used to reshape the DataFrame, making it more suitable for financial portfolio analysis. The resulting DataFrame (pivot_df) has dates as the index, stock symbols as columns, and daily returns as values.\n",
        "\n",
        "- This reshaped DataFrame makes it easier to perform various portfolio analyses, such as calculating cumulative returns, correlation matrices, and statistical summaries for each stock in the portfolio.\n",
        "\n",
        "- Keep in mind that this is a simplified example, and in a real-world scenario, you might have more detailed data and perform more sophisticated analyses based on your specific requirements."
      ],
      "metadata": {
        "id": "l7YpVrwn8Grn"
      }
    },
    {
      "cell_type": "markdown",
      "source": [
        "\n",
        "##**Submission Instructions**\n",
        "- Submit your completed lab using the Start Assignment button on the assignment page in Canvas.\n",
        "- Your submission can be include:\n",
        "  - if you are using notebook then, all tasks should be written and submitted in a single notebook file, for example: (**your_name_labname.ipynb**).\n",
        "  - if you are using python script file, all tasks should be written and submitted in a single python script file for example: **(your_name_labname.py)**.\n",
        "- Add appropriate comments and any additional instructions if required.\n"
      ],
      "metadata": {
        "id": "G-5fYGEOBb7o"
      }
    }
  ]
}