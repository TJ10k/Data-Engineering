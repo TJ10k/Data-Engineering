{
  "cells": [
    {
      "cell_type": "markdown",
      "metadata": {
        "id": "hjE7N_ZZLg9g"
      },
      "source": [
        "# **Guided LAB -343.4.2 -  How to merge Pandas DataFrames by multiple columns.**"
      ]
    },
    {
      "cell_type": "markdown",
      "metadata": {
        "id": "OYMcP_bzXyTo"
      },
      "source": [
        "## **Lab Objective:**\n",
        "\n",
        "This lab focuses on merging Pandas DataFrames using the pd.merge() function, specifically on merging by multiple columns. You will learn how to merge DataFrames when column names are the same and when they are different, and how to handle duplicate keys during merging. The lab covers various scenarios with practical examples and explanations.\n",
        "\n",
        "**Key Concepts**\n",
        "\n",
        "- **pd.merge() Function:**Understanding the syntax and usage of the pd.merge() function for merging DataFrames.\n",
        "- **Merging by Multiple Columns:** Specifying multiple columns as keys for merging using the on parameter.\n",
        "- **Handling Different Column Names**: Merging DataFrames with different column names using left_on and right_on parameters.\n",
        "- **Duplicate Keys:** Identifying and handling duplicate keys during merging using the validate parameter..\n",
        "\n",
        "## **Learning Objectives:**\n",
        "\n",
        "By completing this lab, you will gain hands-on experience in merging Pandas DataFrames by multiple columns, which is a crucial skill for data manipulation and analysis."
      ]
    },
    {
      "cell_type": "markdown",
      "metadata": {
        "id": "Vfs5aFx-XQkT"
      },
      "source": [
        "###**Introduction:**\n",
        "\n",
        "- The **pandas.merge()** function merge two DataFrames based on a common column or index. It resembles SQL’s JOIN operation and offers more control over how DataFrames are combined.\n",
        "- Using merge() function you can do merging by columns, merging by index, merging on multiple columns, and different join types. By default, it merges on all common columns that exist on both DataFrames and performs an inner join.\n",
        "\n",
        "- The syntax for the pandas.merge() function is:\n",
        "\n",
        "\n",
        "```\n",
        "pd.merge(\n",
        "    left,\n",
        "    right,\n",
        "    how=\"inner\",\n",
        "    on=None,\n",
        "    left_on=None,\n",
        "    right_on=None,\n",
        "    left_index=False,\n",
        "    right_index=False,\n",
        "    sort=True,\n",
        "    suffixes=(\"_x\", \"_y\"),\n",
        "    copy=True,\n",
        "    indicator=False,\n",
        "    validate=None,\n",
        ")\n",
        "```\n",
        "\n"
      ]
    },
    {
      "cell_type": "markdown",
      "metadata": {
        "id": "7E0bKhNxZFsB"
      },
      "source": [
        "**Let’s create two DataFrames and run the above examples to understand pandas join.**"
      ]
    },
    {
      "cell_type": "code",
      "execution_count": 1,
      "metadata": {
        "colab": {
          "base_uri": "https://localhost:8080/"
        },
        "id": "lMSvs5YIXGDV",
        "outputId": "a548e09c-6c67-4e00-f217-28c96617f401"
      },
      "outputs": [
        {
          "name": "stdout",
          "output_type": "stream",
          "text": [
            "First DataFrame:\n",
            "    Courses    Fee Duration\n",
            "0    Spark  20000    30day\n",
            "1  PySpark  25000   40days\n",
            "2   Python  30000   60days\n",
            "3   pandas  24000   55days\n",
            "4     Java  40000   50days\n",
            "Second DataFrame:\n",
            "     Courses    Fee Percentage\n",
            "0      Java  20000        10%\n",
            "1   PySpark  25000        20%\n",
            "2    Python  30000        25%\n",
            "3    pandas  24000        20%\n",
            "4  Hyperion  40000        10%\n",
            "5      html   4000        50%\n"
          ]
        }
      ],
      "source": [
        "\n",
        "# Create Pandas DataFrame\n",
        "import pandas as pd\n",
        "left_df = pd.DataFrame({'Courses': [\"Spark\",\"PySpark\",\"Python\",\"pandas\",\"Java\"],\n",
        "                    'Fee' : [20000,25000,30000,24000,40000],\n",
        "                    'Duration':['30day','40days','60days','55days','50days']})\n",
        "\n",
        "right_df = pd.DataFrame({'Courses': [\"Java\",\"PySpark\",\"Python\",\"pandas\",\"Hyperion\",\"html\"],\n",
        "                    'Fee': [20000,25000,30000,24000,40000,4000],\n",
        "                    'Percentage':['10%','20%','25%','20%','10%','50%']})\n",
        "\n",
        "print(\"First DataFrame:\\n\", left_df)\n",
        "print(\"Second DataFrame:\\n\", right_df)"
      ]
    },
    {
      "cell_type": "markdown",
      "metadata": {
        "id": "uTWeW6djZnza"
      },
      "source": [
        "## **Example: Merge default pandas DataFrame without any key column**"
      ]
    },
    {
      "cell_type": "markdown",
      "metadata": {
        "id": "3lbOrmc6aTP7"
      },
      "source": [
        "You can pass two DataFrames to be merged into the pandas.merge() function. This function collects all common columns in both DataFrames and replaces each common column in both DataFrames with a single one. It merges the DataFrames df and df1 assigned to merged_df.\n",
        "\n",
        "By default, the merge() function applies join contains on all columns that are present on both DataFrames and uses inner join. We have the columns Courses and Fee common to both the DataFrames."
      ]
    },
    {
      "cell_type": "code",
      "execution_count": null,
      "metadata": {
        "colab": {
          "base_uri": "https://localhost:8080/",
          "height": 143
        },
        "id": "L9rfQ0PNZmoy",
        "outputId": "674ca815-cc05-4266-d12b-7a068ca4ac3a"
      },
      "outputs": [
        {
          "data": {
            "text/html": [
              "\n",
              "  <div id=\"df-5558b3b8-3cbd-4d45-a53a-b43b6852e9f6\" class=\"colab-df-container\">\n",
              "    <div>\n",
              "<style scoped>\n",
              "    .dataframe tbody tr th:only-of-type {\n",
              "        vertical-align: middle;\n",
              "    }\n",
              "\n",
              "    .dataframe tbody tr th {\n",
              "        vertical-align: top;\n",
              "    }\n",
              "\n",
              "    .dataframe thead th {\n",
              "        text-align: right;\n",
              "    }\n",
              "</style>\n",
              "<table border=\"1\" class=\"dataframe\">\n",
              "  <thead>\n",
              "    <tr style=\"text-align: right;\">\n",
              "      <th></th>\n",
              "      <th>Courses</th>\n",
              "      <th>Fee</th>\n",
              "      <th>Duration</th>\n",
              "      <th>Percentage</th>\n",
              "    </tr>\n",
              "  </thead>\n",
              "  <tbody>\n",
              "    <tr>\n",
              "      <th>0</th>\n",
              "      <td>PySpark</td>\n",
              "      <td>25000</td>\n",
              "      <td>40days</td>\n",
              "      <td>20%</td>\n",
              "    </tr>\n",
              "    <tr>\n",
              "      <th>1</th>\n",
              "      <td>Python</td>\n",
              "      <td>30000</td>\n",
              "      <td>60days</td>\n",
              "      <td>25%</td>\n",
              "    </tr>\n",
              "    <tr>\n",
              "      <th>2</th>\n",
              "      <td>pandas</td>\n",
              "      <td>24000</td>\n",
              "      <td>55days</td>\n",
              "      <td>20%</td>\n",
              "    </tr>\n",
              "  </tbody>\n",
              "</table>\n",
              "</div>\n",
              "    <div class=\"colab-df-buttons\">\n",
              "\n",
              "  <div class=\"colab-df-container\">\n",
              "    <button class=\"colab-df-convert\" onclick=\"convertToInteractive('df-5558b3b8-3cbd-4d45-a53a-b43b6852e9f6')\"\n",
              "            title=\"Convert this dataframe to an interactive table.\"\n",
              "            style=\"display:none;\">\n",
              "\n",
              "  <svg xmlns=\"http://www.w3.org/2000/svg\" height=\"24px\" viewBox=\"0 -960 960 960\">\n",
              "    <path d=\"M120-120v-720h720v720H120Zm60-500h600v-160H180v160Zm220 220h160v-160H400v160Zm0 220h160v-160H400v160ZM180-400h160v-160H180v160Zm440 0h160v-160H620v160ZM180-180h160v-160H180v160Zm440 0h160v-160H620v160Z\"/>\n",
              "  </svg>\n",
              "    </button>\n",
              "\n",
              "  <style>\n",
              "    .colab-df-container {\n",
              "      display:flex;\n",
              "      gap: 12px;\n",
              "    }\n",
              "\n",
              "    .colab-df-convert {\n",
              "      background-color: #E8F0FE;\n",
              "      border: none;\n",
              "      border-radius: 50%;\n",
              "      cursor: pointer;\n",
              "      display: none;\n",
              "      fill: #1967D2;\n",
              "      height: 32px;\n",
              "      padding: 0 0 0 0;\n",
              "      width: 32px;\n",
              "    }\n",
              "\n",
              "    .colab-df-convert:hover {\n",
              "      background-color: #E2EBFA;\n",
              "      box-shadow: 0px 1px 2px rgba(60, 64, 67, 0.3), 0px 1px 3px 1px rgba(60, 64, 67, 0.15);\n",
              "      fill: #174EA6;\n",
              "    }\n",
              "\n",
              "    .colab-df-buttons div {\n",
              "      margin-bottom: 4px;\n",
              "    }\n",
              "\n",
              "    [theme=dark] .colab-df-convert {\n",
              "      background-color: #3B4455;\n",
              "      fill: #D2E3FC;\n",
              "    }\n",
              "\n",
              "    [theme=dark] .colab-df-convert:hover {\n",
              "      background-color: #434B5C;\n",
              "      box-shadow: 0px 1px 3px 1px rgba(0, 0, 0, 0.15);\n",
              "      filter: drop-shadow(0px 1px 2px rgba(0, 0, 0, 0.3));\n",
              "      fill: #FFFFFF;\n",
              "    }\n",
              "  </style>\n",
              "\n",
              "    <script>\n",
              "      const buttonEl =\n",
              "        document.querySelector('#df-5558b3b8-3cbd-4d45-a53a-b43b6852e9f6 button.colab-df-convert');\n",
              "      buttonEl.style.display =\n",
              "        google.colab.kernel.accessAllowed ? 'block' : 'none';\n",
              "\n",
              "      async function convertToInteractive(key) {\n",
              "        const element = document.querySelector('#df-5558b3b8-3cbd-4d45-a53a-b43b6852e9f6');\n",
              "        const dataTable =\n",
              "          await google.colab.kernel.invokeFunction('convertToInteractive',\n",
              "                                                    [key], {});\n",
              "        if (!dataTable) return;\n",
              "\n",
              "        const docLinkHtml = 'Like what you see? Visit the ' +\n",
              "          '<a target=\"_blank\" href=https://colab.research.google.com/notebooks/data_table.ipynb>data table notebook</a>'\n",
              "          + ' to learn more about interactive tables.';\n",
              "        element.innerHTML = '';\n",
              "        dataTable['output_type'] = 'display_data';\n",
              "        await google.colab.output.renderOutput(dataTable, element);\n",
              "        const docLink = document.createElement('div');\n",
              "        docLink.innerHTML = docLinkHtml;\n",
              "        element.appendChild(docLink);\n",
              "      }\n",
              "    </script>\n",
              "  </div>\n",
              "\n",
              "\n",
              "<div id=\"df-05511a7c-14d0-4ece-983d-9253e8ec141f\">\n",
              "  <button class=\"colab-df-quickchart\" onclick=\"quickchart('df-05511a7c-14d0-4ece-983d-9253e8ec141f')\"\n",
              "            title=\"Suggest charts\"\n",
              "            style=\"display:none;\">\n",
              "\n",
              "<svg xmlns=\"http://www.w3.org/2000/svg\" height=\"24px\"viewBox=\"0 0 24 24\"\n",
              "     width=\"24px\">\n",
              "    <g>\n",
              "        <path d=\"M19 3H5c-1.1 0-2 .9-2 2v14c0 1.1.9 2 2 2h14c1.1 0 2-.9 2-2V5c0-1.1-.9-2-2-2zM9 17H7v-7h2v7zm4 0h-2V7h2v10zm4 0h-2v-4h2v4z\"/>\n",
              "    </g>\n",
              "</svg>\n",
              "  </button>\n",
              "\n",
              "<style>\n",
              "  .colab-df-quickchart {\n",
              "      --bg-color: #E8F0FE;\n",
              "      --fill-color: #1967D2;\n",
              "      --hover-bg-color: #E2EBFA;\n",
              "      --hover-fill-color: #174EA6;\n",
              "      --disabled-fill-color: #AAA;\n",
              "      --disabled-bg-color: #DDD;\n",
              "  }\n",
              "\n",
              "  [theme=dark] .colab-df-quickchart {\n",
              "      --bg-color: #3B4455;\n",
              "      --fill-color: #D2E3FC;\n",
              "      --hover-bg-color: #434B5C;\n",
              "      --hover-fill-color: #FFFFFF;\n",
              "      --disabled-bg-color: #3B4455;\n",
              "      --disabled-fill-color: #666;\n",
              "  }\n",
              "\n",
              "  .colab-df-quickchart {\n",
              "    background-color: var(--bg-color);\n",
              "    border: none;\n",
              "    border-radius: 50%;\n",
              "    cursor: pointer;\n",
              "    display: none;\n",
              "    fill: var(--fill-color);\n",
              "    height: 32px;\n",
              "    padding: 0;\n",
              "    width: 32px;\n",
              "  }\n",
              "\n",
              "  .colab-df-quickchart:hover {\n",
              "    background-color: var(--hover-bg-color);\n",
              "    box-shadow: 0 1px 2px rgba(60, 64, 67, 0.3), 0 1px 3px 1px rgba(60, 64, 67, 0.15);\n",
              "    fill: var(--button-hover-fill-color);\n",
              "  }\n",
              "\n",
              "  .colab-df-quickchart-complete:disabled,\n",
              "  .colab-df-quickchart-complete:disabled:hover {\n",
              "    background-color: var(--disabled-bg-color);\n",
              "    fill: var(--disabled-fill-color);\n",
              "    box-shadow: none;\n",
              "  }\n",
              "\n",
              "  .colab-df-spinner {\n",
              "    border: 2px solid var(--fill-color);\n",
              "    border-color: transparent;\n",
              "    border-bottom-color: var(--fill-color);\n",
              "    animation:\n",
              "      spin 1s steps(1) infinite;\n",
              "  }\n",
              "\n",
              "  @keyframes spin {\n",
              "    0% {\n",
              "      border-color: transparent;\n",
              "      border-bottom-color: var(--fill-color);\n",
              "      border-left-color: var(--fill-color);\n",
              "    }\n",
              "    20% {\n",
              "      border-color: transparent;\n",
              "      border-left-color: var(--fill-color);\n",
              "      border-top-color: var(--fill-color);\n",
              "    }\n",
              "    30% {\n",
              "      border-color: transparent;\n",
              "      border-left-color: var(--fill-color);\n",
              "      border-top-color: var(--fill-color);\n",
              "      border-right-color: var(--fill-color);\n",
              "    }\n",
              "    40% {\n",
              "      border-color: transparent;\n",
              "      border-right-color: var(--fill-color);\n",
              "      border-top-color: var(--fill-color);\n",
              "    }\n",
              "    60% {\n",
              "      border-color: transparent;\n",
              "      border-right-color: var(--fill-color);\n",
              "    }\n",
              "    80% {\n",
              "      border-color: transparent;\n",
              "      border-right-color: var(--fill-color);\n",
              "      border-bottom-color: var(--fill-color);\n",
              "    }\n",
              "    90% {\n",
              "      border-color: transparent;\n",
              "      border-bottom-color: var(--fill-color);\n",
              "    }\n",
              "  }\n",
              "</style>\n",
              "\n",
              "  <script>\n",
              "    async function quickchart(key) {\n",
              "      const quickchartButtonEl =\n",
              "        document.querySelector('#' + key + ' button');\n",
              "      quickchartButtonEl.disabled = true;  // To prevent multiple clicks.\n",
              "      quickchartButtonEl.classList.add('colab-df-spinner');\n",
              "      try {\n",
              "        const charts = await google.colab.kernel.invokeFunction(\n",
              "            'suggestCharts', [key], {});\n",
              "      } catch (error) {\n",
              "        console.error('Error during call to suggestCharts:', error);\n",
              "      }\n",
              "      quickchartButtonEl.classList.remove('colab-df-spinner');\n",
              "      quickchartButtonEl.classList.add('colab-df-quickchart-complete');\n",
              "    }\n",
              "    (() => {\n",
              "      let quickchartButtonEl =\n",
              "        document.querySelector('#df-05511a7c-14d0-4ece-983d-9253e8ec141f button');\n",
              "      quickchartButtonEl.style.display =\n",
              "        google.colab.kernel.accessAllowed ? 'block' : 'none';\n",
              "    })();\n",
              "  </script>\n",
              "</div>\n",
              "    </div>\n",
              "  </div>\n"
            ],
            "text/plain": [
              "   Courses    Fee Duration Percentage\n",
              "0  PySpark  25000   40days        20%\n",
              "1   Python  30000   60days        25%\n",
              "2   pandas  24000   55days        20%"
            ]
          },
          "execution_count": 47,
          "metadata": {},
          "output_type": "execute_result"
        }
      ],
      "source": [
        "merged_df = pd.merge(left_df,right_df)\n",
        "merged_df"
      ]
    },
    {
      "cell_type": "code",
      "execution_count": null,
      "metadata": {
        "colab": {
          "base_uri": "https://localhost:8080/"
        },
        "id": "2VULR-ziaYDK",
        "outputId": "ddcb1800-26d5-43e6-e825-a772220df22f"
      },
      "outputs": [
        {
          "data": {
            "text/plain": [
              "(3, 4)"
            ]
          },
          "execution_count": 35,
          "metadata": {},
          "output_type": "execute_result"
        }
      ],
      "source": [
        "merged_df.shape"
      ]
    },
    {
      "cell_type": "markdown",
      "metadata": {
        "id": "2KJ8KEd5bpNC"
      },
      "source": [
        "## **Example: Pandas Merge DataFrames Based on single Columns**\n",
        "\n"
      ]
    },
    {
      "cell_type": "markdown",
      "metadata": {
        "id": "DCflGhmCfXLD"
      },
      "source": [
        "If you want to merge DataFrames based on a single key column, you can simply pass the column name as a string to the on parameter. For example:"
      ]
    },
    {
      "cell_type": "code",
      "execution_count": null,
      "metadata": {
        "colab": {
          "base_uri": "https://localhost:8080/"
        },
        "id": "lvKdQkL7ZA4N",
        "outputId": "8e1c5e24-cea0-4554-b55f-ed7f21035052"
      },
      "outputs": [
        {
          "name": "stdout",
          "output_type": "stream",
          "text": [
            "   Courses  Fee_x Duration  Fee_y Percentage\n",
            "0  PySpark  25000   40days  25000        20%\n",
            "1   Python  30000   60days  30000        25%\n",
            "2   pandas  24000   55days  24000        20%\n",
            "3     Java  40000   50days  20000        10%\n"
          ]
        }
      ],
      "source": [
        "result = pd.merge(left_df, right_df, on=\"Courses\")\n",
        "print(result)"
      ]
    },
    {
      "cell_type": "code",
      "execution_count": null,
      "metadata": {
        "colab": {
          "base_uri": "https://localhost:8080/"
        },
        "id": "9xEpYcqZc9yN",
        "outputId": "762aaaac-6559-4fd6-fe81-eac6fbf2c6dd"
      },
      "outputs": [
        {
          "data": {
            "text/plain": [
              "(4, 5)"
            ]
          },
          "execution_count": 27,
          "metadata": {},
          "output_type": "execute_result"
        }
      ],
      "source": [
        "result.shape"
      ]
    },
    {
      "cell_type": "markdown",
      "metadata": {
        "id": "-gaMGWite0gr"
      },
      "source": [
        "##**Example: Use pandas.merge() to Multiple Columns**\n",
        "\n",
        "You can also explicitly specify the column names you want to use for joining. To specify column names use on param of the merge() function. This also takes a list of names when you want to merge multiple columns."
      ]
    },
    {
      "cell_type": "code",
      "execution_count": null,
      "metadata": {
        "colab": {
          "base_uri": "https://localhost:8080/"
        },
        "id": "AlRTlqP7fAvC",
        "outputId": "434ee774-d489-44a5-f363-fb1056046853"
      },
      "outputs": [
        {
          "name": "stdout",
          "output_type": "stream",
          "text": [
            "After merging the DataFrames:\n",
            "    Courses    Fee Duration Percentage\n",
            "0  PySpark  25000   40days        20%\n",
            "1   Python  30000   60days        25%\n",
            "2   pandas  24000   55days        20%\n"
          ]
        }
      ],
      "source": [
        "\n",
        "# Use pandas.merge() on multiple columns\n",
        "df_result = pd.merge(left_df,right_df, on=['Courses','Fee'])\n",
        "print(\"After merging the DataFrames:\\n\", df_result)"
      ]
    },
    {
      "cell_type": "code",
      "execution_count": null,
      "metadata": {
        "colab": {
          "base_uri": "https://localhost:8080/"
        },
        "id": "_lDRtry8fPV7",
        "outputId": "83842d7c-309c-4b95-8b22-d9819b9d0400"
      },
      "outputs": [
        {
          "data": {
            "text/plain": [
              "(3, 4)"
            ]
          },
          "execution_count": 52,
          "metadata": {},
          "output_type": "execute_result"
        }
      ],
      "source": [
        "df_result.shape"
      ]
    },
    {
      "cell_type": "markdown",
      "metadata": {
        "id": "Adz0_Bo2eCYi"
      },
      "source": [
        "## **Example:  Use pandas.merge() when Column Names Different**\n",
        "When you have column names on the left and right that are different and want to use these as a join column, use left_on and right_on parameters.\n",
        "\n",
        "This also takes a list of column names as values to merge on multiple columns.\n",
        "\n",
        "The left_on will be set to the name of the column in the left DataFrame and right_on will be set to the name of the column in the right DataFrame.\n",
        "\n",
        "This also takes a list of names when you want to merge multiple columns."
      ]
    },
    {
      "cell_type": "code",
      "execution_count": null,
      "metadata": {
        "colab": {
          "base_uri": "https://localhost:8080/"
        },
        "id": "JUrHGV88bvgB",
        "outputId": "2d57f7a9-3135-426f-d31c-f9b9bca6fc51"
      },
      "outputs": [
        {
          "name": "stdout",
          "output_type": "stream",
          "text": [
            "After merging the DataFrames:\n",
            "    Courses    Fee Duration Percentage\n",
            "0    Spark  20000    30day        NaN\n",
            "1  PySpark  25000   40days        20%\n",
            "2   Python  30000   60days        25%\n",
            "3   pandas  24000   55days        20%\n",
            "4     Java  40000   50days        NaN\n"
          ]
        }
      ],
      "source": [
        "result = pd.merge(left_df, right_df, how='left', left_on=['Courses','Fee'], right_on = ['Courses','Fee'])\n",
        "print(\"After merging the DataFrames:\\n\", result)"
      ]
    },
    {
      "cell_type": "code",
      "execution_count": null,
      "metadata": {
        "colab": {
          "base_uri": "https://localhost:8080/"
        },
        "id": "4vWBPtEldMBT",
        "outputId": "c55e8991-ef52-4dcf-ef1a-799b0c405073"
      },
      "outputs": [
        {
          "data": {
            "text/plain": [
              "(5, 4)"
            ]
          },
          "execution_count": 43,
          "metadata": {},
          "output_type": "execute_result"
        }
      ],
      "source": [
        "result.shape"
      ]
    },
    {
      "cell_type": "markdown",
      "metadata": {
        "id": "dpmuF3ATfuot"
      },
      "source": [
        "# **Example: Checking for duplicate keys**"
      ]
    },
    {
      "cell_type": "markdown",
      "metadata": {
        "id": "t0uiYyPGf07C"
      },
      "source": [
        "- We can use the validate argument to automatically check whether there are unexpected duplicates in their merge keys. Key uniqueness is checked before merge operations and so should protect against memory overflows. Checking key uniqueness is also a good way to ensure user data structures are as expected.\n",
        "\n",
        "- In the following example, there are duplicate values of B in the right DataFrame. As this is not a one-to-one merge – as specified in the validate argument – an exception will be raised."
      ]
    },
    {
      "cell_type": "code",
      "execution_count": 4,
      "metadata": {
        "colab": {
          "base_uri": "https://localhost:8080/",
          "height": 355
        },
        "id": "u7zvz6YOgIxi",
        "outputId": "0c49f0da-8a40-481b-ea6f-bee7967ac9d2"
      },
      "outputs": [
        {
          "name": "stdout",
          "output_type": "stream",
          "text": [
            "   A_x  B  A_y\n",
            "0    2  2    4\n",
            "1    2  2    5\n",
            "2    2  2    6\n"
          ]
        }
      ],
      "source": [
        "left = pd.DataFrame({\"A\": [1, 2], \"B\": [1, 2]})\n",
        "\n",
        "right = pd.DataFrame({\"A\": [4, 5, 6], \"B\": [2, 2, 2]})\n",
        "\n",
        "result = pd.merge(left, right, on=\"B\", how=\"inner\")\n",
        "print(result)"
      ]
    },
    {
      "cell_type": "markdown",
      "metadata": {
        "id": "90TvHpBJgyIa"
      },
      "source": [
        "## We are aware of the duplicates in the right DataFrame but wants to ensure there are no duplicates in the left DataFrame, we can use the **validate='one_to_many'** argument instead, which will not raise an exception."
      ]
    },
    {
      "cell_type": "code",
      "execution_count": null,
      "metadata": {
        "colab": {
          "base_uri": "https://localhost:8080/"
        },
        "id": "3OcdVf7OgR4S",
        "outputId": "9295084d-5d64-4136-b517-d2d45a819f72"
      },
      "outputs": [
        {
          "name": "stdout",
          "output_type": "stream",
          "text": [
            "   A_x  B  A_y\n",
            "0    2  2    4\n",
            "1    2  2    5\n",
            "2    2  2    6\n"
          ]
        }
      ],
      "source": [
        "result = pd.merge(left, right, on=\"B\", how=\"inner\", validate=\"one_to_many\")\n",
        "print(result)"
      ]
    },
    {
      "cell_type": "markdown",
      "metadata": {
        "id": "hP95e_9-kXYV"
      },
      "source": [
        "# **Example: Consider a scenario where you have information about sales transactions and product details, and you want to merge these datasets based on both 'ProductID' and 'StoreID' keys.**"
      ]
    },
    {
      "cell_type": "code",
      "execution_count": null,
      "metadata": {
        "id": "EY5hekpekZDF"
      },
      "outputs": [],
      "source": [
        "import pandas as pd\n",
        "\n",
        "# Create a DataFrame with sales transactions\n",
        "sales_data = {\n",
        "    'TransactionID': [1, 2, 3, 4, 5],\n",
        "    'ProductID': [101, 102, 103, 101, 105],\n",
        "    'StoreID': [1, 2, 1, 3, 2],\n",
        "    'Quantity': [5, 3, 2, 4, 1],\n",
        "    'Amount': [500.00, 300.00, 200.00, 400.00, 150.00]\n",
        "}\n",
        "\n",
        "df_sales = pd.DataFrame(sales_data)\n",
        "\n",
        "# Create a DataFrame with product details\n",
        "products_data = {\n",
        "    'ProductID': [101, 102, 103, 104, 105],\n",
        "    'ProductName': ['Laptop', 'Headphones', 'Smartphone', 'Tablet', 'Monitor'],\n",
        "    'Category': ['Electronics', 'Electronics', 'Electronics', 'Electronics', 'Electronics']\n",
        "}\n",
        "\n",
        "df_products = pd.DataFrame(products_data)\n",
        "\n",
        "# Merge the DataFrames based on 'ProductID' and 'StoreID' keys\n",
        "df_combined = pd.merge(df_sales, df_products, on='ProductID', how='left')\n",
        "\n",
        "# Display the combined DataFrame\n",
        "print(\"Combined DataFrame:\")\n",
        "df_combined"
      ]
    }
  ],
  "metadata": {
    "colab": {
      "provenance": []
    },
    "kernelspec": {
      "display_name": "Python 3",
      "name": "python3"
    },
    "language_info": {
      "codemirror_mode": {
        "name": "ipython",
        "version": 3
      },
      "file_extension": ".py",
      "mimetype": "text/x-python",
      "name": "python",
      "nbconvert_exporter": "python",
      "pygments_lexer": "ipython3",
      "version": "3.12.0"
    }
  },
  "nbformat": 4,
  "nbformat_minor": 0
}
